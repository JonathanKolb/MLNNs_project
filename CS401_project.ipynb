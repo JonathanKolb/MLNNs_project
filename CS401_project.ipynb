{
  "nbformat": 4,
  "nbformat_minor": 0,
  "metadata": {
    "colab": {
      "provenance": [],
      "authorship_tag": "ABX9TyN9sHPPFGBvkeH3j7S3uAjM",
      "include_colab_link": true
    },
    "kernelspec": {
      "name": "python3",
      "display_name": "Python 3"
    },
    "language_info": {
      "name": "python"
    }
  },
  "cells": [
    {
      "cell_type": "markdown",
      "metadata": {
        "id": "view-in-github",
        "colab_type": "text"
      },
      "source": [
        "<a href=\"https://colab.research.google.com/github/JonathanKolb/MLNNs_project/blob/fluffy-unicorns/CS401_project.ipynb\" target=\"_parent\"><img src=\"https://colab.research.google.com/assets/colab-badge.svg\" alt=\"Open In Colab\"/></a>"
      ]
    },
    {
      "cell_type": "markdown",
      "source": [
        "# Titanic challenge part 3\n",
        "In this notebook, we will be covering all of the steps required to train, tune and assess a neural network.\n",
        "\n",
        "**[Part 1](https://www.kaggle.com/jamesleslie/titanic-eda-wrangling-imputation)** of this series dealt with the pre-processing and manipulation of the data. This notebook will make use of the datasets that were created in the first part.\n",
        "\n",
        "We will do each of the following:\n",
        "- train and test a neural network model\n",
        "- use grid search to optimize the hyperparameters\n",
        "- submit predictions for the test set\n",
        "\n",
        "**[Part 2](https://www.kaggle.com/jamesleslie/titanic-random-forest-grid-search)** covered the use of a random forest for tackling this challenge. Now let's see if we can beat that model with a neural network!\n",
        "> NOTE: make sure to use a GPU for this notebook, as it will be significantly faster to train"
      ],
      "metadata": {
        "id": "3jq6wLfnS5_o"
      }
    },
    {
      "cell_type": "markdown",
      "source": [
        ">[Titanic challenge part 3](#scrollTo=3jq6wLfnS5_o)\n",
        "\n",
        ">[Load packages and data](#scrollTo=NbEufoDGTMqH)\n",
        "\n",
        ">[Pre-processing](#scrollTo=--MpK8w_TRoe)\n",
        "\n",
        ">>[2.1. Encode Categorical Variables](#scrollTo=dY_SXhKDziPH)\n",
        "\n",
        ">>[2.2. Scale Continuous Variables](#scrollTo=zvZPfSHoT3cb)\n",
        "\n",
        ">[Neural Network](#scrollTo=CGgKlm9SUDq0)\n",
        "\n",
        ">>[3.1. Cross-validation](#scrollTo=7C3fRFRhUILg)\n",
        "\n",
        ">>>[Create neural network model](#scrollTo=l6lToqRJUK5P)\n",
        "\n",
        ">>>[Train model](#scrollTo=_fXOR-f0URU7)\n",
        "\n",
        ">>>[Assess results](#scrollTo=g0Yxs278UV08)\n",
        "\n",
        ">>[3.2. Grid search](#scrollTo=E38PCCVlaCaR)\n",
        "\n",
        ">>>[3.2.1. batch size and epochs](#scrollTo=E38PCCVlaCaR)\n",
        "\n",
        ">>>[3.2.2. Optimization Algorithm](#scrollTo=CSF1lAaqEPAq)\n",
        "\n",
        ">>>[3.2.3. Hidden neurons](#scrollTo=YMxcOu7lp6WQ)\n",
        "\n",
        ">>>[3.2.4. Dropout](#scrollTo=tqUWxJ6nqAnB)\n",
        "\n",
        ">>[3.3. Make Predictions on Test Set](#scrollTo=kN6l8ZFaqNAm)\n",
        "\n",
        ">>[3.4. Output Final Predictions](#scrollTo=4Qcj66VhqS8M)\n",
        "\n",
        ">[Logistic Regression](#scrollTo=v2_iNytuyLp7)\n",
        "\n",
        ">[Random Forrest](#scrollTo=yIwgxa3pyQXn)\n",
        "\n",
        ">[SVCs](#scrollTo=m8j517wzyVIH)\n",
        "\n"
      ],
      "metadata": {
        "colab_type": "toc",
        "id": "-S1BZjU2uTI8"
      }
    },
    {
      "cell_type": "markdown",
      "source": [
        "<a id=\"loading\"></a>\n",
        "# 1. Load packages and data\n",
        "[Back to Top](#scrollTo=3jq6wLfnS5_o)"
      ],
      "metadata": {
        "id": "NbEufoDGTMqH"
      }
    },
    {
      "cell_type": "markdown",
      "source": [
        "Mount the Google Drive to the runtime so I can access files from there."
      ],
      "metadata": {
        "id": "HRzOOsL1I_FE"
      }
    },
    {
      "cell_type": "code",
      "execution_count": null,
      "metadata": {
        "id": "tPGEVJ7KHiCv",
        "colab": {
          "base_uri": "https://localhost:8080/"
        },
        "outputId": "5476021c-7020-4fe8-ca34-11a21ed7ff3c"
      },
      "outputs": [
        {
          "output_type": "stream",
          "name": "stdout",
          "text": [
            "Drive already mounted at /content/drive; to attempt to forcibly remount, call drive.mount(\"/content/drive\", force_remount=True).\n",
            "/content/drive/MyDrive/CS401/input\n",
            "/content/drive/MyDrive/CS401/input\n"
          ]
        }
      ],
      "source": [
        "from google.colab import drive\n",
        "drive.mount('/content/drive')\n",
        "%cd \"/content/drive/MyDrive/CS401/input\"\n",
        "!pwd"
      ]
    },
    {
      "cell_type": "code",
      "source": [
        "# general packages\n",
        "import numpy as np\n",
        "import pandas as pd\n",
        "import seaborn as sns\n",
        "import os\n",
        "\n",
        "# packages for plotting\n",
        "import matplotlib.pyplot as plt\n",
        "from matplotlib.pyplot import rcParams\n",
        "%matplotlib inline\n",
        "rcParams['figure.figsize'] = 10,8\n",
        "sns.set(style='whitegrid', palette='muted',\n",
        "        rc={'figure.figsize': (15,10)})\n",
        "\n",
        "# packages for modeling\n",
        "from sklearn.preprocessing import StandardScaler\n",
        "from sklearn.model_selection import train_test_split\n",
        "from sklearn.model_selection import GridSearchCV, cross_val_score\n",
        "from sklearn.metrics import accuracy_score, f1_score, precision_score, recall_score\n",
        "\n",
        "# packages for neural network\n",
        "from keras.wrappers.scikit_learn import KerasClassifier\n",
        "from keras.models import Sequential\n",
        "from keras.layers import Dense, Activation, Dropout\n",
        "\n",
        "# packages to set the random seed\n",
        "from numpy.random import seed\n",
        "from tensorflow.random import set_seed\n",
        "\n",
        "# packages for logistic regression\n",
        "from sklearn.linear_model import LogisticRegression\n",
        "\n",
        "# packages for random forest\n",
        "from sklearn.ensemble import RandomForestClassifier\n",
        "\n",
        "# package for Naive Bayes Classifier\n",
        "from sklearn.naive_bayes import GaussianNB\n",
        "\n",
        "# package for SVCs\n",
        "from sklearn.svm import SVC"
      ],
      "metadata": {
        "id": "k8qYhhkdO_b5"
      },
      "execution_count": null,
      "outputs": []
    },
    {
      "cell_type": "code",
      "source": [
        "# Input data files are available in the \"../input/\" directory.\n",
        "# For example, running this (by clicking run or pressing Shift+Enter) will list the files in the input directory\n",
        "print(os.listdir(\"../input\"))\n",
        "print(os.listdir(\"../input/titanic_cleaned_data\"))"
      ],
      "metadata": {
        "colab": {
          "base_uri": "https://localhost:8080/"
        },
        "id": "8e-n02QtRrEV",
        "outputId": "df75b45c-f9c2-41ee-a85b-78d4a6e5f471"
      },
      "execution_count": null,
      "outputs": [
        {
          "output_type": "stream",
          "name": "stdout",
          "text": [
            "['titanic_cleaned_data', 'Neural_Network_Solution.csv']\n",
            "['test_clean.csv', 'train_clean.csv']\n"
          ]
        }
      ]
    },
    {
      "cell_type": "markdown",
      "source": [
        "The so called ```test_clean.csv``` data is actually the unlabeled data that is to be predicted. So as opposed to the original notebook I read the data in as ```unlabeled``` so the destintion is clear."
      ],
      "metadata": {
        "id": "lxSAf_Ym5vnd"
      }
    },
    {
      "cell_type": "code",
      "source": [
        "# Load data as Pandas dataframe\n",
        "train = pd.read_csv('../input/titanic_cleaned_data/train_clean.csv')\n",
        "unlabeled = pd.read_csv('../input/titanic_cleaned_data/test_clean.csv')\n",
        "df = pd.concat([train, unlabeled], axis=0, sort=True)"
      ],
      "metadata": {
        "id": "P6oacarKRwk-"
      },
      "execution_count": null,
      "outputs": []
    },
    {
      "cell_type": "code",
      "source": [
        "df.head()"
      ],
      "metadata": {
        "colab": {
          "base_uri": "https://localhost:8080/",
          "height": 206
        },
        "id": "JO-WCK5HR2Iv",
        "outputId": "143555af-aac4-4c69-e626-b266ec7d3d9b"
      },
      "execution_count": null,
      "outputs": [
        {
          "output_type": "execute_result",
          "data": {
            "text/plain": [
              "    Age Cabin Embarked  Family_Size     Fare  \\\n",
              "0  22.0   NaN        S            1   7.2500   \n",
              "1  38.0   C85        C            1  71.2833   \n",
              "2  26.0   NaN        S            0   7.9250   \n",
              "3  35.0  C123        S            1  53.1000   \n",
              "4  35.0   NaN        S            0   8.0500   \n",
              "\n",
              "                                                Name  Parch  PassengerId  \\\n",
              "0                            Braund, Mr. Owen Harris      0            1   \n",
              "1  Cumings, Mrs. John Bradley (Florence Briggs Th...      0            2   \n",
              "2                             Heikkinen, Miss. Laina      0            3   \n",
              "3       Futrelle, Mrs. Jacques Heath (Lily May Peel)      0            4   \n",
              "4                           Allen, Mr. William Henry      0            5   \n",
              "\n",
              "   Pclass     Sex  SibSp  Survived            Ticket Title  \n",
              "0       3    male      1       0.0         A/5 21171    Mr  \n",
              "1       1  female      1       1.0          PC 17599   Mrs  \n",
              "2       3  female      0       1.0  STON/O2. 3101282  Miss  \n",
              "3       1  female      1       1.0            113803   Mrs  \n",
              "4       3    male      0       0.0            373450    Mr  "
            ],
            "text/html": [
              "\n",
              "  <div id=\"df-57bc9c59-0de2-48c1-a083-a4f45740c153\">\n",
              "    <div class=\"colab-df-container\">\n",
              "      <div>\n",
              "<style scoped>\n",
              "    .dataframe tbody tr th:only-of-type {\n",
              "        vertical-align: middle;\n",
              "    }\n",
              "\n",
              "    .dataframe tbody tr th {\n",
              "        vertical-align: top;\n",
              "    }\n",
              "\n",
              "    .dataframe thead th {\n",
              "        text-align: right;\n",
              "    }\n",
              "</style>\n",
              "<table border=\"1\" class=\"dataframe\">\n",
              "  <thead>\n",
              "    <tr style=\"text-align: right;\">\n",
              "      <th></th>\n",
              "      <th>Age</th>\n",
              "      <th>Cabin</th>\n",
              "      <th>Embarked</th>\n",
              "      <th>Family_Size</th>\n",
              "      <th>Fare</th>\n",
              "      <th>Name</th>\n",
              "      <th>Parch</th>\n",
              "      <th>PassengerId</th>\n",
              "      <th>Pclass</th>\n",
              "      <th>Sex</th>\n",
              "      <th>SibSp</th>\n",
              "      <th>Survived</th>\n",
              "      <th>Ticket</th>\n",
              "      <th>Title</th>\n",
              "    </tr>\n",
              "  </thead>\n",
              "  <tbody>\n",
              "    <tr>\n",
              "      <th>0</th>\n",
              "      <td>22.0</td>\n",
              "      <td>NaN</td>\n",
              "      <td>S</td>\n",
              "      <td>1</td>\n",
              "      <td>7.2500</td>\n",
              "      <td>Braund, Mr. Owen Harris</td>\n",
              "      <td>0</td>\n",
              "      <td>1</td>\n",
              "      <td>3</td>\n",
              "      <td>male</td>\n",
              "      <td>1</td>\n",
              "      <td>0.0</td>\n",
              "      <td>A/5 21171</td>\n",
              "      <td>Mr</td>\n",
              "    </tr>\n",
              "    <tr>\n",
              "      <th>1</th>\n",
              "      <td>38.0</td>\n",
              "      <td>C85</td>\n",
              "      <td>C</td>\n",
              "      <td>1</td>\n",
              "      <td>71.2833</td>\n",
              "      <td>Cumings, Mrs. John Bradley (Florence Briggs Th...</td>\n",
              "      <td>0</td>\n",
              "      <td>2</td>\n",
              "      <td>1</td>\n",
              "      <td>female</td>\n",
              "      <td>1</td>\n",
              "      <td>1.0</td>\n",
              "      <td>PC 17599</td>\n",
              "      <td>Mrs</td>\n",
              "    </tr>\n",
              "    <tr>\n",
              "      <th>2</th>\n",
              "      <td>26.0</td>\n",
              "      <td>NaN</td>\n",
              "      <td>S</td>\n",
              "      <td>0</td>\n",
              "      <td>7.9250</td>\n",
              "      <td>Heikkinen, Miss. Laina</td>\n",
              "      <td>0</td>\n",
              "      <td>3</td>\n",
              "      <td>3</td>\n",
              "      <td>female</td>\n",
              "      <td>0</td>\n",
              "      <td>1.0</td>\n",
              "      <td>STON/O2. 3101282</td>\n",
              "      <td>Miss</td>\n",
              "    </tr>\n",
              "    <tr>\n",
              "      <th>3</th>\n",
              "      <td>35.0</td>\n",
              "      <td>C123</td>\n",
              "      <td>S</td>\n",
              "      <td>1</td>\n",
              "      <td>53.1000</td>\n",
              "      <td>Futrelle, Mrs. Jacques Heath (Lily May Peel)</td>\n",
              "      <td>0</td>\n",
              "      <td>4</td>\n",
              "      <td>1</td>\n",
              "      <td>female</td>\n",
              "      <td>1</td>\n",
              "      <td>1.0</td>\n",
              "      <td>113803</td>\n",
              "      <td>Mrs</td>\n",
              "    </tr>\n",
              "    <tr>\n",
              "      <th>4</th>\n",
              "      <td>35.0</td>\n",
              "      <td>NaN</td>\n",
              "      <td>S</td>\n",
              "      <td>0</td>\n",
              "      <td>8.0500</td>\n",
              "      <td>Allen, Mr. William Henry</td>\n",
              "      <td>0</td>\n",
              "      <td>5</td>\n",
              "      <td>3</td>\n",
              "      <td>male</td>\n",
              "      <td>0</td>\n",
              "      <td>0.0</td>\n",
              "      <td>373450</td>\n",
              "      <td>Mr</td>\n",
              "    </tr>\n",
              "  </tbody>\n",
              "</table>\n",
              "</div>\n",
              "      <button class=\"colab-df-convert\" onclick=\"convertToInteractive('df-57bc9c59-0de2-48c1-a083-a4f45740c153')\"\n",
              "              title=\"Convert this dataframe to an interactive table.\"\n",
              "              style=\"display:none;\">\n",
              "        \n",
              "  <svg xmlns=\"http://www.w3.org/2000/svg\" height=\"24px\"viewBox=\"0 0 24 24\"\n",
              "       width=\"24px\">\n",
              "    <path d=\"M0 0h24v24H0V0z\" fill=\"none\"/>\n",
              "    <path d=\"M18.56 5.44l.94 2.06.94-2.06 2.06-.94-2.06-.94-.94-2.06-.94 2.06-2.06.94zm-11 1L8.5 8.5l.94-2.06 2.06-.94-2.06-.94L8.5 2.5l-.94 2.06-2.06.94zm10 10l.94 2.06.94-2.06 2.06-.94-2.06-.94-.94-2.06-.94 2.06-2.06.94z\"/><path d=\"M17.41 7.96l-1.37-1.37c-.4-.4-.92-.59-1.43-.59-.52 0-1.04.2-1.43.59L10.3 9.45l-7.72 7.72c-.78.78-.78 2.05 0 2.83L4 21.41c.39.39.9.59 1.41.59.51 0 1.02-.2 1.41-.59l7.78-7.78 2.81-2.81c.8-.78.8-2.07 0-2.86zM5.41 20L4 18.59l7.72-7.72 1.47 1.35L5.41 20z\"/>\n",
              "  </svg>\n",
              "      </button>\n",
              "      \n",
              "  <style>\n",
              "    .colab-df-container {\n",
              "      display:flex;\n",
              "      flex-wrap:wrap;\n",
              "      gap: 12px;\n",
              "    }\n",
              "\n",
              "    .colab-df-convert {\n",
              "      background-color: #E8F0FE;\n",
              "      border: none;\n",
              "      border-radius: 50%;\n",
              "      cursor: pointer;\n",
              "      display: none;\n",
              "      fill: #1967D2;\n",
              "      height: 32px;\n",
              "      padding: 0 0 0 0;\n",
              "      width: 32px;\n",
              "    }\n",
              "\n",
              "    .colab-df-convert:hover {\n",
              "      background-color: #E2EBFA;\n",
              "      box-shadow: 0px 1px 2px rgba(60, 64, 67, 0.3), 0px 1px 3px 1px rgba(60, 64, 67, 0.15);\n",
              "      fill: #174EA6;\n",
              "    }\n",
              "\n",
              "    [theme=dark] .colab-df-convert {\n",
              "      background-color: #3B4455;\n",
              "      fill: #D2E3FC;\n",
              "    }\n",
              "\n",
              "    [theme=dark] .colab-df-convert:hover {\n",
              "      background-color: #434B5C;\n",
              "      box-shadow: 0px 1px 3px 1px rgba(0, 0, 0, 0.15);\n",
              "      filter: drop-shadow(0px 1px 2px rgba(0, 0, 0, 0.3));\n",
              "      fill: #FFFFFF;\n",
              "    }\n",
              "  </style>\n",
              "\n",
              "      <script>\n",
              "        const buttonEl =\n",
              "          document.querySelector('#df-57bc9c59-0de2-48c1-a083-a4f45740c153 button.colab-df-convert');\n",
              "        buttonEl.style.display =\n",
              "          google.colab.kernel.accessAllowed ? 'block' : 'none';\n",
              "\n",
              "        async function convertToInteractive(key) {\n",
              "          const element = document.querySelector('#df-57bc9c59-0de2-48c1-a083-a4f45740c153');\n",
              "          const dataTable =\n",
              "            await google.colab.kernel.invokeFunction('convertToInteractive',\n",
              "                                                     [key], {});\n",
              "          if (!dataTable) return;\n",
              "\n",
              "          const docLinkHtml = 'Like what you see? Visit the ' +\n",
              "            '<a target=\"_blank\" href=https://colab.research.google.com/notebooks/data_table.ipynb>data table notebook</a>'\n",
              "            + ' to learn more about interactive tables.';\n",
              "          element.innerHTML = '';\n",
              "          dataTable['output_type'] = 'display_data';\n",
              "          await google.colab.output.renderOutput(dataTable, element);\n",
              "          const docLink = document.createElement('div');\n",
              "          docLink.innerHTML = docLinkHtml;\n",
              "          element.appendChild(docLink);\n",
              "        }\n",
              "      </script>\n",
              "    </div>\n",
              "  </div>\n",
              "  "
            ]
          },
          "metadata": {},
          "execution_count": 120
        }
      ]
    },
    {
      "cell_type": "code",
      "source": [
        "def display_all(df):\n",
        "    with pd.option_context(\"display.max_rows\", 1000, \"display.max_columns\", 1000): \n",
        "        display(df)\n",
        "\n",
        "        \n",
        "display_all(df.describe(include='all').T)"
      ],
      "metadata": {
        "colab": {
          "base_uri": "https://localhost:8080/",
          "height": 488
        },
        "id": "JgjUUTFCR_CZ",
        "outputId": "f7eca3d7-d4c1-4612-e635-c559ea2425c7"
      },
      "execution_count": null,
      "outputs": [
        {
          "output_type": "display_data",
          "data": {
            "text/plain": [
              "              count unique                   top freq       mean         std  \\\n",
              "Age          1309.0    NaN                   NaN  NaN  29.562391    13.16536   \n",
              "Cabin           295    186           C23 C25 C27    6        NaN         NaN   \n",
              "Embarked       1309      3                     S  915        NaN         NaN   \n",
              "Family_Size  1309.0    NaN                   NaN  NaN   0.883881    1.583639   \n",
              "Fare         1309.0    NaN                   NaN  NaN  33.276193   51.743584   \n",
              "Name           1309   1307  Connolly, Miss. Kate    2        NaN         NaN   \n",
              "Parch        1309.0    NaN                   NaN  NaN   0.385027     0.86556   \n",
              "PassengerId  1309.0    NaN                   NaN  NaN      655.0  378.020061   \n",
              "Pclass       1309.0    NaN                   NaN  NaN   2.294882    0.837836   \n",
              "Sex            1309      2                  male  843        NaN         NaN   \n",
              "SibSp        1309.0    NaN                   NaN  NaN   0.498854    1.041658   \n",
              "Survived      891.0    NaN                   NaN  NaN   0.383838    0.486592   \n",
              "Ticket         1309    929              CA. 2343   11        NaN         NaN   \n",
              "Title          1309      6                    Mr  767        NaN         NaN   \n",
              "\n",
              "              min     25%      50%     75%       max  \n",
              "Age          0.17    22.0     30.0    35.5      80.0  \n",
              "Cabin         NaN     NaN      NaN     NaN       NaN  \n",
              "Embarked      NaN     NaN      NaN     NaN       NaN  \n",
              "Family_Size   0.0     0.0      0.0     1.0      10.0  \n",
              "Fare          0.0  7.8958  14.4542  31.275  512.3292  \n",
              "Name          NaN     NaN      NaN     NaN       NaN  \n",
              "Parch         0.0     0.0      0.0     0.0       9.0  \n",
              "PassengerId   1.0   328.0    655.0   982.0    1309.0  \n",
              "Pclass        1.0     2.0      3.0     3.0       3.0  \n",
              "Sex           NaN     NaN      NaN     NaN       NaN  \n",
              "SibSp         0.0     0.0      0.0     1.0       8.0  \n",
              "Survived      0.0     0.0      0.0     1.0       1.0  \n",
              "Ticket        NaN     NaN      NaN     NaN       NaN  \n",
              "Title         NaN     NaN      NaN     NaN       NaN  "
            ],
            "text/html": [
              "\n",
              "  <div id=\"df-842ed012-225d-4c0f-9d62-646f1a8f8f15\">\n",
              "    <div class=\"colab-df-container\">\n",
              "      <div>\n",
              "<style scoped>\n",
              "    .dataframe tbody tr th:only-of-type {\n",
              "        vertical-align: middle;\n",
              "    }\n",
              "\n",
              "    .dataframe tbody tr th {\n",
              "        vertical-align: top;\n",
              "    }\n",
              "\n",
              "    .dataframe thead th {\n",
              "        text-align: right;\n",
              "    }\n",
              "</style>\n",
              "<table border=\"1\" class=\"dataframe\">\n",
              "  <thead>\n",
              "    <tr style=\"text-align: right;\">\n",
              "      <th></th>\n",
              "      <th>count</th>\n",
              "      <th>unique</th>\n",
              "      <th>top</th>\n",
              "      <th>freq</th>\n",
              "      <th>mean</th>\n",
              "      <th>std</th>\n",
              "      <th>min</th>\n",
              "      <th>25%</th>\n",
              "      <th>50%</th>\n",
              "      <th>75%</th>\n",
              "      <th>max</th>\n",
              "    </tr>\n",
              "  </thead>\n",
              "  <tbody>\n",
              "    <tr>\n",
              "      <th>Age</th>\n",
              "      <td>1309.0</td>\n",
              "      <td>NaN</td>\n",
              "      <td>NaN</td>\n",
              "      <td>NaN</td>\n",
              "      <td>29.562391</td>\n",
              "      <td>13.16536</td>\n",
              "      <td>0.17</td>\n",
              "      <td>22.0</td>\n",
              "      <td>30.0</td>\n",
              "      <td>35.5</td>\n",
              "      <td>80.0</td>\n",
              "    </tr>\n",
              "    <tr>\n",
              "      <th>Cabin</th>\n",
              "      <td>295</td>\n",
              "      <td>186</td>\n",
              "      <td>C23 C25 C27</td>\n",
              "      <td>6</td>\n",
              "      <td>NaN</td>\n",
              "      <td>NaN</td>\n",
              "      <td>NaN</td>\n",
              "      <td>NaN</td>\n",
              "      <td>NaN</td>\n",
              "      <td>NaN</td>\n",
              "      <td>NaN</td>\n",
              "    </tr>\n",
              "    <tr>\n",
              "      <th>Embarked</th>\n",
              "      <td>1309</td>\n",
              "      <td>3</td>\n",
              "      <td>S</td>\n",
              "      <td>915</td>\n",
              "      <td>NaN</td>\n",
              "      <td>NaN</td>\n",
              "      <td>NaN</td>\n",
              "      <td>NaN</td>\n",
              "      <td>NaN</td>\n",
              "      <td>NaN</td>\n",
              "      <td>NaN</td>\n",
              "    </tr>\n",
              "    <tr>\n",
              "      <th>Family_Size</th>\n",
              "      <td>1309.0</td>\n",
              "      <td>NaN</td>\n",
              "      <td>NaN</td>\n",
              "      <td>NaN</td>\n",
              "      <td>0.883881</td>\n",
              "      <td>1.583639</td>\n",
              "      <td>0.0</td>\n",
              "      <td>0.0</td>\n",
              "      <td>0.0</td>\n",
              "      <td>1.0</td>\n",
              "      <td>10.0</td>\n",
              "    </tr>\n",
              "    <tr>\n",
              "      <th>Fare</th>\n",
              "      <td>1309.0</td>\n",
              "      <td>NaN</td>\n",
              "      <td>NaN</td>\n",
              "      <td>NaN</td>\n",
              "      <td>33.276193</td>\n",
              "      <td>51.743584</td>\n",
              "      <td>0.0</td>\n",
              "      <td>7.8958</td>\n",
              "      <td>14.4542</td>\n",
              "      <td>31.275</td>\n",
              "      <td>512.3292</td>\n",
              "    </tr>\n",
              "    <tr>\n",
              "      <th>Name</th>\n",
              "      <td>1309</td>\n",
              "      <td>1307</td>\n",
              "      <td>Connolly, Miss. Kate</td>\n",
              "      <td>2</td>\n",
              "      <td>NaN</td>\n",
              "      <td>NaN</td>\n",
              "      <td>NaN</td>\n",
              "      <td>NaN</td>\n",
              "      <td>NaN</td>\n",
              "      <td>NaN</td>\n",
              "      <td>NaN</td>\n",
              "    </tr>\n",
              "    <tr>\n",
              "      <th>Parch</th>\n",
              "      <td>1309.0</td>\n",
              "      <td>NaN</td>\n",
              "      <td>NaN</td>\n",
              "      <td>NaN</td>\n",
              "      <td>0.385027</td>\n",
              "      <td>0.86556</td>\n",
              "      <td>0.0</td>\n",
              "      <td>0.0</td>\n",
              "      <td>0.0</td>\n",
              "      <td>0.0</td>\n",
              "      <td>9.0</td>\n",
              "    </tr>\n",
              "    <tr>\n",
              "      <th>PassengerId</th>\n",
              "      <td>1309.0</td>\n",
              "      <td>NaN</td>\n",
              "      <td>NaN</td>\n",
              "      <td>NaN</td>\n",
              "      <td>655.0</td>\n",
              "      <td>378.020061</td>\n",
              "      <td>1.0</td>\n",
              "      <td>328.0</td>\n",
              "      <td>655.0</td>\n",
              "      <td>982.0</td>\n",
              "      <td>1309.0</td>\n",
              "    </tr>\n",
              "    <tr>\n",
              "      <th>Pclass</th>\n",
              "      <td>1309.0</td>\n",
              "      <td>NaN</td>\n",
              "      <td>NaN</td>\n",
              "      <td>NaN</td>\n",
              "      <td>2.294882</td>\n",
              "      <td>0.837836</td>\n",
              "      <td>1.0</td>\n",
              "      <td>2.0</td>\n",
              "      <td>3.0</td>\n",
              "      <td>3.0</td>\n",
              "      <td>3.0</td>\n",
              "    </tr>\n",
              "    <tr>\n",
              "      <th>Sex</th>\n",
              "      <td>1309</td>\n",
              "      <td>2</td>\n",
              "      <td>male</td>\n",
              "      <td>843</td>\n",
              "      <td>NaN</td>\n",
              "      <td>NaN</td>\n",
              "      <td>NaN</td>\n",
              "      <td>NaN</td>\n",
              "      <td>NaN</td>\n",
              "      <td>NaN</td>\n",
              "      <td>NaN</td>\n",
              "    </tr>\n",
              "    <tr>\n",
              "      <th>SibSp</th>\n",
              "      <td>1309.0</td>\n",
              "      <td>NaN</td>\n",
              "      <td>NaN</td>\n",
              "      <td>NaN</td>\n",
              "      <td>0.498854</td>\n",
              "      <td>1.041658</td>\n",
              "      <td>0.0</td>\n",
              "      <td>0.0</td>\n",
              "      <td>0.0</td>\n",
              "      <td>1.0</td>\n",
              "      <td>8.0</td>\n",
              "    </tr>\n",
              "    <tr>\n",
              "      <th>Survived</th>\n",
              "      <td>891.0</td>\n",
              "      <td>NaN</td>\n",
              "      <td>NaN</td>\n",
              "      <td>NaN</td>\n",
              "      <td>0.383838</td>\n",
              "      <td>0.486592</td>\n",
              "      <td>0.0</td>\n",
              "      <td>0.0</td>\n",
              "      <td>0.0</td>\n",
              "      <td>1.0</td>\n",
              "      <td>1.0</td>\n",
              "    </tr>\n",
              "    <tr>\n",
              "      <th>Ticket</th>\n",
              "      <td>1309</td>\n",
              "      <td>929</td>\n",
              "      <td>CA. 2343</td>\n",
              "      <td>11</td>\n",
              "      <td>NaN</td>\n",
              "      <td>NaN</td>\n",
              "      <td>NaN</td>\n",
              "      <td>NaN</td>\n",
              "      <td>NaN</td>\n",
              "      <td>NaN</td>\n",
              "      <td>NaN</td>\n",
              "    </tr>\n",
              "    <tr>\n",
              "      <th>Title</th>\n",
              "      <td>1309</td>\n",
              "      <td>6</td>\n",
              "      <td>Mr</td>\n",
              "      <td>767</td>\n",
              "      <td>NaN</td>\n",
              "      <td>NaN</td>\n",
              "      <td>NaN</td>\n",
              "      <td>NaN</td>\n",
              "      <td>NaN</td>\n",
              "      <td>NaN</td>\n",
              "      <td>NaN</td>\n",
              "    </tr>\n",
              "  </tbody>\n",
              "</table>\n",
              "</div>\n",
              "      <button class=\"colab-df-convert\" onclick=\"convertToInteractive('df-842ed012-225d-4c0f-9d62-646f1a8f8f15')\"\n",
              "              title=\"Convert this dataframe to an interactive table.\"\n",
              "              style=\"display:none;\">\n",
              "        \n",
              "  <svg xmlns=\"http://www.w3.org/2000/svg\" height=\"24px\"viewBox=\"0 0 24 24\"\n",
              "       width=\"24px\">\n",
              "    <path d=\"M0 0h24v24H0V0z\" fill=\"none\"/>\n",
              "    <path d=\"M18.56 5.44l.94 2.06.94-2.06 2.06-.94-2.06-.94-.94-2.06-.94 2.06-2.06.94zm-11 1L8.5 8.5l.94-2.06 2.06-.94-2.06-.94L8.5 2.5l-.94 2.06-2.06.94zm10 10l.94 2.06.94-2.06 2.06-.94-2.06-.94-.94-2.06-.94 2.06-2.06.94z\"/><path d=\"M17.41 7.96l-1.37-1.37c-.4-.4-.92-.59-1.43-.59-.52 0-1.04.2-1.43.59L10.3 9.45l-7.72 7.72c-.78.78-.78 2.05 0 2.83L4 21.41c.39.39.9.59 1.41.59.51 0 1.02-.2 1.41-.59l7.78-7.78 2.81-2.81c.8-.78.8-2.07 0-2.86zM5.41 20L4 18.59l7.72-7.72 1.47 1.35L5.41 20z\"/>\n",
              "  </svg>\n",
              "      </button>\n",
              "      \n",
              "  <style>\n",
              "    .colab-df-container {\n",
              "      display:flex;\n",
              "      flex-wrap:wrap;\n",
              "      gap: 12px;\n",
              "    }\n",
              "\n",
              "    .colab-df-convert {\n",
              "      background-color: #E8F0FE;\n",
              "      border: none;\n",
              "      border-radius: 50%;\n",
              "      cursor: pointer;\n",
              "      display: none;\n",
              "      fill: #1967D2;\n",
              "      height: 32px;\n",
              "      padding: 0 0 0 0;\n",
              "      width: 32px;\n",
              "    }\n",
              "\n",
              "    .colab-df-convert:hover {\n",
              "      background-color: #E2EBFA;\n",
              "      box-shadow: 0px 1px 2px rgba(60, 64, 67, 0.3), 0px 1px 3px 1px rgba(60, 64, 67, 0.15);\n",
              "      fill: #174EA6;\n",
              "    }\n",
              "\n",
              "    [theme=dark] .colab-df-convert {\n",
              "      background-color: #3B4455;\n",
              "      fill: #D2E3FC;\n",
              "    }\n",
              "\n",
              "    [theme=dark] .colab-df-convert:hover {\n",
              "      background-color: #434B5C;\n",
              "      box-shadow: 0px 1px 3px 1px rgba(0, 0, 0, 0.15);\n",
              "      filter: drop-shadow(0px 1px 2px rgba(0, 0, 0, 0.3));\n",
              "      fill: #FFFFFF;\n",
              "    }\n",
              "  </style>\n",
              "\n",
              "      <script>\n",
              "        const buttonEl =\n",
              "          document.querySelector('#df-842ed012-225d-4c0f-9d62-646f1a8f8f15 button.colab-df-convert');\n",
              "        buttonEl.style.display =\n",
              "          google.colab.kernel.accessAllowed ? 'block' : 'none';\n",
              "\n",
              "        async function convertToInteractive(key) {\n",
              "          const element = document.querySelector('#df-842ed012-225d-4c0f-9d62-646f1a8f8f15');\n",
              "          const dataTable =\n",
              "            await google.colab.kernel.invokeFunction('convertToInteractive',\n",
              "                                                     [key], {});\n",
              "          if (!dataTable) return;\n",
              "\n",
              "          const docLinkHtml = 'Like what you see? Visit the ' +\n",
              "            '<a target=\"_blank\" href=https://colab.research.google.com/notebooks/data_table.ipynb>data table notebook</a>'\n",
              "            + ' to learn more about interactive tables.';\n",
              "          element.innerHTML = '';\n",
              "          dataTable['output_type'] = 'display_data';\n",
              "          await google.colab.output.renderOutput(dataTable, element);\n",
              "          const docLink = document.createElement('div');\n",
              "          docLink.innerHTML = docLinkHtml;\n",
              "          element.appendChild(docLink);\n",
              "        }\n",
              "      </script>\n",
              "    </div>\n",
              "  </div>\n",
              "  "
            ]
          },
          "metadata": {}
        }
      ]
    },
    {
      "cell_type": "markdown",
      "source": [
        "<a id=\"pre-processing\"></a>\n",
        "# 2. Pre-processing\n",
        "[Back to Top](#scrollTo=3jq6wLfnS5_o)\n"
      ],
      "metadata": {
        "id": "--MpK8w_TRoe"
      }
    },
    {
      "cell_type": "markdown",
      "source": [
        "\n",
        "<a id=\"encoding\"></a>\n",
        "## 2.1. Encode Categorical Variables\n",
        "We need to convert all categorical variables into numeric format. The categorical variables we will be keeping are `Embarked`, `Sex` and `Title`.   \n",
        "\n",
        "The `Sex` variable can be encoded into single 1-or-0 column, but the other variables will need to be [one-hot encoded](https://hackernoon.com/what-is-one-hot-encoding-why-and-when-do-you-have-to-use-it-e3c6186d008f). Regular label encoding assigns some category labels higher numerical values. This implies some sort of scale (Embarked = 1 is not **more** than Embarked = 0 - it's just _different_). One Hot Encoding avoids this problem.   \n",
        "\n",
        "We will assume that there is some ordinality in the `Pclass` variable, so we will leave that as a single column.\n"
      ],
      "metadata": {
        "id": "dY_SXhKDziPH"
      }
    },
    {
      "cell_type": "code",
      "source": [
        "sns.countplot(x='Pclass', data=df, palette='hls', hue='Survived')\n",
        "plt.xticks(rotation=45)\n",
        "plt.show()"
      ],
      "metadata": {
        "colab": {
          "base_uri": "https://localhost:8080/"
        },
        "id": "R1dzOkQbTtwV",
        "outputId": "1e994cc0-daa9-41c7-c180-cd04ca5efccc"
      },
      "execution_count": null,
      "outputs": [
        {
          "output_type": "display_data",
          "data": {
            "text/plain": [
              "<Figure size 1080x720 with 1 Axes>"
            ],
            "image/png": "[encoded data removed]"
          },
          "metadata": {}
        }
      ]
    },
    {
      "cell_type": "code",
      "source": [
        "sns.countplot(x='Sex', data=df, palette='hls', hue='Survived')\n",
        "plt.xticks(rotation=45)\n",
        "plt.show()"
      ],
      "metadata": {
        "colab": {
          "base_uri": "https://localhost:8080/"
        },
        "id": "UoRlJJ9sTu6e",
        "outputId": "7a76e4fc-dba4-4036-9a41-b9994ca1dcce"
      },
      "execution_count": null,
      "outputs": [
        {
          "output_type": "display_data",
          "data": {
            "text/plain": [
              "<Figure size 1080x720 with 1 Axes>"
            ],
            "image/png": "[encoded data removed]"
          },
          "metadata": {}
        }
      ]
    },
    {
      "cell_type": "code",
      "source": [
        "sns.countplot(x='Embarked', data=df, palette='hls', hue='Survived')\n",
        "plt.xticks(rotation=45)\n",
        "plt.show()"
      ],
      "metadata": {
        "colab": {
          "base_uri": "https://localhost:8080/"
        },
        "id": "MdI5PzmITwHn",
        "outputId": "628e3737-7568-4699-ed98-ceec2538d8ac"
      },
      "execution_count": null,
      "outputs": [
        {
          "output_type": "display_data",
          "data": {
            "text/plain": [
              "<Figure size 1080x720 with 1 Axes>"
            ],
            "image/png": "[encoded data removed]"
          },
          "metadata": {}
        }
      ]
    },
    {
      "cell_type": "code",
      "source": [
        "# convert to cateogry dtype\n",
        "df['Sex'] = df['Sex'].astype('category')\n",
        "# convert to category codes\n",
        "df['Sex'] = df['Sex'].cat.codes"
      ],
      "metadata": {
        "id": "p-mLb-KBTxtU"
      },
      "execution_count": null,
      "outputs": []
    },
    {
      "cell_type": "code",
      "source": [
        "# subset all categorical variables which need to be encoded\n",
        "categorical = ['Embarked', 'Title']\n",
        "\n",
        "for var in categorical:\n",
        "    df = pd.concat([df, \n",
        "                    pd.get_dummies(df[var], prefix=var)], axis=1)\n",
        "    del df[var]"
      ],
      "metadata": {
        "id": "ZIk0F-hyTy5t"
      },
      "execution_count": null,
      "outputs": []
    },
    {
      "cell_type": "code",
      "source": [
        "# drop the variables we won't be using\n",
        "df.drop(['Cabin', 'Name', 'Ticket', 'PassengerId'], axis=1, inplace=True)"
      ],
      "metadata": {
        "id": "x2HRq_IdT0Bs"
      },
      "execution_count": null,
      "outputs": []
    },
    {
      "cell_type": "code",
      "source": [
        "df.head()"
      ],
      "metadata": {
        "colab": {
          "base_uri": "https://localhost:8080/"
        },
        "id": "HOxV_b76T1ON",
        "outputId": "95f55d3c-254a-477e-9819-7c830c5699e9"
      },
      "execution_count": null,
      "outputs": [
        {
          "output_type": "execute_result",
          "data": {
            "text/plain": [
              "    Age  Family_Size     Fare  Parch  Pclass  Sex  SibSp  Survived  \\\n",
              "0  22.0            1   7.2500      0       3    1      1       0.0   \n",
              "1  38.0            1  71.2833      0       1    0      1       1.0   \n",
              "2  26.0            0   7.9250      0       3    0      0       1.0   \n",
              "3  35.0            1  53.1000      0       1    0      1       1.0   \n",
              "4  35.0            0   8.0500      0       3    1      0       0.0   \n",
              "\n",
              "   Embarked_C  Embarked_Q  Embarked_S  Title_Dr  Title_Master  Title_Miss  \\\n",
              "0           0           0           1         0             0           0   \n",
              "1           1           0           0         0             0           0   \n",
              "2           0           0           1         0             0           1   \n",
              "3           0           0           1         0             0           0   \n",
              "4           0           0           1         0             0           0   \n",
              "\n",
              "   Title_Mr  Title_Mrs  Title_Rev  \n",
              "0         1          0          0  \n",
              "1         0          1          0  \n",
              "2         0          0          0  \n",
              "3         0          1          0  \n",
              "4         1          0          0  "
            ],
            "text/html": [
              "\n",
              "  <div id=\"df-5e32fef2-aafd-4335-b2d4-449f839a3f99\">\n",
              "    <div class=\"colab-df-container\">\n",
              "      <div>\n",
              "<style scoped>\n",
              "    .dataframe tbody tr th:only-of-type {\n",
              "        vertical-align: middle;\n",
              "    }\n",
              "\n",
              "    .dataframe tbody tr th {\n",
              "        vertical-align: top;\n",
              "    }\n",
              "\n",
              "    .dataframe thead th {\n",
              "        text-align: right;\n",
              "    }\n",
              "</style>\n",
              "<table border=\"1\" class=\"dataframe\">\n",
              "  <thead>\n",
              "    <tr style=\"text-align: right;\">\n",
              "      <th></th>\n",
              "      <th>Age</th>\n",
              "      <th>Family_Size</th>\n",
              "      <th>Fare</th>\n",
              "      <th>Parch</th>\n",
              "      <th>Pclass</th>\n",
              "      <th>Sex</th>\n",
              "      <th>SibSp</th>\n",
              "      <th>Survived</th>\n",
              "      <th>Embarked_C</th>\n",
              "      <th>Embarked_Q</th>\n",
              "      <th>Embarked_S</th>\n",
              "      <th>Title_Dr</th>\n",
              "      <th>Title_Master</th>\n",
              "      <th>Title_Miss</th>\n",
              "      <th>Title_Mr</th>\n",
              "      <th>Title_Mrs</th>\n",
              "      <th>Title_Rev</th>\n",
              "    </tr>\n",
              "  </thead>\n",
              "  <tbody>\n",
              "    <tr>\n",
              "      <th>0</th>\n",
              "      <td>22.0</td>\n",
              "      <td>1</td>\n",
              "      <td>7.2500</td>\n",
              "      <td>0</td>\n",
              "      <td>3</td>\n",
              "      <td>1</td>\n",
              "      <td>1</td>\n",
              "      <td>0.0</td>\n",
              "      <td>0</td>\n",
              "      <td>0</td>\n",
              "      <td>1</td>\n",
              "      <td>0</td>\n",
              "      <td>0</td>\n",
              "      <td>0</td>\n",
              "      <td>1</td>\n",
              "      <td>0</td>\n",
              "      <td>0</td>\n",
              "    </tr>\n",
              "    <tr>\n",
              "      <th>1</th>\n",
              "      <td>38.0</td>\n",
              "      <td>1</td>\n",
              "      <td>71.2833</td>\n",
              "      <td>0</td>\n",
              "      <td>1</td>\n",
              "      <td>0</td>\n",
              "      <td>1</td>\n",
              "      <td>1.0</td>\n",
              "      <td>1</td>\n",
              "      <td>0</td>\n",
              "      <td>0</td>\n",
              "      <td>0</td>\n",
              "      <td>0</td>\n",
              "      <td>0</td>\n",
              "      <td>0</td>\n",
              "      <td>1</td>\n",
              "      <td>0</td>\n",
              "    </tr>\n",
              "    <tr>\n",
              "      <th>2</th>\n",
              "      <td>26.0</td>\n",
              "      <td>0</td>\n",
              "      <td>7.9250</td>\n",
              "      <td>0</td>\n",
              "      <td>3</td>\n",
              "      <td>0</td>\n",
              "      <td>0</td>\n",
              "      <td>1.0</td>\n",
              "      <td>0</td>\n",
              "      <td>0</td>\n",
              "      <td>1</td>\n",
              "      <td>0</td>\n",
              "      <td>0</td>\n",
              "      <td>1</td>\n",
              "      <td>0</td>\n",
              "      <td>0</td>\n",
              "      <td>0</td>\n",
              "    </tr>\n",
              "    <tr>\n",
              "      <th>3</th>\n",
              "      <td>35.0</td>\n",
              "      <td>1</td>\n",
              "      <td>53.1000</td>\n",
              "      <td>0</td>\n",
              "      <td>1</td>\n",
              "      <td>0</td>\n",
              "      <td>1</td>\n",
              "      <td>1.0</td>\n",
              "      <td>0</td>\n",
              "      <td>0</td>\n",
              "      <td>1</td>\n",
              "      <td>0</td>\n",
              "      <td>0</td>\n",
              "      <td>0</td>\n",
              "      <td>0</td>\n",
              "      <td>1</td>\n",
              "      <td>0</td>\n",
              "    </tr>\n",
              "    <tr>\n",
              "      <th>4</th>\n",
              "      <td>35.0</td>\n",
              "      <td>0</td>\n",
              "      <td>8.0500</td>\n",
              "      <td>0</td>\n",
              "      <td>3</td>\n",
              "      <td>1</td>\n",
              "      <td>0</td>\n",
              "      <td>0.0</td>\n",
              "      <td>0</td>\n",
              "      <td>0</td>\n",
              "      <td>1</td>\n",
              "      <td>0</td>\n",
              "      <td>0</td>\n",
              "      <td>0</td>\n",
              "      <td>1</td>\n",
              "      <td>0</td>\n",
              "      <td>0</td>\n",
              "    </tr>\n",
              "  </tbody>\n",
              "</table>\n",
              "</div>\n",
              "      <button class=\"colab-df-convert\" onclick=\"convertToInteractive('df-5e32fef2-aafd-4335-b2d4-449f839a3f99')\"\n",
              "              title=\"Convert this dataframe to an interactive table.\"\n",
              "              style=\"display:none;\">\n",
              "        \n",
              "  <svg xmlns=\"http://www.w3.org/2000/svg\" height=\"24px\"viewBox=\"0 0 24 24\"\n",
              "       width=\"24px\">\n",
              "    <path d=\"M0 0h24v24H0V0z\" fill=\"none\"/>\n",
              "    <path d=\"M18.56 5.44l.94 2.06.94-2.06 2.06-.94-2.06-.94-.94-2.06-.94 2.06-2.06.94zm-11 1L8.5 8.5l.94-2.06 2.06-.94-2.06-.94L8.5 2.5l-.94 2.06-2.06.94zm10 10l.94 2.06.94-2.06 2.06-.94-2.06-.94-.94-2.06-.94 2.06-2.06.94z\"/><path d=\"M17.41 7.96l-1.37-1.37c-.4-.4-.92-.59-1.43-.59-.52 0-1.04.2-1.43.59L10.3 9.45l-7.72 7.72c-.78.78-.78 2.05 0 2.83L4 21.41c.39.39.9.59 1.41.59.51 0 1.02-.2 1.41-.59l7.78-7.78 2.81-2.81c.8-.78.8-2.07 0-2.86zM5.41 20L4 18.59l7.72-7.72 1.47 1.35L5.41 20z\"/>\n",
              "  </svg>\n",
              "      </button>\n",
              "      \n",
              "  <style>\n",
              "    .colab-df-container {\n",
              "      display:flex;\n",
              "      flex-wrap:wrap;\n",
              "      gap: 12px;\n",
              "    }\n",
              "\n",
              "    .colab-df-convert {\n",
              "      background-color: #E8F0FE;\n",
              "      border: none;\n",
              "      border-radius: 50%;\n",
              "      cursor: pointer;\n",
              "      display: none;\n",
              "      fill: #1967D2;\n",
              "      height: 32px;\n",
              "      padding: 0 0 0 0;\n",
              "      width: 32px;\n",
              "    }\n",
              "\n",
              "    .colab-df-convert:hover {\n",
              "      background-color: #E2EBFA;\n",
              "      box-shadow: 0px 1px 2px rgba(60, 64, 67, 0.3), 0px 1px 3px 1px rgba(60, 64, 67, 0.15);\n",
              "      fill: #174EA6;\n",
              "    }\n",
              "\n",
              "    [theme=dark] .colab-df-convert {\n",
              "      background-color: #3B4455;\n",
              "      fill: #D2E3FC;\n",
              "    }\n",
              "\n",
              "    [theme=dark] .colab-df-convert:hover {\n",
              "      background-color: #434B5C;\n",
              "      box-shadow: 0px 1px 3px 1px rgba(0, 0, 0, 0.15);\n",
              "      filter: drop-shadow(0px 1px 2px rgba(0, 0, 0, 0.3));\n",
              "      fill: #FFFFFF;\n",
              "    }\n",
              "  </style>\n",
              "\n",
              "      <script>\n",
              "        const buttonEl =\n",
              "          document.querySelector('#df-5e32fef2-aafd-4335-b2d4-449f839a3f99 button.colab-df-convert');\n",
              "        buttonEl.style.display =\n",
              "          google.colab.kernel.accessAllowed ? 'block' : 'none';\n",
              "\n",
              "        async function convertToInteractive(key) {\n",
              "          const element = document.querySelector('#df-5e32fef2-aafd-4335-b2d4-449f839a3f99');\n",
              "          const dataTable =\n",
              "            await google.colab.kernel.invokeFunction('convertToInteractive',\n",
              "                                                     [key], {});\n",
              "          if (!dataTable) return;\n",
              "\n",
              "          const docLinkHtml = 'Like what you see? Visit the ' +\n",
              "            '<a target=\"_blank\" href=https://colab.research.google.com/notebooks/data_table.ipynb>data table notebook</a>'\n",
              "            + ' to learn more about interactive tables.';\n",
              "          element.innerHTML = '';\n",
              "          dataTable['output_type'] = 'display_data';\n",
              "          await google.colab.output.renderOutput(dataTable, element);\n",
              "          const docLink = document.createElement('div');\n",
              "          docLink.innerHTML = docLinkHtml;\n",
              "          element.appendChild(docLink);\n",
              "        }\n",
              "      </script>\n",
              "    </div>\n",
              "  </div>\n",
              "  "
            ]
          },
          "metadata": {},
          "execution_count": 128
        }
      ]
    },
    {
      "cell_type": "markdown",
      "source": [
        "## 2.2. Scale Continuous Variables\n",
        "[Back to Top](#scrollTo=3jq6wLfnS5_o)\n",
        "\n",
        "The continuous variables need to be scaled. This is done using a standard scaler from SkLearn."
      ],
      "metadata": {
        "id": "zvZPfSHoT3cb"
      }
    },
    {
      "cell_type": "code",
      "source": [
        "continuous = ['Age', 'Fare', 'Parch', 'Pclass', 'SibSp', 'Family_Size']\n",
        "\n",
        "scaler = StandardScaler()\n",
        "\n",
        "for var in continuous:\n",
        "    df[var] = df[var].astype('float64')\n",
        "    df[var] = scaler.fit_transform(df[var].values.reshape(-1, 1))"
      ],
      "metadata": {
        "id": "ozH9zYwoT4SC"
      },
      "execution_count": null,
      "outputs": []
    },
    {
      "cell_type": "code",
      "source": [
        "display_all(df.describe(include='all').T)"
      ],
      "metadata": {
        "colab": {
          "base_uri": "https://localhost:8080/",
          "height": 582
        },
        "id": "5tzPv0GuT60d",
        "outputId": "2b0a8dcf-7292-4767-f995-121793a66639"
      },
      "execution_count": null,
      "outputs": [
        {
          "output_type": "display_data",
          "data": {
            "text/plain": [
              "               count          mean       std       min       25%       50%  \\\n",
              "Age           1309.0  7.327981e-17  1.000382 -2.233408 -0.574635  0.033252   \n",
              "Family_Size   1309.0  1.628440e-17  1.000382 -0.558346 -0.558346 -0.558346   \n",
              "Fare          1309.0  2.171254e-17  1.000382 -0.643344 -0.490691 -0.363894   \n",
              "Parch         1309.0  1.730218e-17  1.000382 -0.445000 -0.445000 -0.445000   \n",
              "Pclass        1309.0 -2.062691e-16  1.000382 -1.546098 -0.352091  0.841916   \n",
              "Sex           1309.0  6.440031e-01  0.478997  0.000000  0.000000  1.000000   \n",
              "SibSp         1309.0 -1.628440e-17  1.000382 -0.479087 -0.479087 -0.479087   \n",
              "Survived       891.0  3.838384e-01  0.486592  0.000000  0.000000  0.000000   \n",
              "Embarked_C    1309.0  2.070283e-01  0.405331  0.000000  0.000000  0.000000   \n",
              "Embarked_Q    1309.0  9.396486e-02  0.291891  0.000000  0.000000  0.000000   \n",
              "Embarked_S    1309.0  6.990069e-01  0.458865  0.000000  0.000000  1.000000   \n",
              "Title_Dr      1309.0  6.111536e-03  0.077967  0.000000  0.000000  0.000000   \n",
              "Title_Master  1309.0  4.660046e-02  0.210862  0.000000  0.000000  0.000000   \n",
              "Title_Miss    1309.0  2.016807e-01  0.401408  0.000000  0.000000  0.000000   \n",
              "Title_Mr      1309.0  5.859435e-01  0.492747  0.000000  0.000000  1.000000   \n",
              "Title_Mrs     1309.0  1.535523e-01  0.360657  0.000000  0.000000  0.000000   \n",
              "Title_Rev     1309.0  6.111536e-03  0.077967  0.000000  0.000000  0.000000   \n",
              "\n",
              "                   75%       max  \n",
              "Age           0.451175  3.832549  \n",
              "Family_Size   0.073352  5.758637  \n",
              "Fare         -0.038690  9.261749  \n",
              "Parch        -0.445000  9.956864  \n",
              "Pclass        0.841916  0.841916  \n",
              "Sex           1.000000  1.000000  \n",
              "SibSp         0.481288  7.203909  \n",
              "Survived      1.000000  1.000000  \n",
              "Embarked_C    0.000000  1.000000  \n",
              "Embarked_Q    0.000000  1.000000  \n",
              "Embarked_S    1.000000  1.000000  \n",
              "Title_Dr      0.000000  1.000000  \n",
              "Title_Master  0.000000  1.000000  \n",
              "Title_Miss    0.000000  1.000000  \n",
              "Title_Mr      1.000000  1.000000  \n",
              "Title_Mrs     0.000000  1.000000  \n",
              "Title_Rev     0.000000  1.000000  "
            ],
            "text/html": [
              "\n",
              "  <div id=\"df-2229ca0a-1c46-4062-a461-ac0ed6bc360d\">\n",
              "    <div class=\"colab-df-container\">\n",
              "      <div>\n",
              "<style scoped>\n",
              "    .dataframe tbody tr th:only-of-type {\n",
              "        vertical-align: middle;\n",
              "    }\n",
              "\n",
              "    .dataframe tbody tr th {\n",
              "        vertical-align: top;\n",
              "    }\n",
              "\n",
              "    .dataframe thead th {\n",
              "        text-align: right;\n",
              "    }\n",
              "</style>\n",
              "<table border=\"1\" class=\"dataframe\">\n",
              "  <thead>\n",
              "    <tr style=\"text-align: right;\">\n",
              "      <th></th>\n",
              "      <th>count</th>\n",
              "      <th>mean</th>\n",
              "      <th>std</th>\n",
              "      <th>min</th>\n",
              "      <th>25%</th>\n",
              "      <th>50%</th>\n",
              "      <th>75%</th>\n",
              "      <th>max</th>\n",
              "    </tr>\n",
              "  </thead>\n",
              "  <tbody>\n",
              "    <tr>\n",
              "      <th>Age</th>\n",
              "      <td>1309.0</td>\n",
              "      <td>7.327981e-17</td>\n",
              "      <td>1.000382</td>\n",
              "      <td>-2.233408</td>\n",
              "      <td>-0.574635</td>\n",
              "      <td>0.033252</td>\n",
              "      <td>0.451175</td>\n",
              "      <td>3.832549</td>\n",
              "    </tr>\n",
              "    <tr>\n",
              "      <th>Family_Size</th>\n",
              "      <td>1309.0</td>\n",
              "      <td>1.628440e-17</td>\n",
              "      <td>1.000382</td>\n",
              "      <td>-0.558346</td>\n",
              "      <td>-0.558346</td>\n",
              "      <td>-0.558346</td>\n",
              "      <td>0.073352</td>\n",
              "      <td>5.758637</td>\n",
              "    </tr>\n",
              "    <tr>\n",
              "      <th>Fare</th>\n",
              "      <td>1309.0</td>\n",
              "      <td>2.171254e-17</td>\n",
              "      <td>1.000382</td>\n",
              "      <td>-0.643344</td>\n",
              "      <td>-0.490691</td>\n",
              "      <td>-0.363894</td>\n",
              "      <td>-0.038690</td>\n",
              "      <td>9.261749</td>\n",
              "    </tr>\n",
              "    <tr>\n",
              "      <th>Parch</th>\n",
              "      <td>1309.0</td>\n",
              "      <td>1.730218e-17</td>\n",
              "      <td>1.000382</td>\n",
              "      <td>-0.445000</td>\n",
              "      <td>-0.445000</td>\n",
              "      <td>-0.445000</td>\n",
              "      <td>-0.445000</td>\n",
              "      <td>9.956864</td>\n",
              "    </tr>\n",
              "    <tr>\n",
              "      <th>Pclass</th>\n",
              "      <td>1309.0</td>\n",
              "      <td>-2.062691e-16</td>\n",
              "      <td>1.000382</td>\n",
              "      <td>-1.546098</td>\n",
              "      <td>-0.352091</td>\n",
              "      <td>0.841916</td>\n",
              "      <td>0.841916</td>\n",
              "      <td>0.841916</td>\n",
              "    </tr>\n",
              "    <tr>\n",
              "      <th>Sex</th>\n",
              "      <td>1309.0</td>\n",
              "      <td>6.440031e-01</td>\n",
              "      <td>0.478997</td>\n",
              "      <td>0.000000</td>\n",
              "      <td>0.000000</td>\n",
              "      <td>1.000000</td>\n",
              "      <td>1.000000</td>\n",
              "      <td>1.000000</td>\n",
              "    </tr>\n",
              "    <tr>\n",
              "      <th>SibSp</th>\n",
              "      <td>1309.0</td>\n",
              "      <td>-1.628440e-17</td>\n",
              "      <td>1.000382</td>\n",
              "      <td>-0.479087</td>\n",
              "      <td>-0.479087</td>\n",
              "      <td>-0.479087</td>\n",
              "      <td>0.481288</td>\n",
              "      <td>7.203909</td>\n",
              "    </tr>\n",
              "    <tr>\n",
              "      <th>Survived</th>\n",
              "      <td>891.0</td>\n",
              "      <td>3.838384e-01</td>\n",
              "      <td>0.486592</td>\n",
              "      <td>0.000000</td>\n",
              "      <td>0.000000</td>\n",
              "      <td>0.000000</td>\n",
              "      <td>1.000000</td>\n",
              "      <td>1.000000</td>\n",
              "    </tr>\n",
              "    <tr>\n",
              "      <th>Embarked_C</th>\n",
              "      <td>1309.0</td>\n",
              "      <td>2.070283e-01</td>\n",
              "      <td>0.405331</td>\n",
              "      <td>0.000000</td>\n",
              "      <td>0.000000</td>\n",
              "      <td>0.000000</td>\n",
              "      <td>0.000000</td>\n",
              "      <td>1.000000</td>\n",
              "    </tr>\n",
              "    <tr>\n",
              "      <th>Embarked_Q</th>\n",
              "      <td>1309.0</td>\n",
              "      <td>9.396486e-02</td>\n",
              "      <td>0.291891</td>\n",
              "      <td>0.000000</td>\n",
              "      <td>0.000000</td>\n",
              "      <td>0.000000</td>\n",
              "      <td>0.000000</td>\n",
              "      <td>1.000000</td>\n",
              "    </tr>\n",
              "    <tr>\n",
              "      <th>Embarked_S</th>\n",
              "      <td>1309.0</td>\n",
              "      <td>6.990069e-01</td>\n",
              "      <td>0.458865</td>\n",
              "      <td>0.000000</td>\n",
              "      <td>0.000000</td>\n",
              "      <td>1.000000</td>\n",
              "      <td>1.000000</td>\n",
              "      <td>1.000000</td>\n",
              "    </tr>\n",
              "    <tr>\n",
              "      <th>Title_Dr</th>\n",
              "      <td>1309.0</td>\n",
              "      <td>6.111536e-03</td>\n",
              "      <td>0.077967</td>\n",
              "      <td>0.000000</td>\n",
              "      <td>0.000000</td>\n",
              "      <td>0.000000</td>\n",
              "      <td>0.000000</td>\n",
              "      <td>1.000000</td>\n",
              "    </tr>\n",
              "    <tr>\n",
              "      <th>Title_Master</th>\n",
              "      <td>1309.0</td>\n",
              "      <td>4.660046e-02</td>\n",
              "      <td>0.210862</td>\n",
              "      <td>0.000000</td>\n",
              "      <td>0.000000</td>\n",
              "      <td>0.000000</td>\n",
              "      <td>0.000000</td>\n",
              "      <td>1.000000</td>\n",
              "    </tr>\n",
              "    <tr>\n",
              "      <th>Title_Miss</th>\n",
              "      <td>1309.0</td>\n",
              "      <td>2.016807e-01</td>\n",
              "      <td>0.401408</td>\n",
              "      <td>0.000000</td>\n",
              "      <td>0.000000</td>\n",
              "      <td>0.000000</td>\n",
              "      <td>0.000000</td>\n",
              "      <td>1.000000</td>\n",
              "    </tr>\n",
              "    <tr>\n",
              "      <th>Title_Mr</th>\n",
              "      <td>1309.0</td>\n",
              "      <td>5.859435e-01</td>\n",
              "      <td>0.492747</td>\n",
              "      <td>0.000000</td>\n",
              "      <td>0.000000</td>\n",
              "      <td>1.000000</td>\n",
              "      <td>1.000000</td>\n",
              "      <td>1.000000</td>\n",
              "    </tr>\n",
              "    <tr>\n",
              "      <th>Title_Mrs</th>\n",
              "      <td>1309.0</td>\n",
              "      <td>1.535523e-01</td>\n",
              "      <td>0.360657</td>\n",
              "      <td>0.000000</td>\n",
              "      <td>0.000000</td>\n",
              "      <td>0.000000</td>\n",
              "      <td>0.000000</td>\n",
              "      <td>1.000000</td>\n",
              "    </tr>\n",
              "    <tr>\n",
              "      <th>Title_Rev</th>\n",
              "      <td>1309.0</td>\n",
              "      <td>6.111536e-03</td>\n",
              "      <td>0.077967</td>\n",
              "      <td>0.000000</td>\n",
              "      <td>0.000000</td>\n",
              "      <td>0.000000</td>\n",
              "      <td>0.000000</td>\n",
              "      <td>1.000000</td>\n",
              "    </tr>\n",
              "  </tbody>\n",
              "</table>\n",
              "</div>\n",
              "      <button class=\"colab-df-convert\" onclick=\"convertToInteractive('df-2229ca0a-1c46-4062-a461-ac0ed6bc360d')\"\n",
              "              title=\"Convert this dataframe to an interactive table.\"\n",
              "              style=\"display:none;\">\n",
              "        \n",
              "  <svg xmlns=\"http://www.w3.org/2000/svg\" height=\"24px\"viewBox=\"0 0 24 24\"\n",
              "       width=\"24px\">\n",
              "    <path d=\"M0 0h24v24H0V0z\" fill=\"none\"/>\n",
              "    <path d=\"M18.56 5.44l.94 2.06.94-2.06 2.06-.94-2.06-.94-.94-2.06-.94 2.06-2.06.94zm-11 1L8.5 8.5l.94-2.06 2.06-.94-2.06-.94L8.5 2.5l-.94 2.06-2.06.94zm10 10l.94 2.06.94-2.06 2.06-.94-2.06-.94-.94-2.06-.94 2.06-2.06.94z\"/><path d=\"M17.41 7.96l-1.37-1.37c-.4-.4-.92-.59-1.43-.59-.52 0-1.04.2-1.43.59L10.3 9.45l-7.72 7.72c-.78.78-.78 2.05 0 2.83L4 21.41c.39.39.9.59 1.41.59.51 0 1.02-.2 1.41-.59l7.78-7.78 2.81-2.81c.8-.78.8-2.07 0-2.86zM5.41 20L4 18.59l7.72-7.72 1.47 1.35L5.41 20z\"/>\n",
              "  </svg>\n",
              "      </button>\n",
              "      \n",
              "  <style>\n",
              "    .colab-df-container {\n",
              "      display:flex;\n",
              "      flex-wrap:wrap;\n",
              "      gap: 12px;\n",
              "    }\n",
              "\n",
              "    .colab-df-convert {\n",
              "      background-color: #E8F0FE;\n",
              "      border: none;\n",
              "      border-radius: 50%;\n",
              "      cursor: pointer;\n",
              "      display: none;\n",
              "      fill: #1967D2;\n",
              "      height: 32px;\n",
              "      padding: 0 0 0 0;\n",
              "      width: 32px;\n",
              "    }\n",
              "\n",
              "    .colab-df-convert:hover {\n",
              "      background-color: #E2EBFA;\n",
              "      box-shadow: 0px 1px 2px rgba(60, 64, 67, 0.3), 0px 1px 3px 1px rgba(60, 64, 67, 0.15);\n",
              "      fill: #174EA6;\n",
              "    }\n",
              "\n",
              "    [theme=dark] .colab-df-convert {\n",
              "      background-color: #3B4455;\n",
              "      fill: #D2E3FC;\n",
              "    }\n",
              "\n",
              "    [theme=dark] .colab-df-convert:hover {\n",
              "      background-color: #434B5C;\n",
              "      box-shadow: 0px 1px 3px 1px rgba(0, 0, 0, 0.15);\n",
              "      filter: drop-shadow(0px 1px 2px rgba(0, 0, 0, 0.3));\n",
              "      fill: #FFFFFF;\n",
              "    }\n",
              "  </style>\n",
              "\n",
              "      <script>\n",
              "        const buttonEl =\n",
              "          document.querySelector('#df-2229ca0a-1c46-4062-a461-ac0ed6bc360d button.colab-df-convert');\n",
              "        buttonEl.style.display =\n",
              "          google.colab.kernel.accessAllowed ? 'block' : 'none';\n",
              "\n",
              "        async function convertToInteractive(key) {\n",
              "          const element = document.querySelector('#df-2229ca0a-1c46-4062-a461-ac0ed6bc360d');\n",
              "          const dataTable =\n",
              "            await google.colab.kernel.invokeFunction('convertToInteractive',\n",
              "                                                     [key], {});\n",
              "          if (!dataTable) return;\n",
              "\n",
              "          const docLinkHtml = 'Like what you see? Visit the ' +\n",
              "            '<a target=\"_blank\" href=https://colab.research.google.com/notebooks/data_table.ipynb>data table notebook</a>'\n",
              "            + ' to learn more about interactive tables.';\n",
              "          element.innerHTML = '';\n",
              "          dataTable['output_type'] = 'display_data';\n",
              "          await google.colab.output.renderOutput(dataTable, element);\n",
              "          const docLink = document.createElement('div');\n",
              "          docLink.innerHTML = docLinkHtml;\n",
              "          element.appendChild(docLink);\n",
              "        }\n",
              "      </script>\n",
              "    </div>\n",
              "  </div>\n",
              "  "
            ]
          },
          "metadata": {}
        }
      ]
    },
    {
      "cell_type": "markdown",
      "source": [
        "## 2.3. Train Test Split"
      ],
      "metadata": {
        "id": "IRmsoNRG7FqN"
      }
    },
    {
      "cell_type": "markdown",
      "source": [
        "Now, all that is left is to feed our data that has been cleaned, encoded and scaled to our neural network.\n",
        "\n",
        "But first, we need to separate *data_df* back into *train* and *unlabeled* sets."
      ],
      "metadata": {
        "id": "5R-X4HeP424e"
      }
    },
    {
      "cell_type": "code",
      "source": [
        "train = df[pd.notnull(df['Survived'])]\n",
        "X_unlabeled = df[pd.isnull(df['Survived'])].drop(['Survived'], axis=1)"
      ],
      "metadata": {
        "id": "G8nuemgzUDcp"
      },
      "execution_count": null,
      "outputs": []
    },
    {
      "cell_type": "markdown",
      "source": [
        "Also for the later experiments the training set gets split into train and test set randomly. This allows us to test the predictions on an *unseen* holdout set of the data."
      ],
      "metadata": {
        "id": "mMrsNeBA5LlW"
      }
    },
    {
      "cell_type": "code",
      "source": [
        "X_train, X_test, y_train, y_test = train_test_split(\n",
        "    train.drop(['Survived'], axis=1),\n",
        "    train['Survived'],\n",
        "    test_size=0.2, random_state=42)"
      ],
      "metadata": {
        "id": "Kl3wgEEi7VC7"
      },
      "execution_count": null,
      "outputs": []
    },
    {
      "cell_type": "markdown",
      "source": [
        "<a id=\"neural-network\"></a>\n",
        "# 3. Neural Network\n",
        "[Back to Top](#scrollTo=3jq6wLfnS5_o)\n",
        "\n"
      ],
      "metadata": {
        "id": "CGgKlm9SUDq0"
      }
    },
    {
      "cell_type": "markdown",
      "source": [
        "## 3.1. Cross-validation\n",
        "[Back to Top](#scrollTo=3jq6wLfnS5_o)\n",
        "\n",
        "Keras allows us to make use of cross-validation for training our model. So we will use this to train and assess our first model."
      ],
      "metadata": {
        "id": "7C3fRFRhUILg"
      }
    },
    {
      "cell_type": "markdown",
      "source": [
        "### Create neural network model\n",
        "For this task, I have kept the model architecture pretty simple. We have one input layer with 17 nodes which feeds into a hidden layer with 8 nodes and an output layer which is used to predict a passenger's survival.   \n",
        "\n",
        "The output layer has a sigmoid activation function, which is used to 'squash' all our outputs to be between 0 and 1.   \n",
        "\n",
        "We are going to create a function which allows to parameterise the choice of hyperparameters in the neural network. This might seem a little overly complicated now, but it will come in super handy when we move onto tuning our parameters later."
      ],
      "metadata": {
        "id": "l6lToqRJUK5P"
      }
    },
    {
      "cell_type": "code",
      "source": [
        "def create_model(lyrs=[8], act='linear', opt='Adam', dr=0.0):\n",
        "    \n",
        "    # set random seed for reproducibility\n",
        "    seed(42)\n",
        "    set_seed(42)\n",
        "    \n",
        "    model = Sequential()\n",
        "    \n",
        "    # create first hidden layer\n",
        "    model.add(Dense(lyrs[0], input_dim=X_train.shape[1], activation=act))\n",
        "    \n",
        "    # create additional hidden layers\n",
        "    for i in range(1,len(lyrs)):\n",
        "        model.add(Dense(lyrs[i], activation=act))\n",
        "    \n",
        "    # add dropout, default is none\n",
        "    model.add(Dropout(dr))\n",
        "    \n",
        "    # create output layer\n",
        "    model.add(Dense(1, activation='sigmoid'))  # output layer\n",
        "    \n",
        "    model.compile(loss='binary_crossentropy', optimizer=opt, metrics=['accuracy'])\n",
        "    \n",
        "    return model"
      ],
      "metadata": {
        "id": "bZsjxlSSUOMS"
      },
      "execution_count": null,
      "outputs": []
    },
    {
      "cell_type": "code",
      "source": [
        "model = create_model()\n",
        "print(model.summary())"
      ],
      "metadata": {
        "colab": {
          "base_uri": "https://localhost:8080/"
        },
        "id": "LlmwarmCUPsq",
        "outputId": "90e3dc80-0e19-46e5-9816-858f229b7ff0"
      },
      "execution_count": null,
      "outputs": [
        {
          "output_type": "stream",
          "name": "stdout",
          "text": [
            "Model: \"sequential_121\"\n",
            "_________________________________________________________________\n",
            " Layer (type)                Output Shape              Param #   \n",
            "=================================================================\n",
            " dense_264 (Dense)           (None, 8)                 136       \n",
            "                                                                 \n",
            " dropout_121 (Dropout)       (None, 8)                 0         \n",
            "                                                                 \n",
            " dense_265 (Dense)           (None, 1)                 9         \n",
            "                                                                 \n",
            "=================================================================\n",
            "Total params: 145\n",
            "Trainable params: 145\n",
            "Non-trainable params: 0\n",
            "_________________________________________________________________\n",
            "None\n"
          ]
        }
      ]
    },
    {
      "cell_type": "markdown",
      "source": [
        "### Train model\n",
        "At this stage, we have our model. We have chosen a few hyperparameters such as the number of hidden layers, the number of neurons and the activation function.\n",
        "\n",
        "The next step is to train the model on our training set. This step also requires us to choose a few more hyperparameters such as the loss function, the optimization algorithm, the number of epochs and the batch size."
      ],
      "metadata": {
        "id": "_fXOR-f0URU7"
      }
    },
    {
      "cell_type": "code",
      "source": [
        "# train model on full train set, with 80/20 CV split\n",
        "# because the model does the random validation split automatically the whole labeled data set can be input\n",
        "training = model.fit(pd.concat([X_train, X_test]), pd.concat([y_train, y_test]), epochs=100, batch_size=32, validation_split=0.2, verbose=0)\n",
        "val_acc = np.mean(training.history['val_accuracy'])\n",
        "print(\"\\n%s: %.2f%%\" % ('val_acc', val_acc*100))"
      ],
      "metadata": {
        "colab": {
          "base_uri": "https://localhost:8080/"
        },
        "id": "ehw0uGxSUUCA",
        "outputId": "5616c0fd-22b2-4fa5-f8e6-50c3907b0dde"
      },
      "execution_count": null,
      "outputs": [
        {
          "output_type": "stream",
          "name": "stdout",
          "text": [
            "\n",
            "val_acc: 77.84%\n"
          ]
        }
      ]
    },
    {
      "cell_type": "markdown",
      "source": [
        "### Assess results"
      ],
      "metadata": {
        "id": "g0Yxs278UV08"
      }
    },
    {
      "cell_type": "code",
      "source": [
        "# summarize history for accuracy\n",
        "plt.plot(training.history['accuracy'])\n",
        "plt.plot(training.history['val_accuracy'])\n",
        "plt.title('model accuracy')\n",
        "plt.ylabel('accuracy')\n",
        "plt.xlabel('epoch')\n",
        "plt.legend(['train', 'validation'], loc='upper left')\n",
        "plt.show()"
      ],
      "metadata": {
        "colab": {
          "base_uri": "https://localhost:8080/",
          "height": 627
        },
        "id": "NMCj4D-XUYk8",
        "outputId": "0ad1c21c-1048-4def-a27d-69511dd7ac4d"
      },
      "execution_count": null,
      "outputs": [
        {
          "output_type": "display_data",
          "data": {
            "text/plain": [
              "<Figure size 1080x720 with 1 Axes>"
            ],
            "image/png": "[encoded data removed]"
          },
          "metadata": {}
        }
      ]
    },
    {
      "cell_type": "markdown",
      "source": [
        "## 3.2. Grid search\n",
        "[Back to Top](#scrollTo=3jq6wLfnS5_o)\n",
        "\n"
      ],
      "metadata": {
        "id": "E38PCCVlaCaR"
      }
    },
    {
      "cell_type": "markdown",
      "source": [
        "### 3.2.1. batch size and epochs\n",
        "We can see from the graph above that we might be training our network for too long. Let's use **grid search** to find out what the optimal values for `batch_size` and `epochs` are."
      ],
      "metadata": {
        "id": "uFWvLEdJ7OtV"
      }
    },
    {
      "cell_type": "code",
      "source": [
        "# create model\n",
        "model = KerasClassifier(build_fn=create_model, verbose=0)\n",
        "\n",
        "# define the grid search parameters\n",
        "batch_size = [16, 32, 64]\n",
        "epochs = [50, 100]\n",
        "param_grid = dict(batch_size=batch_size, epochs=epochs)\n",
        "\n",
        "# search the grid\n",
        "grid = GridSearchCV(estimator=model, \n",
        "                    param_grid=param_grid,\n",
        "                    cv=3,\n",
        "                    verbose=2)  # include n_jobs=-1 if you are using CPU\n",
        "\n",
        "grid_result = grid.fit(X_train, y_train)"
      ],
      "metadata": {
        "colab": {
          "base_uri": "https://localhost:8080/"
        },
        "id": "c0O2SCCAaDYe",
        "outputId": "ad19a28f-8f39-4119-e939-6e716d9f8eea"
      },
      "execution_count": null,
      "outputs": [
        {
          "output_type": "stream",
          "name": "stderr",
          "text": [
            "<ipython-input-137-3f1475744285>:2: DeprecationWarning: KerasClassifier is deprecated, use Sci-Keras (https://github.com/adriangb/scikeras) instead. See https://www.adriangb.com/scikeras/stable/migration.html for help migrating.\n",
            "  model = KerasClassifier(build_fn=create_model, verbose=0)\n"
          ]
        },
        {
          "output_type": "stream",
          "name": "stdout",
          "text": [
            "Fitting 3 folds for each of 6 candidates, totalling 18 fits\n",
            "[CV] END ...........................batch_size=16, epochs=50; total time=   2.7s\n",
            "[CV] END ...........................batch_size=16, epochs=50; total time=   3.7s\n",
            "[CV] END ...........................batch_size=16, epochs=50; total time=   3.3s\n",
            "[CV] END ..........................batch_size=16, epochs=100; total time=   4.8s\n",
            "[CV] END ..........................batch_size=16, epochs=100; total time=   5.8s\n",
            "[CV] END ..........................batch_size=16, epochs=100; total time=   5.8s\n",
            "[CV] END ...........................batch_size=32, epochs=50; total time=   2.0s\n",
            "[CV] END ...........................batch_size=32, epochs=50; total time=   2.0s\n",
            "[CV] END ...........................batch_size=32, epochs=50; total time=   1.8s\n",
            "[CV] END ..........................batch_size=32, epochs=100; total time=   2.7s\n",
            "[CV] END ..........................batch_size=32, epochs=100; total time=   3.3s\n",
            "[CV] END ..........................batch_size=32, epochs=100; total time=   2.8s\n",
            "[CV] END ...........................batch_size=64, epochs=50; total time=   1.3s\n",
            "[CV] END ...........................batch_size=64, epochs=50; total time=   1.3s\n",
            "[CV] END ...........................batch_size=64, epochs=50; total time=   1.3s\n",
            "[CV] END ..........................batch_size=64, epochs=100; total time=   2.0s\n",
            "[CV] END ..........................batch_size=64, epochs=100; total time=   2.3s\n",
            "[CV] END ..........................batch_size=64, epochs=100; total time=   2.0s\n"
          ]
        }
      ]
    },
    {
      "cell_type": "code",
      "source": [
        "# summarize results\n",
        "print(\"Best: %f using %s\" % (grid_result.best_score_, grid_result.best_params_))\n",
        "means = grid_result.cv_results_['mean_test_score']\n",
        "stds = grid_result.cv_results_['std_test_score']\n",
        "params = grid_result.cv_results_['params']\n",
        "for mean, stdev, param in zip(means, stds, params):\n",
        "    print(\"%f (%f) with: %r\" % (mean, stdev, param))"
      ],
      "metadata": {
        "colab": {
          "base_uri": "https://localhost:8080/"
        },
        "id": "czwSSv7IaHfM",
        "outputId": "fd393353-3783-4c33-845d-c877eae81264"
      },
      "execution_count": null,
      "outputs": [
        {
          "output_type": "stream",
          "name": "stdout",
          "text": [
            "Best: 0.830077 using {'batch_size': 32, 'epochs': 100}\n",
            "0.823045 (0.014875) with: {'batch_size': 16, 'epochs': 50}\n",
            "0.825858 (0.015732) with: {'batch_size': 16, 'epochs': 100}\n",
            "0.821638 (0.012907) with: {'batch_size': 32, 'epochs': 50}\n",
            "0.830077 (0.016036) with: {'batch_size': 32, 'epochs': 100}\n",
            "0.807591 (0.017595) with: {'batch_size': 64, 'epochs': 50}\n",
            "0.820232 (0.017600) with: {'batch_size': 64, 'epochs': 100}\n"
          ]
        }
      ]
    },
    {
      "cell_type": "markdown",
      "source": [
        "### 3.2.2. Optimization Algorithm"
      ],
      "metadata": {
        "id": "CSF1lAaqEPAq"
      }
    },
    {
      "cell_type": "code",
      "source": [
        "# create model\n",
        "model = KerasClassifier(build_fn=create_model, epochs=50, batch_size=32, verbose=0)\n",
        "\n",
        "# define the grid search parameters\n",
        "optimizer = ['SGD', 'RMSprop', 'Adagrad', 'Adadelta', 'Adam', 'Nadam']\n",
        "param_grid = dict(opt=optimizer)\n",
        "\n",
        "# search the grid\n",
        "grid = GridSearchCV(estimator=model, param_grid=param_grid, verbose=2)\n",
        "grid_result = grid.fit(X_train, y_train)"
      ],
      "metadata": {
        "colab": {
          "base_uri": "https://localhost:8080/"
        },
        "id": "TkKv26igEOrA",
        "outputId": "e67761ee-6073-49b4-dfc8-fed480146e6f"
      },
      "execution_count": null,
      "outputs": [
        {
          "output_type": "stream",
          "name": "stdout",
          "text": [
            "Fitting 5 folds for each of 6 candidates, totalling 30 fits\n"
          ]
        },
        {
          "output_type": "stream",
          "name": "stderr",
          "text": [
            "<ipython-input-139-9b82b8083fd3>:2: DeprecationWarning: KerasClassifier is deprecated, use Sci-Keras (https://github.com/adriangb/scikeras) instead. See https://www.adriangb.com/scikeras/stable/migration.html for help migrating.\n",
            "  model = KerasClassifier(build_fn=create_model, epochs=50, batch_size=32, verbose=0)\n"
          ]
        },
        {
          "output_type": "stream",
          "name": "stdout",
          "text": [
            "[CV] END ............................................opt=SGD; total time=   1.8s\n",
            "[CV] END ............................................opt=SGD; total time=   1.9s\n",
            "[CV] END ............................................opt=SGD; total time=   1.9s\n",
            "[CV] END ............................................opt=SGD; total time=   1.8s\n",
            "[CV] END ............................................opt=SGD; total time=   1.9s\n",
            "[CV] END ........................................opt=RMSprop; total time=   2.0s\n",
            "[CV] END ........................................opt=RMSprop; total time=   2.0s\n",
            "[CV] END ........................................opt=RMSprop; total time=   2.0s\n",
            "[CV] END ........................................opt=RMSprop; total time=   2.0s\n",
            "[CV] END ........................................opt=RMSprop; total time=   2.0s\n",
            "[CV] END ........................................opt=Adagrad; total time=   1.9s\n",
            "[CV] END ........................................opt=Adagrad; total time=   2.3s\n",
            "[CV] END ........................................opt=Adagrad; total time=   1.9s\n",
            "[CV] END ........................................opt=Adagrad; total time=   1.9s\n",
            "[CV] END ........................................opt=Adagrad; total time=   1.9s\n",
            "[CV] END .......................................opt=Adadelta; total time=   1.9s\n",
            "[CV] END .......................................opt=Adadelta; total time=   1.9s\n",
            "[CV] END .......................................opt=Adadelta; total time=   1.9s\n",
            "[CV] END .......................................opt=Adadelta; total time=   1.9s\n",
            "[CV] END .......................................opt=Adadelta; total time=   1.9s\n",
            "[CV] END ...........................................opt=Adam; total time=   2.0s\n",
            "[CV] END ...........................................opt=Adam; total time=   1.9s\n",
            "[CV] END ...........................................opt=Adam; total time=   1.9s\n",
            "[CV] END ...........................................opt=Adam; total time=   2.0s\n",
            "[CV] END ...........................................opt=Adam; total time=   2.0s\n",
            "[CV] END ..........................................opt=Nadam; total time=   2.4s\n",
            "[CV] END ..........................................opt=Nadam; total time=   4.0s\n",
            "[CV] END ..........................................opt=Nadam; total time=   3.5s\n",
            "[CV] END ..........................................opt=Nadam; total time=   2.4s\n",
            "[CV] END ..........................................opt=Nadam; total time=   2.3s\n"
          ]
        }
      ]
    },
    {
      "cell_type": "code",
      "source": [
        "# summarize results\n",
        "print(\"Best: %f using %s\" % (grid_result.best_score_, grid_result.best_params_))\n",
        "means = grid_result.cv_results_['mean_test_score']\n",
        "stds = grid_result.cv_results_['std_test_score']\n",
        "params = grid_result.cv_results_['params']\n",
        "for mean, stdev, param in zip(means, stds, params):\n",
        "    print(\"%f (%f) with: %r\" % (mean, stdev, param))"
      ],
      "metadata": {
        "colab": {
          "base_uri": "https://localhost:8080/"
        },
        "id": "rKpt9fPBESt7",
        "outputId": "3a20bf96-2210-4794-928b-62b656558bd2"
      },
      "execution_count": null,
      "outputs": [
        {
          "output_type": "stream",
          "name": "stdout",
          "text": [
            "Best: 0.823008 using {'opt': 'Adam'}\n",
            "0.800492 (0.032956) with: {'opt': 'SGD'}\n",
            "0.821600 (0.020446) with: {'opt': 'RMSprop'}\n",
            "0.257008 (0.025227) with: {'opt': 'Adagrad'}\n",
            "0.254171 (0.035641) with: {'opt': 'Adadelta'}\n",
            "0.823008 (0.021270) with: {'opt': 'Adam'}\n",
            "0.823008 (0.021270) with: {'opt': 'Nadam'}\n"
          ]
        }
      ]
    },
    {
      "cell_type": "markdown",
      "source": [
        "### 3.2.3. Hidden neurons"
      ],
      "metadata": {
        "id": "YMxcOu7lp6WQ"
      }
    },
    {
      "cell_type": "code",
      "source": [
        "seed(42)\n",
        "set_seed(42)\n",
        "\n",
        "# create model\n",
        "model = KerasClassifier(build_fn=create_model, \n",
        "                        epochs=50, batch_size=32, verbose=0)\n",
        "\n",
        "# define the grid search parameters\n",
        "layers = [[8],[10],[10,5],[12,6],[12,8,4]]\n",
        "param_grid = dict(lyrs=layers)\n",
        "\n",
        "# search the grid\n",
        "grid = GridSearchCV(estimator=model, param_grid=param_grid, verbose=2)\n",
        "grid_result = grid.fit(X_train, y_train)"
      ],
      "metadata": {
        "colab": {
          "base_uri": "https://localhost:8080/"
        },
        "id": "8YVFt_irp7D0",
        "outputId": "cd634c28-7f6f-47bb-beff-e9fdf03e9128"
      },
      "execution_count": null,
      "outputs": [
        {
          "output_type": "stream",
          "name": "stdout",
          "text": [
            "Fitting 5 folds for each of 5 candidates, totalling 25 fits\n"
          ]
        },
        {
          "output_type": "stream",
          "name": "stderr",
          "text": [
            "<ipython-input-141-870744a6114d>:5: DeprecationWarning: KerasClassifier is deprecated, use Sci-Keras (https://github.com/adriangb/scikeras) instead. See https://www.adriangb.com/scikeras/stable/migration.html for help migrating.\n",
            "  model = KerasClassifier(build_fn=create_model,\n"
          ]
        },
        {
          "output_type": "stream",
          "name": "stdout",
          "text": [
            "[CV] END ...........................................lyrs=[8]; total time=   3.3s\n",
            "[CV] END ...........................................lyrs=[8]; total time=   2.0s\n",
            "[CV] END ...........................................lyrs=[8]; total time=   2.0s\n",
            "[CV] END ...........................................lyrs=[8]; total time=   2.0s\n",
            "[CV] END ...........................................lyrs=[8]; total time=   2.0s\n",
            "[CV] END ..........................................lyrs=[10]; total time=   1.9s\n",
            "[CV] END ..........................................lyrs=[10]; total time=   2.0s\n",
            "[CV] END ..........................................lyrs=[10]; total time=   2.4s\n",
            "[CV] END ..........................................lyrs=[10]; total time=   2.0s\n",
            "[CV] END ..........................................lyrs=[10]; total time=   2.0s\n",
            "[CV] END .......................................lyrs=[10, 5]; total time=   2.1s\n",
            "[CV] END .......................................lyrs=[10, 5]; total time=   3.3s\n",
            "[CV] END .......................................lyrs=[10, 5]; total time=   3.3s\n",
            "[CV] END .......................................lyrs=[10, 5]; total time=   3.3s\n",
            "[CV] END .......................................lyrs=[10, 5]; total time=   3.3s\n",
            "[CV] END .......................................lyrs=[12, 6]; total time=   2.1s\n",
            "[CV] END .......................................lyrs=[12, 6]; total time=   2.1s\n",
            "[CV] END .......................................lyrs=[12, 6]; total time=   3.3s\n",
            "[CV] END .......................................lyrs=[12, 6]; total time=   3.3s\n",
            "[CV] END .......................................lyrs=[12, 6]; total time=   2.1s\n",
            "[CV] END ....................................lyrs=[12, 8, 4]; total time=   2.1s\n",
            "[CV] END ....................................lyrs=[12, 8, 4]; total time=   3.8s\n",
            "[CV] END ....................................lyrs=[12, 8, 4]; total time=   3.4s\n",
            "[CV] END ....................................lyrs=[12, 8, 4]; total time=   2.2s\n",
            "[CV] END ....................................lyrs=[12, 8, 4]; total time=   2.2s\n"
          ]
        }
      ]
    },
    {
      "cell_type": "code",
      "source": [
        "# summarize results\n",
        "print(\"Best: %f using %s\" % (grid_result.best_score_, grid_result.best_params_))\n",
        "means = grid_result.cv_results_['mean_test_score']\n",
        "stds = grid_result.cv_results_['std_test_score']\n",
        "params = grid_result.cv_results_['params']\n",
        "for mean, stdev, param in zip(means, stds, params):\n",
        "    print(\"%f (%f) with: %r\" % (mean, stdev, param))"
      ],
      "metadata": {
        "colab": {
          "base_uri": "https://localhost:8080/"
        },
        "id": "bsV9KMk4p-Wb",
        "outputId": "8ba2d9c7-d4ce-4312-8213-0aeef27eef44"
      },
      "execution_count": null,
      "outputs": [
        {
          "output_type": "stream",
          "name": "stdout",
          "text": [
            "Best: 0.831449 using {'lyrs': [12, 8, 4]}\n",
            "0.823008 (0.021270) with: {'lyrs': [8]}\n",
            "0.830031 (0.017697) with: {'lyrs': [10]}\n",
            "0.831439 (0.019579) with: {'lyrs': [10, 5]}\n",
            "0.831439 (0.019579) with: {'lyrs': [12, 6]}\n",
            "0.831449 (0.017335) with: {'lyrs': [12, 8, 4]}\n"
          ]
        }
      ]
    },
    {
      "cell_type": "markdown",
      "source": [
        "### 3.2.4. Dropout"
      ],
      "metadata": {
        "id": "tqUWxJ6nqAnB"
      }
    },
    {
      "cell_type": "code",
      "source": [
        "# create model\n",
        "model = KerasClassifier(build_fn=create_model, \n",
        "                        epochs=50, batch_size=32, verbose=0)\n",
        "\n",
        "# define the grid search parameters\n",
        "drops = [0.0, 0.01, 0.05, 0.1, 0.2, 0.5]\n",
        "param_grid = dict(dr=drops)\n",
        "grid = GridSearchCV(estimator=model, param_grid=param_grid, verbose=2)\n",
        "grid_result = grid.fit(X_train, y_train)"
      ],
      "metadata": {
        "colab": {
          "base_uri": "https://localhost:8080/"
        },
        "id": "xK2MSRpPqC7I",
        "outputId": "4acc3d88-fdb1-4106-a114-322f64b98529"
      },
      "execution_count": null,
      "outputs": [
        {
          "output_type": "stream",
          "name": "stdout",
          "text": [
            "Fitting 5 folds for each of 6 candidates, totalling 30 fits\n"
          ]
        },
        {
          "output_type": "stream",
          "name": "stderr",
          "text": [
            "<ipython-input-143-77855fcf2344>:2: DeprecationWarning: KerasClassifier is deprecated, use Sci-Keras (https://github.com/adriangb/scikeras) instead. See https://www.adriangb.com/scikeras/stable/migration.html for help migrating.\n",
            "  model = KerasClassifier(build_fn=create_model,\n"
          ]
        },
        {
          "output_type": "stream",
          "name": "stdout",
          "text": [
            "[CV] END .............................................dr=0.0; total time=   3.3s\n",
            "[CV] END .............................................dr=0.0; total time=   3.3s\n",
            "[CV] END .............................................dr=0.0; total time=   3.3s\n",
            "[CV] END .............................................dr=0.0; total time=   3.3s\n",
            "[CV] END .............................................dr=0.0; total time=   2.0s\n",
            "[CV] END ............................................dr=0.01; total time=   3.3s\n",
            "[CV] END ............................................dr=0.01; total time=   3.3s\n",
            "[CV] END ............................................dr=0.01; total time=   3.3s\n",
            "[CV] END ............................................dr=0.01; total time=   2.0s\n",
            "[CV] END ............................................dr=0.01; total time=   2.4s\n",
            "[CV] END ............................................dr=0.05; total time=   2.0s\n",
            "[CV] END ............................................dr=0.05; total time=   3.3s\n",
            "[CV] END ............................................dr=0.05; total time=   3.3s\n",
            "[CV] END ............................................dr=0.05; total time=   2.0s\n",
            "[CV] END ............................................dr=0.05; total time=   2.0s\n",
            "[CV] END .............................................dr=0.1; total time=   2.0s\n",
            "[CV] END .............................................dr=0.1; total time=   2.0s\n",
            "[CV] END .............................................dr=0.1; total time=   3.3s\n",
            "[CV] END .............................................dr=0.1; total time=   3.4s\n",
            "[CV] END .............................................dr=0.1; total time=   3.5s\n",
            "[CV] END .............................................dr=0.2; total time=   2.0s\n",
            "[CV] END .............................................dr=0.2; total time=   2.0s\n",
            "[CV] END .............................................dr=0.2; total time=   2.0s\n",
            "[CV] END .............................................dr=0.2; total time=   3.7s\n",
            "[CV] END .............................................dr=0.2; total time=   2.1s\n",
            "[CV] END .............................................dr=0.5; total time=   2.0s\n",
            "[CV] END .............................................dr=0.5; total time=   2.0s\n",
            "[CV] END .............................................dr=0.5; total time=   2.0s\n",
            "[CV] END .............................................dr=0.5; total time=   3.3s\n",
            "[CV] END .............................................dr=0.5; total time=   2.0s\n"
          ]
        }
      ]
    },
    {
      "cell_type": "code",
      "source": [
        "# summarize results\n",
        "print(\"Best: %f using %s\" % (grid_result.best_score_, grid_result.best_params_))\n",
        "means = grid_result.cv_results_['mean_test_score']\n",
        "stds = grid_result.cv_results_['std_test_score']\n",
        "params = grid_result.cv_results_['params']\n",
        "for mean, stdev, param in zip(means, stds, params):\n",
        "    print(\"%f (%f) with: %r\" % (mean, stdev, param))"
      ],
      "metadata": {
        "colab": {
          "base_uri": "https://localhost:8080/"
        },
        "id": "hI_cpHoLqE2S",
        "outputId": "59942226-55ff-445d-af01-ce6f27259043"
      },
      "execution_count": null,
      "outputs": [
        {
          "output_type": "stream",
          "name": "stdout",
          "text": [
            "Best: 0.825825 using {'dr': 0.1}\n",
            "0.823008 (0.021270) with: {'dr': 0.0}\n",
            "0.824416 (0.018546) with: {'dr': 0.01}\n",
            "0.824416 (0.018546) with: {'dr': 0.05}\n",
            "0.825825 (0.019246) with: {'dr': 0.1}\n",
            "0.825825 (0.019246) with: {'dr': 0.2}\n",
            "0.824426 (0.028554) with: {'dr': 0.5}\n"
          ]
        }
      ]
    },
    {
      "cell_type": "code",
      "source": [
        "# create final model\n",
        "model = create_model(lyrs=[8], dr=0.2)\n",
        "\n",
        "print(model.summary())"
      ],
      "metadata": {
        "colab": {
          "base_uri": "https://localhost:8080/"
        },
        "id": "8-qBvKahqGio",
        "outputId": "652ec4c0-c9d4-4fe6-c1af-cc67ce3769ce"
      },
      "execution_count": null,
      "outputs": [
        {
          "output_type": "stream",
          "name": "stdout",
          "text": [
            "Model: \"sequential_229\"\n",
            "_________________________________________________________________\n",
            " Layer (type)                Output Shape              Param #   \n",
            "=================================================================\n",
            " dense_502 (Dense)           (None, 8)                 136       \n",
            "                                                                 \n",
            " dropout_229 (Dropout)       (None, 8)                 0         \n",
            "                                                                 \n",
            " dense_503 (Dense)           (None, 1)                 9         \n",
            "                                                                 \n",
            "=================================================================\n",
            "Total params: 145\n",
            "Trainable params: 145\n",
            "Non-trainable params: 0\n",
            "_________________________________________________________________\n",
            "None\n"
          ]
        }
      ]
    },
    {
      "cell_type": "code",
      "source": [
        "# train model on full train set, with 80/20 CV split\n",
        "training = model.fit(X_train, y_train, epochs=50, batch_size=32, \n",
        "                     validation_split=0.2, verbose=0)\n",
        "\n",
        "# evaluate the model\n",
        "scores = model.evaluate(X_train, y_train)\n",
        "print(\"\\n%s: %.2f%%\" % (model.metrics_names[1], scores[1]*100))"
      ],
      "metadata": {
        "colab": {
          "base_uri": "https://localhost:8080/"
        },
        "id": "bXLHWnFzqIdn",
        "outputId": "e8e8a345-4817-4416-a73e-6618caded2ec"
      },
      "execution_count": null,
      "outputs": [
        {
          "output_type": "stream",
          "name": "stdout",
          "text": [
            "23/23 [==============================] - 0s 1ms/step - loss: 0.4196 - accuracy: 0.8272\n",
            "\n",
            "accuracy: 82.72%\n"
          ]
        }
      ]
    },
    {
      "cell_type": "code",
      "source": [
        "# summarize history for accuracy\n",
        "plt.plot(training.history['accuracy'])\n",
        "plt.plot(training.history['val_accuracy'])\n",
        "plt.title('model accuracy')\n",
        "plt.ylabel('accuracy')\n",
        "plt.xlabel('epoch')\n",
        "plt.legend(['train', 'validation'], loc='upper left')\n",
        "plt.show()"
      ],
      "metadata": {
        "colab": {
          "base_uri": "https://localhost:8080/"
        },
        "id": "3XjT7P1bqKQY",
        "outputId": "259dd810-4909-433a-c2a0-0b16a93f1c2f"
      },
      "execution_count": null,
      "outputs": [
        {
          "output_type": "display_data",
          "data": {
            "text/plain": [
              "<Figure size 1080x720 with 1 Axes>"
            ],
            "image/png": "[encoded data removed]"
          },
          "metadata": {}
        }
      ]
    },
    {
      "cell_type": "markdown",
      "source": [
        "## 3.3. Make Predictions on Test Set\n",
        "[Back to Top](#scrollTo=3jq6wLfnS5_o)\n",
        "\n",
        "Finally, we can attempt to predict which passengers in the test set survived."
      ],
      "metadata": {
        "id": "kN6l8ZFaqNAm"
      }
    },
    {
      "cell_type": "code",
      "source": [
        "# calculate predictions\n",
        "unlabeled['Survived'] = model.predict(X_unlabeled)\n",
        "unlabeled['Survived'] = unlabeled['Survived'].apply(lambda x: round(x,0)).astype('int')\n",
        "solution = unlabeled[['PassengerId', 'Survived']]"
      ],
      "metadata": {
        "colab": {
          "base_uri": "https://localhost:8080/"
        },
        "id": "y5xujiv9qPN1",
        "outputId": "b1825941-bb2f-41bc-f4cd-74cea202f5c3"
      },
      "execution_count": null,
      "outputs": [
        {
          "output_type": "stream",
          "name": "stdout",
          "text": [
            "14/14 [==============================] - 0s 2ms/step\n"
          ]
        }
      ]
    },
    {
      "cell_type": "code",
      "source": [
        "solution.head(10)"
      ],
      "metadata": {
        "colab": {
          "base_uri": "https://localhost:8080/"
        },
        "id": "WcMOM5VXqQxp",
        "outputId": "99190a59-9aab-4653-8164-3eff2c2fe057"
      },
      "execution_count": null,
      "outputs": [
        {
          "output_type": "execute_result",
          "data": {
            "text/plain": [
              "   PassengerId  Survived\n",
              "0          892         0\n",
              "1          893         1\n",
              "2          894         0\n",
              "3          895         0\n",
              "4          896         1\n",
              "5          897         0\n",
              "6          898         1\n",
              "7          899         0\n",
              "8          900         1\n",
              "9          901         0"
            ],
            "text/html": [
              "\n",
              "  <div id=\"df-a8259584-236b-4593-9f5e-939293ab92a8\">\n",
              "    <div class=\"colab-df-container\">\n",
              "      <div>\n",
              "<style scoped>\n",
              "    .dataframe tbody tr th:only-of-type {\n",
              "        vertical-align: middle;\n",
              "    }\n",
              "\n",
              "    .dataframe tbody tr th {\n",
              "        vertical-align: top;\n",
              "    }\n",
              "\n",
              "    .dataframe thead th {\n",
              "        text-align: right;\n",
              "    }\n",
              "</style>\n",
              "<table border=\"1\" class=\"dataframe\">\n",
              "  <thead>\n",
              "    <tr style=\"text-align: right;\">\n",
              "      <th></th>\n",
              "      <th>PassengerId</th>\n",
              "      <th>Survived</th>\n",
              "    </tr>\n",
              "  </thead>\n",
              "  <tbody>\n",
              "    <tr>\n",
              "      <th>0</th>\n",
              "      <td>892</td>\n",
              "      <td>0</td>\n",
              "    </tr>\n",
              "    <tr>\n",
              "      <th>1</th>\n",
              "      <td>893</td>\n",
              "      <td>1</td>\n",
              "    </tr>\n",
              "    <tr>\n",
              "      <th>2</th>\n",
              "      <td>894</td>\n",
              "      <td>0</td>\n",
              "    </tr>\n",
              "    <tr>\n",
              "      <th>3</th>\n",
              "      <td>895</td>\n",
              "      <td>0</td>\n",
              "    </tr>\n",
              "    <tr>\n",
              "      <th>4</th>\n",
              "      <td>896</td>\n",
              "      <td>1</td>\n",
              "    </tr>\n",
              "    <tr>\n",
              "      <th>5</th>\n",
              "      <td>897</td>\n",
              "      <td>0</td>\n",
              "    </tr>\n",
              "    <tr>\n",
              "      <th>6</th>\n",
              "      <td>898</td>\n",
              "      <td>1</td>\n",
              "    </tr>\n",
              "    <tr>\n",
              "      <th>7</th>\n",
              "      <td>899</td>\n",
              "      <td>0</td>\n",
              "    </tr>\n",
              "    <tr>\n",
              "      <th>8</th>\n",
              "      <td>900</td>\n",
              "      <td>1</td>\n",
              "    </tr>\n",
              "    <tr>\n",
              "      <th>9</th>\n",
              "      <td>901</td>\n",
              "      <td>0</td>\n",
              "    </tr>\n",
              "  </tbody>\n",
              "</table>\n",
              "</div>\n",
              "      <button class=\"colab-df-convert\" onclick=\"convertToInteractive('df-a8259584-236b-4593-9f5e-939293ab92a8')\"\n",
              "              title=\"Convert this dataframe to an interactive table.\"\n",
              "              style=\"display:none;\">\n",
              "        \n",
              "  <svg xmlns=\"http://www.w3.org/2000/svg\" height=\"24px\"viewBox=\"0 0 24 24\"\n",
              "       width=\"24px\">\n",
              "    <path d=\"M0 0h24v24H0V0z\" fill=\"none\"/>\n",
              "    <path d=\"M18.56 5.44l.94 2.06.94-2.06 2.06-.94-2.06-.94-.94-2.06-.94 2.06-2.06.94zm-11 1L8.5 8.5l.94-2.06 2.06-.94-2.06-.94L8.5 2.5l-.94 2.06-2.06.94zm10 10l.94 2.06.94-2.06 2.06-.94-2.06-.94-.94-2.06-.94 2.06-2.06.94z\"/><path d=\"M17.41 7.96l-1.37-1.37c-.4-.4-.92-.59-1.43-.59-.52 0-1.04.2-1.43.59L10.3 9.45l-7.72 7.72c-.78.78-.78 2.05 0 2.83L4 21.41c.39.39.9.59 1.41.59.51 0 1.02-.2 1.41-.59l7.78-7.78 2.81-2.81c.8-.78.8-2.07 0-2.86zM5.41 20L4 18.59l7.72-7.72 1.47 1.35L5.41 20z\"/>\n",
              "  </svg>\n",
              "      </button>\n",
              "      \n",
              "  <style>\n",
              "    .colab-df-container {\n",
              "      display:flex;\n",
              "      flex-wrap:wrap;\n",
              "      gap: 12px;\n",
              "    }\n",
              "\n",
              "    .colab-df-convert {\n",
              "      background-color: #E8F0FE;\n",
              "      border: none;\n",
              "      border-radius: 50%;\n",
              "      cursor: pointer;\n",
              "      display: none;\n",
              "      fill: #1967D2;\n",
              "      height: 32px;\n",
              "      padding: 0 0 0 0;\n",
              "      width: 32px;\n",
              "    }\n",
              "\n",
              "    .colab-df-convert:hover {\n",
              "      background-color: #E2EBFA;\n",
              "      box-shadow: 0px 1px 2px rgba(60, 64, 67, 0.3), 0px 1px 3px 1px rgba(60, 64, 67, 0.15);\n",
              "      fill: #174EA6;\n",
              "    }\n",
              "\n",
              "    [theme=dark] .colab-df-convert {\n",
              "      background-color: #3B4455;\n",
              "      fill: #D2E3FC;\n",
              "    }\n",
              "\n",
              "    [theme=dark] .colab-df-convert:hover {\n",
              "      background-color: #434B5C;\n",
              "      box-shadow: 0px 1px 3px 1px rgba(0, 0, 0, 0.15);\n",
              "      filter: drop-shadow(0px 1px 2px rgba(0, 0, 0, 0.3));\n",
              "      fill: #FFFFFF;\n",
              "    }\n",
              "  </style>\n",
              "\n",
              "      <script>\n",
              "        const buttonEl =\n",
              "          document.querySelector('#df-a8259584-236b-4593-9f5e-939293ab92a8 button.colab-df-convert');\n",
              "        buttonEl.style.display =\n",
              "          google.colab.kernel.accessAllowed ? 'block' : 'none';\n",
              "\n",
              "        async function convertToInteractive(key) {\n",
              "          const element = document.querySelector('#df-a8259584-236b-4593-9f5e-939293ab92a8');\n",
              "          const dataTable =\n",
              "            await google.colab.kernel.invokeFunction('convertToInteractive',\n",
              "                                                     [key], {});\n",
              "          if (!dataTable) return;\n",
              "\n",
              "          const docLinkHtml = 'Like what you see? Visit the ' +\n",
              "            '<a target=\"_blank\" href=https://colab.research.google.com/notebooks/data_table.ipynb>data table notebook</a>'\n",
              "            + ' to learn more about interactive tables.';\n",
              "          element.innerHTML = '';\n",
              "          dataTable['output_type'] = 'display_data';\n",
              "          await google.colab.output.renderOutput(dataTable, element);\n",
              "          const docLink = document.createElement('div');\n",
              "          docLink.innerHTML = docLinkHtml;\n",
              "          element.appendChild(docLink);\n",
              "        }\n",
              "      </script>\n",
              "    </div>\n",
              "  </div>\n",
              "  "
            ]
          },
          "metadata": {},
          "execution_count": 149
        }
      ]
    },
    {
      "cell_type": "markdown",
      "source": [
        "## 3.4. Output Final Predictions\n",
        "\n",
        "[Back to Top](#scrollTo=3jq6wLfnS5_o)\n"
      ],
      "metadata": {
        "id": "4Qcj66VhqS8M"
      }
    },
    {
      "cell_type": "code",
      "source": [
        "solution.to_csv(\"../output/Neural_Network_Solution.csv\", index=False)"
      ],
      "metadata": {
        "id": "WnTj0p4OqVLD"
      },
      "execution_count": null,
      "outputs": []
    },
    {
      "cell_type": "markdown",
      "source": [
        "# Logistic Regression\n",
        "[Back to Top](#scrollTo=3jq6wLfnS5_o)"
      ],
      "metadata": {
        "id": "v2_iNytuyLp7"
      }
    },
    {
      "cell_type": "markdown",
      "source": [
        "Define the model:"
      ],
      "metadata": {
        "id": "lcLbCgvA3sWt"
      }
    },
    {
      "cell_type": "code",
      "source": [
        "\n",
        "lr = LogisticRegression(penalty='none', max_iter = 1000)"
      ],
      "metadata": {
        "id": "3Q7CX0jr-zPQ"
      },
      "execution_count": null,
      "outputs": []
    },
    {
      "cell_type": "markdown",
      "source": [
        "Fit the model:"
      ],
      "metadata": {
        "id": "6rfu4Wk53xIj"
      }
    },
    {
      "cell_type": "code",
      "source": [
        "seed(42)\n",
        "set_seed(42)\n",
        "lr.fit(X_train, y_train)"
      ],
      "metadata": {
        "colab": {
          "base_uri": "https://localhost:8080/"
        },
        "id": "ydMMkjF__EsH",
        "outputId": "69aaf6d5-6a72-43a4-bf89-07d0cba29728"
      },
      "execution_count": null,
      "outputs": [
        {
          "output_type": "execute_result",
          "data": {
            "text/plain": [
              "LogisticRegression(max_iter=1000, penalty='none')"
            ]
          },
          "metadata": {},
          "execution_count": 152
        }
      ]
    },
    {
      "cell_type": "markdown",
      "source": [
        "Test the fit:"
      ],
      "metadata": {
        "id": "Ff45-lrp35BL"
      }
    },
    {
      "cell_type": "code",
      "source": [
        "accuracy_score(y_test, lr.predict(X_test))"
      ],
      "metadata": {
        "colab": {
          "base_uri": "https://localhost:8080/"
        },
        "id": "YJink3nY_JDw",
        "outputId": "4ab6db72-5ede-41a5-e503-953989837379"
      },
      "execution_count": null,
      "outputs": [
        {
          "output_type": "execute_result",
          "data": {
            "text/plain": [
              "0.8100558659217877"
            ]
          },
          "metadata": {},
          "execution_count": 153
        }
      ]
    },
    {
      "cell_type": "markdown",
      "source": [
        "## Lasso"
      ],
      "metadata": {
        "id": "0HpdwY4g_RvR"
      }
    },
    {
      "cell_type": "code",
      "source": [
        "lasso = LogisticRegression(penalty='l1', C=1, solver='liblinear', max_iter = 1000)"
      ],
      "metadata": {
        "id": "zGAhBfdn_U2P"
      },
      "execution_count": null,
      "outputs": []
    },
    {
      "cell_type": "code",
      "source": [
        "seed(42)\n",
        "set_seed(42)\n",
        "lasso.fit(X_train, y_train)"
      ],
      "metadata": {
        "colab": {
          "base_uri": "https://localhost:8080/"
        },
        "outputId": "574837a5-c53d-4290-c311-374b247fcdf5",
        "id": "td1lMWOl_lLq"
      },
      "execution_count": null,
      "outputs": [
        {
          "output_type": "execute_result",
          "data": {
            "text/plain": [
              "LogisticRegression(C=1, max_iter=1000, penalty='l1', solver='liblinear')"
            ]
          },
          "metadata": {},
          "execution_count": 155
        }
      ]
    },
    {
      "cell_type": "code",
      "source": [
        "accuracy_score(y_test, lasso.predict(X_test))"
      ],
      "metadata": {
        "colab": {
          "base_uri": "https://localhost:8080/"
        },
        "outputId": "e9c3ff7e-ae0a-404b-b2f0-854f4a81f76b",
        "id": "J4vezoF9_lLr"
      },
      "execution_count": null,
      "outputs": [
        {
          "output_type": "execute_result",
          "data": {
            "text/plain": [
              "0.8212290502793296"
            ]
          },
          "metadata": {},
          "execution_count": 156
        }
      ]
    },
    {
      "cell_type": "markdown",
      "source": [
        "## Ridge"
      ],
      "metadata": {
        "id": "8IRP1aGt_TR-"
      }
    },
    {
      "cell_type": "code",
      "source": [
        "ridge = LogisticRegression(penalty='l2', C=1, solver='liblinear', max_iter = 1000)"
      ],
      "metadata": {
        "id": "qJjmqddx_aHA"
      },
      "execution_count": null,
      "outputs": []
    },
    {
      "cell_type": "code",
      "source": [
        "seed(42)\n",
        "set_seed(42)\n",
        "ridge.fit(X_train, y_train)"
      ],
      "metadata": {
        "colab": {
          "base_uri": "https://localhost:8080/"
        },
        "outputId": "4a67de1c-c52d-46a3-9295-032b1b70ce3f",
        "id": "gOs2Q_4n_l8i"
      },
      "execution_count": null,
      "outputs": [
        {
          "output_type": "execute_result",
          "data": {
            "text/plain": [
              "LogisticRegression(C=1, max_iter=1000, solver='liblinear')"
            ]
          },
          "metadata": {},
          "execution_count": 158
        }
      ]
    },
    {
      "cell_type": "code",
      "source": [
        "accuracy_score(y_test, ridge.predict(X_test))"
      ],
      "metadata": {
        "colab": {
          "base_uri": "https://localhost:8080/"
        },
        "outputId": "2427384d-d11f-4c37-89ba-33dde644c178",
        "id": "6TXJSzxE_l8j"
      },
      "execution_count": null,
      "outputs": [
        {
          "output_type": "execute_result",
          "data": {
            "text/plain": [
              "0.8156424581005587"
            ]
          },
          "metadata": {},
          "execution_count": 159
        }
      ]
    },
    {
      "cell_type": "markdown",
      "source": [
        "# Random Forrest\n",
        "[Back to Top](#scrollTo=3jq6wLfnS5_o)"
      ],
      "metadata": {
        "id": "yIwgxa3pyQXn"
      }
    },
    {
      "cell_type": "code",
      "source": [
        "rf = RandomForestClassifier(random_state=42)"
      ],
      "metadata": {
        "id": "8E5avVfezocC"
      },
      "execution_count": null,
      "outputs": []
    },
    {
      "cell_type": "code",
      "source": [
        "rf.fit(X_train, y_train)"
      ],
      "metadata": {
        "colab": {
          "base_uri": "https://localhost:8080/"
        },
        "id": "FCYBc7wP3ut9",
        "outputId": "8406084c-518d-49d6-cbbb-fdb5de9f3d2f"
      },
      "execution_count": null,
      "outputs": [
        {
          "output_type": "execute_result",
          "data": {
            "text/plain": [
              "RandomForestClassifier(random_state=42)"
            ]
          },
          "metadata": {},
          "execution_count": 161
        }
      ]
    },
    {
      "cell_type": "code",
      "source": [
        "accuracy_score(y_test, rf.predict(X_test))"
      ],
      "metadata": {
        "colab": {
          "base_uri": "https://localhost:8080/"
        },
        "id": "25kcRd8637nK",
        "outputId": "0eb71f6d-0755-41f6-891f-aa81c12a4e30"
      },
      "execution_count": null,
      "outputs": [
        {
          "output_type": "execute_result",
          "data": {
            "text/plain": [
              "0.8379888268156425"
            ]
          },
          "metadata": {},
          "execution_count": 162
        }
      ]
    },
    {
      "cell_type": "markdown",
      "source": [
        "# SVCs\n",
        "[Back to Top](#scrollTo=3jq6wLfnS5_o)"
      ],
      "metadata": {
        "id": "m8j517wzyVIH"
      }
    },
    {
      "cell_type": "markdown",
      "source": [
        "## Linear SVC"
      ],
      "metadata": {
        "id": "-maaZzPJA5iL"
      }
    },
    {
      "cell_type": "code",
      "source": [
        "svc_lin = SVC(kernel='linear')"
      ],
      "metadata": {
        "id": "3sTvjA3ozppq"
      },
      "execution_count": null,
      "outputs": []
    },
    {
      "cell_type": "code",
      "source": [
        "seed(42)\n",
        "set_seed(42)\n",
        "svc_lin.fit(X_train, y_train)"
      ],
      "metadata": {
        "colab": {
          "base_uri": "https://localhost:8080/"
        },
        "outputId": "69913a38-b63a-4e57-babc-87695eaea08b",
        "id": "GPtkCHJUAKTw"
      },
      "execution_count": null,
      "outputs": [
        {
          "output_type": "execute_result",
          "data": {
            "text/plain": [
              "SVC(kernel='linear')"
            ]
          },
          "metadata": {},
          "execution_count": 164
        }
      ]
    },
    {
      "cell_type": "code",
      "source": [
        "accuracy_score(y_test, svc_lin.predict(X_test))"
      ],
      "metadata": {
        "colab": {
          "base_uri": "https://localhost:8080/"
        },
        "outputId": "a2e301df-d132-4e1c-862b-0db842decc22",
        "id": "Z8Fqs8sPAKTx"
      },
      "execution_count": null,
      "outputs": [
        {
          "output_type": "execute_result",
          "data": {
            "text/plain": [
              "0.8212290502793296"
            ]
          },
          "metadata": {},
          "execution_count": 165
        }
      ]
    },
    {
      "cell_type": "markdown",
      "source": [
        "## Polynomial SVC"
      ],
      "metadata": {
        "id": "b8XLFSRaA9W0"
      }
    },
    {
      "cell_type": "code",
      "source": [
        "svc_pol = SVC(kernel='poly', degree=4)"
      ],
      "metadata": {
        "id": "PCtSGyTzBGnO"
      },
      "execution_count": null,
      "outputs": []
    },
    {
      "cell_type": "code",
      "source": [
        "seed(42)\n",
        "set_seed(42)\n",
        "svc_pol.fit(X_train, y_train)"
      ],
      "metadata": {
        "colab": {
          "base_uri": "https://localhost:8080/"
        },
        "outputId": "5d85f93c-3e7e-4da4-e9fe-2718500dcfe3",
        "id": "o1Ld0fL0BLlv"
      },
      "execution_count": null,
      "outputs": [
        {
          "output_type": "execute_result",
          "data": {
            "text/plain": [
              "SVC(degree=4, kernel='poly')"
            ]
          },
          "metadata": {},
          "execution_count": 167
        }
      ]
    },
    {
      "cell_type": "code",
      "source": [
        "accuracy_score(y_test, svc_pol.predict(X_test))"
      ],
      "metadata": {
        "colab": {
          "base_uri": "https://localhost:8080/"
        },
        "outputId": "e6adf198-1ea6-47ef-bd48-04fe07337ad7",
        "id": "ElYmCUA6BLlv"
      },
      "execution_count": null,
      "outputs": [
        {
          "output_type": "execute_result",
          "data": {
            "text/plain": [
              "0.8100558659217877"
            ]
          },
          "metadata": {},
          "execution_count": 168
        }
      ]
    },
    {
      "cell_type": "markdown",
      "source": [
        "## RBF SVC"
      ],
      "metadata": {
        "id": "rvjgF7tNBeQp"
      }
    },
    {
      "cell_type": "code",
      "source": [
        "svc_rbf = SVC(kernel='rbf')"
      ],
      "metadata": {
        "id": "S7Vf0DImBeQq"
      },
      "execution_count": null,
      "outputs": []
    },
    {
      "cell_type": "code",
      "source": [
        "seed(42)\n",
        "set_seed(42)\n",
        "svc_rbf.fit(X_train, y_train)"
      ],
      "metadata": {
        "colab": {
          "base_uri": "https://localhost:8080/"
        },
        "outputId": "bc7911ae-4a78-4a54-9e9c-884249054fea",
        "id": "9OLHNL5aBeQq"
      },
      "execution_count": null,
      "outputs": [
        {
          "output_type": "execute_result",
          "data": {
            "text/plain": [
              "SVC()"
            ]
          },
          "metadata": {},
          "execution_count": 170
        }
      ]
    },
    {
      "cell_type": "code",
      "source": [
        "accuracy_score(y_test, svc_rbf.predict(X_test))"
      ],
      "metadata": {
        "colab": {
          "base_uri": "https://localhost:8080/"
        },
        "outputId": "0359b425-e6f6-407b-82c1-cc372e1aed1e",
        "id": "UlMopGQuBeQq"
      },
      "execution_count": null,
      "outputs": [
        {
          "output_type": "execute_result",
          "data": {
            "text/plain": [
              "0.8268156424581006"
            ]
          },
          "metadata": {},
          "execution_count": 171
        }
      ]
    },
    {
      "cell_type": "markdown",
      "source": [
        "## Sigmoid SVC"
      ],
      "metadata": {
        "id": "yNeXyFmpB4yv"
      }
    },
    {
      "cell_type": "code",
      "source": [
        "svc_sig = SVC(kernel='sigmoid')"
      ],
      "metadata": {
        "id": "u0P9lbQOB4yv"
      },
      "execution_count": null,
      "outputs": []
    },
    {
      "cell_type": "code",
      "source": [
        "seed(42)\n",
        "set_seed(42)\n",
        "svc_sig.fit(X_train, y_train)"
      ],
      "metadata": {
        "colab": {
          "base_uri": "https://localhost:8080/"
        },
        "outputId": "ca963a75-a742-4a42-d77a-074169338e60",
        "id": "7Zj-QwmgB4yv"
      },
      "execution_count": null,
      "outputs": [
        {
          "output_type": "execute_result",
          "data": {
            "text/plain": [
              "SVC(kernel='sigmoid')"
            ]
          },
          "metadata": {},
          "execution_count": 173
        }
      ]
    },
    {
      "cell_type": "code",
      "source": [
        "accuracy_score(y_test, svc_sig.predict(X_test))"
      ],
      "metadata": {
        "colab": {
          "base_uri": "https://localhost:8080/"
        },
        "outputId": "f7cf31e7-b14a-4622-fdda-86b8c77d302f",
        "id": "SgpCb3BhB4yw"
      },
      "execution_count": null,
      "outputs": [
        {
          "output_type": "execute_result",
          "data": {
            "text/plain": [
              "0.8044692737430168"
            ]
          },
          "metadata": {},
          "execution_count": 174
        }
      ]
    },
    {
      "cell_type": "markdown",
      "source": [
        "# Naive Bayes"
      ],
      "metadata": {
        "id": "NOKpMzIVCDmL"
      }
    },
    {
      "cell_type": "code",
      "source": [
        "nb = GaussianNB()"
      ],
      "metadata": {
        "id": "faRSeM0rCJS8"
      },
      "execution_count": null,
      "outputs": []
    },
    {
      "cell_type": "code",
      "source": [
        "seed(42)\n",
        "set_seed(42)\n",
        "nb.fit(X_train, y_train)"
      ],
      "metadata": {
        "colab": {
          "base_uri": "https://localhost:8080/"
        },
        "outputId": "a80ac3ea-e0b8-4613-ee1c-e8d957d1a8ac",
        "id": "u1fmRfgNCKxI"
      },
      "execution_count": null,
      "outputs": [
        {
          "output_type": "execute_result",
          "data": {
            "text/plain": [
              "GaussianNB()"
            ]
          },
          "metadata": {},
          "execution_count": 176
        }
      ]
    },
    {
      "cell_type": "code",
      "source": [
        "accuracy_score(y_test, nb.predict(X_test))"
      ],
      "metadata": {
        "colab": {
          "base_uri": "https://localhost:8080/"
        },
        "outputId": "52dba8ff-7183-47ae-967d-fd0861ebbe59",
        "id": "WlbdsULkCKxI"
      },
      "execution_count": null,
      "outputs": [
        {
          "output_type": "execute_result",
          "data": {
            "text/plain": [
              "0.44692737430167595"
            ]
          },
          "metadata": {},
          "execution_count": 177
        }
      ]
    }
  ]
}