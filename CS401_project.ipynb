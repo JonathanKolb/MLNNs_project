{
  "nbformat": 4,
  "nbformat_minor": 0,
  "metadata": {
    "colab": {
      "provenance": [],
      "collapsed_sections": [
        "zvZPfSHoT3cb",
        "IRmsoNRG7FqN",
        "7C3fRFRhUILg",
        "l6lToqRJUK5P",
        "_fXOR-f0URU7",
        "g0Yxs278UV08",
        "E38PCCVlaCaR",
        "uFWvLEdJ7OtV",
        "CSF1lAaqEPAq",
        "YMxcOu7lp6WQ",
        "tqUWxJ6nqAnB",
        "kN6l8ZFaqNAm",
        "4Qcj66VhqS8M",
        "0HpdwY4g_RvR",
        "8IRP1aGt_TR-",
        "NOKpMzIVCDmL"
      ],
      "toc_visible": true,
      "authorship_tag": "ABX9TyNz4hmcSaENjdUG1Eec3VaI",
      "include_colab_link": true
    },
    "kernelspec": {
      "name": "python3",
      "display_name": "Python 3"
    },
    "language_info": {
      "name": "python"
    }
  },
  "cells": [
    {
      "cell_type": "markdown",
      "metadata": {
        "id": "view-in-github",
        "colab_type": "text"
      },
      "source": [
        "<a href=\"https://colab.research.google.com/github/JonathanKolb/MLNNs_project/blob/fluffy-unicorns/CS401_project.ipynb\" target=\"_parent\"><img src=\"https://colab.research.google.com/assets/colab-badge.svg\" alt=\"Open In Colab\"/></a>"
      ]
    },
    {
      "cell_type": "markdown",
      "source": [
        "# Titanic challenge part 3\n",
        "In this notebook, we will be covering all of the steps required to train, tune and assess a neural network.\n",
        "\n",
        "**[Part 1](https://www.kaggle.com/jamesleslie/titanic-eda-wrangling-imputation)** of this series dealt with the pre-processing and manipulation of the data. This notebook will make use of the datasets that were created in the first part.\n",
        "\n",
        "We will do each of the following:\n",
        "- train and test a neural network model\n",
        "- use grid search to optimize the hyperparameters\n",
        "- submit predictions for the test set\n",
        "\n",
        "**[Part 2](https://www.kaggle.com/jamesleslie/titanic-random-forest-grid-search)** covered the use of a random forest for tackling this challenge. Now let's see if we can beat that model with a neural network!\n",
        "> NOTE: make sure to use a GPU for this notebook, as it will be significantly faster to train"
      ],
      "metadata": {
        "id": "3jq6wLfnS5_o"
      }
    },
    {
      "cell_type": "markdown",
      "source": [
        ">[Titanic challenge part 3](#scrollTo=3jq6wLfnS5_o)\n",
        "\n",
        ">[Load packages and data](#scrollTo=NbEufoDGTMqH)\n",
        "\n",
        ">[Pre-processing](#scrollTo=--MpK8w_TRoe)\n",
        "\n",
        ">>[2.1. Encode Categorical Variables](#scrollTo=dY_SXhKDziPH)\n",
        "\n",
        ">>[2.2. Scale Continuous Variables](#scrollTo=zvZPfSHoT3cb)\n",
        "\n",
        ">>[2.3. Train Test Split](#scrollTo=IRmsoNRG7FqN)\n",
        "\n",
        ">[Neural Network](#scrollTo=CGgKlm9SUDq0)\n",
        "\n",
        ">>[3.1. Cross-validation](#scrollTo=7C3fRFRhUILg)\n",
        "\n",
        ">>>[Create neural network model](#scrollTo=l6lToqRJUK5P)\n",
        "\n",
        ">>>[Train model](#scrollTo=_fXOR-f0URU7)\n",
        "\n",
        ">>>[Assess results](#scrollTo=g0Yxs278UV08)\n",
        "\n",
        ">>[3.2. Grid search](#scrollTo=E38PCCVlaCaR)\n",
        "\n",
        ">>>[3.2.1. batch size and epochs](#scrollTo=uFWvLEdJ7OtV)\n",
        "\n",
        ">>>[3.2.2. Optimization Algorithm](#scrollTo=CSF1lAaqEPAq)\n",
        "\n",
        ">>>[3.2.3. Hidden neurons](#scrollTo=YMxcOu7lp6WQ)\n",
        "\n",
        ">>>[3.2.4. Dropout](#scrollTo=tqUWxJ6nqAnB)\n",
        "\n",
        ">>[3.3. Make Predictions on Test Set](#scrollTo=kN6l8ZFaqNAm)\n",
        "\n",
        ">>[3.4. Output Final Predictions](#scrollTo=4Qcj66VhqS8M)\n",
        "\n",
        ">[Logistic Regression](#scrollTo=v2_iNytuyLp7)\n",
        "\n",
        ">>[Lasso](#scrollTo=0HpdwY4g_RvR)\n",
        "\n",
        ">>[Ridge](#scrollTo=8IRP1aGt_TR-)\n",
        "\n",
        ">[Random Forrest](#scrollTo=yIwgxa3pyQXn)\n",
        "\n",
        ">[SVCs](#scrollTo=m8j517wzyVIH)\n",
        "\n",
        ">>[Linear SVC](#scrollTo=-maaZzPJA5iL)\n",
        "\n",
        ">>[Polynomial SVC](#scrollTo=b8XLFSRaA9W0)\n",
        "\n",
        ">>[RBF SVC](#scrollTo=rvjgF7tNBeQp)\n",
        "\n",
        ">>[Sigmoid SVC](#scrollTo=yNeXyFmpB4yv)\n",
        "\n",
        ">[Naive Bayes](#scrollTo=NOKpMzIVCDmL)\n",
        "\n",
        ">[Ethnicity](#scrollTo=37h9gX_5iWXf)\n",
        "\n",
        ">>[Data Preparation - Adding the Hometown and Homecountry as Variables](#scrollTo=Ear8PW8KiixJ)\n",
        "\n",
        ">>>[Test the fuzzy name matching](#scrollTo=i0qco8PMgTbM)\n",
        "\n",
        ">>>[Apply fuzzy name matching to the original data](#scrollTo=SW7YuwOLgZ7p)\n",
        "\n",
        ">>>[Merge on the fuzzy names](#scrollTo=PjBzY78agfo4)\n",
        "\n",
        ">>>[Preparing the data frame for modelling](#scrollTo=amCDZJ3wmF-1)\n",
        "\n",
        ">>>>[Encode Categorical Variables](#scrollTo=BgSS4G4hm9k_)\n",
        "\n",
        ">>>>[Scale Continuous Variables](#scrollTo=s2IgHSVxm9k_)\n",
        "\n",
        ">>>>[Train Test Split](#scrollTo=AkiSN4JCm9lA)\n",
        "\n",
        ">>[Modelling](#scrollTo=2ypEfewpudbt)\n",
        "\n"
      ],
      "metadata": {
        "colab_type": "toc",
        "id": "-S1BZjU2uTI8"
      }
    },
    {
      "cell_type": "markdown",
      "source": [
        "<a id=\"loading\"></a>\n",
        "# 1. Load packages and data\n",
        "[Back to Top](#scrollTo=3jq6wLfnS5_o)"
      ],
      "metadata": {
        "id": "NbEufoDGTMqH"
      }
    },
    {
      "cell_type": "markdown",
      "source": [
        "Mount the Google Drive to the runtime so I can access files from there."
      ],
      "metadata": {
        "id": "HRzOOsL1I_FE"
      }
    },
    {
      "cell_type": "code",
      "execution_count": 1,
      "metadata": {
        "id": "tPGEVJ7KHiCv",
        "colab": {
          "base_uri": "https://localhost:8080/"
        },
        "outputId": "b29f3d1d-be73-4425-967c-b77a7685ee62"
      },
      "outputs": [
        {
          "output_type": "stream",
          "name": "stdout",
          "text": [
            "Mounted at /content/drive\n",
            "/content/drive/MyDrive/CS401/input\n",
            "/content/drive/MyDrive/CS401/input\n"
          ]
        }
      ],
      "source": [
        "from google.colab import drive\n",
        "drive.mount('/content/drive')\n",
        "%cd \"/content/drive/MyDrive/CS401/input\"\n",
        "!pwd"
      ]
    },
    {
      "cell_type": "code",
      "source": [
        "# general packages\n",
        "import numpy as np\n",
        "import pandas as pd\n",
        "import seaborn as sns\n",
        "import os\n",
        "\n",
        "# packages for plotting\n",
        "import matplotlib.pyplot as plt\n",
        "from matplotlib.pyplot import rcParams\n",
        "%matplotlib inline\n",
        "rcParams['figure.figsize'] = 10,8\n",
        "sns.set(style='whitegrid', palette='muted',\n",
        "        rc={'figure.figsize': (15,10)})\n",
        "\n",
        "# packages for modeling\n",
        "from sklearn.preprocessing import StandardScaler\n",
        "from sklearn.model_selection import train_test_split\n",
        "from sklearn.model_selection import GridSearchCV, cross_val_score\n",
        "from sklearn.metrics import accuracy_score, f1_score, precision_score, recall_score\n",
        "\n",
        "# packages for neural network\n",
        "from keras.wrappers.scikit_learn import KerasClassifier\n",
        "from keras.models import Sequential\n",
        "from keras.layers import Dense, Activation, Dropout\n",
        "\n",
        "# packages to set the random seed\n",
        "from numpy.random import seed\n",
        "from tensorflow.random import set_seed\n",
        "\n",
        "# packages for logistic regression\n",
        "from sklearn.linear_model import LogisticRegression\n",
        "\n",
        "# packages for random forest\n",
        "from sklearn.ensemble import RandomForestClassifier\n",
        "\n",
        "# package for Naive Bayes Classifier\n",
        "from sklearn.naive_bayes import GaussianNB\n",
        "\n",
        "# package for SVCs\n",
        "from sklearn.svm import SVC"
      ],
      "metadata": {
        "id": "k8qYhhkdO_b5"
      },
      "execution_count": 2,
      "outputs": []
    },
    {
      "cell_type": "code",
      "source": [
        "# Input data files are available in the \"../input/\" directory.\n",
        "# For example, running this (by clicking run or pressing Shift+Enter) will list the files in the input directory\n",
        "print(os.listdir(\"../input\"))\n",
        "print(os.listdir(\"../input/titanic_cleaned_data\"))"
      ],
      "metadata": {
        "colab": {
          "base_uri": "https://localhost:8080/"
        },
        "id": "8e-n02QtRrEV",
        "outputId": "769285bf-38cb-4684-c39e-c6dd3ee1dc80"
      },
      "execution_count": 3,
      "outputs": [
        {
          "output_type": "stream",
          "name": "stdout",
          "text": [
            "['titanic_cleaned_data', 'Neural_Network_Solution.csv']\n",
            "['test_clean.csv', 'train_clean.csv', 'Titanic_Hometown_clean.csv']\n"
          ]
        }
      ]
    },
    {
      "cell_type": "markdown",
      "source": [
        "The so called ```test_clean.csv``` data is actually the unlabeled data that is to be predicted. So as opposed to the original notebook I read the data in as ```unlabeled``` so the destintion is clear."
      ],
      "metadata": {
        "id": "lxSAf_Ym5vnd"
      }
    },
    {
      "cell_type": "code",
      "source": [
        "# Load data as Pandas dataframe\n",
        "train = pd.read_csv('../input/titanic_cleaned_data/train_clean.csv')\n",
        "unlabeled = pd.read_csv('../input/titanic_cleaned_data/test_clean.csv')\n",
        "df = pd.concat([train, unlabeled], axis=0, sort=True)"
      ],
      "metadata": {
        "id": "P6oacarKRwk-"
      },
      "execution_count": 4,
      "outputs": []
    },
    {
      "cell_type": "code",
      "source": [
        "df.head()"
      ],
      "metadata": {
        "colab": {
          "base_uri": "https://localhost:8080/",
          "height": 302
        },
        "id": "JO-WCK5HR2Iv",
        "outputId": "df14e628-a0a7-45dc-d3b4-fc5d44c9406a"
      },
      "execution_count": 5,
      "outputs": [
        {
          "output_type": "execute_result",
          "data": {
            "text/plain": [
              "    Age Cabin Embarked  Family_Size     Fare  \\\n",
              "0  22.0   NaN        S            1   7.2500   \n",
              "1  38.0   C85        C            1  71.2833   \n",
              "2  26.0   NaN        S            0   7.9250   \n",
              "3  35.0  C123        S            1  53.1000   \n",
              "4  35.0   NaN        S            0   8.0500   \n",
              "\n",
              "                                                Name  Parch  PassengerId  \\\n",
              "0                            Braund, Mr. Owen Harris      0            1   \n",
              "1  Cumings, Mrs. John Bradley (Florence Briggs Th...      0            2   \n",
              "2                             Heikkinen, Miss. Laina      0            3   \n",
              "3       Futrelle, Mrs. Jacques Heath (Lily May Peel)      0            4   \n",
              "4                           Allen, Mr. William Henry      0            5   \n",
              "\n",
              "   Pclass     Sex  SibSp  Survived            Ticket Title  \n",
              "0       3    male      1       0.0         A/5 21171    Mr  \n",
              "1       1  female      1       1.0          PC 17599   Mrs  \n",
              "2       3  female      0       1.0  STON/O2. 3101282  Miss  \n",
              "3       1  female      1       1.0            113803   Mrs  \n",
              "4       3    male      0       0.0            373450    Mr  "
            ],
            "text/html": [
              "\n",
              "  <div id=\"df-807b0ba9-9503-4ec4-8f13-f04184e6601e\">\n",
              "    <div class=\"colab-df-container\">\n",
              "      <div>\n",
              "<style scoped>\n",
              "    .dataframe tbody tr th:only-of-type {\n",
              "        vertical-align: middle;\n",
              "    }\n",
              "\n",
              "    .dataframe tbody tr th {\n",
              "        vertical-align: top;\n",
              "    }\n",
              "\n",
              "    .dataframe thead th {\n",
              "        text-align: right;\n",
              "    }\n",
              "</style>\n",
              "<table border=\"1\" class=\"dataframe\">\n",
              "  <thead>\n",
              "    <tr style=\"text-align: right;\">\n",
              "      <th></th>\n",
              "      <th>Age</th>\n",
              "      <th>Cabin</th>\n",
              "      <th>Embarked</th>\n",
              "      <th>Family_Size</th>\n",
              "      <th>Fare</th>\n",
              "      <th>Name</th>\n",
              "      <th>Parch</th>\n",
              "      <th>PassengerId</th>\n",
              "      <th>Pclass</th>\n",
              "      <th>Sex</th>\n",
              "      <th>SibSp</th>\n",
              "      <th>Survived</th>\n",
              "      <th>Ticket</th>\n",
              "      <th>Title</th>\n",
              "    </tr>\n",
              "  </thead>\n",
              "  <tbody>\n",
              "    <tr>\n",
              "      <th>0</th>\n",
              "      <td>22.0</td>\n",
              "      <td>NaN</td>\n",
              "      <td>S</td>\n",
              "      <td>1</td>\n",
              "      <td>7.2500</td>\n",
              "      <td>Braund, Mr. Owen Harris</td>\n",
              "      <td>0</td>\n",
              "      <td>1</td>\n",
              "      <td>3</td>\n",
              "      <td>male</td>\n",
              "      <td>1</td>\n",
              "      <td>0.0</td>\n",
              "      <td>A/5 21171</td>\n",
              "      <td>Mr</td>\n",
              "    </tr>\n",
              "    <tr>\n",
              "      <th>1</th>\n",
              "      <td>38.0</td>\n",
              "      <td>C85</td>\n",
              "      <td>C</td>\n",
              "      <td>1</td>\n",
              "      <td>71.2833</td>\n",
              "      <td>Cumings, Mrs. John Bradley (Florence Briggs Th...</td>\n",
              "      <td>0</td>\n",
              "      <td>2</td>\n",
              "      <td>1</td>\n",
              "      <td>female</td>\n",
              "      <td>1</td>\n",
              "      <td>1.0</td>\n",
              "      <td>PC 17599</td>\n",
              "      <td>Mrs</td>\n",
              "    </tr>\n",
              "    <tr>\n",
              "      <th>2</th>\n",
              "      <td>26.0</td>\n",
              "      <td>NaN</td>\n",
              "      <td>S</td>\n",
              "      <td>0</td>\n",
              "      <td>7.9250</td>\n",
              "      <td>Heikkinen, Miss. Laina</td>\n",
              "      <td>0</td>\n",
              "      <td>3</td>\n",
              "      <td>3</td>\n",
              "      <td>female</td>\n",
              "      <td>0</td>\n",
              "      <td>1.0</td>\n",
              "      <td>STON/O2. 3101282</td>\n",
              "      <td>Miss</td>\n",
              "    </tr>\n",
              "    <tr>\n",
              "      <th>3</th>\n",
              "      <td>35.0</td>\n",
              "      <td>C123</td>\n",
              "      <td>S</td>\n",
              "      <td>1</td>\n",
              "      <td>53.1000</td>\n",
              "      <td>Futrelle, Mrs. Jacques Heath (Lily May Peel)</td>\n",
              "      <td>0</td>\n",
              "      <td>4</td>\n",
              "      <td>1</td>\n",
              "      <td>female</td>\n",
              "      <td>1</td>\n",
              "      <td>1.0</td>\n",
              "      <td>113803</td>\n",
              "      <td>Mrs</td>\n",
              "    </tr>\n",
              "    <tr>\n",
              "      <th>4</th>\n",
              "      <td>35.0</td>\n",
              "      <td>NaN</td>\n",
              "      <td>S</td>\n",
              "      <td>0</td>\n",
              "      <td>8.0500</td>\n",
              "      <td>Allen, Mr. William Henry</td>\n",
              "      <td>0</td>\n",
              "      <td>5</td>\n",
              "      <td>3</td>\n",
              "      <td>male</td>\n",
              "      <td>0</td>\n",
              "      <td>0.0</td>\n",
              "      <td>373450</td>\n",
              "      <td>Mr</td>\n",
              "    </tr>\n",
              "  </tbody>\n",
              "</table>\n",
              "</div>\n",
              "      <button class=\"colab-df-convert\" onclick=\"convertToInteractive('df-807b0ba9-9503-4ec4-8f13-f04184e6601e')\"\n",
              "              title=\"Convert this dataframe to an interactive table.\"\n",
              "              style=\"display:none;\">\n",
              "        \n",
              "  <svg xmlns=\"http://www.w3.org/2000/svg\" height=\"24px\"viewBox=\"0 0 24 24\"\n",
              "       width=\"24px\">\n",
              "    <path d=\"M0 0h24v24H0V0z\" fill=\"none\"/>\n",
              "    <path d=\"M18.56 5.44l.94 2.06.94-2.06 2.06-.94-2.06-.94-.94-2.06-.94 2.06-2.06.94zm-11 1L8.5 8.5l.94-2.06 2.06-.94-2.06-.94L8.5 2.5l-.94 2.06-2.06.94zm10 10l.94 2.06.94-2.06 2.06-.94-2.06-.94-.94-2.06-.94 2.06-2.06.94z\"/><path d=\"M17.41 7.96l-1.37-1.37c-.4-.4-.92-.59-1.43-.59-.52 0-1.04.2-1.43.59L10.3 9.45l-7.72 7.72c-.78.78-.78 2.05 0 2.83L4 21.41c.39.39.9.59 1.41.59.51 0 1.02-.2 1.41-.59l7.78-7.78 2.81-2.81c.8-.78.8-2.07 0-2.86zM5.41 20L4 18.59l7.72-7.72 1.47 1.35L5.41 20z\"/>\n",
              "  </svg>\n",
              "      </button>\n",
              "      \n",
              "  <style>\n",
              "    .colab-df-container {\n",
              "      display:flex;\n",
              "      flex-wrap:wrap;\n",
              "      gap: 12px;\n",
              "    }\n",
              "\n",
              "    .colab-df-convert {\n",
              "      background-color: #E8F0FE;\n",
              "      border: none;\n",
              "      border-radius: 50%;\n",
              "      cursor: pointer;\n",
              "      display: none;\n",
              "      fill: #1967D2;\n",
              "      height: 32px;\n",
              "      padding: 0 0 0 0;\n",
              "      width: 32px;\n",
              "    }\n",
              "\n",
              "    .colab-df-convert:hover {\n",
              "      background-color: #E2EBFA;\n",
              "      box-shadow: 0px 1px 2px rgba(60, 64, 67, 0.3), 0px 1px 3px 1px rgba(60, 64, 67, 0.15);\n",
              "      fill: #174EA6;\n",
              "    }\n",
              "\n",
              "    [theme=dark] .colab-df-convert {\n",
              "      background-color: #3B4455;\n",
              "      fill: #D2E3FC;\n",
              "    }\n",
              "\n",
              "    [theme=dark] .colab-df-convert:hover {\n",
              "      background-color: #434B5C;\n",
              "      box-shadow: 0px 1px 3px 1px rgba(0, 0, 0, 0.15);\n",
              "      filter: drop-shadow(0px 1px 2px rgba(0, 0, 0, 0.3));\n",
              "      fill: #FFFFFF;\n",
              "    }\n",
              "  </style>\n",
              "\n",
              "      <script>\n",
              "        const buttonEl =\n",
              "          document.querySelector('#df-807b0ba9-9503-4ec4-8f13-f04184e6601e button.colab-df-convert');\n",
              "        buttonEl.style.display =\n",
              "          google.colab.kernel.accessAllowed ? 'block' : 'none';\n",
              "\n",
              "        async function convertToInteractive(key) {\n",
              "          const element = document.querySelector('#df-807b0ba9-9503-4ec4-8f13-f04184e6601e');\n",
              "          const dataTable =\n",
              "            await google.colab.kernel.invokeFunction('convertToInteractive',\n",
              "                                                     [key], {});\n",
              "          if (!dataTable) return;\n",
              "\n",
              "          const docLinkHtml = 'Like what you see? Visit the ' +\n",
              "            '<a target=\"_blank\" href=https://colab.research.google.com/notebooks/data_table.ipynb>data table notebook</a>'\n",
              "            + ' to learn more about interactive tables.';\n",
              "          element.innerHTML = '';\n",
              "          dataTable['output_type'] = 'display_data';\n",
              "          await google.colab.output.renderOutput(dataTable, element);\n",
              "          const docLink = document.createElement('div');\n",
              "          docLink.innerHTML = docLinkHtml;\n",
              "          element.appendChild(docLink);\n",
              "        }\n",
              "      </script>\n",
              "    </div>\n",
              "  </div>\n",
              "  "
            ]
          },
          "metadata": {},
          "execution_count": 5
        }
      ]
    },
    {
      "cell_type": "code",
      "source": [
        "def display_all(df):\n",
        "    with pd.option_context(\"display.max_rows\", 1000, \"display.max_columns\", 1000): \n",
        "        display(df)\n",
        "\n",
        "        \n",
        "display_all(df.describe(include='all').T)"
      ],
      "metadata": {
        "colab": {
          "base_uri": "https://localhost:8080/",
          "height": 488
        },
        "id": "JgjUUTFCR_CZ",
        "outputId": "1d4fc293-b8d0-48ba-a7c6-ac2856d42384"
      },
      "execution_count": 6,
      "outputs": [
        {
          "output_type": "display_data",
          "data": {
            "text/plain": [
              "              count unique                   top freq       mean         std  \\\n",
              "Age          1309.0    NaN                   NaN  NaN  29.562391    13.16536   \n",
              "Cabin           295    186           C23 C25 C27    6        NaN         NaN   \n",
              "Embarked       1309      3                     S  915        NaN         NaN   \n",
              "Family_Size  1309.0    NaN                   NaN  NaN   0.883881    1.583639   \n",
              "Fare         1309.0    NaN                   NaN  NaN  33.276193   51.743584   \n",
              "Name           1309   1307  Connolly, Miss. Kate    2        NaN         NaN   \n",
              "Parch        1309.0    NaN                   NaN  NaN   0.385027     0.86556   \n",
              "PassengerId  1309.0    NaN                   NaN  NaN      655.0  378.020061   \n",
              "Pclass       1309.0    NaN                   NaN  NaN   2.294882    0.837836   \n",
              "Sex            1309      2                  male  843        NaN         NaN   \n",
              "SibSp        1309.0    NaN                   NaN  NaN   0.498854    1.041658   \n",
              "Survived      891.0    NaN                   NaN  NaN   0.383838    0.486592   \n",
              "Ticket         1309    929              CA. 2343   11        NaN         NaN   \n",
              "Title          1309      6                    Mr  767        NaN         NaN   \n",
              "\n",
              "              min     25%      50%     75%       max  \n",
              "Age          0.17    22.0     30.0    35.5      80.0  \n",
              "Cabin         NaN     NaN      NaN     NaN       NaN  \n",
              "Embarked      NaN     NaN      NaN     NaN       NaN  \n",
              "Family_Size   0.0     0.0      0.0     1.0      10.0  \n",
              "Fare          0.0  7.8958  14.4542  31.275  512.3292  \n",
              "Name          NaN     NaN      NaN     NaN       NaN  \n",
              "Parch         0.0     0.0      0.0     0.0       9.0  \n",
              "PassengerId   1.0   328.0    655.0   982.0    1309.0  \n",
              "Pclass        1.0     2.0      3.0     3.0       3.0  \n",
              "Sex           NaN     NaN      NaN     NaN       NaN  \n",
              "SibSp         0.0     0.0      0.0     1.0       8.0  \n",
              "Survived      0.0     0.0      0.0     1.0       1.0  \n",
              "Ticket        NaN     NaN      NaN     NaN       NaN  \n",
              "Title         NaN     NaN      NaN     NaN       NaN  "
            ],
            "text/html": [
              "\n",
              "  <div id=\"df-26856fd5-c22c-4b9b-b76e-1905a9bbd77b\">\n",
              "    <div class=\"colab-df-container\">\n",
              "      <div>\n",
              "<style scoped>\n",
              "    .dataframe tbody tr th:only-of-type {\n",
              "        vertical-align: middle;\n",
              "    }\n",
              "\n",
              "    .dataframe tbody tr th {\n",
              "        vertical-align: top;\n",
              "    }\n",
              "\n",
              "    .dataframe thead th {\n",
              "        text-align: right;\n",
              "    }\n",
              "</style>\n",
              "<table border=\"1\" class=\"dataframe\">\n",
              "  <thead>\n",
              "    <tr style=\"text-align: right;\">\n",
              "      <th></th>\n",
              "      <th>count</th>\n",
              "      <th>unique</th>\n",
              "      <th>top</th>\n",
              "      <th>freq</th>\n",
              "      <th>mean</th>\n",
              "      <th>std</th>\n",
              "      <th>min</th>\n",
              "      <th>25%</th>\n",
              "      <th>50%</th>\n",
              "      <th>75%</th>\n",
              "      <th>max</th>\n",
              "    </tr>\n",
              "  </thead>\n",
              "  <tbody>\n",
              "    <tr>\n",
              "      <th>Age</th>\n",
              "      <td>1309.0</td>\n",
              "      <td>NaN</td>\n",
              "      <td>NaN</td>\n",
              "      <td>NaN</td>\n",
              "      <td>29.562391</td>\n",
              "      <td>13.16536</td>\n",
              "      <td>0.17</td>\n",
              "      <td>22.0</td>\n",
              "      <td>30.0</td>\n",
              "      <td>35.5</td>\n",
              "      <td>80.0</td>\n",
              "    </tr>\n",
              "    <tr>\n",
              "      <th>Cabin</th>\n",
              "      <td>295</td>\n",
              "      <td>186</td>\n",
              "      <td>C23 C25 C27</td>\n",
              "      <td>6</td>\n",
              "      <td>NaN</td>\n",
              "      <td>NaN</td>\n",
              "      <td>NaN</td>\n",
              "      <td>NaN</td>\n",
              "      <td>NaN</td>\n",
              "      <td>NaN</td>\n",
              "      <td>NaN</td>\n",
              "    </tr>\n",
              "    <tr>\n",
              "      <th>Embarked</th>\n",
              "      <td>1309</td>\n",
              "      <td>3</td>\n",
              "      <td>S</td>\n",
              "      <td>915</td>\n",
              "      <td>NaN</td>\n",
              "      <td>NaN</td>\n",
              "      <td>NaN</td>\n",
              "      <td>NaN</td>\n",
              "      <td>NaN</td>\n",
              "      <td>NaN</td>\n",
              "      <td>NaN</td>\n",
              "    </tr>\n",
              "    <tr>\n",
              "      <th>Family_Size</th>\n",
              "      <td>1309.0</td>\n",
              "      <td>NaN</td>\n",
              "      <td>NaN</td>\n",
              "      <td>NaN</td>\n",
              "      <td>0.883881</td>\n",
              "      <td>1.583639</td>\n",
              "      <td>0.0</td>\n",
              "      <td>0.0</td>\n",
              "      <td>0.0</td>\n",
              "      <td>1.0</td>\n",
              "      <td>10.0</td>\n",
              "    </tr>\n",
              "    <tr>\n",
              "      <th>Fare</th>\n",
              "      <td>1309.0</td>\n",
              "      <td>NaN</td>\n",
              "      <td>NaN</td>\n",
              "      <td>NaN</td>\n",
              "      <td>33.276193</td>\n",
              "      <td>51.743584</td>\n",
              "      <td>0.0</td>\n",
              "      <td>7.8958</td>\n",
              "      <td>14.4542</td>\n",
              "      <td>31.275</td>\n",
              "      <td>512.3292</td>\n",
              "    </tr>\n",
              "    <tr>\n",
              "      <th>Name</th>\n",
              "      <td>1309</td>\n",
              "      <td>1307</td>\n",
              "      <td>Connolly, Miss. Kate</td>\n",
              "      <td>2</td>\n",
              "      <td>NaN</td>\n",
              "      <td>NaN</td>\n",
              "      <td>NaN</td>\n",
              "      <td>NaN</td>\n",
              "      <td>NaN</td>\n",
              "      <td>NaN</td>\n",
              "      <td>NaN</td>\n",
              "    </tr>\n",
              "    <tr>\n",
              "      <th>Parch</th>\n",
              "      <td>1309.0</td>\n",
              "      <td>NaN</td>\n",
              "      <td>NaN</td>\n",
              "      <td>NaN</td>\n",
              "      <td>0.385027</td>\n",
              "      <td>0.86556</td>\n",
              "      <td>0.0</td>\n",
              "      <td>0.0</td>\n",
              "      <td>0.0</td>\n",
              "      <td>0.0</td>\n",
              "      <td>9.0</td>\n",
              "    </tr>\n",
              "    <tr>\n",
              "      <th>PassengerId</th>\n",
              "      <td>1309.0</td>\n",
              "      <td>NaN</td>\n",
              "      <td>NaN</td>\n",
              "      <td>NaN</td>\n",
              "      <td>655.0</td>\n",
              "      <td>378.020061</td>\n",
              "      <td>1.0</td>\n",
              "      <td>328.0</td>\n",
              "      <td>655.0</td>\n",
              "      <td>982.0</td>\n",
              "      <td>1309.0</td>\n",
              "    </tr>\n",
              "    <tr>\n",
              "      <th>Pclass</th>\n",
              "      <td>1309.0</td>\n",
              "      <td>NaN</td>\n",
              "      <td>NaN</td>\n",
              "      <td>NaN</td>\n",
              "      <td>2.294882</td>\n",
              "      <td>0.837836</td>\n",
              "      <td>1.0</td>\n",
              "      <td>2.0</td>\n",
              "      <td>3.0</td>\n",
              "      <td>3.0</td>\n",
              "      <td>3.0</td>\n",
              "    </tr>\n",
              "    <tr>\n",
              "      <th>Sex</th>\n",
              "      <td>1309</td>\n",
              "      <td>2</td>\n",
              "      <td>male</td>\n",
              "      <td>843</td>\n",
              "      <td>NaN</td>\n",
              "      <td>NaN</td>\n",
              "      <td>NaN</td>\n",
              "      <td>NaN</td>\n",
              "      <td>NaN</td>\n",
              "      <td>NaN</td>\n",
              "      <td>NaN</td>\n",
              "    </tr>\n",
              "    <tr>\n",
              "      <th>SibSp</th>\n",
              "      <td>1309.0</td>\n",
              "      <td>NaN</td>\n",
              "      <td>NaN</td>\n",
              "      <td>NaN</td>\n",
              "      <td>0.498854</td>\n",
              "      <td>1.041658</td>\n",
              "      <td>0.0</td>\n",
              "      <td>0.0</td>\n",
              "      <td>0.0</td>\n",
              "      <td>1.0</td>\n",
              "      <td>8.0</td>\n",
              "    </tr>\n",
              "    <tr>\n",
              "      <th>Survived</th>\n",
              "      <td>891.0</td>\n",
              "      <td>NaN</td>\n",
              "      <td>NaN</td>\n",
              "      <td>NaN</td>\n",
              "      <td>0.383838</td>\n",
              "      <td>0.486592</td>\n",
              "      <td>0.0</td>\n",
              "      <td>0.0</td>\n",
              "      <td>0.0</td>\n",
              "      <td>1.0</td>\n",
              "      <td>1.0</td>\n",
              "    </tr>\n",
              "    <tr>\n",
              "      <th>Ticket</th>\n",
              "      <td>1309</td>\n",
              "      <td>929</td>\n",
              "      <td>CA. 2343</td>\n",
              "      <td>11</td>\n",
              "      <td>NaN</td>\n",
              "      <td>NaN</td>\n",
              "      <td>NaN</td>\n",
              "      <td>NaN</td>\n",
              "      <td>NaN</td>\n",
              "      <td>NaN</td>\n",
              "      <td>NaN</td>\n",
              "    </tr>\n",
              "    <tr>\n",
              "      <th>Title</th>\n",
              "      <td>1309</td>\n",
              "      <td>6</td>\n",
              "      <td>Mr</td>\n",
              "      <td>767</td>\n",
              "      <td>NaN</td>\n",
              "      <td>NaN</td>\n",
              "      <td>NaN</td>\n",
              "      <td>NaN</td>\n",
              "      <td>NaN</td>\n",
              "      <td>NaN</td>\n",
              "      <td>NaN</td>\n",
              "    </tr>\n",
              "  </tbody>\n",
              "</table>\n",
              "</div>\n",
              "      <button class=\"colab-df-convert\" onclick=\"convertToInteractive('df-26856fd5-c22c-4b9b-b76e-1905a9bbd77b')\"\n",
              "              title=\"Convert this dataframe to an interactive table.\"\n",
              "              style=\"display:none;\">\n",
              "        \n",
              "  <svg xmlns=\"http://www.w3.org/2000/svg\" height=\"24px\"viewBox=\"0 0 24 24\"\n",
              "       width=\"24px\">\n",
              "    <path d=\"M0 0h24v24H0V0z\" fill=\"none\"/>\n",
              "    <path d=\"M18.56 5.44l.94 2.06.94-2.06 2.06-.94-2.06-.94-.94-2.06-.94 2.06-2.06.94zm-11 1L8.5 8.5l.94-2.06 2.06-.94-2.06-.94L8.5 2.5l-.94 2.06-2.06.94zm10 10l.94 2.06.94-2.06 2.06-.94-2.06-.94-.94-2.06-.94 2.06-2.06.94z\"/><path d=\"M17.41 7.96l-1.37-1.37c-.4-.4-.92-.59-1.43-.59-.52 0-1.04.2-1.43.59L10.3 9.45l-7.72 7.72c-.78.78-.78 2.05 0 2.83L4 21.41c.39.39.9.59 1.41.59.51 0 1.02-.2 1.41-.59l7.78-7.78 2.81-2.81c.8-.78.8-2.07 0-2.86zM5.41 20L4 18.59l7.72-7.72 1.47 1.35L5.41 20z\"/>\n",
              "  </svg>\n",
              "      </button>\n",
              "      \n",
              "  <style>\n",
              "    .colab-df-container {\n",
              "      display:flex;\n",
              "      flex-wrap:wrap;\n",
              "      gap: 12px;\n",
              "    }\n",
              "\n",
              "    .colab-df-convert {\n",
              "      background-color: #E8F0FE;\n",
              "      border: none;\n",
              "      border-radius: 50%;\n",
              "      cursor: pointer;\n",
              "      display: none;\n",
              "      fill: #1967D2;\n",
              "      height: 32px;\n",
              "      padding: 0 0 0 0;\n",
              "      width: 32px;\n",
              "    }\n",
              "\n",
              "    .colab-df-convert:hover {\n",
              "      background-color: #E2EBFA;\n",
              "      box-shadow: 0px 1px 2px rgba(60, 64, 67, 0.3), 0px 1px 3px 1px rgba(60, 64, 67, 0.15);\n",
              "      fill: #174EA6;\n",
              "    }\n",
              "\n",
              "    [theme=dark] .colab-df-convert {\n",
              "      background-color: #3B4455;\n",
              "      fill: #D2E3FC;\n",
              "    }\n",
              "\n",
              "    [theme=dark] .colab-df-convert:hover {\n",
              "      background-color: #434B5C;\n",
              "      box-shadow: 0px 1px 3px 1px rgba(0, 0, 0, 0.15);\n",
              "      filter: drop-shadow(0px 1px 2px rgba(0, 0, 0, 0.3));\n",
              "      fill: #FFFFFF;\n",
              "    }\n",
              "  </style>\n",
              "\n",
              "      <script>\n",
              "        const buttonEl =\n",
              "          document.querySelector('#df-26856fd5-c22c-4b9b-b76e-1905a9bbd77b button.colab-df-convert');\n",
              "        buttonEl.style.display =\n",
              "          google.colab.kernel.accessAllowed ? 'block' : 'none';\n",
              "\n",
              "        async function convertToInteractive(key) {\n",
              "          const element = document.querySelector('#df-26856fd5-c22c-4b9b-b76e-1905a9bbd77b');\n",
              "          const dataTable =\n",
              "            await google.colab.kernel.invokeFunction('convertToInteractive',\n",
              "                                                     [key], {});\n",
              "          if (!dataTable) return;\n",
              "\n",
              "          const docLinkHtml = 'Like what you see? Visit the ' +\n",
              "            '<a target=\"_blank\" href=https://colab.research.google.com/notebooks/data_table.ipynb>data table notebook</a>'\n",
              "            + ' to learn more about interactive tables.';\n",
              "          element.innerHTML = '';\n",
              "          dataTable['output_type'] = 'display_data';\n",
              "          await google.colab.output.renderOutput(dataTable, element);\n",
              "          const docLink = document.createElement('div');\n",
              "          docLink.innerHTML = docLinkHtml;\n",
              "          element.appendChild(docLink);\n",
              "        }\n",
              "      </script>\n",
              "    </div>\n",
              "  </div>\n",
              "  "
            ]
          },
          "metadata": {}
        }
      ]
    },
    {
      "cell_type": "markdown",
      "source": [
        "<a id=\"pre-processing\"></a>\n",
        "# 2. Pre-processing\n",
        "[Back to Top](#scrollTo=3jq6wLfnS5_o)\n"
      ],
      "metadata": {
        "id": "--MpK8w_TRoe"
      }
    },
    {
      "cell_type": "markdown",
      "source": [
        "\n",
        "<a id=\"encoding\"></a>\n",
        "## 2.1. Encode Categorical Variables\n",
        "We need to convert all categorical variables into numeric format. The categorical variables we will be keeping are `Embarked`, `Sex` and `Title`.   \n",
        "\n",
        "The `Sex` variable can be encoded into single 1-or-0 column, but the other variables will need to be [one-hot encoded](https://hackernoon.com/what-is-one-hot-encoding-why-and-when-do-you-have-to-use-it-e3c6186d008f). Regular label encoding assigns some category labels higher numerical values. This implies some sort of scale (Embarked = 1 is not **more** than Embarked = 0 - it's just _different_). One Hot Encoding avoids this problem.   \n",
        "\n",
        "We will assume that there is some ordinality in the `Pclass` variable, so we will leave that as a single column.\n"
      ],
      "metadata": {
        "id": "dY_SXhKDziPH"
      }
    },
    {
      "cell_type": "code",
      "source": [
        "sns.countplot(x='Pclass', data=df, palette='hls', hue='Survived')\n",
        "plt.xticks(rotation=45)\n",
        "plt.show()"
      ],
      "metadata": {
        "colab": {
          "base_uri": "https://localhost:8080/",
          "height": 613
        },
        "id": "R1dzOkQbTtwV",
        "outputId": "4b329f83-6a68-485a-90b6-7dda834daf91"
      },
      "execution_count": 7,
      "outputs": [
        {
          "output_type": "display_data",
          "data": {
            "text/plain": [
              "<Figure size 1080x720 with 1 Axes>"
            ],
            "image/png": "[encoded data removed]"
          },
          "metadata": {}
        }
      ]
    },
    {
      "cell_type": "code",
      "source": [
        "sns.countplot(x='Sex', data=df, palette='hls', hue='Survived')\n",
        "plt.xticks(rotation=45)\n",
        "plt.show()"
      ],
      "metadata": {
        "colab": {
          "base_uri": "https://localhost:8080/",
          "height": 635
        },
        "id": "UoRlJJ9sTu6e",
        "outputId": "69c9b4f1-4958-45cf-a6e1-47cadeaf64e4"
      },
      "execution_count": 8,
      "outputs": [
        {
          "output_type": "display_data",
          "data": {
            "text/plain": [
              "<Figure size 1080x720 with 1 Axes>"
            ],
            "image/png": "[encoded data removed]"
          },
          "metadata": {}
        }
      ]
    },
    {
      "cell_type": "code",
      "source": [
        "sns.countplot(x='Embarked', data=df, palette='hls', hue='Survived')\n",
        "plt.xticks(rotation=45)\n",
        "plt.show()"
      ],
      "metadata": {
        "colab": {
          "base_uri": "https://localhost:8080/",
          "height": 614
        },
        "id": "MdI5PzmITwHn",
        "outputId": "1021c7e7-5a12-4274-d654-0d493f9e44d2"
      },
      "execution_count": 9,
      "outputs": [
        {
          "output_type": "display_data",
          "data": {
            "text/plain": [
              "<Figure size 1080x720 with 1 Axes>"
            ],
            "image/png": "[encoded data removed]"
          },
          "metadata": {}
        }
      ]
    },
    {
      "cell_type": "code",
      "source": [
        "# convert to cateogry dtype\n",
        "df['Sex'] = df['Sex'].astype('category')\n",
        "# convert to category codes\n",
        "df['Sex'] = df['Sex'].cat.codes"
      ],
      "metadata": {
        "id": "p-mLb-KBTxtU"
      },
      "execution_count": 10,
      "outputs": []
    },
    {
      "cell_type": "code",
      "source": [
        "# subset all categorical variables which need to be encoded\n",
        "categorical = ['Embarked', 'Title']\n",
        "\n",
        "for var in categorical:\n",
        "    df = pd.concat([df, \n",
        "                    pd.get_dummies(df[var], prefix=var)], axis=1)\n",
        "    del df[var]"
      ],
      "metadata": {
        "id": "ZIk0F-hyTy5t"
      },
      "execution_count": 11,
      "outputs": []
    },
    {
      "cell_type": "code",
      "source": [
        "# drop the variables we won't be using\n",
        "df.drop(['Cabin', 'Name', 'Ticket', 'PassengerId'], axis=1, inplace=True)"
      ],
      "metadata": {
        "id": "x2HRq_IdT0Bs"
      },
      "execution_count": 12,
      "outputs": []
    },
    {
      "cell_type": "code",
      "source": [
        "df.head()"
      ],
      "metadata": {
        "colab": {
          "base_uri": "https://localhost:8080/",
          "height": 270
        },
        "id": "HOxV_b76T1ON",
        "outputId": "e3a05ea2-5b81-40df-c812-85484a59be37"
      },
      "execution_count": 13,
      "outputs": [
        {
          "output_type": "execute_result",
          "data": {
            "text/plain": [
              "    Age  Family_Size     Fare  Parch  Pclass  Sex  SibSp  Survived  \\\n",
              "0  22.0            1   7.2500      0       3    1      1       0.0   \n",
              "1  38.0            1  71.2833      0       1    0      1       1.0   \n",
              "2  26.0            0   7.9250      0       3    0      0       1.0   \n",
              "3  35.0            1  53.1000      0       1    0      1       1.0   \n",
              "4  35.0            0   8.0500      0       3    1      0       0.0   \n",
              "\n",
              "   Embarked_C  Embarked_Q  Embarked_S  Title_Dr  Title_Master  Title_Miss  \\\n",
              "0           0           0           1         0             0           0   \n",
              "1           1           0           0         0             0           0   \n",
              "2           0           0           1         0             0           1   \n",
              "3           0           0           1         0             0           0   \n",
              "4           0           0           1         0             0           0   \n",
              "\n",
              "   Title_Mr  Title_Mrs  Title_Rev  \n",
              "0         1          0          0  \n",
              "1         0          1          0  \n",
              "2         0          0          0  \n",
              "3         0          1          0  \n",
              "4         1          0          0  "
            ],
            "text/html": [
              "\n",
              "  <div id=\"df-2d7a3017-7a65-4dec-95df-18a09a0905c3\">\n",
              "    <div class=\"colab-df-container\">\n",
              "      <div>\n",
              "<style scoped>\n",
              "    .dataframe tbody tr th:only-of-type {\n",
              "        vertical-align: middle;\n",
              "    }\n",
              "\n",
              "    .dataframe tbody tr th {\n",
              "        vertical-align: top;\n",
              "    }\n",
              "\n",
              "    .dataframe thead th {\n",
              "        text-align: right;\n",
              "    }\n",
              "</style>\n",
              "<table border=\"1\" class=\"dataframe\">\n",
              "  <thead>\n",
              "    <tr style=\"text-align: right;\">\n",
              "      <th></th>\n",
              "      <th>Age</th>\n",
              "      <th>Family_Size</th>\n",
              "      <th>Fare</th>\n",
              "      <th>Parch</th>\n",
              "      <th>Pclass</th>\n",
              "      <th>Sex</th>\n",
              "      <th>SibSp</th>\n",
              "      <th>Survived</th>\n",
              "      <th>Embarked_C</th>\n",
              "      <th>Embarked_Q</th>\n",
              "      <th>Embarked_S</th>\n",
              "      <th>Title_Dr</th>\n",
              "      <th>Title_Master</th>\n",
              "      <th>Title_Miss</th>\n",
              "      <th>Title_Mr</th>\n",
              "      <th>Title_Mrs</th>\n",
              "      <th>Title_Rev</th>\n",
              "    </tr>\n",
              "  </thead>\n",
              "  <tbody>\n",
              "    <tr>\n",
              "      <th>0</th>\n",
              "      <td>22.0</td>\n",
              "      <td>1</td>\n",
              "      <td>7.2500</td>\n",
              "      <td>0</td>\n",
              "      <td>3</td>\n",
              "      <td>1</td>\n",
              "      <td>1</td>\n",
              "      <td>0.0</td>\n",
              "      <td>0</td>\n",
              "      <td>0</td>\n",
              "      <td>1</td>\n",
              "      <td>0</td>\n",
              "      <td>0</td>\n",
              "      <td>0</td>\n",
              "      <td>1</td>\n",
              "      <td>0</td>\n",
              "      <td>0</td>\n",
              "    </tr>\n",
              "    <tr>\n",
              "      <th>1</th>\n",
              "      <td>38.0</td>\n",
              "      <td>1</td>\n",
              "      <td>71.2833</td>\n",
              "      <td>0</td>\n",
              "      <td>1</td>\n",
              "      <td>0</td>\n",
              "      <td>1</td>\n",
              "      <td>1.0</td>\n",
              "      <td>1</td>\n",
              "      <td>0</td>\n",
              "      <td>0</td>\n",
              "      <td>0</td>\n",
              "      <td>0</td>\n",
              "      <td>0</td>\n",
              "      <td>0</td>\n",
              "      <td>1</td>\n",
              "      <td>0</td>\n",
              "    </tr>\n",
              "    <tr>\n",
              "      <th>2</th>\n",
              "      <td>26.0</td>\n",
              "      <td>0</td>\n",
              "      <td>7.9250</td>\n",
              "      <td>0</td>\n",
              "      <td>3</td>\n",
              "      <td>0</td>\n",
              "      <td>0</td>\n",
              "      <td>1.0</td>\n",
              "      <td>0</td>\n",
              "      <td>0</td>\n",
              "      <td>1</td>\n",
              "      <td>0</td>\n",
              "      <td>0</td>\n",
              "      <td>1</td>\n",
              "      <td>0</td>\n",
              "      <td>0</td>\n",
              "      <td>0</td>\n",
              "    </tr>\n",
              "    <tr>\n",
              "      <th>3</th>\n",
              "      <td>35.0</td>\n",
              "      <td>1</td>\n",
              "      <td>53.1000</td>\n",
              "      <td>0</td>\n",
              "      <td>1</td>\n",
              "      <td>0</td>\n",
              "      <td>1</td>\n",
              "      <td>1.0</td>\n",
              "      <td>0</td>\n",
              "      <td>0</td>\n",
              "      <td>1</td>\n",
              "      <td>0</td>\n",
              "      <td>0</td>\n",
              "      <td>0</td>\n",
              "      <td>0</td>\n",
              "      <td>1</td>\n",
              "      <td>0</td>\n",
              "    </tr>\n",
              "    <tr>\n",
              "      <th>4</th>\n",
              "      <td>35.0</td>\n",
              "      <td>0</td>\n",
              "      <td>8.0500</td>\n",
              "      <td>0</td>\n",
              "      <td>3</td>\n",
              "      <td>1</td>\n",
              "      <td>0</td>\n",
              "      <td>0.0</td>\n",
              "      <td>0</td>\n",
              "      <td>0</td>\n",
              "      <td>1</td>\n",
              "      <td>0</td>\n",
              "      <td>0</td>\n",
              "      <td>0</td>\n",
              "      <td>1</td>\n",
              "      <td>0</td>\n",
              "      <td>0</td>\n",
              "    </tr>\n",
              "  </tbody>\n",
              "</table>\n",
              "</div>\n",
              "      <button class=\"colab-df-convert\" onclick=\"convertToInteractive('df-2d7a3017-7a65-4dec-95df-18a09a0905c3')\"\n",
              "              title=\"Convert this dataframe to an interactive table.\"\n",
              "              style=\"display:none;\">\n",
              "        \n",
              "  <svg xmlns=\"http://www.w3.org/2000/svg\" height=\"24px\"viewBox=\"0 0 24 24\"\n",
              "       width=\"24px\">\n",
              "    <path d=\"M0 0h24v24H0V0z\" fill=\"none\"/>\n",
              "    <path d=\"M18.56 5.44l.94 2.06.94-2.06 2.06-.94-2.06-.94-.94-2.06-.94 2.06-2.06.94zm-11 1L8.5 8.5l.94-2.06 2.06-.94-2.06-.94L8.5 2.5l-.94 2.06-2.06.94zm10 10l.94 2.06.94-2.06 2.06-.94-2.06-.94-.94-2.06-.94 2.06-2.06.94z\"/><path d=\"M17.41 7.96l-1.37-1.37c-.4-.4-.92-.59-1.43-.59-.52 0-1.04.2-1.43.59L10.3 9.45l-7.72 7.72c-.78.78-.78 2.05 0 2.83L4 21.41c.39.39.9.59 1.41.59.51 0 1.02-.2 1.41-.59l7.78-7.78 2.81-2.81c.8-.78.8-2.07 0-2.86zM5.41 20L4 18.59l7.72-7.72 1.47 1.35L5.41 20z\"/>\n",
              "  </svg>\n",
              "      </button>\n",
              "      \n",
              "  <style>\n",
              "    .colab-df-container {\n",
              "      display:flex;\n",
              "      flex-wrap:wrap;\n",
              "      gap: 12px;\n",
              "    }\n",
              "\n",
              "    .colab-df-convert {\n",
              "      background-color: #E8F0FE;\n",
              "      border: none;\n",
              "      border-radius: 50%;\n",
              "      cursor: pointer;\n",
              "      display: none;\n",
              "      fill: #1967D2;\n",
              "      height: 32px;\n",
              "      padding: 0 0 0 0;\n",
              "      width: 32px;\n",
              "    }\n",
              "\n",
              "    .colab-df-convert:hover {\n",
              "      background-color: #E2EBFA;\n",
              "      box-shadow: 0px 1px 2px rgba(60, 64, 67, 0.3), 0px 1px 3px 1px rgba(60, 64, 67, 0.15);\n",
              "      fill: #174EA6;\n",
              "    }\n",
              "\n",
              "    [theme=dark] .colab-df-convert {\n",
              "      background-color: #3B4455;\n",
              "      fill: #D2E3FC;\n",
              "    }\n",
              "\n",
              "    [theme=dark] .colab-df-convert:hover {\n",
              "      background-color: #434B5C;\n",
              "      box-shadow: 0px 1px 3px 1px rgba(0, 0, 0, 0.15);\n",
              "      filter: drop-shadow(0px 1px 2px rgba(0, 0, 0, 0.3));\n",
              "      fill: #FFFFFF;\n",
              "    }\n",
              "  </style>\n",
              "\n",
              "      <script>\n",
              "        const buttonEl =\n",
              "          document.querySelector('#df-2d7a3017-7a65-4dec-95df-18a09a0905c3 button.colab-df-convert');\n",
              "        buttonEl.style.display =\n",
              "          google.colab.kernel.accessAllowed ? 'block' : 'none';\n",
              "\n",
              "        async function convertToInteractive(key) {\n",
              "          const element = document.querySelector('#df-2d7a3017-7a65-4dec-95df-18a09a0905c3');\n",
              "          const dataTable =\n",
              "            await google.colab.kernel.invokeFunction('convertToInteractive',\n",
              "                                                     [key], {});\n",
              "          if (!dataTable) return;\n",
              "\n",
              "          const docLinkHtml = 'Like what you see? Visit the ' +\n",
              "            '<a target=\"_blank\" href=https://colab.research.google.com/notebooks/data_table.ipynb>data table notebook</a>'\n",
              "            + ' to learn more about interactive tables.';\n",
              "          element.innerHTML = '';\n",
              "          dataTable['output_type'] = 'display_data';\n",
              "          await google.colab.output.renderOutput(dataTable, element);\n",
              "          const docLink = document.createElement('div');\n",
              "          docLink.innerHTML = docLinkHtml;\n",
              "          element.appendChild(docLink);\n",
              "        }\n",
              "      </script>\n",
              "    </div>\n",
              "  </div>\n",
              "  "
            ]
          },
          "metadata": {},
          "execution_count": 13
        }
      ]
    },
    {
      "cell_type": "markdown",
      "source": [
        "## 2.2. Scale Continuous Variables\n",
        "[Back to Top](#scrollTo=3jq6wLfnS5_o)\n",
        "\n",
        "The continuous variables need to be scaled. This is done using a standard scaler from SkLearn."
      ],
      "metadata": {
        "id": "zvZPfSHoT3cb"
      }
    },
    {
      "cell_type": "code",
      "source": [
        "continuous = ['Age', 'Fare', 'Parch', 'Pclass', 'SibSp', 'Family_Size']\n",
        "\n",
        "scaler = StandardScaler()\n",
        "\n",
        "for var in continuous:\n",
        "    df[var] = df[var].astype('float64')\n",
        "    df[var] = scaler.fit_transform(df[var].values.reshape(-1, 1))"
      ],
      "metadata": {
        "id": "ozH9zYwoT4SC"
      },
      "execution_count": 14,
      "outputs": []
    },
    {
      "cell_type": "code",
      "source": [
        "display_all(df.describe(include='all').T)"
      ],
      "metadata": {
        "colab": {
          "base_uri": "https://localhost:8080/",
          "height": 0
        },
        "id": "5tzPv0GuT60d",
        "outputId": "4f23ccac-0c35-48b6-d44c-75b3e9a6e624"
      },
      "execution_count": 15,
      "outputs": [
        {
          "output_type": "display_data",
          "data": {
            "text/plain": [
              "               count          mean       std       min       25%       50%  \\\n",
              "Age           1309.0  7.327981e-17  1.000382 -2.233408 -0.574635  0.033252   \n",
              "Family_Size   1309.0  1.628440e-17  1.000382 -0.558346 -0.558346 -0.558346   \n",
              "Fare          1309.0  2.171254e-17  1.000382 -0.643344 -0.490691 -0.363894   \n",
              "Parch         1309.0  1.730218e-17  1.000382 -0.445000 -0.445000 -0.445000   \n",
              "Pclass        1309.0 -2.062691e-16  1.000382 -1.546098 -0.352091  0.841916   \n",
              "Sex           1309.0  6.440031e-01  0.478997  0.000000  0.000000  1.000000   \n",
              "SibSp         1309.0 -1.628440e-17  1.000382 -0.479087 -0.479087 -0.479087   \n",
              "Survived       891.0  3.838384e-01  0.486592  0.000000  0.000000  0.000000   \n",
              "Embarked_C    1309.0  2.070283e-01  0.405331  0.000000  0.000000  0.000000   \n",
              "Embarked_Q    1309.0  9.396486e-02  0.291891  0.000000  0.000000  0.000000   \n",
              "Embarked_S    1309.0  6.990069e-01  0.458865  0.000000  0.000000  1.000000   \n",
              "Title_Dr      1309.0  6.111536e-03  0.077967  0.000000  0.000000  0.000000   \n",
              "Title_Master  1309.0  4.660046e-02  0.210862  0.000000  0.000000  0.000000   \n",
              "Title_Miss    1309.0  2.016807e-01  0.401408  0.000000  0.000000  0.000000   \n",
              "Title_Mr      1309.0  5.859435e-01  0.492747  0.000000  0.000000  1.000000   \n",
              "Title_Mrs     1309.0  1.535523e-01  0.360657  0.000000  0.000000  0.000000   \n",
              "Title_Rev     1309.0  6.111536e-03  0.077967  0.000000  0.000000  0.000000   \n",
              "\n",
              "                   75%       max  \n",
              "Age           0.451175  3.832549  \n",
              "Family_Size   0.073352  5.758637  \n",
              "Fare         -0.038690  9.261749  \n",
              "Parch        -0.445000  9.956864  \n",
              "Pclass        0.841916  0.841916  \n",
              "Sex           1.000000  1.000000  \n",
              "SibSp         0.481288  7.203909  \n",
              "Survived      1.000000  1.000000  \n",
              "Embarked_C    0.000000  1.000000  \n",
              "Embarked_Q    0.000000  1.000000  \n",
              "Embarked_S    1.000000  1.000000  \n",
              "Title_Dr      0.000000  1.000000  \n",
              "Title_Master  0.000000  1.000000  \n",
              "Title_Miss    0.000000  1.000000  \n",
              "Title_Mr      1.000000  1.000000  \n",
              "Title_Mrs     0.000000  1.000000  \n",
              "Title_Rev     0.000000  1.000000  "
            ],
            "text/html": [
              "\n",
              "  <div id=\"df-e58bf8a9-bf7c-45cc-8f8b-2872d4d81d14\">\n",
              "    <div class=\"colab-df-container\">\n",
              "      <div>\n",
              "<style scoped>\n",
              "    .dataframe tbody tr th:only-of-type {\n",
              "        vertical-align: middle;\n",
              "    }\n",
              "\n",
              "    .dataframe tbody tr th {\n",
              "        vertical-align: top;\n",
              "    }\n",
              "\n",
              "    .dataframe thead th {\n",
              "        text-align: right;\n",
              "    }\n",
              "</style>\n",
              "<table border=\"1\" class=\"dataframe\">\n",
              "  <thead>\n",
              "    <tr style=\"text-align: right;\">\n",
              "      <th></th>\n",
              "      <th>count</th>\n",
              "      <th>mean</th>\n",
              "      <th>std</th>\n",
              "      <th>min</th>\n",
              "      <th>25%</th>\n",
              "      <th>50%</th>\n",
              "      <th>75%</th>\n",
              "      <th>max</th>\n",
              "    </tr>\n",
              "  </thead>\n",
              "  <tbody>\n",
              "    <tr>\n",
              "      <th>Age</th>\n",
              "      <td>1309.0</td>\n",
              "      <td>7.327981e-17</td>\n",
              "      <td>1.000382</td>\n",
              "      <td>-2.233408</td>\n",
              "      <td>-0.574635</td>\n",
              "      <td>0.033252</td>\n",
              "      <td>0.451175</td>\n",
              "      <td>3.832549</td>\n",
              "    </tr>\n",
              "    <tr>\n",
              "      <th>Family_Size</th>\n",
              "      <td>1309.0</td>\n",
              "      <td>1.628440e-17</td>\n",
              "      <td>1.000382</td>\n",
              "      <td>-0.558346</td>\n",
              "      <td>-0.558346</td>\n",
              "      <td>-0.558346</td>\n",
              "      <td>0.073352</td>\n",
              "      <td>5.758637</td>\n",
              "    </tr>\n",
              "    <tr>\n",
              "      <th>Fare</th>\n",
              "      <td>1309.0</td>\n",
              "      <td>2.171254e-17</td>\n",
              "      <td>1.000382</td>\n",
              "      <td>-0.643344</td>\n",
              "      <td>-0.490691</td>\n",
              "      <td>-0.363894</td>\n",
              "      <td>-0.038690</td>\n",
              "      <td>9.261749</td>\n",
              "    </tr>\n",
              "    <tr>\n",
              "      <th>Parch</th>\n",
              "      <td>1309.0</td>\n",
              "      <td>1.730218e-17</td>\n",
              "      <td>1.000382</td>\n",
              "      <td>-0.445000</td>\n",
              "      <td>-0.445000</td>\n",
              "      <td>-0.445000</td>\n",
              "      <td>-0.445000</td>\n",
              "      <td>9.956864</td>\n",
              "    </tr>\n",
              "    <tr>\n",
              "      <th>Pclass</th>\n",
              "      <td>1309.0</td>\n",
              "      <td>-2.062691e-16</td>\n",
              "      <td>1.000382</td>\n",
              "      <td>-1.546098</td>\n",
              "      <td>-0.352091</td>\n",
              "      <td>0.841916</td>\n",
              "      <td>0.841916</td>\n",
              "      <td>0.841916</td>\n",
              "    </tr>\n",
              "    <tr>\n",
              "      <th>Sex</th>\n",
              "      <td>1309.0</td>\n",
              "      <td>6.440031e-01</td>\n",
              "      <td>0.478997</td>\n",
              "      <td>0.000000</td>\n",
              "      <td>0.000000</td>\n",
              "      <td>1.000000</td>\n",
              "      <td>1.000000</td>\n",
              "      <td>1.000000</td>\n",
              "    </tr>\n",
              "    <tr>\n",
              "      <th>SibSp</th>\n",
              "      <td>1309.0</td>\n",
              "      <td>-1.628440e-17</td>\n",
              "      <td>1.000382</td>\n",
              "      <td>-0.479087</td>\n",
              "      <td>-0.479087</td>\n",
              "      <td>-0.479087</td>\n",
              "      <td>0.481288</td>\n",
              "      <td>7.203909</td>\n",
              "    </tr>\n",
              "    <tr>\n",
              "      <th>Survived</th>\n",
              "      <td>891.0</td>\n",
              "      <td>3.838384e-01</td>\n",
              "      <td>0.486592</td>\n",
              "      <td>0.000000</td>\n",
              "      <td>0.000000</td>\n",
              "      <td>0.000000</td>\n",
              "      <td>1.000000</td>\n",
              "      <td>1.000000</td>\n",
              "    </tr>\n",
              "    <tr>\n",
              "      <th>Embarked_C</th>\n",
              "      <td>1309.0</td>\n",
              "      <td>2.070283e-01</td>\n",
              "      <td>0.405331</td>\n",
              "      <td>0.000000</td>\n",
              "      <td>0.000000</td>\n",
              "      <td>0.000000</td>\n",
              "      <td>0.000000</td>\n",
              "      <td>1.000000</td>\n",
              "    </tr>\n",
              "    <tr>\n",
              "      <th>Embarked_Q</th>\n",
              "      <td>1309.0</td>\n",
              "      <td>9.396486e-02</td>\n",
              "      <td>0.291891</td>\n",
              "      <td>0.000000</td>\n",
              "      <td>0.000000</td>\n",
              "      <td>0.000000</td>\n",
              "      <td>0.000000</td>\n",
              "      <td>1.000000</td>\n",
              "    </tr>\n",
              "    <tr>\n",
              "      <th>Embarked_S</th>\n",
              "      <td>1309.0</td>\n",
              "      <td>6.990069e-01</td>\n",
              "      <td>0.458865</td>\n",
              "      <td>0.000000</td>\n",
              "      <td>0.000000</td>\n",
              "      <td>1.000000</td>\n",
              "      <td>1.000000</td>\n",
              "      <td>1.000000</td>\n",
              "    </tr>\n",
              "    <tr>\n",
              "      <th>Title_Dr</th>\n",
              "      <td>1309.0</td>\n",
              "      <td>6.111536e-03</td>\n",
              "      <td>0.077967</td>\n",
              "      <td>0.000000</td>\n",
              "      <td>0.000000</td>\n",
              "      <td>0.000000</td>\n",
              "      <td>0.000000</td>\n",
              "      <td>1.000000</td>\n",
              "    </tr>\n",
              "    <tr>\n",
              "      <th>Title_Master</th>\n",
              "      <td>1309.0</td>\n",
              "      <td>4.660046e-02</td>\n",
              "      <td>0.210862</td>\n",
              "      <td>0.000000</td>\n",
              "      <td>0.000000</td>\n",
              "      <td>0.000000</td>\n",
              "      <td>0.000000</td>\n",
              "      <td>1.000000</td>\n",
              "    </tr>\n",
              "    <tr>\n",
              "      <th>Title_Miss</th>\n",
              "      <td>1309.0</td>\n",
              "      <td>2.016807e-01</td>\n",
              "      <td>0.401408</td>\n",
              "      <td>0.000000</td>\n",
              "      <td>0.000000</td>\n",
              "      <td>0.000000</td>\n",
              "      <td>0.000000</td>\n",
              "      <td>1.000000</td>\n",
              "    </tr>\n",
              "    <tr>\n",
              "      <th>Title_Mr</th>\n",
              "      <td>1309.0</td>\n",
              "      <td>5.859435e-01</td>\n",
              "      <td>0.492747</td>\n",
              "      <td>0.000000</td>\n",
              "      <td>0.000000</td>\n",
              "      <td>1.000000</td>\n",
              "      <td>1.000000</td>\n",
              "      <td>1.000000</td>\n",
              "    </tr>\n",
              "    <tr>\n",
              "      <th>Title_Mrs</th>\n",
              "      <td>1309.0</td>\n",
              "      <td>1.535523e-01</td>\n",
              "      <td>0.360657</td>\n",
              "      <td>0.000000</td>\n",
              "      <td>0.000000</td>\n",
              "      <td>0.000000</td>\n",
              "      <td>0.000000</td>\n",
              "      <td>1.000000</td>\n",
              "    </tr>\n",
              "    <tr>\n",
              "      <th>Title_Rev</th>\n",
              "      <td>1309.0</td>\n",
              "      <td>6.111536e-03</td>\n",
              "      <td>0.077967</td>\n",
              "      <td>0.000000</td>\n",
              "      <td>0.000000</td>\n",
              "      <td>0.000000</td>\n",
              "      <td>0.000000</td>\n",
              "      <td>1.000000</td>\n",
              "    </tr>\n",
              "  </tbody>\n",
              "</table>\n",
              "</div>\n",
              "      <button class=\"colab-df-convert\" onclick=\"convertToInteractive('df-e58bf8a9-bf7c-45cc-8f8b-2872d4d81d14')\"\n",
              "              title=\"Convert this dataframe to an interactive table.\"\n",
              "              style=\"display:none;\">\n",
              "        \n",
              "  <svg xmlns=\"http://www.w3.org/2000/svg\" height=\"24px\"viewBox=\"0 0 24 24\"\n",
              "       width=\"24px\">\n",
              "    <path d=\"M0 0h24v24H0V0z\" fill=\"none\"/>\n",
              "    <path d=\"M18.56 5.44l.94 2.06.94-2.06 2.06-.94-2.06-.94-.94-2.06-.94 2.06-2.06.94zm-11 1L8.5 8.5l.94-2.06 2.06-.94-2.06-.94L8.5 2.5l-.94 2.06-2.06.94zm10 10l.94 2.06.94-2.06 2.06-.94-2.06-.94-.94-2.06-.94 2.06-2.06.94z\"/><path d=\"M17.41 7.96l-1.37-1.37c-.4-.4-.92-.59-1.43-.59-.52 0-1.04.2-1.43.59L10.3 9.45l-7.72 7.72c-.78.78-.78 2.05 0 2.83L4 21.41c.39.39.9.59 1.41.59.51 0 1.02-.2 1.41-.59l7.78-7.78 2.81-2.81c.8-.78.8-2.07 0-2.86zM5.41 20L4 18.59l7.72-7.72 1.47 1.35L5.41 20z\"/>\n",
              "  </svg>\n",
              "      </button>\n",
              "      \n",
              "  <style>\n",
              "    .colab-df-container {\n",
              "      display:flex;\n",
              "      flex-wrap:wrap;\n",
              "      gap: 12px;\n",
              "    }\n",
              "\n",
              "    .colab-df-convert {\n",
              "      background-color: #E8F0FE;\n",
              "      border: none;\n",
              "      border-radius: 50%;\n",
              "      cursor: pointer;\n",
              "      display: none;\n",
              "      fill: #1967D2;\n",
              "      height: 32px;\n",
              "      padding: 0 0 0 0;\n",
              "      width: 32px;\n",
              "    }\n",
              "\n",
              "    .colab-df-convert:hover {\n",
              "      background-color: #E2EBFA;\n",
              "      box-shadow: 0px 1px 2px rgba(60, 64, 67, 0.3), 0px 1px 3px 1px rgba(60, 64, 67, 0.15);\n",
              "      fill: #174EA6;\n",
              "    }\n",
              "\n",
              "    [theme=dark] .colab-df-convert {\n",
              "      background-color: #3B4455;\n",
              "      fill: #D2E3FC;\n",
              "    }\n",
              "\n",
              "    [theme=dark] .colab-df-convert:hover {\n",
              "      background-color: #434B5C;\n",
              "      box-shadow: 0px 1px 3px 1px rgba(0, 0, 0, 0.15);\n",
              "      filter: drop-shadow(0px 1px 2px rgba(0, 0, 0, 0.3));\n",
              "      fill: #FFFFFF;\n",
              "    }\n",
              "  </style>\n",
              "\n",
              "      <script>\n",
              "        const buttonEl =\n",
              "          document.querySelector('#df-e58bf8a9-bf7c-45cc-8f8b-2872d4d81d14 button.colab-df-convert');\n",
              "        buttonEl.style.display =\n",
              "          google.colab.kernel.accessAllowed ? 'block' : 'none';\n",
              "\n",
              "        async function convertToInteractive(key) {\n",
              "          const element = document.querySelector('#df-e58bf8a9-bf7c-45cc-8f8b-2872d4d81d14');\n",
              "          const dataTable =\n",
              "            await google.colab.kernel.invokeFunction('convertToInteractive',\n",
              "                                                     [key], {});\n",
              "          if (!dataTable) return;\n",
              "\n",
              "          const docLinkHtml = 'Like what you see? Visit the ' +\n",
              "            '<a target=\"_blank\" href=https://colab.research.google.com/notebooks/data_table.ipynb>data table notebook</a>'\n",
              "            + ' to learn more about interactive tables.';\n",
              "          element.innerHTML = '';\n",
              "          dataTable['output_type'] = 'display_data';\n",
              "          await google.colab.output.renderOutput(dataTable, element);\n",
              "          const docLink = document.createElement('div');\n",
              "          docLink.innerHTML = docLinkHtml;\n",
              "          element.appendChild(docLink);\n",
              "        }\n",
              "      </script>\n",
              "    </div>\n",
              "  </div>\n",
              "  "
            ]
          },
          "metadata": {}
        }
      ]
    },
    {
      "cell_type": "markdown",
      "source": [
        "## 2.3. Train Test Split"
      ],
      "metadata": {
        "id": "IRmsoNRG7FqN"
      }
    },
    {
      "cell_type": "markdown",
      "source": [
        "Now, all that is left is to feed our data that has been cleaned, encoded and scaled to our neural network.\n",
        "\n",
        "But first, we need to separate *data_df* back into *train* and *unlabeled* sets."
      ],
      "metadata": {
        "id": "5R-X4HeP424e"
      }
    },
    {
      "cell_type": "code",
      "source": [
        "train = df[pd.notnull(df['Survived'])]\n",
        "X_unlabeled = df[pd.isnull(df['Survived'])].drop(['Survived'], axis=1)"
      ],
      "metadata": {
        "id": "G8nuemgzUDcp"
      },
      "execution_count": 16,
      "outputs": []
    },
    {
      "cell_type": "markdown",
      "source": [
        "Also for the later experiments the training set gets split into train and test set randomly. This allows us to test the predictions on an *unseen* holdout set of the data."
      ],
      "metadata": {
        "id": "mMrsNeBA5LlW"
      }
    },
    {
      "cell_type": "code",
      "source": [
        "X_train, X_test, y_train, y_test = train_test_split(\n",
        "    train.drop(['Survived'], axis=1),\n",
        "    train['Survived'],\n",
        "    test_size=0.2, random_state=42)"
      ],
      "metadata": {
        "id": "Kl3wgEEi7VC7"
      },
      "execution_count": 17,
      "outputs": []
    },
    {
      "cell_type": "markdown",
      "source": [
        "<a id=\"neural-network\"></a>\n",
        "# 3. Neural Network\n",
        "[Back to Top](#scrollTo=3jq6wLfnS5_o)\n",
        "\n"
      ],
      "metadata": {
        "id": "CGgKlm9SUDq0"
      }
    },
    {
      "cell_type": "markdown",
      "source": [
        "## 3.1. Cross-validation\n",
        "[Back to Top](#scrollTo=3jq6wLfnS5_o)\n",
        "\n",
        "Keras allows us to make use of cross-validation for training our model. So we will use this to train and assess our first model."
      ],
      "metadata": {
        "id": "7C3fRFRhUILg"
      }
    },
    {
      "cell_type": "markdown",
      "source": [
        "### Create neural network model\n",
        "For this task, I have kept the model architecture pretty simple. We have one input layer with 17 nodes which feeds into a hidden layer with 8 nodes and an output layer which is used to predict a passenger's survival.   \n",
        "\n",
        "The output layer has a sigmoid activation function, which is used to 'squash' all our outputs to be between 0 and 1.   \n",
        "\n",
        "We are going to create a function which allows to parameterise the choice of hyperparameters in the neural network. This might seem a little overly complicated now, but it will come in super handy when we move onto tuning our parameters later."
      ],
      "metadata": {
        "id": "l6lToqRJUK5P"
      }
    },
    {
      "cell_type": "code",
      "source": [
        "def create_model(lyrs=[8], act='linear', opt='Adam', dr=0.0):\n",
        "    \n",
        "    # set random seed for reproducibility\n",
        "    seed(42)\n",
        "    set_seed(42)\n",
        "    \n",
        "    model = Sequential()\n",
        "    \n",
        "    # create first hidden layer\n",
        "    model.add(Dense(lyrs[0], input_dim=X_train.shape[1], activation=act))\n",
        "    \n",
        "    # create additional hidden layers\n",
        "    for i in range(1,len(lyrs)):\n",
        "        model.add(Dense(lyrs[i], activation=act))\n",
        "    \n",
        "    # add dropout, default is none\n",
        "    model.add(Dropout(dr))\n",
        "    \n",
        "    # create output layer\n",
        "    model.add(Dense(1, activation='sigmoid'))  # output layer\n",
        "    \n",
        "    model.compile(loss='binary_crossentropy', optimizer=opt, metrics=['accuracy'])\n",
        "    \n",
        "    return model"
      ],
      "metadata": {
        "id": "bZsjxlSSUOMS"
      },
      "execution_count": 18,
      "outputs": []
    },
    {
      "cell_type": "code",
      "source": [
        "model = create_model()\n",
        "print(model.summary())"
      ],
      "metadata": {
        "colab": {
          "base_uri": "https://localhost:8080/"
        },
        "id": "LlmwarmCUPsq",
        "outputId": "142d8eb6-b17a-4bfd-aec2-dc71a03ca35d"
      },
      "execution_count": 19,
      "outputs": [
        {
          "output_type": "stream",
          "name": "stdout",
          "text": [
            "Model: \"sequential\"\n",
            "_________________________________________________________________\n",
            " Layer (type)                Output Shape              Param #   \n",
            "=================================================================\n",
            " dense (Dense)               (None, 8)                 136       \n",
            "                                                                 \n",
            " dropout (Dropout)           (None, 8)                 0         \n",
            "                                                                 \n",
            " dense_1 (Dense)             (None, 1)                 9         \n",
            "                                                                 \n",
            "=================================================================\n",
            "Total params: 145\n",
            "Trainable params: 145\n",
            "Non-trainable params: 0\n",
            "_________________________________________________________________\n",
            "None\n"
          ]
        }
      ]
    },
    {
      "cell_type": "markdown",
      "source": [
        "### Train model\n",
        "At this stage, we have our model. We have chosen a few hyperparameters such as the number of hidden layers, the number of neurons and the activation function.\n",
        "\n",
        "The next step is to train the model on our training set. This step also requires us to choose a few more hyperparameters such as the loss function, the optimization algorithm, the number of epochs and the batch size."
      ],
      "metadata": {
        "id": "_fXOR-f0URU7"
      }
    },
    {
      "cell_type": "code",
      "source": [
        "# train model on full train set, with 80/20 CV split\n",
        "# because the model does the random validation split automatically the whole labeled data set can be input\n",
        "# training = model.fit(train.drop(['Survived'], axis=1), train['Survived'], epochs=100, batch_size=32, validation_split=0.2, verbose=0)\n",
        "training = model.fit(X_train, y_train, epochs=100, batch_size=32, validation_split=0.2, verbose=0)\n",
        "\n",
        "val_acc = np.mean(training.history['val_accuracy'])\n",
        "print(\"\\n%s: %.2f%%\" % ('val_acc', val_acc*100))"
      ],
      "metadata": {
        "colab": {
          "base_uri": "https://localhost:8080/"
        },
        "id": "ehw0uGxSUUCA",
        "outputId": "9da018f8-3a60-4377-b23d-640e14db091f"
      },
      "execution_count": 20,
      "outputs": [
        {
          "output_type": "stream",
          "name": "stdout",
          "text": [
            "\n",
            "val_acc: 79.33%\n"
          ]
        }
      ]
    },
    {
      "cell_type": "markdown",
      "source": [
        "### Assess results"
      ],
      "metadata": {
        "id": "g0Yxs278UV08"
      }
    },
    {
      "cell_type": "code",
      "source": [
        "# summarize history for accuracy\n",
        "plt.plot(training.history['accuracy'])\n",
        "plt.plot(training.history['val_accuracy'])\n",
        "plt.title('model accuracy')\n",
        "plt.ylabel('accuracy')\n",
        "plt.xlabel('epoch')\n",
        "plt.legend(['train', 'validation'], loc='upper left')\n",
        "plt.show()"
      ],
      "metadata": {
        "colab": {
          "base_uri": "https://localhost:8080/",
          "height": 627
        },
        "id": "NMCj4D-XUYk8",
        "outputId": "7ba28064-818c-458b-ff7b-93a77c1a7538"
      },
      "execution_count": 21,
      "outputs": [
        {
          "output_type": "display_data",
          "data": {
            "text/plain": [
              "<Figure size 1080x720 with 1 Axes>"
            ],
            "image/png": "[encoded data removed]"
          },
          "metadata": {}
        }
      ]
    },
    {
      "cell_type": "markdown",
      "source": [
        "## 3.2. Grid search\n",
        "[Back to Top](#scrollTo=3jq6wLfnS5_o)\n",
        "\n"
      ],
      "metadata": {
        "id": "E38PCCVlaCaR"
      }
    },
    {
      "cell_type": "markdown",
      "source": [
        "### 3.2.1. batch size and epochs\n",
        "We can see from the graph above that we might be training our network for too long. Let's use **grid search** to find out what the optimal values for `batch_size` and `epochs` are."
      ],
      "metadata": {
        "id": "uFWvLEdJ7OtV"
      }
    },
    {
      "cell_type": "code",
      "source": [
        "# create model\n",
        "model = KerasClassifier(build_fn=create_model, verbose=0)\n",
        "\n",
        "# define the grid search parameters\n",
        "batch_size = [16, 32, 64]\n",
        "epochs = [50, 100]\n",
        "param_grid = dict(batch_size=batch_size, epochs=epochs)\n",
        "\n",
        "# search the grid\n",
        "grid = GridSearchCV(estimator=model, \n",
        "                    param_grid=param_grid,\n",
        "                    cv=3,\n",
        "                    verbose=2)  # include n_jobs=-1 if you are using CPU\n",
        "\n",
        "grid_result = grid.fit(X_train, y_train)"
      ],
      "metadata": {
        "colab": {
          "base_uri": "https://localhost:8080/"
        },
        "id": "c0O2SCCAaDYe",
        "outputId": "d6ec07db-f4da-48ec-d09a-a106d79c668b"
      },
      "execution_count": 22,
      "outputs": [
        {
          "output_type": "stream",
          "name": "stderr",
          "text": [
            "<ipython-input-22-3f1475744285>:2: DeprecationWarning: KerasClassifier is deprecated, use Sci-Keras (https://github.com/adriangb/scikeras) instead. See https://www.adriangb.com/scikeras/stable/migration.html for help migrating.\n",
            "  model = KerasClassifier(build_fn=create_model, verbose=0)\n"
          ]
        },
        {
          "output_type": "stream",
          "name": "stdout",
          "text": [
            "Fitting 3 folds for each of 6 candidates, totalling 18 fits\n",
            "[CV] END ...........................batch_size=16, epochs=50; total time=   3.3s\n",
            "[CV] END ...........................batch_size=16, epochs=50; total time=   3.2s\n",
            "[CV] END ...........................batch_size=16, epochs=50; total time=   3.2s\n",
            "[CV] END ..........................batch_size=16, epochs=100; total time=   5.8s\n",
            "[CV] END ..........................batch_size=16, epochs=100; total time=   4.7s\n",
            "[CV] END ..........................batch_size=16, epochs=100; total time=   5.8s\n",
            "[CV] END ...........................batch_size=32, epochs=50; total time=   1.9s\n",
            "[CV] END ...........................batch_size=32, epochs=50; total time=   2.0s\n",
            "[CV] END ...........................batch_size=32, epochs=50; total time=   1.9s\n",
            "[CV] END ..........................batch_size=32, epochs=100; total time=   3.2s\n",
            "[CV] END ..........................batch_size=32, epochs=100; total time=   3.2s\n",
            "[CV] END ..........................batch_size=32, epochs=100; total time=   3.2s\n",
            "[CV] END ...........................batch_size=64, epochs=50; total time=   1.3s\n",
            "[CV] END ...........................batch_size=64, epochs=50; total time=   1.3s\n",
            "[CV] END ...........................batch_size=64, epochs=50; total time=   1.2s\n",
            "[CV] END ..........................batch_size=64, epochs=100; total time=   1.9s\n",
            "[CV] END ..........................batch_size=64, epochs=100; total time=   2.0s\n",
            "[CV] END ..........................batch_size=64, epochs=100; total time=   1.8s\n"
          ]
        }
      ]
    },
    {
      "cell_type": "code",
      "source": [
        "# summarize results\n",
        "print(\"Best: %f using %s\" % (grid_result.best_score_, grid_result.best_params_))\n",
        "means = grid_result.cv_results_['mean_test_score']\n",
        "stds = grid_result.cv_results_['std_test_score']\n",
        "params = grid_result.cv_results_['params']\n",
        "for mean, stdev, param in zip(means, stds, params):\n",
        "    print(\"%f (%f) with: %r\" % (mean, stdev, param))"
      ],
      "metadata": {
        "colab": {
          "base_uri": "https://localhost:8080/"
        },
        "id": "czwSSv7IaHfM",
        "outputId": "7f58a7ed-bef5-44d8-e87a-08cb8732135d"
      },
      "execution_count": 23,
      "outputs": [
        {
          "output_type": "stream",
          "name": "stdout",
          "text": [
            "Best: 0.830077 using {'batch_size': 32, 'epochs': 100}\n",
            "0.823045 (0.014875) with: {'batch_size': 16, 'epochs': 50}\n",
            "0.825858 (0.015732) with: {'batch_size': 16, 'epochs': 100}\n",
            "0.821638 (0.012907) with: {'batch_size': 32, 'epochs': 50}\n",
            "0.830077 (0.016036) with: {'batch_size': 32, 'epochs': 100}\n",
            "0.807591 (0.017595) with: {'batch_size': 64, 'epochs': 50}\n",
            "0.820232 (0.017600) with: {'batch_size': 64, 'epochs': 100}\n"
          ]
        }
      ]
    },
    {
      "cell_type": "markdown",
      "source": [
        "### 3.2.2. Optimization Algorithm"
      ],
      "metadata": {
        "id": "CSF1lAaqEPAq"
      }
    },
    {
      "cell_type": "code",
      "source": [
        "# create model\n",
        "model = KerasClassifier(build_fn=create_model, epochs=50, batch_size=32, verbose=0)\n",
        "\n",
        "# define the grid search parameters\n",
        "optimizer = ['SGD', 'RMSprop', 'Adagrad', 'Adadelta', 'Adam', 'Nadam']\n",
        "param_grid = dict(opt=optimizer)\n",
        "\n",
        "# search the grid\n",
        "grid = GridSearchCV(estimator=model, param_grid=param_grid, verbose=2)\n",
        "grid_result = grid.fit(X_train, y_train)"
      ],
      "metadata": {
        "id": "TkKv26igEOrA",
        "colab": {
          "base_uri": "https://localhost:8080/"
        },
        "outputId": "cb9c4f6a-eb8a-44c7-a0b5-ad7901575abd"
      },
      "execution_count": 24,
      "outputs": [
        {
          "output_type": "stream",
          "name": "stdout",
          "text": [
            "Fitting 5 folds for each of 6 candidates, totalling 30 fits\n"
          ]
        },
        {
          "output_type": "stream",
          "name": "stderr",
          "text": [
            "<ipython-input-24-9b82b8083fd3>:2: DeprecationWarning: KerasClassifier is deprecated, use Sci-Keras (https://github.com/adriangb/scikeras) instead. See https://www.adriangb.com/scikeras/stable/migration.html for help migrating.\n",
            "  model = KerasClassifier(build_fn=create_model, epochs=50, batch_size=32, verbose=0)\n"
          ]
        },
        {
          "output_type": "stream",
          "name": "stdout",
          "text": [
            "[CV] END ............................................opt=SGD; total time=   2.4s\n",
            "[CV] END ............................................opt=SGD; total time=   3.2s\n",
            "[CV] END ............................................opt=SGD; total time=   1.7s\n",
            "[CV] END ............................................opt=SGD; total time=   1.9s\n",
            "[CV] END ............................................opt=SGD; total time=   1.9s\n",
            "[CV] END ........................................opt=RMSprop; total time=   2.0s\n",
            "[CV] END ........................................opt=RMSprop; total time=   2.0s\n",
            "[CV] END ........................................opt=RMSprop; total time=   1.9s\n",
            "[CV] END ........................................opt=RMSprop; total time=   2.0s\n",
            "[CV] END ........................................opt=RMSprop; total time=   2.0s\n",
            "[CV] END ........................................opt=Adagrad; total time=   1.8s\n",
            "[CV] END ........................................opt=Adagrad; total time=   1.9s\n",
            "[CV] END ........................................opt=Adagrad; total time=   2.1s\n",
            "[CV] END ........................................opt=Adagrad; total time=   1.8s\n",
            "[CV] END ........................................opt=Adagrad; total time=   1.9s\n",
            "[CV] END .......................................opt=Adadelta; total time=   1.9s\n",
            "[CV] END .......................................opt=Adadelta; total time=   1.9s\n",
            "[CV] END .......................................opt=Adadelta; total time=   1.9s\n",
            "[CV] END .......................................opt=Adadelta; total time=   1.9s\n",
            "[CV] END .......................................opt=Adadelta; total time=   1.9s\n",
            "[CV] END ...........................................opt=Adam; total time=   1.9s\n",
            "[CV] END ...........................................opt=Adam; total time=   1.8s\n",
            "[CV] END ...........................................opt=Adam; total time=   1.9s\n",
            "[CV] END ...........................................opt=Adam; total time=   1.9s\n",
            "[CV] END ...........................................opt=Adam; total time=   1.9s\n",
            "[CV] END ..........................................opt=Nadam; total time=   3.5s\n",
            "[CV] END ..........................................opt=Nadam; total time=   3.5s\n",
            "[CV] END ..........................................opt=Nadam; total time=   2.6s\n",
            "[CV] END ..........................................opt=Nadam; total time=   2.2s\n",
            "[CV] END ..........................................opt=Nadam; total time=   2.2s\n"
          ]
        }
      ]
    },
    {
      "cell_type": "code",
      "source": [
        "# summarize results\n",
        "print(\"Best: %f using %s\" % (grid_result.best_score_, grid_result.best_params_))\n",
        "means = grid_result.cv_results_['mean_test_score']\n",
        "stds = grid_result.cv_results_['std_test_score']\n",
        "params = grid_result.cv_results_['params']\n",
        "for mean, stdev, param in zip(means, stds, params):\n",
        "    print(\"%f (%f) with: %r\" % (mean, stdev, param))"
      ],
      "metadata": {
        "colab": {
          "base_uri": "https://localhost:8080/"
        },
        "id": "rKpt9fPBESt7",
        "outputId": "578c6dbe-0ce4-4106-faba-f525dc788c2f"
      },
      "execution_count": 25,
      "outputs": [
        {
          "output_type": "stream",
          "name": "stdout",
          "text": [
            "Best: 0.823008 using {'opt': 'Adam'}\n",
            "0.800492 (0.032956) with: {'opt': 'SGD'}\n",
            "0.821600 (0.020446) with: {'opt': 'RMSprop'}\n",
            "0.257008 (0.025227) with: {'opt': 'Adagrad'}\n",
            "0.254171 (0.035641) with: {'opt': 'Adadelta'}\n",
            "0.823008 (0.021270) with: {'opt': 'Adam'}\n",
            "0.823008 (0.021270) with: {'opt': 'Nadam'}\n"
          ]
        }
      ]
    },
    {
      "cell_type": "markdown",
      "source": [
        "### 3.2.3. Hidden neurons"
      ],
      "metadata": {
        "id": "YMxcOu7lp6WQ"
      }
    },
    {
      "cell_type": "code",
      "source": [
        "seed(42)\n",
        "set_seed(42)\n",
        "\n",
        "# create model\n",
        "model = KerasClassifier(build_fn=create_model, \n",
        "                        epochs=50, batch_size=32, verbose=0)\n",
        "\n",
        "# define the grid search parameters\n",
        "layers = [[8],[10],[10,5],[12,6],[12,8,4]]\n",
        "param_grid = dict(lyrs=layers)\n",
        "\n",
        "# search the grid\n",
        "grid = GridSearchCV(estimator=model, param_grid=param_grid, verbose=2)\n",
        "grid_result = grid.fit(X_train, y_train)"
      ],
      "metadata": {
        "id": "8YVFt_irp7D0",
        "colab": {
          "base_uri": "https://localhost:8080/"
        },
        "outputId": "75d11350-4554-45fe-85b3-0283ed023fba"
      },
      "execution_count": 26,
      "outputs": [
        {
          "output_type": "stream",
          "name": "stdout",
          "text": [
            "Fitting 5 folds for each of 5 candidates, totalling 25 fits\n"
          ]
        },
        {
          "output_type": "stream",
          "name": "stderr",
          "text": [
            "<ipython-input-26-870744a6114d>:5: DeprecationWarning: KerasClassifier is deprecated, use Sci-Keras (https://github.com/adriangb/scikeras) instead. See https://www.adriangb.com/scikeras/stable/migration.html for help migrating.\n",
            "  model = KerasClassifier(build_fn=create_model,\n"
          ]
        },
        {
          "output_type": "stream",
          "name": "stdout",
          "text": [
            "[CV] END ...........................................lyrs=[8]; total time=   1.9s\n",
            "[CV] END ...........................................lyrs=[8]; total time=   1.9s\n",
            "[CV] END ...........................................lyrs=[8]; total time=   1.9s\n",
            "[CV] END ...........................................lyrs=[8]; total time=   1.9s\n",
            "[CV] END ...........................................lyrs=[8]; total time=   1.9s\n",
            "[CV] END ..........................................lyrs=[10]; total time=   1.9s\n",
            "[CV] END ..........................................lyrs=[10]; total time=   1.8s\n",
            "[CV] END ..........................................lyrs=[10]; total time=   1.9s\n",
            "[CV] END ..........................................lyrs=[10]; total time=   2.2s\n",
            "[CV] END ..........................................lyrs=[10]; total time=   1.9s\n",
            "[CV] END .......................................lyrs=[10, 5]; total time=   2.0s\n",
            "[CV] END .......................................lyrs=[10, 5]; total time=   2.0s\n",
            "[CV] END .......................................lyrs=[10, 5]; total time=   1.9s\n",
            "[CV] END .......................................lyrs=[10, 5]; total time=   2.0s\n",
            "[CV] END .......................................lyrs=[10, 5]; total time=   2.0s\n",
            "[CV] END .......................................lyrs=[12, 6]; total time=   2.0s\n",
            "[CV] END .......................................lyrs=[12, 6]; total time=   2.0s\n",
            "[CV] END .......................................lyrs=[12, 6]; total time=   2.0s\n",
            "[CV] END .......................................lyrs=[12, 6]; total time=   2.0s\n",
            "[CV] END .......................................lyrs=[12, 6]; total time=   2.0s\n",
            "[CV] END ....................................lyrs=[12, 8, 4]; total time=   3.3s\n",
            "[CV] END ....................................lyrs=[12, 8, 4]; total time=   3.3s\n",
            "[CV] END ....................................lyrs=[12, 8, 4]; total time=   3.7s\n",
            "[CV] END ....................................lyrs=[12, 8, 4]; total time=   3.3s\n",
            "[CV] END ....................................lyrs=[12, 8, 4]; total time=   2.1s\n"
          ]
        }
      ]
    },
    {
      "cell_type": "code",
      "source": [
        "# summarize results\n",
        "print(\"Best: %f using %s\" % (grid_result.best_score_, grid_result.best_params_))\n",
        "means = grid_result.cv_results_['mean_test_score']\n",
        "stds = grid_result.cv_results_['std_test_score']\n",
        "params = grid_result.cv_results_['params']\n",
        "for mean, stdev, param in zip(means, stds, params):\n",
        "    print(\"%f (%f) with: %r\" % (mean, stdev, param))"
      ],
      "metadata": {
        "id": "bsV9KMk4p-Wb",
        "colab": {
          "base_uri": "https://localhost:8080/"
        },
        "outputId": "282182c9-d6c3-431f-f6c9-5e67ab16667a"
      },
      "execution_count": 27,
      "outputs": [
        {
          "output_type": "stream",
          "name": "stdout",
          "text": [
            "Best: 0.831449 using {'lyrs': [12, 8, 4]}\n",
            "0.823008 (0.021270) with: {'lyrs': [8]}\n",
            "0.830031 (0.017697) with: {'lyrs': [10]}\n",
            "0.831439 (0.019579) with: {'lyrs': [10, 5]}\n",
            "0.831439 (0.019579) with: {'lyrs': [12, 6]}\n",
            "0.831449 (0.017335) with: {'lyrs': [12, 8, 4]}\n"
          ]
        }
      ]
    },
    {
      "cell_type": "markdown",
      "source": [
        "### 3.2.4. Dropout"
      ],
      "metadata": {
        "id": "tqUWxJ6nqAnB"
      }
    },
    {
      "cell_type": "code",
      "source": [
        "# create model\n",
        "model = KerasClassifier(build_fn=create_model, \n",
        "                        epochs=50, batch_size=32, verbose=0)\n",
        "\n",
        "# define the grid search parameters\n",
        "drops = [0.0, 0.01, 0.05, 0.1, 0.2, 0.5]\n",
        "param_grid = dict(dr=drops)\n",
        "grid = GridSearchCV(estimator=model, param_grid=param_grid, verbose=2)\n",
        "grid_result = grid.fit(X_train, y_train)"
      ],
      "metadata": {
        "id": "xK2MSRpPqC7I",
        "colab": {
          "base_uri": "https://localhost:8080/"
        },
        "outputId": "28944e07-0ff8-4b41-eb86-f625e2142619"
      },
      "execution_count": 28,
      "outputs": [
        {
          "output_type": "stream",
          "name": "stdout",
          "text": [
            "Fitting 5 folds for each of 6 candidates, totalling 30 fits\n"
          ]
        },
        {
          "output_type": "stream",
          "name": "stderr",
          "text": [
            "<ipython-input-28-77855fcf2344>:2: DeprecationWarning: KerasClassifier is deprecated, use Sci-Keras (https://github.com/adriangb/scikeras) instead. See https://www.adriangb.com/scikeras/stable/migration.html for help migrating.\n",
            "  model = KerasClassifier(build_fn=create_model,\n"
          ]
        },
        {
          "output_type": "stream",
          "name": "stdout",
          "text": [
            "[CV] END .............................................dr=0.0; total time=   2.0s\n",
            "[CV] END .............................................dr=0.0; total time=   1.9s\n",
            "[CV] END .............................................dr=0.0; total time=   1.9s\n",
            "[CV] END .............................................dr=0.0; total time=   1.9s\n",
            "[CV] END .............................................dr=0.0; total time=   1.9s\n",
            "[CV] END ............................................dr=0.01; total time=   2.0s\n",
            "[CV] END ............................................dr=0.01; total time=   1.9s\n",
            "[CV] END ............................................dr=0.01; total time=   2.0s\n",
            "[CV] END ............................................dr=0.01; total time=   1.9s\n",
            "[CV] END ............................................dr=0.01; total time=   2.3s\n",
            "[CV] END ............................................dr=0.05; total time=   2.0s\n",
            "[CV] END ............................................dr=0.05; total time=   1.9s\n",
            "[CV] END ............................................dr=0.05; total time=   2.0s\n",
            "[CV] END ............................................dr=0.05; total time=   2.0s\n",
            "[CV] END ............................................dr=0.05; total time=   2.0s\n",
            "[CV] END .............................................dr=0.1; total time=   2.0s\n",
            "[CV] END .............................................dr=0.1; total time=   2.0s\n",
            "[CV] END .............................................dr=0.1; total time=   1.9s\n",
            "[CV] END .............................................dr=0.1; total time=   2.0s\n",
            "[CV] END .............................................dr=0.1; total time=   1.9s\n",
            "[CV] END .............................................dr=0.2; total time=   2.0s\n",
            "[CV] END .............................................dr=0.2; total time=   1.9s\n",
            "[CV] END .............................................dr=0.2; total time=   2.0s\n",
            "[CV] END .............................................dr=0.2; total time=   2.3s\n",
            "[CV] END .............................................dr=0.2; total time=   2.0s\n",
            "[CV] END .............................................dr=0.5; total time=   2.0s\n",
            "[CV] END .............................................dr=0.5; total time=   2.0s\n",
            "[CV] END .............................................dr=0.5; total time=   2.0s\n",
            "[CV] END .............................................dr=0.5; total time=   1.9s\n",
            "[CV] END .............................................dr=0.5; total time=   2.0s\n"
          ]
        }
      ]
    },
    {
      "cell_type": "code",
      "source": [
        "# summarize results\n",
        "print(\"Best: %f using %s\" % (grid_result.best_score_, grid_result.best_params_))\n",
        "means = grid_result.cv_results_['mean_test_score']\n",
        "stds = grid_result.cv_results_['std_test_score']\n",
        "params = grid_result.cv_results_['params']\n",
        "for mean, stdev, param in zip(means, stds, params):\n",
        "    print(\"%f (%f) with: %r\" % (mean, stdev, param))"
      ],
      "metadata": {
        "colab": {
          "base_uri": "https://localhost:8080/"
        },
        "id": "hI_cpHoLqE2S",
        "outputId": "c4d21165-804c-4806-ddc2-9dbbaefd437c"
      },
      "execution_count": 29,
      "outputs": [
        {
          "output_type": "stream",
          "name": "stdout",
          "text": [
            "Best: 0.825825 using {'dr': 0.1}\n",
            "0.823008 (0.021270) with: {'dr': 0.0}\n",
            "0.824416 (0.018546) with: {'dr': 0.01}\n",
            "0.824416 (0.018546) with: {'dr': 0.05}\n",
            "0.825825 (0.019246) with: {'dr': 0.1}\n",
            "0.825825 (0.019246) with: {'dr': 0.2}\n",
            "0.824426 (0.028554) with: {'dr': 0.5}\n"
          ]
        }
      ]
    },
    {
      "cell_type": "code",
      "source": [
        "# create final model\n",
        "model = create_model(lyrs=[8], dr=0.2)\n",
        "\n",
        "print(model.summary())"
      ],
      "metadata": {
        "colab": {
          "base_uri": "https://localhost:8080/"
        },
        "id": "8-qBvKahqGio",
        "outputId": "7581636d-969b-4957-e693-04204c31c931"
      },
      "execution_count": 30,
      "outputs": [
        {
          "output_type": "stream",
          "name": "stdout",
          "text": [
            "Model: \"sequential_108\"\n",
            "_________________________________________________________________\n",
            " Layer (type)                Output Shape              Param #   \n",
            "=================================================================\n",
            " dense_238 (Dense)           (None, 8)                 136       \n",
            "                                                                 \n",
            " dropout_108 (Dropout)       (None, 8)                 0         \n",
            "                                                                 \n",
            " dense_239 (Dense)           (None, 1)                 9         \n",
            "                                                                 \n",
            "=================================================================\n",
            "Total params: 145\n",
            "Trainable params: 145\n",
            "Non-trainable params: 0\n",
            "_________________________________________________________________\n",
            "None\n"
          ]
        }
      ]
    },
    {
      "cell_type": "code",
      "source": [
        "# train model on full train set, with 80/20 CV split\n",
        "training = model.fit(X_train, y_train, epochs=50, batch_size=32, \n",
        "                     validation_split=0.2, verbose=0)\n",
        "\n",
        "# evaluate the model\n",
        "scores = model.evaluate(X_train, y_train)\n",
        "print(\"\\n%s: %.2f%%\" % (model.metrics_names[1], scores[1]*100))"
      ],
      "metadata": {
        "colab": {
          "base_uri": "https://localhost:8080/"
        },
        "id": "bXLHWnFzqIdn",
        "outputId": "0365faaf-a44b-4cec-a92a-d85c5e9cd908"
      },
      "execution_count": 31,
      "outputs": [
        {
          "output_type": "stream",
          "name": "stdout",
          "text": [
            "23/23 [==============================] - 0s 1ms/step - loss: 0.4196 - accuracy: 0.8272\n",
            "\n",
            "accuracy: 82.72%\n"
          ]
        }
      ]
    },
    {
      "cell_type": "code",
      "source": [
        "# summarize history for accuracy\n",
        "plt.plot(training.history['accuracy'])\n",
        "plt.plot(training.history['val_accuracy'])\n",
        "plt.title('model accuracy')\n",
        "plt.ylabel('accuracy')\n",
        "plt.xlabel('epoch')\n",
        "plt.legend(['train', 'validation'], loc='upper left')\n",
        "plt.show()"
      ],
      "metadata": {
        "colab": {
          "base_uri": "https://localhost:8080/",
          "height": 627
        },
        "id": "3XjT7P1bqKQY",
        "outputId": "4bf5855d-0566-41b1-f8a7-17eae7aa171c"
      },
      "execution_count": 32,
      "outputs": [
        {
          "output_type": "display_data",
          "data": {
            "text/plain": [
              "<Figure size 1080x720 with 1 Axes>"
            ],
            "image/png": "[encoded data removed]"
          },
          "metadata": {}
        }
      ]
    },
    {
      "cell_type": "markdown",
      "source": [
        "## 3.3. Make Predictions on Test Set\n",
        "[Back to Top](#scrollTo=3jq6wLfnS5_o)\n",
        "\n",
        "Finally, we can attempt to predict which passengers in the test set survived."
      ],
      "metadata": {
        "id": "kN6l8ZFaqNAm"
      }
    },
    {
      "cell_type": "code",
      "source": [
        "# calculate predictions\n",
        "unlabeled['Survived'] = model.predict(X_unlabeled)\n",
        "unlabeled['Survived'] = unlabeled['Survived'].apply(lambda x: round(x,0)).astype('int')\n",
        "solution = unlabeled[['PassengerId', 'Survived']]"
      ],
      "metadata": {
        "colab": {
          "base_uri": "https://localhost:8080/"
        },
        "id": "y5xujiv9qPN1",
        "outputId": "a65ee597-06f4-4431-ea0f-b712e3a73041"
      },
      "execution_count": 33,
      "outputs": [
        {
          "output_type": "stream",
          "name": "stdout",
          "text": [
            "14/14 [==============================] - 0s 1ms/step\n"
          ]
        }
      ]
    },
    {
      "cell_type": "code",
      "source": [
        "solution.head(10)"
      ],
      "metadata": {
        "colab": {
          "base_uri": "https://localhost:8080/",
          "height": 363
        },
        "id": "WcMOM5VXqQxp",
        "outputId": "37d21512-f19e-4547-e7e6-08f165366b06"
      },
      "execution_count": 34,
      "outputs": [
        {
          "output_type": "execute_result",
          "data": {
            "text/plain": [
              "   PassengerId  Survived\n",
              "0          892         0\n",
              "1          893         1\n",
              "2          894         0\n",
              "3          895         0\n",
              "4          896         1\n",
              "5          897         0\n",
              "6          898         1\n",
              "7          899         0\n",
              "8          900         1\n",
              "9          901         0"
            ],
            "text/html": [
              "\n",
              "  <div id=\"df-3828d0e2-52ae-4f76-a37c-aeb3b29e7f57\">\n",
              "    <div class=\"colab-df-container\">\n",
              "      <div>\n",
              "<style scoped>\n",
              "    .dataframe tbody tr th:only-of-type {\n",
              "        vertical-align: middle;\n",
              "    }\n",
              "\n",
              "    .dataframe tbody tr th {\n",
              "        vertical-align: top;\n",
              "    }\n",
              "\n",
              "    .dataframe thead th {\n",
              "        text-align: right;\n",
              "    }\n",
              "</style>\n",
              "<table border=\"1\" class=\"dataframe\">\n",
              "  <thead>\n",
              "    <tr style=\"text-align: right;\">\n",
              "      <th></th>\n",
              "      <th>PassengerId</th>\n",
              "      <th>Survived</th>\n",
              "    </tr>\n",
              "  </thead>\n",
              "  <tbody>\n",
              "    <tr>\n",
              "      <th>0</th>\n",
              "      <td>892</td>\n",
              "      <td>0</td>\n",
              "    </tr>\n",
              "    <tr>\n",
              "      <th>1</th>\n",
              "      <td>893</td>\n",
              "      <td>1</td>\n",
              "    </tr>\n",
              "    <tr>\n",
              "      <th>2</th>\n",
              "      <td>894</td>\n",
              "      <td>0</td>\n",
              "    </tr>\n",
              "    <tr>\n",
              "      <th>3</th>\n",
              "      <td>895</td>\n",
              "      <td>0</td>\n",
              "    </tr>\n",
              "    <tr>\n",
              "      <th>4</th>\n",
              "      <td>896</td>\n",
              "      <td>1</td>\n",
              "    </tr>\n",
              "    <tr>\n",
              "      <th>5</th>\n",
              "      <td>897</td>\n",
              "      <td>0</td>\n",
              "    </tr>\n",
              "    <tr>\n",
              "      <th>6</th>\n",
              "      <td>898</td>\n",
              "      <td>1</td>\n",
              "    </tr>\n",
              "    <tr>\n",
              "      <th>7</th>\n",
              "      <td>899</td>\n",
              "      <td>0</td>\n",
              "    </tr>\n",
              "    <tr>\n",
              "      <th>8</th>\n",
              "      <td>900</td>\n",
              "      <td>1</td>\n",
              "    </tr>\n",
              "    <tr>\n",
              "      <th>9</th>\n",
              "      <td>901</td>\n",
              "      <td>0</td>\n",
              "    </tr>\n",
              "  </tbody>\n",
              "</table>\n",
              "</div>\n",
              "      <button class=\"colab-df-convert\" onclick=\"convertToInteractive('df-3828d0e2-52ae-4f76-a37c-aeb3b29e7f57')\"\n",
              "              title=\"Convert this dataframe to an interactive table.\"\n",
              "              style=\"display:none;\">\n",
              "        \n",
              "  <svg xmlns=\"http://www.w3.org/2000/svg\" height=\"24px\"viewBox=\"0 0 24 24\"\n",
              "       width=\"24px\">\n",
              "    <path d=\"M0 0h24v24H0V0z\" fill=\"none\"/>\n",
              "    <path d=\"M18.56 5.44l.94 2.06.94-2.06 2.06-.94-2.06-.94-.94-2.06-.94 2.06-2.06.94zm-11 1L8.5 8.5l.94-2.06 2.06-.94-2.06-.94L8.5 2.5l-.94 2.06-2.06.94zm10 10l.94 2.06.94-2.06 2.06-.94-2.06-.94-.94-2.06-.94 2.06-2.06.94z\"/><path d=\"M17.41 7.96l-1.37-1.37c-.4-.4-.92-.59-1.43-.59-.52 0-1.04.2-1.43.59L10.3 9.45l-7.72 7.72c-.78.78-.78 2.05 0 2.83L4 21.41c.39.39.9.59 1.41.59.51 0 1.02-.2 1.41-.59l7.78-7.78 2.81-2.81c.8-.78.8-2.07 0-2.86zM5.41 20L4 18.59l7.72-7.72 1.47 1.35L5.41 20z\"/>\n",
              "  </svg>\n",
              "      </button>\n",
              "      \n",
              "  <style>\n",
              "    .colab-df-container {\n",
              "      display:flex;\n",
              "      flex-wrap:wrap;\n",
              "      gap: 12px;\n",
              "    }\n",
              "\n",
              "    .colab-df-convert {\n",
              "      background-color: #E8F0FE;\n",
              "      border: none;\n",
              "      border-radius: 50%;\n",
              "      cursor: pointer;\n",
              "      display: none;\n",
              "      fill: #1967D2;\n",
              "      height: 32px;\n",
              "      padding: 0 0 0 0;\n",
              "      width: 32px;\n",
              "    }\n",
              "\n",
              "    .colab-df-convert:hover {\n",
              "      background-color: #E2EBFA;\n",
              "      box-shadow: 0px 1px 2px rgba(60, 64, 67, 0.3), 0px 1px 3px 1px rgba(60, 64, 67, 0.15);\n",
              "      fill: #174EA6;\n",
              "    }\n",
              "\n",
              "    [theme=dark] .colab-df-convert {\n",
              "      background-color: #3B4455;\n",
              "      fill: #D2E3FC;\n",
              "    }\n",
              "\n",
              "    [theme=dark] .colab-df-convert:hover {\n",
              "      background-color: #434B5C;\n",
              "      box-shadow: 0px 1px 3px 1px rgba(0, 0, 0, 0.15);\n",
              "      filter: drop-shadow(0px 1px 2px rgba(0, 0, 0, 0.3));\n",
              "      fill: #FFFFFF;\n",
              "    }\n",
              "  </style>\n",
              "\n",
              "      <script>\n",
              "        const buttonEl =\n",
              "          document.querySelector('#df-3828d0e2-52ae-4f76-a37c-aeb3b29e7f57 button.colab-df-convert');\n",
              "        buttonEl.style.display =\n",
              "          google.colab.kernel.accessAllowed ? 'block' : 'none';\n",
              "\n",
              "        async function convertToInteractive(key) {\n",
              "          const element = document.querySelector('#df-3828d0e2-52ae-4f76-a37c-aeb3b29e7f57');\n",
              "          const dataTable =\n",
              "            await google.colab.kernel.invokeFunction('convertToInteractive',\n",
              "                                                     [key], {});\n",
              "          if (!dataTable) return;\n",
              "\n",
              "          const docLinkHtml = 'Like what you see? Visit the ' +\n",
              "            '<a target=\"_blank\" href=https://colab.research.google.com/notebooks/data_table.ipynb>data table notebook</a>'\n",
              "            + ' to learn more about interactive tables.';\n",
              "          element.innerHTML = '';\n",
              "          dataTable['output_type'] = 'display_data';\n",
              "          await google.colab.output.renderOutput(dataTable, element);\n",
              "          const docLink = document.createElement('div');\n",
              "          docLink.innerHTML = docLinkHtml;\n",
              "          element.appendChild(docLink);\n",
              "        }\n",
              "      </script>\n",
              "    </div>\n",
              "  </div>\n",
              "  "
            ]
          },
          "metadata": {},
          "execution_count": 34
        }
      ]
    },
    {
      "cell_type": "markdown",
      "source": [
        "## 3.4. Output Final Predictions\n",
        "\n",
        "[Back to Top](#scrollTo=3jq6wLfnS5_o)\n"
      ],
      "metadata": {
        "id": "4Qcj66VhqS8M"
      }
    },
    {
      "cell_type": "code",
      "source": [
        "solution.to_csv(\"../output/Neural_Network_Solution.csv\", index=False)"
      ],
      "metadata": {
        "id": "WnTj0p4OqVLD"
      },
      "execution_count": 35,
      "outputs": []
    },
    {
      "cell_type": "markdown",
      "source": [
        "# Try out other Classifiers"
      ],
      "metadata": {
        "id": "Hwjg3UUJVdK6"
      }
    },
    {
      "cell_type": "markdown",
      "source": [
        "## Logistic Regression\n",
        "[Back to Top](#scrollTo=3jq6wLfnS5_o)"
      ],
      "metadata": {
        "id": "v2_iNytuyLp7"
      }
    },
    {
      "cell_type": "markdown",
      "source": [
        "Define the model:"
      ],
      "metadata": {
        "id": "lcLbCgvA3sWt"
      }
    },
    {
      "cell_type": "code",
      "source": [
        "lr = LogisticRegression(penalty='none', max_iter = 1000)"
      ],
      "metadata": {
        "id": "3Q7CX0jr-zPQ"
      },
      "execution_count": 36,
      "outputs": []
    },
    {
      "cell_type": "markdown",
      "source": [
        "Fit the model:"
      ],
      "metadata": {
        "id": "6rfu4Wk53xIj"
      }
    },
    {
      "cell_type": "code",
      "source": [
        "seed(42)\n",
        "set_seed(42)\n",
        "lr.fit(X_train, y_train)"
      ],
      "metadata": {
        "colab": {
          "base_uri": "https://localhost:8080/"
        },
        "id": "ydMMkjF__EsH",
        "outputId": "d1694265-8691-467e-bed1-0da88d4c82fb"
      },
      "execution_count": 37,
      "outputs": [
        {
          "output_type": "execute_result",
          "data": {
            "text/plain": [
              "LogisticRegression(max_iter=1000, penalty='none')"
            ]
          },
          "metadata": {},
          "execution_count": 37
        }
      ]
    },
    {
      "cell_type": "markdown",
      "source": [
        "Test the fit:"
      ],
      "metadata": {
        "id": "Ff45-lrp35BL"
      }
    },
    {
      "cell_type": "code",
      "source": [
        "accuracy_score(y_test, lr.predict(X_test))"
      ],
      "metadata": {
        "colab": {
          "base_uri": "https://localhost:8080/"
        },
        "id": "YJink3nY_JDw",
        "outputId": "9e805952-af79-474a-9401-b9897905db8f"
      },
      "execution_count": 38,
      "outputs": [
        {
          "output_type": "execute_result",
          "data": {
            "text/plain": [
              "0.8100558659217877"
            ]
          },
          "metadata": {},
          "execution_count": 38
        }
      ]
    },
    {
      "cell_type": "markdown",
      "source": [
        "### Lasso"
      ],
      "metadata": {
        "id": "0HpdwY4g_RvR"
      }
    },
    {
      "cell_type": "code",
      "source": [
        "lasso = LogisticRegression(penalty='l1', C=1, solver='liblinear', max_iter = 1000)"
      ],
      "metadata": {
        "id": "zGAhBfdn_U2P"
      },
      "execution_count": 39,
      "outputs": []
    },
    {
      "cell_type": "code",
      "source": [
        "seed(42)\n",
        "set_seed(42)\n",
        "lasso.fit(X_train, y_train)"
      ],
      "metadata": {
        "colab": {
          "base_uri": "https://localhost:8080/"
        },
        "outputId": "8d6b3b7d-6ada-4c38-d2a3-bbc0ecc41b02",
        "id": "td1lMWOl_lLq"
      },
      "execution_count": 40,
      "outputs": [
        {
          "output_type": "execute_result",
          "data": {
            "text/plain": [
              "LogisticRegression(C=1, max_iter=1000, penalty='l1', solver='liblinear')"
            ]
          },
          "metadata": {},
          "execution_count": 40
        }
      ]
    },
    {
      "cell_type": "code",
      "source": [
        "accuracy_score(y_test, lasso.predict(X_test))"
      ],
      "metadata": {
        "colab": {
          "base_uri": "https://localhost:8080/"
        },
        "outputId": "0e6dc06a-9e99-48c6-f61b-dd76e5a3ce13",
        "id": "J4vezoF9_lLr"
      },
      "execution_count": 41,
      "outputs": [
        {
          "output_type": "execute_result",
          "data": {
            "text/plain": [
              "0.8212290502793296"
            ]
          },
          "metadata": {},
          "execution_count": 41
        }
      ]
    },
    {
      "cell_type": "markdown",
      "source": [
        "### Ridge"
      ],
      "metadata": {
        "id": "8IRP1aGt_TR-"
      }
    },
    {
      "cell_type": "code",
      "source": [
        "ridge = LogisticRegression(penalty='l2', C=1, solver='liblinear', max_iter = 1000)"
      ],
      "metadata": {
        "id": "qJjmqddx_aHA"
      },
      "execution_count": 42,
      "outputs": []
    },
    {
      "cell_type": "code",
      "source": [
        "seed(42)\n",
        "set_seed(42)\n",
        "ridge.fit(X_train, y_train)"
      ],
      "metadata": {
        "colab": {
          "base_uri": "https://localhost:8080/"
        },
        "outputId": "4b0e6f05-70d2-4247-eb85-7d2b81b32352",
        "id": "gOs2Q_4n_l8i"
      },
      "execution_count": 43,
      "outputs": [
        {
          "output_type": "execute_result",
          "data": {
            "text/plain": [
              "LogisticRegression(C=1, max_iter=1000, solver='liblinear')"
            ]
          },
          "metadata": {},
          "execution_count": 43
        }
      ]
    },
    {
      "cell_type": "code",
      "source": [
        "accuracy_score(y_test, ridge.predict(X_test))"
      ],
      "metadata": {
        "colab": {
          "base_uri": "https://localhost:8080/"
        },
        "outputId": "69e9a01c-f43d-4228-ebaa-a54ef3cc7c5c",
        "id": "6TXJSzxE_l8j"
      },
      "execution_count": 44,
      "outputs": [
        {
          "output_type": "execute_result",
          "data": {
            "text/plain": [
              "0.8156424581005587"
            ]
          },
          "metadata": {},
          "execution_count": 44
        }
      ]
    },
    {
      "cell_type": "markdown",
      "source": [
        "## Random Forrest\n",
        "[Back to Top](#scrollTo=3jq6wLfnS5_o)"
      ],
      "metadata": {
        "id": "yIwgxa3pyQXn"
      }
    },
    {
      "cell_type": "code",
      "source": [
        "rf = RandomForestClassifier(random_state=42)"
      ],
      "metadata": {
        "id": "8E5avVfezocC"
      },
      "execution_count": 45,
      "outputs": []
    },
    {
      "cell_type": "code",
      "source": [
        "rf.fit(X_train, y_train)"
      ],
      "metadata": {
        "colab": {
          "base_uri": "https://localhost:8080/"
        },
        "id": "FCYBc7wP3ut9",
        "outputId": "fd0eca81-4145-4929-8dc4-80ca2455e4da"
      },
      "execution_count": 46,
      "outputs": [
        {
          "output_type": "execute_result",
          "data": {
            "text/plain": [
              "RandomForestClassifier(random_state=42)"
            ]
          },
          "metadata": {},
          "execution_count": 46
        }
      ]
    },
    {
      "cell_type": "code",
      "source": [
        "accuracy_score(y_test, rf.predict(X_test))"
      ],
      "metadata": {
        "colab": {
          "base_uri": "https://localhost:8080/"
        },
        "id": "25kcRd8637nK",
        "outputId": "e0ce7b9e-4de1-43be-9771-87a98ddb438f"
      },
      "execution_count": 47,
      "outputs": [
        {
          "output_type": "execute_result",
          "data": {
            "text/plain": [
              "0.8379888268156425"
            ]
          },
          "metadata": {},
          "execution_count": 47
        }
      ]
    },
    {
      "cell_type": "markdown",
      "source": [
        "## SVCs\n",
        "[Back to Top](#scrollTo=3jq6wLfnS5_o)"
      ],
      "metadata": {
        "id": "m8j517wzyVIH"
      }
    },
    {
      "cell_type": "markdown",
      "source": [
        "### Linear SVC"
      ],
      "metadata": {
        "id": "-maaZzPJA5iL"
      }
    },
    {
      "cell_type": "code",
      "source": [
        "svc_lin = SVC(kernel='linear')"
      ],
      "metadata": {
        "id": "3sTvjA3ozppq"
      },
      "execution_count": 48,
      "outputs": []
    },
    {
      "cell_type": "code",
      "source": [
        "seed(42)\n",
        "set_seed(42)\n",
        "svc_lin.fit(X_train, y_train)"
      ],
      "metadata": {
        "colab": {
          "base_uri": "https://localhost:8080/"
        },
        "outputId": "7b5a74ac-ffde-4e93-9b9e-3d66850c6b3b",
        "id": "GPtkCHJUAKTw"
      },
      "execution_count": 49,
      "outputs": [
        {
          "output_type": "execute_result",
          "data": {
            "text/plain": [
              "SVC(kernel='linear')"
            ]
          },
          "metadata": {},
          "execution_count": 49
        }
      ]
    },
    {
      "cell_type": "code",
      "source": [
        "accuracy_score(y_test, svc_lin.predict(X_test))"
      ],
      "metadata": {
        "colab": {
          "base_uri": "https://localhost:8080/"
        },
        "outputId": "9e2e8c6e-5d3f-45a2-a0d0-a72482cc0b25",
        "id": "Z8Fqs8sPAKTx"
      },
      "execution_count": 50,
      "outputs": [
        {
          "output_type": "execute_result",
          "data": {
            "text/plain": [
              "0.8212290502793296"
            ]
          },
          "metadata": {},
          "execution_count": 50
        }
      ]
    },
    {
      "cell_type": "markdown",
      "source": [
        "### Polynomial SVC"
      ],
      "metadata": {
        "id": "b8XLFSRaA9W0"
      }
    },
    {
      "cell_type": "code",
      "source": [
        "svc_pol = SVC(kernel='poly', degree=4)"
      ],
      "metadata": {
        "id": "PCtSGyTzBGnO"
      },
      "execution_count": 51,
      "outputs": []
    },
    {
      "cell_type": "code",
      "source": [
        "seed(42)\n",
        "set_seed(42)\n",
        "svc_pol.fit(X_train, y_train)"
      ],
      "metadata": {
        "colab": {
          "base_uri": "https://localhost:8080/"
        },
        "outputId": "4b64a8b7-57e1-44dc-b971-8ed77ad71f2f",
        "id": "o1Ld0fL0BLlv"
      },
      "execution_count": 52,
      "outputs": [
        {
          "output_type": "execute_result",
          "data": {
            "text/plain": [
              "SVC(degree=4, kernel='poly')"
            ]
          },
          "metadata": {},
          "execution_count": 52
        }
      ]
    },
    {
      "cell_type": "code",
      "source": [
        "accuracy_score(y_test, svc_pol.predict(X_test))"
      ],
      "metadata": {
        "colab": {
          "base_uri": "https://localhost:8080/"
        },
        "outputId": "8bcdb9ee-afd8-4ec2-d314-f1e37b4211c7",
        "id": "ElYmCUA6BLlv"
      },
      "execution_count": 53,
      "outputs": [
        {
          "output_type": "execute_result",
          "data": {
            "text/plain": [
              "0.8100558659217877"
            ]
          },
          "metadata": {},
          "execution_count": 53
        }
      ]
    },
    {
      "cell_type": "markdown",
      "source": [
        "### RBF SVC"
      ],
      "metadata": {
        "id": "rvjgF7tNBeQp"
      }
    },
    {
      "cell_type": "code",
      "source": [
        "svc_rbf = SVC(kernel='rbf')"
      ],
      "metadata": {
        "id": "S7Vf0DImBeQq"
      },
      "execution_count": 54,
      "outputs": []
    },
    {
      "cell_type": "code",
      "source": [
        "seed(42)\n",
        "set_seed(42)\n",
        "svc_rbf.fit(X_train, y_train)"
      ],
      "metadata": {
        "colab": {
          "base_uri": "https://localhost:8080/"
        },
        "outputId": "8dd9063b-f05f-44a2-9a6c-f25e8a21db56",
        "id": "9OLHNL5aBeQq"
      },
      "execution_count": 55,
      "outputs": [
        {
          "output_type": "execute_result",
          "data": {
            "text/plain": [
              "SVC()"
            ]
          },
          "metadata": {},
          "execution_count": 55
        }
      ]
    },
    {
      "cell_type": "code",
      "source": [
        "accuracy_score(y_test, svc_rbf.predict(X_test))"
      ],
      "metadata": {
        "colab": {
          "base_uri": "https://localhost:8080/"
        },
        "outputId": "6424a570-4ef7-4a4f-add6-bddf611cc17d",
        "id": "UlMopGQuBeQq"
      },
      "execution_count": 56,
      "outputs": [
        {
          "output_type": "execute_result",
          "data": {
            "text/plain": [
              "0.8268156424581006"
            ]
          },
          "metadata": {},
          "execution_count": 56
        }
      ]
    },
    {
      "cell_type": "markdown",
      "source": [
        "### Sigmoid SVC"
      ],
      "metadata": {
        "id": "yNeXyFmpB4yv"
      }
    },
    {
      "cell_type": "code",
      "source": [
        "svc_sig = SVC(kernel='sigmoid')"
      ],
      "metadata": {
        "id": "u0P9lbQOB4yv"
      },
      "execution_count": 57,
      "outputs": []
    },
    {
      "cell_type": "code",
      "source": [
        "seed(42)\n",
        "set_seed(42)\n",
        "svc_sig.fit(X_train, y_train)"
      ],
      "metadata": {
        "colab": {
          "base_uri": "https://localhost:8080/"
        },
        "outputId": "03bf0919-6085-456d-f0cf-358707528ef9",
        "id": "7Zj-QwmgB4yv"
      },
      "execution_count": 58,
      "outputs": [
        {
          "output_type": "execute_result",
          "data": {
            "text/plain": [
              "SVC(kernel='sigmoid')"
            ]
          },
          "metadata": {},
          "execution_count": 58
        }
      ]
    },
    {
      "cell_type": "code",
      "source": [
        "accuracy_score(y_test, svc_sig.predict(X_test))"
      ],
      "metadata": {
        "colab": {
          "base_uri": "https://localhost:8080/"
        },
        "outputId": "535ec6b8-f483-4a56-fe82-e5dce5a0773c",
        "id": "SgpCb3BhB4yw"
      },
      "execution_count": 59,
      "outputs": [
        {
          "output_type": "execute_result",
          "data": {
            "text/plain": [
              "0.8044692737430168"
            ]
          },
          "metadata": {},
          "execution_count": 59
        }
      ]
    },
    {
      "cell_type": "markdown",
      "source": [
        "## Naive Bayes"
      ],
      "metadata": {
        "id": "NOKpMzIVCDmL"
      }
    },
    {
      "cell_type": "code",
      "source": [
        "nb = GaussianNB()"
      ],
      "metadata": {
        "id": "faRSeM0rCJS8"
      },
      "execution_count": 60,
      "outputs": []
    },
    {
      "cell_type": "code",
      "source": [
        "seed(42)\n",
        "set_seed(42)\n",
        "nb.fit(X_train, y_train)"
      ],
      "metadata": {
        "colab": {
          "base_uri": "https://localhost:8080/"
        },
        "outputId": "a82c4137-4dcb-49c6-b8f2-010d5a9a3ceb",
        "id": "u1fmRfgNCKxI"
      },
      "execution_count": 61,
      "outputs": [
        {
          "output_type": "execute_result",
          "data": {
            "text/plain": [
              "GaussianNB()"
            ]
          },
          "metadata": {},
          "execution_count": 61
        }
      ]
    },
    {
      "cell_type": "code",
      "source": [
        "accuracy_score(y_test, nb.predict(X_test))"
      ],
      "metadata": {
        "colab": {
          "base_uri": "https://localhost:8080/"
        },
        "outputId": "06546c4b-1a1f-459c-a9f9-a4549ce2bb96",
        "id": "WlbdsULkCKxI"
      },
      "execution_count": 62,
      "outputs": [
        {
          "output_type": "execute_result",
          "data": {
            "text/plain": [
              "0.44692737430167595"
            ]
          },
          "metadata": {},
          "execution_count": 62
        }
      ]
    },
    {
      "cell_type": "markdown",
      "source": [
        "# Ethnicity"
      ],
      "metadata": {
        "id": "37h9gX_5iWXf"
      }
    },
    {
      "cell_type": "markdown",
      "source": [
        "## Data Preparation - Adding the Hometown and Homecountry as Variables"
      ],
      "metadata": {
        "id": "Ear8PW8KiixJ"
      }
    },
    {
      "cell_type": "markdown",
      "source": [
        "https://www.datacamp.com/tutorial/fuzzy-string-python"
      ],
      "metadata": {
        "id": "7M7RtvDGkCaT"
      }
    },
    {
      "cell_type": "code",
      "source": [
        "!pip install fuzzywuzzy\n",
        "!pip install python-Levenshtein"
      ],
      "metadata": {
        "colab": {
          "base_uri": "https://localhost:8080/"
        },
        "outputId": "553e3bd7-d7e1-47cc-c806-a97502eb40d3",
        "id": "I9qx6gjEjnfm"
      },
      "execution_count": 67,
      "outputs": [
        {
          "output_type": "stream",
          "name": "stdout",
          "text": [
            "Looking in indexes: https://pypi.org/simple, https://us-python.pkg.dev/colab-wheels/public/simple/\n",
            "Collecting fuzzywuzzy\n",
            "  Downloading fuzzywuzzy-0.18.0-py2.py3-none-any.whl (18 kB)\n",
            "Installing collected packages: fuzzywuzzy\n",
            "Successfully installed fuzzywuzzy-0.18.0\n",
            "Looking in indexes: https://pypi.org/simple, https://us-python.pkg.dev/colab-wheels/public/simple/\n",
            "Collecting python-Levenshtein\n",
            "  Downloading python_Levenshtein-0.20.9-py3-none-any.whl (9.4 kB)\n",
            "Collecting Levenshtein==0.20.9\n",
            "  Downloading Levenshtein-0.20.9-cp38-cp38-manylinux_2_17_x86_64.manylinux2014_x86_64.whl (174 kB)\n",
            "\u001b[K     |████████████████████████████████| 174 kB 14.4 MB/s \n",
            "\u001b[?25hCollecting rapidfuzz<3.0.0,>=2.3.0\n",
            "  Downloading rapidfuzz-2.13.7-cp38-cp38-manylinux_2_17_x86_64.manylinux2014_x86_64.whl (2.2 MB)\n",
            "\u001b[K     |████████████████████████████████| 2.2 MB 55.3 MB/s \n",
            "\u001b[?25hInstalling collected packages: rapidfuzz, Levenshtein, python-Levenshtein\n",
            "Successfully installed Levenshtein-0.20.9 python-Levenshtein-0.20.9 rapidfuzz-2.13.7\n"
          ]
        }
      ]
    },
    {
      "cell_type": "code",
      "source": [
        "from fuzzywuzzy import fuzz\n",
        "from fuzzywuzzy import process"
      ],
      "metadata": {
        "id": "iegdyp0zi_zL"
      },
      "execution_count": 68,
      "outputs": []
    },
    {
      "cell_type": "markdown",
      "source": [
        "https://stackoverflow.com/questions/13636848/is-it-possible-to-do-fuzzy-match-merge-with-python-pandas"
      ],
      "metadata": {
        "id": "SDNnRjQFkBfG"
      }
    },
    {
      "cell_type": "code",
      "source": [
        "# import difflib"
      ],
      "metadata": {
        "id": "ZTR0tsu6j0tp"
      },
      "execution_count": 69,
      "outputs": []
    },
    {
      "cell_type": "code",
      "source": [
        "#ndf.fuzzy_name = df.Name.map(lambda x: difflib.get_close_matches(x, hometowns.Name)[0])\n"
      ],
      "metadata": {
        "id": "9Ja-9vHyj-_p"
      },
      "execution_count": 70,
      "outputs": []
    },
    {
      "cell_type": "code",
      "source": [
        "# Load data as Pandas dataframe\n",
        "train = pd.read_csv('../input/titanic_cleaned_data/train_clean.csv')\n",
        "unlabeled = pd.read_csv('../input/titanic_cleaned_data/test_clean.csv')\n",
        "df = pd.concat([train, unlabeled], axis=0, sort=True)"
      ],
      "metadata": {
        "id": "9y6_iKdlkdhj"
      },
      "execution_count": 126,
      "outputs": []
    },
    {
      "cell_type": "code",
      "source": [
        "df.head()"
      ],
      "metadata": {
        "colab": {
          "base_uri": "https://localhost:8080/",
          "height": 302
        },
        "id": "ZNohjLnyidVx",
        "outputId": "122e7568-2b1b-49a7-9d6b-6c370ea5393d"
      },
      "execution_count": 127,
      "outputs": [
        {
          "output_type": "execute_result",
          "data": {
            "text/plain": [
              "    Age Cabin Embarked  Family_Size     Fare  \\\n",
              "0  22.0   NaN        S            1   7.2500   \n",
              "1  38.0   C85        C            1  71.2833   \n",
              "2  26.0   NaN        S            0   7.9250   \n",
              "3  35.0  C123        S            1  53.1000   \n",
              "4  35.0   NaN        S            0   8.0500   \n",
              "\n",
              "                                                Name  Parch  PassengerId  \\\n",
              "0                            Braund, Mr. Owen Harris      0            1   \n",
              "1  Cumings, Mrs. John Bradley (Florence Briggs Th...      0            2   \n",
              "2                             Heikkinen, Miss. Laina      0            3   \n",
              "3       Futrelle, Mrs. Jacques Heath (Lily May Peel)      0            4   \n",
              "4                           Allen, Mr. William Henry      0            5   \n",
              "\n",
              "   Pclass     Sex  SibSp  Survived            Ticket Title  \n",
              "0       3    male      1       0.0         A/5 21171    Mr  \n",
              "1       1  female      1       1.0          PC 17599   Mrs  \n",
              "2       3  female      0       1.0  STON/O2. 3101282  Miss  \n",
              "3       1  female      1       1.0            113803   Mrs  \n",
              "4       3    male      0       0.0            373450    Mr  "
            ],
            "text/html": [
              "\n",
              "  <div id=\"df-09edf6e1-6f7e-4ae0-9b14-41a54948d20c\">\n",
              "    <div class=\"colab-df-container\">\n",
              "      <div>\n",
              "<style scoped>\n",
              "    .dataframe tbody tr th:only-of-type {\n",
              "        vertical-align: middle;\n",
              "    }\n",
              "\n",
              "    .dataframe tbody tr th {\n",
              "        vertical-align: top;\n",
              "    }\n",
              "\n",
              "    .dataframe thead th {\n",
              "        text-align: right;\n",
              "    }\n",
              "</style>\n",
              "<table border=\"1\" class=\"dataframe\">\n",
              "  <thead>\n",
              "    <tr style=\"text-align: right;\">\n",
              "      <th></th>\n",
              "      <th>Age</th>\n",
              "      <th>Cabin</th>\n",
              "      <th>Embarked</th>\n",
              "      <th>Family_Size</th>\n",
              "      <th>Fare</th>\n",
              "      <th>Name</th>\n",
              "      <th>Parch</th>\n",
              "      <th>PassengerId</th>\n",
              "      <th>Pclass</th>\n",
              "      <th>Sex</th>\n",
              "      <th>SibSp</th>\n",
              "      <th>Survived</th>\n",
              "      <th>Ticket</th>\n",
              "      <th>Title</th>\n",
              "    </tr>\n",
              "  </thead>\n",
              "  <tbody>\n",
              "    <tr>\n",
              "      <th>0</th>\n",
              "      <td>22.0</td>\n",
              "      <td>NaN</td>\n",
              "      <td>S</td>\n",
              "      <td>1</td>\n",
              "      <td>7.2500</td>\n",
              "      <td>Braund, Mr. Owen Harris</td>\n",
              "      <td>0</td>\n",
              "      <td>1</td>\n",
              "      <td>3</td>\n",
              "      <td>male</td>\n",
              "      <td>1</td>\n",
              "      <td>0.0</td>\n",
              "      <td>A/5 21171</td>\n",
              "      <td>Mr</td>\n",
              "    </tr>\n",
              "    <tr>\n",
              "      <th>1</th>\n",
              "      <td>38.0</td>\n",
              "      <td>C85</td>\n",
              "      <td>C</td>\n",
              "      <td>1</td>\n",
              "      <td>71.2833</td>\n",
              "      <td>Cumings, Mrs. John Bradley (Florence Briggs Th...</td>\n",
              "      <td>0</td>\n",
              "      <td>2</td>\n",
              "      <td>1</td>\n",
              "      <td>female</td>\n",
              "      <td>1</td>\n",
              "      <td>1.0</td>\n",
              "      <td>PC 17599</td>\n",
              "      <td>Mrs</td>\n",
              "    </tr>\n",
              "    <tr>\n",
              "      <th>2</th>\n",
              "      <td>26.0</td>\n",
              "      <td>NaN</td>\n",
              "      <td>S</td>\n",
              "      <td>0</td>\n",
              "      <td>7.9250</td>\n",
              "      <td>Heikkinen, Miss. Laina</td>\n",
              "      <td>0</td>\n",
              "      <td>3</td>\n",
              "      <td>3</td>\n",
              "      <td>female</td>\n",
              "      <td>0</td>\n",
              "      <td>1.0</td>\n",
              "      <td>STON/O2. 3101282</td>\n",
              "      <td>Miss</td>\n",
              "    </tr>\n",
              "    <tr>\n",
              "      <th>3</th>\n",
              "      <td>35.0</td>\n",
              "      <td>C123</td>\n",
              "      <td>S</td>\n",
              "      <td>1</td>\n",
              "      <td>53.1000</td>\n",
              "      <td>Futrelle, Mrs. Jacques Heath (Lily May Peel)</td>\n",
              "      <td>0</td>\n",
              "      <td>4</td>\n",
              "      <td>1</td>\n",
              "      <td>female</td>\n",
              "      <td>1</td>\n",
              "      <td>1.0</td>\n",
              "      <td>113803</td>\n",
              "      <td>Mrs</td>\n",
              "    </tr>\n",
              "    <tr>\n",
              "      <th>4</th>\n",
              "      <td>35.0</td>\n",
              "      <td>NaN</td>\n",
              "      <td>S</td>\n",
              "      <td>0</td>\n",
              "      <td>8.0500</td>\n",
              "      <td>Allen, Mr. William Henry</td>\n",
              "      <td>0</td>\n",
              "      <td>5</td>\n",
              "      <td>3</td>\n",
              "      <td>male</td>\n",
              "      <td>0</td>\n",
              "      <td>0.0</td>\n",
              "      <td>373450</td>\n",
              "      <td>Mr</td>\n",
              "    </tr>\n",
              "  </tbody>\n",
              "</table>\n",
              "</div>\n",
              "      <button class=\"colab-df-convert\" onclick=\"convertToInteractive('df-09edf6e1-6f7e-4ae0-9b14-41a54948d20c')\"\n",
              "              title=\"Convert this dataframe to an interactive table.\"\n",
              "              style=\"display:none;\">\n",
              "        \n",
              "  <svg xmlns=\"http://www.w3.org/2000/svg\" height=\"24px\"viewBox=\"0 0 24 24\"\n",
              "       width=\"24px\">\n",
              "    <path d=\"M0 0h24v24H0V0z\" fill=\"none\"/>\n",
              "    <path d=\"M18.56 5.44l.94 2.06.94-2.06 2.06-.94-2.06-.94-.94-2.06-.94 2.06-2.06.94zm-11 1L8.5 8.5l.94-2.06 2.06-.94-2.06-.94L8.5 2.5l-.94 2.06-2.06.94zm10 10l.94 2.06.94-2.06 2.06-.94-2.06-.94-.94-2.06-.94 2.06-2.06.94z\"/><path d=\"M17.41 7.96l-1.37-1.37c-.4-.4-.92-.59-1.43-.59-.52 0-1.04.2-1.43.59L10.3 9.45l-7.72 7.72c-.78.78-.78 2.05 0 2.83L4 21.41c.39.39.9.59 1.41.59.51 0 1.02-.2 1.41-.59l7.78-7.78 2.81-2.81c.8-.78.8-2.07 0-2.86zM5.41 20L4 18.59l7.72-7.72 1.47 1.35L5.41 20z\"/>\n",
              "  </svg>\n",
              "      </button>\n",
              "      \n",
              "  <style>\n",
              "    .colab-df-container {\n",
              "      display:flex;\n",
              "      flex-wrap:wrap;\n",
              "      gap: 12px;\n",
              "    }\n",
              "\n",
              "    .colab-df-convert {\n",
              "      background-color: #E8F0FE;\n",
              "      border: none;\n",
              "      border-radius: 50%;\n",
              "      cursor: pointer;\n",
              "      display: none;\n",
              "      fill: #1967D2;\n",
              "      height: 32px;\n",
              "      padding: 0 0 0 0;\n",
              "      width: 32px;\n",
              "    }\n",
              "\n",
              "    .colab-df-convert:hover {\n",
              "      background-color: #E2EBFA;\n",
              "      box-shadow: 0px 1px 2px rgba(60, 64, 67, 0.3), 0px 1px 3px 1px rgba(60, 64, 67, 0.15);\n",
              "      fill: #174EA6;\n",
              "    }\n",
              "\n",
              "    [theme=dark] .colab-df-convert {\n",
              "      background-color: #3B4455;\n",
              "      fill: #D2E3FC;\n",
              "    }\n",
              "\n",
              "    [theme=dark] .colab-df-convert:hover {\n",
              "      background-color: #434B5C;\n",
              "      box-shadow: 0px 1px 3px 1px rgba(0, 0, 0, 0.15);\n",
              "      filter: drop-shadow(0px 1px 2px rgba(0, 0, 0, 0.3));\n",
              "      fill: #FFFFFF;\n",
              "    }\n",
              "  </style>\n",
              "\n",
              "      <script>\n",
              "        const buttonEl =\n",
              "          document.querySelector('#df-09edf6e1-6f7e-4ae0-9b14-41a54948d20c button.colab-df-convert');\n",
              "        buttonEl.style.display =\n",
              "          google.colab.kernel.accessAllowed ? 'block' : 'none';\n",
              "\n",
              "        async function convertToInteractive(key) {\n",
              "          const element = document.querySelector('#df-09edf6e1-6f7e-4ae0-9b14-41a54948d20c');\n",
              "          const dataTable =\n",
              "            await google.colab.kernel.invokeFunction('convertToInteractive',\n",
              "                                                     [key], {});\n",
              "          if (!dataTable) return;\n",
              "\n",
              "          const docLinkHtml = 'Like what you see? Visit the ' +\n",
              "            '<a target=\"_blank\" href=https://colab.research.google.com/notebooks/data_table.ipynb>data table notebook</a>'\n",
              "            + ' to learn more about interactive tables.';\n",
              "          element.innerHTML = '';\n",
              "          dataTable['output_type'] = 'display_data';\n",
              "          await google.colab.output.renderOutput(dataTable, element);\n",
              "          const docLink = document.createElement('div');\n",
              "          docLink.innerHTML = docLinkHtml;\n",
              "          element.appendChild(docLink);\n",
              "        }\n",
              "      </script>\n",
              "    </div>\n",
              "  </div>\n",
              "  "
            ]
          },
          "metadata": {},
          "execution_count": 127
        }
      ]
    },
    {
      "cell_type": "code",
      "source": [
        "display_all(df.describe(include='all').T)"
      ],
      "metadata": {
        "colab": {
          "base_uri": "https://localhost:8080/",
          "height": 488
        },
        "id": "sUrt5RmWie5N",
        "outputId": "eda816c9-5975-48c5-b8a9-a8071b66e069"
      },
      "execution_count": 128,
      "outputs": [
        {
          "output_type": "display_data",
          "data": {
            "text/plain": [
              "              count unique                   top freq       mean         std  \\\n",
              "Age          1309.0    NaN                   NaN  NaN  29.562391    13.16536   \n",
              "Cabin           295    186           C23 C25 C27    6        NaN         NaN   \n",
              "Embarked       1309      3                     S  915        NaN         NaN   \n",
              "Family_Size  1309.0    NaN                   NaN  NaN   0.883881    1.583639   \n",
              "Fare         1309.0    NaN                   NaN  NaN  33.276193   51.743584   \n",
              "Name           1309   1307  Connolly, Miss. Kate    2        NaN         NaN   \n",
              "Parch        1309.0    NaN                   NaN  NaN   0.385027     0.86556   \n",
              "PassengerId  1309.0    NaN                   NaN  NaN      655.0  378.020061   \n",
              "Pclass       1309.0    NaN                   NaN  NaN   2.294882    0.837836   \n",
              "Sex            1309      2                  male  843        NaN         NaN   \n",
              "SibSp        1309.0    NaN                   NaN  NaN   0.498854    1.041658   \n",
              "Survived      891.0    NaN                   NaN  NaN   0.383838    0.486592   \n",
              "Ticket         1309    929              CA. 2343   11        NaN         NaN   \n",
              "Title          1309      6                    Mr  767        NaN         NaN   \n",
              "\n",
              "              min     25%      50%     75%       max  \n",
              "Age          0.17    22.0     30.0    35.5      80.0  \n",
              "Cabin         NaN     NaN      NaN     NaN       NaN  \n",
              "Embarked      NaN     NaN      NaN     NaN       NaN  \n",
              "Family_Size   0.0     0.0      0.0     1.0      10.0  \n",
              "Fare          0.0  7.8958  14.4542  31.275  512.3292  \n",
              "Name          NaN     NaN      NaN     NaN       NaN  \n",
              "Parch         0.0     0.0      0.0     0.0       9.0  \n",
              "PassengerId   1.0   328.0    655.0   982.0    1309.0  \n",
              "Pclass        1.0     2.0      3.0     3.0       3.0  \n",
              "Sex           NaN     NaN      NaN     NaN       NaN  \n",
              "SibSp         0.0     0.0      0.0     1.0       8.0  \n",
              "Survived      0.0     0.0      0.0     1.0       1.0  \n",
              "Ticket        NaN     NaN      NaN     NaN       NaN  \n",
              "Title         NaN     NaN      NaN     NaN       NaN  "
            ],
            "text/html": [
              "\n",
              "  <div id=\"df-3a5b17c4-ea06-417b-9374-2062c4b0e67c\">\n",
              "    <div class=\"colab-df-container\">\n",
              "      <div>\n",
              "<style scoped>\n",
              "    .dataframe tbody tr th:only-of-type {\n",
              "        vertical-align: middle;\n",
              "    }\n",
              "\n",
              "    .dataframe tbody tr th {\n",
              "        vertical-align: top;\n",
              "    }\n",
              "\n",
              "    .dataframe thead th {\n",
              "        text-align: right;\n",
              "    }\n",
              "</style>\n",
              "<table border=\"1\" class=\"dataframe\">\n",
              "  <thead>\n",
              "    <tr style=\"text-align: right;\">\n",
              "      <th></th>\n",
              "      <th>count</th>\n",
              "      <th>unique</th>\n",
              "      <th>top</th>\n",
              "      <th>freq</th>\n",
              "      <th>mean</th>\n",
              "      <th>std</th>\n",
              "      <th>min</th>\n",
              "      <th>25%</th>\n",
              "      <th>50%</th>\n",
              "      <th>75%</th>\n",
              "      <th>max</th>\n",
              "    </tr>\n",
              "  </thead>\n",
              "  <tbody>\n",
              "    <tr>\n",
              "      <th>Age</th>\n",
              "      <td>1309.0</td>\n",
              "      <td>NaN</td>\n",
              "      <td>NaN</td>\n",
              "      <td>NaN</td>\n",
              "      <td>29.562391</td>\n",
              "      <td>13.16536</td>\n",
              "      <td>0.17</td>\n",
              "      <td>22.0</td>\n",
              "      <td>30.0</td>\n",
              "      <td>35.5</td>\n",
              "      <td>80.0</td>\n",
              "    </tr>\n",
              "    <tr>\n",
              "      <th>Cabin</th>\n",
              "      <td>295</td>\n",
              "      <td>186</td>\n",
              "      <td>C23 C25 C27</td>\n",
              "      <td>6</td>\n",
              "      <td>NaN</td>\n",
              "      <td>NaN</td>\n",
              "      <td>NaN</td>\n",
              "      <td>NaN</td>\n",
              "      <td>NaN</td>\n",
              "      <td>NaN</td>\n",
              "      <td>NaN</td>\n",
              "    </tr>\n",
              "    <tr>\n",
              "      <th>Embarked</th>\n",
              "      <td>1309</td>\n",
              "      <td>3</td>\n",
              "      <td>S</td>\n",
              "      <td>915</td>\n",
              "      <td>NaN</td>\n",
              "      <td>NaN</td>\n",
              "      <td>NaN</td>\n",
              "      <td>NaN</td>\n",
              "      <td>NaN</td>\n",
              "      <td>NaN</td>\n",
              "      <td>NaN</td>\n",
              "    </tr>\n",
              "    <tr>\n",
              "      <th>Family_Size</th>\n",
              "      <td>1309.0</td>\n",
              "      <td>NaN</td>\n",
              "      <td>NaN</td>\n",
              "      <td>NaN</td>\n",
              "      <td>0.883881</td>\n",
              "      <td>1.583639</td>\n",
              "      <td>0.0</td>\n",
              "      <td>0.0</td>\n",
              "      <td>0.0</td>\n",
              "      <td>1.0</td>\n",
              "      <td>10.0</td>\n",
              "    </tr>\n",
              "    <tr>\n",
              "      <th>Fare</th>\n",
              "      <td>1309.0</td>\n",
              "      <td>NaN</td>\n",
              "      <td>NaN</td>\n",
              "      <td>NaN</td>\n",
              "      <td>33.276193</td>\n",
              "      <td>51.743584</td>\n",
              "      <td>0.0</td>\n",
              "      <td>7.8958</td>\n",
              "      <td>14.4542</td>\n",
              "      <td>31.275</td>\n",
              "      <td>512.3292</td>\n",
              "    </tr>\n",
              "    <tr>\n",
              "      <th>Name</th>\n",
              "      <td>1309</td>\n",
              "      <td>1307</td>\n",
              "      <td>Connolly, Miss. Kate</td>\n",
              "      <td>2</td>\n",
              "      <td>NaN</td>\n",
              "      <td>NaN</td>\n",
              "      <td>NaN</td>\n",
              "      <td>NaN</td>\n",
              "      <td>NaN</td>\n",
              "      <td>NaN</td>\n",
              "      <td>NaN</td>\n",
              "    </tr>\n",
              "    <tr>\n",
              "      <th>Parch</th>\n",
              "      <td>1309.0</td>\n",
              "      <td>NaN</td>\n",
              "      <td>NaN</td>\n",
              "      <td>NaN</td>\n",
              "      <td>0.385027</td>\n",
              "      <td>0.86556</td>\n",
              "      <td>0.0</td>\n",
              "      <td>0.0</td>\n",
              "      <td>0.0</td>\n",
              "      <td>0.0</td>\n",
              "      <td>9.0</td>\n",
              "    </tr>\n",
              "    <tr>\n",
              "      <th>PassengerId</th>\n",
              "      <td>1309.0</td>\n",
              "      <td>NaN</td>\n",
              "      <td>NaN</td>\n",
              "      <td>NaN</td>\n",
              "      <td>655.0</td>\n",
              "      <td>378.020061</td>\n",
              "      <td>1.0</td>\n",
              "      <td>328.0</td>\n",
              "      <td>655.0</td>\n",
              "      <td>982.0</td>\n",
              "      <td>1309.0</td>\n",
              "    </tr>\n",
              "    <tr>\n",
              "      <th>Pclass</th>\n",
              "      <td>1309.0</td>\n",
              "      <td>NaN</td>\n",
              "      <td>NaN</td>\n",
              "      <td>NaN</td>\n",
              "      <td>2.294882</td>\n",
              "      <td>0.837836</td>\n",
              "      <td>1.0</td>\n",
              "      <td>2.0</td>\n",
              "      <td>3.0</td>\n",
              "      <td>3.0</td>\n",
              "      <td>3.0</td>\n",
              "    </tr>\n",
              "    <tr>\n",
              "      <th>Sex</th>\n",
              "      <td>1309</td>\n",
              "      <td>2</td>\n",
              "      <td>male</td>\n",
              "      <td>843</td>\n",
              "      <td>NaN</td>\n",
              "      <td>NaN</td>\n",
              "      <td>NaN</td>\n",
              "      <td>NaN</td>\n",
              "      <td>NaN</td>\n",
              "      <td>NaN</td>\n",
              "      <td>NaN</td>\n",
              "    </tr>\n",
              "    <tr>\n",
              "      <th>SibSp</th>\n",
              "      <td>1309.0</td>\n",
              "      <td>NaN</td>\n",
              "      <td>NaN</td>\n",
              "      <td>NaN</td>\n",
              "      <td>0.498854</td>\n",
              "      <td>1.041658</td>\n",
              "      <td>0.0</td>\n",
              "      <td>0.0</td>\n",
              "      <td>0.0</td>\n",
              "      <td>1.0</td>\n",
              "      <td>8.0</td>\n",
              "    </tr>\n",
              "    <tr>\n",
              "      <th>Survived</th>\n",
              "      <td>891.0</td>\n",
              "      <td>NaN</td>\n",
              "      <td>NaN</td>\n",
              "      <td>NaN</td>\n",
              "      <td>0.383838</td>\n",
              "      <td>0.486592</td>\n",
              "      <td>0.0</td>\n",
              "      <td>0.0</td>\n",
              "      <td>0.0</td>\n",
              "      <td>1.0</td>\n",
              "      <td>1.0</td>\n",
              "    </tr>\n",
              "    <tr>\n",
              "      <th>Ticket</th>\n",
              "      <td>1309</td>\n",
              "      <td>929</td>\n",
              "      <td>CA. 2343</td>\n",
              "      <td>11</td>\n",
              "      <td>NaN</td>\n",
              "      <td>NaN</td>\n",
              "      <td>NaN</td>\n",
              "      <td>NaN</td>\n",
              "      <td>NaN</td>\n",
              "      <td>NaN</td>\n",
              "      <td>NaN</td>\n",
              "    </tr>\n",
              "    <tr>\n",
              "      <th>Title</th>\n",
              "      <td>1309</td>\n",
              "      <td>6</td>\n",
              "      <td>Mr</td>\n",
              "      <td>767</td>\n",
              "      <td>NaN</td>\n",
              "      <td>NaN</td>\n",
              "      <td>NaN</td>\n",
              "      <td>NaN</td>\n",
              "      <td>NaN</td>\n",
              "      <td>NaN</td>\n",
              "      <td>NaN</td>\n",
              "    </tr>\n",
              "  </tbody>\n",
              "</table>\n",
              "</div>\n",
              "      <button class=\"colab-df-convert\" onclick=\"convertToInteractive('df-3a5b17c4-ea06-417b-9374-2062c4b0e67c')\"\n",
              "              title=\"Convert this dataframe to an interactive table.\"\n",
              "              style=\"display:none;\">\n",
              "        \n",
              "  <svg xmlns=\"http://www.w3.org/2000/svg\" height=\"24px\"viewBox=\"0 0 24 24\"\n",
              "       width=\"24px\">\n",
              "    <path d=\"M0 0h24v24H0V0z\" fill=\"none\"/>\n",
              "    <path d=\"M18.56 5.44l.94 2.06.94-2.06 2.06-.94-2.06-.94-.94-2.06-.94 2.06-2.06.94zm-11 1L8.5 8.5l.94-2.06 2.06-.94-2.06-.94L8.5 2.5l-.94 2.06-2.06.94zm10 10l.94 2.06.94-2.06 2.06-.94-2.06-.94-.94-2.06-.94 2.06-2.06.94z\"/><path d=\"M17.41 7.96l-1.37-1.37c-.4-.4-.92-.59-1.43-.59-.52 0-1.04.2-1.43.59L10.3 9.45l-7.72 7.72c-.78.78-.78 2.05 0 2.83L4 21.41c.39.39.9.59 1.41.59.51 0 1.02-.2 1.41-.59l7.78-7.78 2.81-2.81c.8-.78.8-2.07 0-2.86zM5.41 20L4 18.59l7.72-7.72 1.47 1.35L5.41 20z\"/>\n",
              "  </svg>\n",
              "      </button>\n",
              "      \n",
              "  <style>\n",
              "    .colab-df-container {\n",
              "      display:flex;\n",
              "      flex-wrap:wrap;\n",
              "      gap: 12px;\n",
              "    }\n",
              "\n",
              "    .colab-df-convert {\n",
              "      background-color: #E8F0FE;\n",
              "      border: none;\n",
              "      border-radius: 50%;\n",
              "      cursor: pointer;\n",
              "      display: none;\n",
              "      fill: #1967D2;\n",
              "      height: 32px;\n",
              "      padding: 0 0 0 0;\n",
              "      width: 32px;\n",
              "    }\n",
              "\n",
              "    .colab-df-convert:hover {\n",
              "      background-color: #E2EBFA;\n",
              "      box-shadow: 0px 1px 2px rgba(60, 64, 67, 0.3), 0px 1px 3px 1px rgba(60, 64, 67, 0.15);\n",
              "      fill: #174EA6;\n",
              "    }\n",
              "\n",
              "    [theme=dark] .colab-df-convert {\n",
              "      background-color: #3B4455;\n",
              "      fill: #D2E3FC;\n",
              "    }\n",
              "\n",
              "    [theme=dark] .colab-df-convert:hover {\n",
              "      background-color: #434B5C;\n",
              "      box-shadow: 0px 1px 3px 1px rgba(0, 0, 0, 0.15);\n",
              "      filter: drop-shadow(0px 1px 2px rgba(0, 0, 0, 0.3));\n",
              "      fill: #FFFFFF;\n",
              "    }\n",
              "  </style>\n",
              "\n",
              "      <script>\n",
              "        const buttonEl =\n",
              "          document.querySelector('#df-3a5b17c4-ea06-417b-9374-2062c4b0e67c button.colab-df-convert');\n",
              "        buttonEl.style.display =\n",
              "          google.colab.kernel.accessAllowed ? 'block' : 'none';\n",
              "\n",
              "        async function convertToInteractive(key) {\n",
              "          const element = document.querySelector('#df-3a5b17c4-ea06-417b-9374-2062c4b0e67c');\n",
              "          const dataTable =\n",
              "            await google.colab.kernel.invokeFunction('convertToInteractive',\n",
              "                                                     [key], {});\n",
              "          if (!dataTable) return;\n",
              "\n",
              "          const docLinkHtml = 'Like what you see? Visit the ' +\n",
              "            '<a target=\"_blank\" href=https://colab.research.google.com/notebooks/data_table.ipynb>data table notebook</a>'\n",
              "            + ' to learn more about interactive tables.';\n",
              "          element.innerHTML = '';\n",
              "          dataTable['output_type'] = 'display_data';\n",
              "          await google.colab.output.renderOutput(dataTable, element);\n",
              "          const docLink = document.createElement('div');\n",
              "          docLink.innerHTML = docLinkHtml;\n",
              "          element.appendChild(docLink);\n",
              "        }\n",
              "      </script>\n",
              "    </div>\n",
              "  </div>\n",
              "  "
            ]
          },
          "metadata": {}
        }
      ]
    },
    {
      "cell_type": "code",
      "source": [
        "# Load data as Pandas dataframe\n",
        "hometowns = pd.read_csv('../input/titanic_cleaned_data/Titanic_Hometown_clean.csv', sep=\";\")\n",
        "# hometowns.head(20)"
      ],
      "metadata": {
        "id": "uJjLhafwimkq"
      },
      "execution_count": 129,
      "outputs": []
    },
    {
      "cell_type": "markdown",
      "source": [
        "### Test the fuzzy name matching"
      ],
      "metadata": {
        "id": "i0qco8PMgTbM"
      }
    },
    {
      "cell_type": "code",
      "source": [
        "# df.Name.iloc[0]"
      ],
      "metadata": {
        "id": "2qcWx0nzl80O"
      },
      "execution_count": 71,
      "outputs": []
    },
    {
      "cell_type": "code",
      "source": [
        "# highest = process.extractOne(df.Name.iloc[0],hometowns.Name)\n",
        "# print(highest)"
      ],
      "metadata": {
        "id": "s_HImjvYm_Kc"
      },
      "execution_count": 72,
      "outputs": []
    },
    {
      "cell_type": "code",
      "source": [
        "# highest = df.Name.map(lambda x: process.extractOne(x, hometowns.Name))\n",
        "# print(highest)"
      ],
      "metadata": {
        "id": "0oYd5EPkk4kK"
      },
      "execution_count": 73,
      "outputs": []
    },
    {
      "cell_type": "code",
      "source": [
        "# process.extractOne(df.Name.iloc[0],hometowns.Name)[0]"
      ],
      "metadata": {
        "id": "AVqEo3C407om"
      },
      "execution_count": 74,
      "outputs": []
    },
    {
      "cell_type": "markdown",
      "source": [
        "### Apply fuzzy name matching to the original data"
      ],
      "metadata": {
        "id": "SW7YuwOLgZ7p"
      }
    },
    {
      "cell_type": "code",
      "source": [
        "df[\"fuzzy_name\"] = df.Name.map(lambda x: process.extractOne(x, hometowns.Name)[0])"
      ],
      "metadata": {
        "id": "sriSeaZb1NKz"
      },
      "execution_count": 130,
      "outputs": []
    },
    {
      "cell_type": "code",
      "source": [
        "df.to_csv(\"../temp/titanic_fuzzy_name.csv\", index=False)"
      ],
      "metadata": {
        "id": "jCBB5sg9AF_Q"
      },
      "execution_count": 131,
      "outputs": []
    },
    {
      "cell_type": "code",
      "source": [
        "# hometowns = pd.read_csv('../input/titanic_cleaned_data/Titanic_Hometown_clean.csv', sep=\";\")\n",
        "# df = pd.read_csv('../temp/titanic_fuzzy_name.csv')\n"
      ],
      "metadata": {
        "id": "glEX_TTj3_44"
      },
      "execution_count": 281,
      "outputs": []
    },
    {
      "cell_type": "markdown",
      "source": [
        "### Merge on the fuzzy names"
      ],
      "metadata": {
        "id": "PjBzY78agfo4"
      }
    },
    {
      "cell_type": "markdown",
      "source": [
        "Use additional criteria like class and age to validate the fuzzy name match."
      ],
      "metadata": {
        "id": "MlTSLxnVgmDo"
      }
    },
    {
      "cell_type": "code",
      "source": [
        "df = df.merge(hometowns, left_on=['fuzzy_name','Pclass', 'Age'] , right_on=['Name', 'Class', 'Age'], how='left', indicator=True)"
      ],
      "metadata": {
        "id": "cIdmQwFolMGZ"
      },
      "execution_count": 282,
      "outputs": []
    },
    {
      "cell_type": "markdown",
      "source": [
        "For the ones where no match for fuzzy mame, class, and age could befound, match them only by fuzzy name and class."
      ],
      "metadata": {
        "id": "AbarKmRYhLHq"
      }
    },
    {
      "cell_type": "code",
      "source": [
        "temp_df = df[df['_merge']=='left_only'].copy()\n",
        "temp_df.drop(\n",
        "    ['Name_y', 'Hometown', 'Country', 'Boarded', 'Destination', 'Lifeboat', 'Body', 'Class', '_merge'],\n",
        "    axis=1, inplace=True)"
      ],
      "metadata": {
        "id": "sIL1bmDR8a1t"
      },
      "execution_count": 283,
      "outputs": []
    },
    {
      "cell_type": "code",
      "source": [
        "temp_right_df = hometowns.copy()\n",
        "temp_right_df.drop(['Age'],axis=1, inplace=True)\n",
        "temp_right_df.rename(columns = {'Name':'Name_y'}, inplace = True)"
      ],
      "metadata": {
        "id": "19--VfEYhwd2"
      },
      "execution_count": 284,
      "outputs": []
    },
    {
      "cell_type": "code",
      "source": [
        "temp_df = temp_df.merge(temp_right_df, left_on=['fuzzy_name','Pclass'] , right_on=['Name_y', 'Class'], how='left', indicator=True)"
      ],
      "metadata": {
        "id": "pOxNeldMEPkr"
      },
      "execution_count": 285,
      "outputs": []
    },
    {
      "cell_type": "code",
      "source": [
        "cols = list(df.columns)\n",
        "df = df[df['_merge']!='left_only']"
      ],
      "metadata": {
        "id": "uNVrKC42_QQ-"
      },
      "execution_count": 286,
      "outputs": []
    },
    {
      "cell_type": "code",
      "source": [
        "df = df.append(temp_df)"
      ],
      "metadata": {
        "id": "4OB-mqtsKq3B"
      },
      "execution_count": 287,
      "outputs": []
    },
    {
      "cell_type": "markdown",
      "source": [
        "For the rows where still no match could be found, only match them by the fuzzy name."
      ],
      "metadata": {
        "id": "nBi0Y6Qah2w0"
      }
    },
    {
      "cell_type": "code",
      "source": [
        "temp_df = df[df['_merge']=='left_only'].copy()\n",
        "temp_df.drop(\n",
        "    ['Name_y', 'Hometown', 'Country', 'Boarded', 'Destination', 'Lifeboat', 'Body', 'Class', '_merge'],\n",
        "    axis=1, inplace=True)"
      ],
      "metadata": {
        "id": "LCn4DgE2GBYJ"
      },
      "execution_count": 288,
      "outputs": []
    },
    {
      "cell_type": "code",
      "source": [
        "temp_right_df = hometowns.copy()\n",
        "temp_right_df.drop(['Age'], axis=1, inplace=True)\n",
        "temp_right_df.rename(columns = {'Name':'Name_y'}, inplace = True)"
      ],
      "metadata": {
        "id": "Nmn21LlTiDNG"
      },
      "execution_count": 289,
      "outputs": []
    },
    {
      "cell_type": "code",
      "source": [
        "temp_df = temp_df.merge(temp_right_df, left_on=['fuzzy_name'] , right_on=['Name_y'], how='left', indicator=True)"
      ],
      "metadata": {
        "id": "bC6Imo5FGBYK"
      },
      "execution_count": 290,
      "outputs": []
    },
    {
      "cell_type": "code",
      "source": [
        "cols = list(df.columns)\n",
        "df = df[df['_merge']!='left_only']"
      ],
      "metadata": {
        "id": "zsNNlwRxLEuS"
      },
      "execution_count": 291,
      "outputs": []
    },
    {
      "cell_type": "code",
      "source": [
        "df = df.append(temp_df)"
      ],
      "metadata": {
        "id": "4PyDXQAaLEuS"
      },
      "execution_count": 292,
      "outputs": []
    },
    {
      "cell_type": "code",
      "source": [
        "df.drop(\n",
        "    ['fuzzy_name' ,'Name_y', 'Boarded', 'Destination', 'Lifeboat', 'Body', 'Class', '_merge'],\n",
        "    axis=1, inplace=True)\n",
        "df.rename(columns = {'Name_x':'Name'}, inplace = True)"
      ],
      "metadata": {
        "id": "JX_xojrsni-w"
      },
      "execution_count": 293,
      "outputs": []
    },
    {
      "cell_type": "markdown",
      "source": [
        "Because there were multiple passengers with the name \"Kelly, Mr. James\" a duplicate for this name was introduced when just matching by name. Because both passengers came from Ireland, the first match is taken and the other gets dropped."
      ],
      "metadata": {
        "id": "tAnE4iY-fJCo"
      }
    },
    {
      "cell_type": "code",
      "source": [
        "df.shape"
      ],
      "metadata": {
        "colab": {
          "base_uri": "https://localhost:8080/"
        },
        "id": "PzPbz1SwykjO",
        "outputId": "ee8097b6-d5cd-405e-fb72-e4ceee483de0"
      },
      "execution_count": 294,
      "outputs": [
        {
          "output_type": "execute_result",
          "data": {
            "text/plain": [
              "(1310, 16)"
            ]
          },
          "metadata": {},
          "execution_count": 294
        }
      ]
    },
    {
      "cell_type": "code",
      "source": [
        "temp = df[df['PassengerId']==892].iloc[1]"
      ],
      "metadata": {
        "id": "sKV6ABdxyAlk"
      },
      "execution_count": 295,
      "outputs": []
    },
    {
      "cell_type": "code",
      "source": [
        "df = df[(df['Name']!=temp['Name']) | (df['PassengerId']!=temp['PassengerId']) | (df['Hometown']!=temp['Hometown'])]"
      ],
      "metadata": {
        "id": "_VOMFMaI2Zcr"
      },
      "execution_count": 296,
      "outputs": []
    },
    {
      "cell_type": "code",
      "source": [
        "df.shape"
      ],
      "metadata": {
        "colab": {
          "base_uri": "https://localhost:8080/"
        },
        "id": "an2dr6YI4pf_",
        "outputId": "94ca740f-3946-421d-dd79-072889e826c6"
      },
      "execution_count": 297,
      "outputs": [
        {
          "output_type": "execute_result",
          "data": {
            "text/plain": [
              "(1309, 16)"
            ]
          },
          "metadata": {},
          "execution_count": 297
        }
      ]
    },
    {
      "cell_type": "markdown",
      "source": [
        "Display the head of the data frame to check some of the data"
      ],
      "metadata": {
        "id": "V0kiVm61iMKl"
      }
    },
    {
      "cell_type": "code",
      "source": [
        "df.head()"
      ],
      "metadata": {
        "colab": {
          "base_uri": "https://localhost:8080/",
          "height": 496
        },
        "id": "hAiFLLQ1ml3N",
        "outputId": "33d4ebfc-664a-4edd-a155-2c89468e51a5"
      },
      "execution_count": 298,
      "outputs": [
        {
          "output_type": "execute_result",
          "data": {
            "text/plain": [
              "    Age Cabin Embarked  Family_Size     Fare  \\\n",
              "0  22.0   NaN        S            1   7.2500   \n",
              "2  26.0   NaN        S            0   7.9250   \n",
              "3  35.0  C123        S            1  53.1000   \n",
              "4  35.0   NaN        S            0   8.0500   \n",
              "6  54.0   E46        S            0  51.8625   \n",
              "\n",
              "                                           Name  Parch  PassengerId  Pclass  \\\n",
              "0                       Braund, Mr. Owen Harris      0            1       3   \n",
              "2                        Heikkinen, Miss. Laina      0            3       3   \n",
              "3  Futrelle, Mrs. Jacques Heath (Lily May Peel)      0            4       1   \n",
              "4                      Allen, Mr. William Henry      0            5       3   \n",
              "6                       McCarthy, Mr. Timothy J      0            7       1   \n",
              "\n",
              "      Sex  SibSp  Survived            Ticket Title                   Hometown  \\\n",
              "0    male      1       0.0         A/5 21171    Mr                 Bridgerule   \n",
              "2  female      0       1.0  STON/O2. 3101282  Miss                  Jyväskylä   \n",
              "3  female      1       1.0            113803   Mrs    Scituate, Massachusetts   \n",
              "4    male      0       0.0            373450    Mr                 Birmingham   \n",
              "6    male      0       0.0             17463    Mr  Dorchester, Massachusetts   \n",
              "\n",
              "   Country  \n",
              "0  England  \n",
              "2  Finland  \n",
              "3       US  \n",
              "4  England  \n",
              "6       US  "
            ],
            "text/html": [
              "\n",
              "  <div id=\"df-bbd7920a-627f-4d9c-9c3e-7ba0d1e9499f\">\n",
              "    <div class=\"colab-df-container\">\n",
              "      <div>\n",
              "<style scoped>\n",
              "    .dataframe tbody tr th:only-of-type {\n",
              "        vertical-align: middle;\n",
              "    }\n",
              "\n",
              "    .dataframe tbody tr th {\n",
              "        vertical-align: top;\n",
              "    }\n",
              "\n",
              "    .dataframe thead th {\n",
              "        text-align: right;\n",
              "    }\n",
              "</style>\n",
              "<table border=\"1\" class=\"dataframe\">\n",
              "  <thead>\n",
              "    <tr style=\"text-align: right;\">\n",
              "      <th></th>\n",
              "      <th>Age</th>\n",
              "      <th>Cabin</th>\n",
              "      <th>Embarked</th>\n",
              "      <th>Family_Size</th>\n",
              "      <th>Fare</th>\n",
              "      <th>Name</th>\n",
              "      <th>Parch</th>\n",
              "      <th>PassengerId</th>\n",
              "      <th>Pclass</th>\n",
              "      <th>Sex</th>\n",
              "      <th>SibSp</th>\n",
              "      <th>Survived</th>\n",
              "      <th>Ticket</th>\n",
              "      <th>Title</th>\n",
              "      <th>Hometown</th>\n",
              "      <th>Country</th>\n",
              "    </tr>\n",
              "  </thead>\n",
              "  <tbody>\n",
              "    <tr>\n",
              "      <th>0</th>\n",
              "      <td>22.0</td>\n",
              "      <td>NaN</td>\n",
              "      <td>S</td>\n",
              "      <td>1</td>\n",
              "      <td>7.2500</td>\n",
              "      <td>Braund, Mr. Owen Harris</td>\n",
              "      <td>0</td>\n",
              "      <td>1</td>\n",
              "      <td>3</td>\n",
              "      <td>male</td>\n",
              "      <td>1</td>\n",
              "      <td>0.0</td>\n",
              "      <td>A/5 21171</td>\n",
              "      <td>Mr</td>\n",
              "      <td>Bridgerule</td>\n",
              "      <td>England</td>\n",
              "    </tr>\n",
              "    <tr>\n",
              "      <th>2</th>\n",
              "      <td>26.0</td>\n",
              "      <td>NaN</td>\n",
              "      <td>S</td>\n",
              "      <td>0</td>\n",
              "      <td>7.9250</td>\n",
              "      <td>Heikkinen, Miss. Laina</td>\n",
              "      <td>0</td>\n",
              "      <td>3</td>\n",
              "      <td>3</td>\n",
              "      <td>female</td>\n",
              "      <td>0</td>\n",
              "      <td>1.0</td>\n",
              "      <td>STON/O2. 3101282</td>\n",
              "      <td>Miss</td>\n",
              "      <td>Jyväskylä</td>\n",
              "      <td>Finland</td>\n",
              "    </tr>\n",
              "    <tr>\n",
              "      <th>3</th>\n",
              "      <td>35.0</td>\n",
              "      <td>C123</td>\n",
              "      <td>S</td>\n",
              "      <td>1</td>\n",
              "      <td>53.1000</td>\n",
              "      <td>Futrelle, Mrs. Jacques Heath (Lily May Peel)</td>\n",
              "      <td>0</td>\n",
              "      <td>4</td>\n",
              "      <td>1</td>\n",
              "      <td>female</td>\n",
              "      <td>1</td>\n",
              "      <td>1.0</td>\n",
              "      <td>113803</td>\n",
              "      <td>Mrs</td>\n",
              "      <td>Scituate, Massachusetts</td>\n",
              "      <td>US</td>\n",
              "    </tr>\n",
              "    <tr>\n",
              "      <th>4</th>\n",
              "      <td>35.0</td>\n",
              "      <td>NaN</td>\n",
              "      <td>S</td>\n",
              "      <td>0</td>\n",
              "      <td>8.0500</td>\n",
              "      <td>Allen, Mr. William Henry</td>\n",
              "      <td>0</td>\n",
              "      <td>5</td>\n",
              "      <td>3</td>\n",
              "      <td>male</td>\n",
              "      <td>0</td>\n",
              "      <td>0.0</td>\n",
              "      <td>373450</td>\n",
              "      <td>Mr</td>\n",
              "      <td>Birmingham</td>\n",
              "      <td>England</td>\n",
              "    </tr>\n",
              "    <tr>\n",
              "      <th>6</th>\n",
              "      <td>54.0</td>\n",
              "      <td>E46</td>\n",
              "      <td>S</td>\n",
              "      <td>0</td>\n",
              "      <td>51.8625</td>\n",
              "      <td>McCarthy, Mr. Timothy J</td>\n",
              "      <td>0</td>\n",
              "      <td>7</td>\n",
              "      <td>1</td>\n",
              "      <td>male</td>\n",
              "      <td>0</td>\n",
              "      <td>0.0</td>\n",
              "      <td>17463</td>\n",
              "      <td>Mr</td>\n",
              "      <td>Dorchester, Massachusetts</td>\n",
              "      <td>US</td>\n",
              "    </tr>\n",
              "  </tbody>\n",
              "</table>\n",
              "</div>\n",
              "      <button class=\"colab-df-convert\" onclick=\"convertToInteractive('df-bbd7920a-627f-4d9c-9c3e-7ba0d1e9499f')\"\n",
              "              title=\"Convert this dataframe to an interactive table.\"\n",
              "              style=\"display:none;\">\n",
              "        \n",
              "  <svg xmlns=\"http://www.w3.org/2000/svg\" height=\"24px\"viewBox=\"0 0 24 24\"\n",
              "       width=\"24px\">\n",
              "    <path d=\"M0 0h24v24H0V0z\" fill=\"none\"/>\n",
              "    <path d=\"M18.56 5.44l.94 2.06.94-2.06 2.06-.94-2.06-.94-.94-2.06-.94 2.06-2.06.94zm-11 1L8.5 8.5l.94-2.06 2.06-.94-2.06-.94L8.5 2.5l-.94 2.06-2.06.94zm10 10l.94 2.06.94-2.06 2.06-.94-2.06-.94-.94-2.06-.94 2.06-2.06.94z\"/><path d=\"M17.41 7.96l-1.37-1.37c-.4-.4-.92-.59-1.43-.59-.52 0-1.04.2-1.43.59L10.3 9.45l-7.72 7.72c-.78.78-.78 2.05 0 2.83L4 21.41c.39.39.9.59 1.41.59.51 0 1.02-.2 1.41-.59l7.78-7.78 2.81-2.81c.8-.78.8-2.07 0-2.86zM5.41 20L4 18.59l7.72-7.72 1.47 1.35L5.41 20z\"/>\n",
              "  </svg>\n",
              "      </button>\n",
              "      \n",
              "  <style>\n",
              "    .colab-df-container {\n",
              "      display:flex;\n",
              "      flex-wrap:wrap;\n",
              "      gap: 12px;\n",
              "    }\n",
              "\n",
              "    .colab-df-convert {\n",
              "      background-color: #E8F0FE;\n",
              "      border: none;\n",
              "      border-radius: 50%;\n",
              "      cursor: pointer;\n",
              "      display: none;\n",
              "      fill: #1967D2;\n",
              "      height: 32px;\n",
              "      padding: 0 0 0 0;\n",
              "      width: 32px;\n",
              "    }\n",
              "\n",
              "    .colab-df-convert:hover {\n",
              "      background-color: #E2EBFA;\n",
              "      box-shadow: 0px 1px 2px rgba(60, 64, 67, 0.3), 0px 1px 3px 1px rgba(60, 64, 67, 0.15);\n",
              "      fill: #174EA6;\n",
              "    }\n",
              "\n",
              "    [theme=dark] .colab-df-convert {\n",
              "      background-color: #3B4455;\n",
              "      fill: #D2E3FC;\n",
              "    }\n",
              "\n",
              "    [theme=dark] .colab-df-convert:hover {\n",
              "      background-color: #434B5C;\n",
              "      box-shadow: 0px 1px 3px 1px rgba(0, 0, 0, 0.15);\n",
              "      filter: drop-shadow(0px 1px 2px rgba(0, 0, 0, 0.3));\n",
              "      fill: #FFFFFF;\n",
              "    }\n",
              "  </style>\n",
              "\n",
              "      <script>\n",
              "        const buttonEl =\n",
              "          document.querySelector('#df-bbd7920a-627f-4d9c-9c3e-7ba0d1e9499f button.colab-df-convert');\n",
              "        buttonEl.style.display =\n",
              "          google.colab.kernel.accessAllowed ? 'block' : 'none';\n",
              "\n",
              "        async function convertToInteractive(key) {\n",
              "          const element = document.querySelector('#df-bbd7920a-627f-4d9c-9c3e-7ba0d1e9499f');\n",
              "          const dataTable =\n",
              "            await google.colab.kernel.invokeFunction('convertToInteractive',\n",
              "                                                     [key], {});\n",
              "          if (!dataTable) return;\n",
              "\n",
              "          const docLinkHtml = 'Like what you see? Visit the ' +\n",
              "            '<a target=\"_blank\" href=https://colab.research.google.com/notebooks/data_table.ipynb>data table notebook</a>'\n",
              "            + ' to learn more about interactive tables.';\n",
              "          element.innerHTML = '';\n",
              "          dataTable['output_type'] = 'display_data';\n",
              "          await google.colab.output.renderOutput(dataTable, element);\n",
              "          const docLink = document.createElement('div');\n",
              "          docLink.innerHTML = docLinkHtml;\n",
              "          element.appendChild(docLink);\n",
              "        }\n",
              "      </script>\n",
              "    </div>\n",
              "  </div>\n",
              "  "
            ]
          },
          "metadata": {},
          "execution_count": 298
        }
      ]
    },
    {
      "cell_type": "code",
      "source": [
        "vc = df['Country'].value_counts()"
      ],
      "metadata": {
        "id": "nleyYC4T3Yez"
      },
      "execution_count": 299,
      "outputs": []
    },
    {
      "cell_type": "code",
      "source": [
        "df['Country'] = df['Country'].map(lambda x: 'other' if x not in vc[vc > 20].index else x)"
      ],
      "metadata": {
        "id": "uGierb5J5Ncl"
      },
      "execution_count": 300,
      "outputs": []
    },
    {
      "cell_type": "code",
      "source": [
        "df.to_csv(\"../temp/titanic_with_hometowns.csv\", index=False)"
      ],
      "metadata": {
        "id": "rly63ETEnJra"
      },
      "execution_count": 301,
      "outputs": []
    },
    {
      "cell_type": "code",
      "source": [
        "display_all(df.describe(include='all').T)"
      ],
      "metadata": {
        "id": "E-DCmISfn02o",
        "colab": {
          "base_uri": "https://localhost:8080/",
          "height": 551
        },
        "outputId": "1db09c7d-7993-4e9e-9733-9078cdc1183e"
      },
      "execution_count": 302,
      "outputs": [
        {
          "output_type": "display_data",
          "data": {
            "text/plain": [
              "              count unique                   top freq       mean         std  \\\n",
              "Age          1309.0    NaN                   NaN  NaN  29.562391    13.16536   \n",
              "Cabin           295    186           C23 C25 C27    6        NaN         NaN   \n",
              "Embarked       1309      3                     S  915        NaN         NaN   \n",
              "Family_Size  1309.0    NaN                   NaN  NaN   0.883881    1.583639   \n",
              "Fare         1309.0    NaN                   NaN  NaN  33.276193   51.743584   \n",
              "Name           1309   1307  Connolly, Miss. Kate    2        NaN         NaN   \n",
              "Parch        1309.0    NaN                   NaN  NaN   0.385027     0.86556   \n",
              "PassengerId  1309.0    NaN                   NaN  NaN      655.0  378.020061   \n",
              "Pclass       1309.0    NaN                   NaN  NaN   2.294882    0.837836   \n",
              "Sex            1309      2                  male  843        NaN         NaN   \n",
              "SibSp        1309.0    NaN                   NaN  NaN   0.498854    1.041658   \n",
              "Survived      891.0    NaN                   NaN  NaN   0.383838    0.486592   \n",
              "Ticket         1309    929              CA. 2343   11        NaN         NaN   \n",
              "Title          1309      6                    Mr  767        NaN         NaN   \n",
              "Hometown       1309    514         New York City   86        NaN         NaN   \n",
              "Country        1309     12                    US  316        NaN         NaN   \n",
              "\n",
              "              min     25%      50%     75%       max  \n",
              "Age          0.17    22.0     30.0    35.5      80.0  \n",
              "Cabin         NaN     NaN      NaN     NaN       NaN  \n",
              "Embarked      NaN     NaN      NaN     NaN       NaN  \n",
              "Family_Size   0.0     0.0      0.0     1.0      10.0  \n",
              "Fare          0.0  7.8958  14.4542  31.275  512.3292  \n",
              "Name          NaN     NaN      NaN     NaN       NaN  \n",
              "Parch         0.0     0.0      0.0     0.0       9.0  \n",
              "PassengerId   1.0   328.0    655.0   982.0    1309.0  \n",
              "Pclass        1.0     2.0      3.0     3.0       3.0  \n",
              "Sex           NaN     NaN      NaN     NaN       NaN  \n",
              "SibSp         0.0     0.0      0.0     1.0       8.0  \n",
              "Survived      0.0     0.0      0.0     1.0       1.0  \n",
              "Ticket        NaN     NaN      NaN     NaN       NaN  \n",
              "Title         NaN     NaN      NaN     NaN       NaN  \n",
              "Hometown      NaN     NaN      NaN     NaN       NaN  \n",
              "Country       NaN     NaN      NaN     NaN       NaN  "
            ],
            "text/html": [
              "\n",
              "  <div id=\"df-6f96521e-bdbe-402d-b565-65df81b2dc23\">\n",
              "    <div class=\"colab-df-container\">\n",
              "      <div>\n",
              "<style scoped>\n",
              "    .dataframe tbody tr th:only-of-type {\n",
              "        vertical-align: middle;\n",
              "    }\n",
              "\n",
              "    .dataframe tbody tr th {\n",
              "        vertical-align: top;\n",
              "    }\n",
              "\n",
              "    .dataframe thead th {\n",
              "        text-align: right;\n",
              "    }\n",
              "</style>\n",
              "<table border=\"1\" class=\"dataframe\">\n",
              "  <thead>\n",
              "    <tr style=\"text-align: right;\">\n",
              "      <th></th>\n",
              "      <th>count</th>\n",
              "      <th>unique</th>\n",
              "      <th>top</th>\n",
              "      <th>freq</th>\n",
              "      <th>mean</th>\n",
              "      <th>std</th>\n",
              "      <th>min</th>\n",
              "      <th>25%</th>\n",
              "      <th>50%</th>\n",
              "      <th>75%</th>\n",
              "      <th>max</th>\n",
              "    </tr>\n",
              "  </thead>\n",
              "  <tbody>\n",
              "    <tr>\n",
              "      <th>Age</th>\n",
              "      <td>1309.0</td>\n",
              "      <td>NaN</td>\n",
              "      <td>NaN</td>\n",
              "      <td>NaN</td>\n",
              "      <td>29.562391</td>\n",
              "      <td>13.16536</td>\n",
              "      <td>0.17</td>\n",
              "      <td>22.0</td>\n",
              "      <td>30.0</td>\n",
              "      <td>35.5</td>\n",
              "      <td>80.0</td>\n",
              "    </tr>\n",
              "    <tr>\n",
              "      <th>Cabin</th>\n",
              "      <td>295</td>\n",
              "      <td>186</td>\n",
              "      <td>C23 C25 C27</td>\n",
              "      <td>6</td>\n",
              "      <td>NaN</td>\n",
              "      <td>NaN</td>\n",
              "      <td>NaN</td>\n",
              "      <td>NaN</td>\n",
              "      <td>NaN</td>\n",
              "      <td>NaN</td>\n",
              "      <td>NaN</td>\n",
              "    </tr>\n",
              "    <tr>\n",
              "      <th>Embarked</th>\n",
              "      <td>1309</td>\n",
              "      <td>3</td>\n",
              "      <td>S</td>\n",
              "      <td>915</td>\n",
              "      <td>NaN</td>\n",
              "      <td>NaN</td>\n",
              "      <td>NaN</td>\n",
              "      <td>NaN</td>\n",
              "      <td>NaN</td>\n",
              "      <td>NaN</td>\n",
              "      <td>NaN</td>\n",
              "    </tr>\n",
              "    <tr>\n",
              "      <th>Family_Size</th>\n",
              "      <td>1309.0</td>\n",
              "      <td>NaN</td>\n",
              "      <td>NaN</td>\n",
              "      <td>NaN</td>\n",
              "      <td>0.883881</td>\n",
              "      <td>1.583639</td>\n",
              "      <td>0.0</td>\n",
              "      <td>0.0</td>\n",
              "      <td>0.0</td>\n",
              "      <td>1.0</td>\n",
              "      <td>10.0</td>\n",
              "    </tr>\n",
              "    <tr>\n",
              "      <th>Fare</th>\n",
              "      <td>1309.0</td>\n",
              "      <td>NaN</td>\n",
              "      <td>NaN</td>\n",
              "      <td>NaN</td>\n",
              "      <td>33.276193</td>\n",
              "      <td>51.743584</td>\n",
              "      <td>0.0</td>\n",
              "      <td>7.8958</td>\n",
              "      <td>14.4542</td>\n",
              "      <td>31.275</td>\n",
              "      <td>512.3292</td>\n",
              "    </tr>\n",
              "    <tr>\n",
              "      <th>Name</th>\n",
              "      <td>1309</td>\n",
              "      <td>1307</td>\n",
              "      <td>Connolly, Miss. Kate</td>\n",
              "      <td>2</td>\n",
              "      <td>NaN</td>\n",
              "      <td>NaN</td>\n",
              "      <td>NaN</td>\n",
              "      <td>NaN</td>\n",
              "      <td>NaN</td>\n",
              "      <td>NaN</td>\n",
              "      <td>NaN</td>\n",
              "    </tr>\n",
              "    <tr>\n",
              "      <th>Parch</th>\n",
              "      <td>1309.0</td>\n",
              "      <td>NaN</td>\n",
              "      <td>NaN</td>\n",
              "      <td>NaN</td>\n",
              "      <td>0.385027</td>\n",
              "      <td>0.86556</td>\n",
              "      <td>0.0</td>\n",
              "      <td>0.0</td>\n",
              "      <td>0.0</td>\n",
              "      <td>0.0</td>\n",
              "      <td>9.0</td>\n",
              "    </tr>\n",
              "    <tr>\n",
              "      <th>PassengerId</th>\n",
              "      <td>1309.0</td>\n",
              "      <td>NaN</td>\n",
              "      <td>NaN</td>\n",
              "      <td>NaN</td>\n",
              "      <td>655.0</td>\n",
              "      <td>378.020061</td>\n",
              "      <td>1.0</td>\n",
              "      <td>328.0</td>\n",
              "      <td>655.0</td>\n",
              "      <td>982.0</td>\n",
              "      <td>1309.0</td>\n",
              "    </tr>\n",
              "    <tr>\n",
              "      <th>Pclass</th>\n",
              "      <td>1309.0</td>\n",
              "      <td>NaN</td>\n",
              "      <td>NaN</td>\n",
              "      <td>NaN</td>\n",
              "      <td>2.294882</td>\n",
              "      <td>0.837836</td>\n",
              "      <td>1.0</td>\n",
              "      <td>2.0</td>\n",
              "      <td>3.0</td>\n",
              "      <td>3.0</td>\n",
              "      <td>3.0</td>\n",
              "    </tr>\n",
              "    <tr>\n",
              "      <th>Sex</th>\n",
              "      <td>1309</td>\n",
              "      <td>2</td>\n",
              "      <td>male</td>\n",
              "      <td>843</td>\n",
              "      <td>NaN</td>\n",
              "      <td>NaN</td>\n",
              "      <td>NaN</td>\n",
              "      <td>NaN</td>\n",
              "      <td>NaN</td>\n",
              "      <td>NaN</td>\n",
              "      <td>NaN</td>\n",
              "    </tr>\n",
              "    <tr>\n",
              "      <th>SibSp</th>\n",
              "      <td>1309.0</td>\n",
              "      <td>NaN</td>\n",
              "      <td>NaN</td>\n",
              "      <td>NaN</td>\n",
              "      <td>0.498854</td>\n",
              "      <td>1.041658</td>\n",
              "      <td>0.0</td>\n",
              "      <td>0.0</td>\n",
              "      <td>0.0</td>\n",
              "      <td>1.0</td>\n",
              "      <td>8.0</td>\n",
              "    </tr>\n",
              "    <tr>\n",
              "      <th>Survived</th>\n",
              "      <td>891.0</td>\n",
              "      <td>NaN</td>\n",
              "      <td>NaN</td>\n",
              "      <td>NaN</td>\n",
              "      <td>0.383838</td>\n",
              "      <td>0.486592</td>\n",
              "      <td>0.0</td>\n",
              "      <td>0.0</td>\n",
              "      <td>0.0</td>\n",
              "      <td>1.0</td>\n",
              "      <td>1.0</td>\n",
              "    </tr>\n",
              "    <tr>\n",
              "      <th>Ticket</th>\n",
              "      <td>1309</td>\n",
              "      <td>929</td>\n",
              "      <td>CA. 2343</td>\n",
              "      <td>11</td>\n",
              "      <td>NaN</td>\n",
              "      <td>NaN</td>\n",
              "      <td>NaN</td>\n",
              "      <td>NaN</td>\n",
              "      <td>NaN</td>\n",
              "      <td>NaN</td>\n",
              "      <td>NaN</td>\n",
              "    </tr>\n",
              "    <tr>\n",
              "      <th>Title</th>\n",
              "      <td>1309</td>\n",
              "      <td>6</td>\n",
              "      <td>Mr</td>\n",
              "      <td>767</td>\n",
              "      <td>NaN</td>\n",
              "      <td>NaN</td>\n",
              "      <td>NaN</td>\n",
              "      <td>NaN</td>\n",
              "      <td>NaN</td>\n",
              "      <td>NaN</td>\n",
              "      <td>NaN</td>\n",
              "    </tr>\n",
              "    <tr>\n",
              "      <th>Hometown</th>\n",
              "      <td>1309</td>\n",
              "      <td>514</td>\n",
              "      <td>New York City</td>\n",
              "      <td>86</td>\n",
              "      <td>NaN</td>\n",
              "      <td>NaN</td>\n",
              "      <td>NaN</td>\n",
              "      <td>NaN</td>\n",
              "      <td>NaN</td>\n",
              "      <td>NaN</td>\n",
              "      <td>NaN</td>\n",
              "    </tr>\n",
              "    <tr>\n",
              "      <th>Country</th>\n",
              "      <td>1309</td>\n",
              "      <td>12</td>\n",
              "      <td>US</td>\n",
              "      <td>316</td>\n",
              "      <td>NaN</td>\n",
              "      <td>NaN</td>\n",
              "      <td>NaN</td>\n",
              "      <td>NaN</td>\n",
              "      <td>NaN</td>\n",
              "      <td>NaN</td>\n",
              "      <td>NaN</td>\n",
              "    </tr>\n",
              "  </tbody>\n",
              "</table>\n",
              "</div>\n",
              "      <button class=\"colab-df-convert\" onclick=\"convertToInteractive('df-6f96521e-bdbe-402d-b565-65df81b2dc23')\"\n",
              "              title=\"Convert this dataframe to an interactive table.\"\n",
              "              style=\"display:none;\">\n",
              "        \n",
              "  <svg xmlns=\"http://www.w3.org/2000/svg\" height=\"24px\"viewBox=\"0 0 24 24\"\n",
              "       width=\"24px\">\n",
              "    <path d=\"M0 0h24v24H0V0z\" fill=\"none\"/>\n",
              "    <path d=\"M18.56 5.44l.94 2.06.94-2.06 2.06-.94-2.06-.94-.94-2.06-.94 2.06-2.06.94zm-11 1L8.5 8.5l.94-2.06 2.06-.94-2.06-.94L8.5 2.5l-.94 2.06-2.06.94zm10 10l.94 2.06.94-2.06 2.06-.94-2.06-.94-.94-2.06-.94 2.06-2.06.94z\"/><path d=\"M17.41 7.96l-1.37-1.37c-.4-.4-.92-.59-1.43-.59-.52 0-1.04.2-1.43.59L10.3 9.45l-7.72 7.72c-.78.78-.78 2.05 0 2.83L4 21.41c.39.39.9.59 1.41.59.51 0 1.02-.2 1.41-.59l7.78-7.78 2.81-2.81c.8-.78.8-2.07 0-2.86zM5.41 20L4 18.59l7.72-7.72 1.47 1.35L5.41 20z\"/>\n",
              "  </svg>\n",
              "      </button>\n",
              "      \n",
              "  <style>\n",
              "    .colab-df-container {\n",
              "      display:flex;\n",
              "      flex-wrap:wrap;\n",
              "      gap: 12px;\n",
              "    }\n",
              "\n",
              "    .colab-df-convert {\n",
              "      background-color: #E8F0FE;\n",
              "      border: none;\n",
              "      border-radius: 50%;\n",
              "      cursor: pointer;\n",
              "      display: none;\n",
              "      fill: #1967D2;\n",
              "      height: 32px;\n",
              "      padding: 0 0 0 0;\n",
              "      width: 32px;\n",
              "    }\n",
              "\n",
              "    .colab-df-convert:hover {\n",
              "      background-color: #E2EBFA;\n",
              "      box-shadow: 0px 1px 2px rgba(60, 64, 67, 0.3), 0px 1px 3px 1px rgba(60, 64, 67, 0.15);\n",
              "      fill: #174EA6;\n",
              "    }\n",
              "\n",
              "    [theme=dark] .colab-df-convert {\n",
              "      background-color: #3B4455;\n",
              "      fill: #D2E3FC;\n",
              "    }\n",
              "\n",
              "    [theme=dark] .colab-df-convert:hover {\n",
              "      background-color: #434B5C;\n",
              "      box-shadow: 0px 1px 3px 1px rgba(0, 0, 0, 0.15);\n",
              "      filter: drop-shadow(0px 1px 2px rgba(0, 0, 0, 0.3));\n",
              "      fill: #FFFFFF;\n",
              "    }\n",
              "  </style>\n",
              "\n",
              "      <script>\n",
              "        const buttonEl =\n",
              "          document.querySelector('#df-6f96521e-bdbe-402d-b565-65df81b2dc23 button.colab-df-convert');\n",
              "        buttonEl.style.display =\n",
              "          google.colab.kernel.accessAllowed ? 'block' : 'none';\n",
              "\n",
              "        async function convertToInteractive(key) {\n",
              "          const element = document.querySelector('#df-6f96521e-bdbe-402d-b565-65df81b2dc23');\n",
              "          const dataTable =\n",
              "            await google.colab.kernel.invokeFunction('convertToInteractive',\n",
              "                                                     [key], {});\n",
              "          if (!dataTable) return;\n",
              "\n",
              "          const docLinkHtml = 'Like what you see? Visit the ' +\n",
              "            '<a target=\"_blank\" href=https://colab.research.google.com/notebooks/data_table.ipynb>data table notebook</a>'\n",
              "            + ' to learn more about interactive tables.';\n",
              "          element.innerHTML = '';\n",
              "          dataTable['output_type'] = 'display_data';\n",
              "          await google.colab.output.renderOutput(dataTable, element);\n",
              "          const docLink = document.createElement('div');\n",
              "          docLink.innerHTML = docLinkHtml;\n",
              "          element.appendChild(docLink);\n",
              "        }\n",
              "      </script>\n",
              "    </div>\n",
              "  </div>\n",
              "  "
            ]
          },
          "metadata": {}
        }
      ]
    },
    {
      "cell_type": "markdown",
      "source": [
        "### Preparing the data frame for modelling"
      ],
      "metadata": {
        "id": "amCDZJ3wmF-1"
      }
    },
    {
      "cell_type": "code",
      "source": [
        "# df = pd.read_csv('../temp/titanic_with_hometowns.csv')"
      ],
      "metadata": {
        "id": "X-jIv2Uf2Wjl"
      },
      "execution_count": 303,
      "outputs": []
    },
    {
      "cell_type": "markdown",
      "source": [
        "\n",
        "#### Encode Categorical Variables\n"
      ],
      "metadata": {
        "id": "BgSS4G4hm9k_"
      }
    },
    {
      "cell_type": "code",
      "source": [
        "sns.countplot(x='Pclass', data=df, palette='hls', hue='Survived')\n",
        "plt.xticks(rotation=45)\n",
        "plt.show()"
      ],
      "metadata": {
        "colab": {
          "base_uri": "https://localhost:8080/",
          "height": 613
        },
        "outputId": "b695b500-a048-4af5-f6d0-1339de7963ca",
        "id": "W2-ZA6blm9k_"
      },
      "execution_count": 304,
      "outputs": [
        {
          "output_type": "display_data",
          "data": {
            "text/plain": [
              "<Figure size 1080x720 with 1 Axes>"
            ],
            "image/png": "[encoded data removed]"
          },
          "metadata": {}
        }
      ]
    },
    {
      "cell_type": "code",
      "source": [
        "sns.countplot(x='Sex', data=df, palette='hls', hue='Survived')\n",
        "plt.xticks(rotation=45)\n",
        "plt.show()"
      ],
      "metadata": {
        "colab": {
          "base_uri": "https://localhost:8080/",
          "height": 635
        },
        "outputId": "b27390cf-81c9-4a41-aa1b-deafaae9a93d",
        "id": "f89AM-1gm9k_"
      },
      "execution_count": 305,
      "outputs": [
        {
          "output_type": "display_data",
          "data": {
            "text/plain": [
              "<Figure size 1080x720 with 1 Axes>"
            ],
            "image/png": "[encoded data removed]"
          },
          "metadata": {}
        }
      ]
    },
    {
      "cell_type": "code",
      "source": [
        "sns.countplot(x='Embarked', data=df, palette='hls', hue='Survived')\n",
        "plt.xticks(rotation=45)\n",
        "plt.show()"
      ],
      "metadata": {
        "colab": {
          "base_uri": "https://localhost:8080/",
          "height": 614
        },
        "outputId": "ad9704e7-1f72-4c06-b66d-4ecee524c9d6",
        "id": "EEZh8Lnsm9k_"
      },
      "execution_count": 306,
      "outputs": [
        {
          "output_type": "display_data",
          "data": {
            "text/plain": [
              "<Figure size 1080x720 with 1 Axes>"
            ],
            "image/png": "[encoded data removed]"
          },
          "metadata": {}
        }
      ]
    },
    {
      "cell_type": "code",
      "source": [
        "sns.countplot(x='Country', data=df, palette='hls', hue='Survived')\n",
        "plt.xticks(rotation=45)\n",
        "plt.show()"
      ],
      "metadata": {
        "colab": {
          "base_uri": "https://localhost:8080/",
          "height": 641
        },
        "id": "8lY1kGnUnOCj",
        "outputId": "c3289872-7515-4b82-8ef5-be9e5b7e88ff"
      },
      "execution_count": 307,
      "outputs": [
        {
          "output_type": "display_data",
          "data": {
            "text/plain": [
              "<Figure size 1080x720 with 1 Axes>"
            ],
            "image/png": "[encoded data removed]"
          },
          "metadata": {}
        }
      ]
    },
    {
      "cell_type": "code",
      "source": [
        "# convert to cateogry dtype\n",
        "df['Sex'] = df['Sex'].astype('category')\n",
        "# convert to category codes\n",
        "df['Sex'] = df['Sex'].cat.codes"
      ],
      "metadata": {
        "id": "wDM-egjIm9k_"
      },
      "execution_count": 308,
      "outputs": []
    },
    {
      "cell_type": "code",
      "source": [
        "# subset all categorical variables which need to be encoded\n",
        "categorical = ['Embarked', 'Title', 'Country']\n",
        "\n",
        "for var in categorical:\n",
        "    df = pd.concat([df, \n",
        "                    pd.get_dummies(df[var], prefix=var)], axis=1)\n",
        "    del df[var]"
      ],
      "metadata": {
        "id": "rKw0JZ0hm9k_"
      },
      "execution_count": 309,
      "outputs": []
    },
    {
      "cell_type": "code",
      "source": [
        "# drop the variables we won't be using\n",
        "df.drop(['Cabin', 'Name', 'Ticket', 'PassengerId', 'Hometown'], axis=1, inplace=True)"
      ],
      "metadata": {
        "id": "lPfIhAosm9k_"
      },
      "execution_count": 310,
      "outputs": []
    },
    {
      "cell_type": "code",
      "source": [
        "df.head()"
      ],
      "metadata": {
        "colab": {
          "base_uri": "https://localhost:8080/",
          "height": 299
        },
        "outputId": "8031dd2f-1b27-475d-ed1a-2c742ad34ab7",
        "id": "UfNDQw_fm9k_"
      },
      "execution_count": 311,
      "outputs": [
        {
          "output_type": "execute_result",
          "data": {
            "text/plain": [
              "    Age  Family_Size     Fare  Parch  Pclass  Sex  SibSp  Survived  \\\n",
              "0  22.0            1   7.2500      0       3    1      1       0.0   \n",
              "2  26.0            0   7.9250      0       3    0      0       1.0   \n",
              "3  35.0            1  53.1000      0       1    0      1       1.0   \n",
              "4  35.0            0   8.0500      0       3    1      0       0.0   \n",
              "6  54.0            0  51.8625      0       1    1      0       0.0   \n",
              "\n",
              "   Embarked_C  Embarked_Q  ...  Country_Croatia  Country_England  \\\n",
              "0           0           0  ...                0                1   \n",
              "2           0           0  ...                0                0   \n",
              "3           0           0  ...                0                0   \n",
              "4           0           0  ...                0                1   \n",
              "6           0           0  ...                0                0   \n",
              "\n",
              "   Country_Finland  Country_France  Country_Ireland  Country_Norway  \\\n",
              "0                0               0                0               0   \n",
              "2                1               0                0               0   \n",
              "3                0               0                0               0   \n",
              "4                0               0                0               0   \n",
              "6                0               0                0               0   \n",
              "\n",
              "   Country_Sweden  Country_UK  Country_US  Country_other  \n",
              "0               0           0           0              0  \n",
              "2               0           0           0              0  \n",
              "3               0           0           1              0  \n",
              "4               0           0           0              0  \n",
              "6               0           0           1              0  \n",
              "\n",
              "[5 rows x 29 columns]"
            ],
            "text/html": [
              "\n",
              "  <div id=\"df-39d6dd9a-f113-4669-9b9d-5ad2d21fbd5e\">\n",
              "    <div class=\"colab-df-container\">\n",
              "      <div>\n",
              "<style scoped>\n",
              "    .dataframe tbody tr th:only-of-type {\n",
              "        vertical-align: middle;\n",
              "    }\n",
              "\n",
              "    .dataframe tbody tr th {\n",
              "        vertical-align: top;\n",
              "    }\n",
              "\n",
              "    .dataframe thead th {\n",
              "        text-align: right;\n",
              "    }\n",
              "</style>\n",
              "<table border=\"1\" class=\"dataframe\">\n",
              "  <thead>\n",
              "    <tr style=\"text-align: right;\">\n",
              "      <th></th>\n",
              "      <th>Age</th>\n",
              "      <th>Family_Size</th>\n",
              "      <th>Fare</th>\n",
              "      <th>Parch</th>\n",
              "      <th>Pclass</th>\n",
              "      <th>Sex</th>\n",
              "      <th>SibSp</th>\n",
              "      <th>Survived</th>\n",
              "      <th>Embarked_C</th>\n",
              "      <th>Embarked_Q</th>\n",
              "      <th>...</th>\n",
              "      <th>Country_Croatia</th>\n",
              "      <th>Country_England</th>\n",
              "      <th>Country_Finland</th>\n",
              "      <th>Country_France</th>\n",
              "      <th>Country_Ireland</th>\n",
              "      <th>Country_Norway</th>\n",
              "      <th>Country_Sweden</th>\n",
              "      <th>Country_UK</th>\n",
              "      <th>Country_US</th>\n",
              "      <th>Country_other</th>\n",
              "    </tr>\n",
              "  </thead>\n",
              "  <tbody>\n",
              "    <tr>\n",
              "      <th>0</th>\n",
              "      <td>22.0</td>\n",
              "      <td>1</td>\n",
              "      <td>7.2500</td>\n",
              "      <td>0</td>\n",
              "      <td>3</td>\n",
              "      <td>1</td>\n",
              "      <td>1</td>\n",
              "      <td>0.0</td>\n",
              "      <td>0</td>\n",
              "      <td>0</td>\n",
              "      <td>...</td>\n",
              "      <td>0</td>\n",
              "      <td>1</td>\n",
              "      <td>0</td>\n",
              "      <td>0</td>\n",
              "      <td>0</td>\n",
              "      <td>0</td>\n",
              "      <td>0</td>\n",
              "      <td>0</td>\n",
              "      <td>0</td>\n",
              "      <td>0</td>\n",
              "    </tr>\n",
              "    <tr>\n",
              "      <th>2</th>\n",
              "      <td>26.0</td>\n",
              "      <td>0</td>\n",
              "      <td>7.9250</td>\n",
              "      <td>0</td>\n",
              "      <td>3</td>\n",
              "      <td>0</td>\n",
              "      <td>0</td>\n",
              "      <td>1.0</td>\n",
              "      <td>0</td>\n",
              "      <td>0</td>\n",
              "      <td>...</td>\n",
              "      <td>0</td>\n",
              "      <td>0</td>\n",
              "      <td>1</td>\n",
              "      <td>0</td>\n",
              "      <td>0</td>\n",
              "      <td>0</td>\n",
              "      <td>0</td>\n",
              "      <td>0</td>\n",
              "      <td>0</td>\n",
              "      <td>0</td>\n",
              "    </tr>\n",
              "    <tr>\n",
              "      <th>3</th>\n",
              "      <td>35.0</td>\n",
              "      <td>1</td>\n",
              "      <td>53.1000</td>\n",
              "      <td>0</td>\n",
              "      <td>1</td>\n",
              "      <td>0</td>\n",
              "      <td>1</td>\n",
              "      <td>1.0</td>\n",
              "      <td>0</td>\n",
              "      <td>0</td>\n",
              "      <td>...</td>\n",
              "      <td>0</td>\n",
              "      <td>0</td>\n",
              "      <td>0</td>\n",
              "      <td>0</td>\n",
              "      <td>0</td>\n",
              "      <td>0</td>\n",
              "      <td>0</td>\n",
              "      <td>0</td>\n",
              "      <td>1</td>\n",
              "      <td>0</td>\n",
              "    </tr>\n",
              "    <tr>\n",
              "      <th>4</th>\n",
              "      <td>35.0</td>\n",
              "      <td>0</td>\n",
              "      <td>8.0500</td>\n",
              "      <td>0</td>\n",
              "      <td>3</td>\n",
              "      <td>1</td>\n",
              "      <td>0</td>\n",
              "      <td>0.0</td>\n",
              "      <td>0</td>\n",
              "      <td>0</td>\n",
              "      <td>...</td>\n",
              "      <td>0</td>\n",
              "      <td>1</td>\n",
              "      <td>0</td>\n",
              "      <td>0</td>\n",
              "      <td>0</td>\n",
              "      <td>0</td>\n",
              "      <td>0</td>\n",
              "      <td>0</td>\n",
              "      <td>0</td>\n",
              "      <td>0</td>\n",
              "    </tr>\n",
              "    <tr>\n",
              "      <th>6</th>\n",
              "      <td>54.0</td>\n",
              "      <td>0</td>\n",
              "      <td>51.8625</td>\n",
              "      <td>0</td>\n",
              "      <td>1</td>\n",
              "      <td>1</td>\n",
              "      <td>0</td>\n",
              "      <td>0.0</td>\n",
              "      <td>0</td>\n",
              "      <td>0</td>\n",
              "      <td>...</td>\n",
              "      <td>0</td>\n",
              "      <td>0</td>\n",
              "      <td>0</td>\n",
              "      <td>0</td>\n",
              "      <td>0</td>\n",
              "      <td>0</td>\n",
              "      <td>0</td>\n",
              "      <td>0</td>\n",
              "      <td>1</td>\n",
              "      <td>0</td>\n",
              "    </tr>\n",
              "  </tbody>\n",
              "</table>\n",
              "<p>5 rows × 29 columns</p>\n",
              "</div>\n",
              "      <button class=\"colab-df-convert\" onclick=\"convertToInteractive('df-39d6dd9a-f113-4669-9b9d-5ad2d21fbd5e')\"\n",
              "              title=\"Convert this dataframe to an interactive table.\"\n",
              "              style=\"display:none;\">\n",
              "        \n",
              "  <svg xmlns=\"http://www.w3.org/2000/svg\" height=\"24px\"viewBox=\"0 0 24 24\"\n",
              "       width=\"24px\">\n",
              "    <path d=\"M0 0h24v24H0V0z\" fill=\"none\"/>\n",
              "    <path d=\"M18.56 5.44l.94 2.06.94-2.06 2.06-.94-2.06-.94-.94-2.06-.94 2.06-2.06.94zm-11 1L8.5 8.5l.94-2.06 2.06-.94-2.06-.94L8.5 2.5l-.94 2.06-2.06.94zm10 10l.94 2.06.94-2.06 2.06-.94-2.06-.94-.94-2.06-.94 2.06-2.06.94z\"/><path d=\"M17.41 7.96l-1.37-1.37c-.4-.4-.92-.59-1.43-.59-.52 0-1.04.2-1.43.59L10.3 9.45l-7.72 7.72c-.78.78-.78 2.05 0 2.83L4 21.41c.39.39.9.59 1.41.59.51 0 1.02-.2 1.41-.59l7.78-7.78 2.81-2.81c.8-.78.8-2.07 0-2.86zM5.41 20L4 18.59l7.72-7.72 1.47 1.35L5.41 20z\"/>\n",
              "  </svg>\n",
              "      </button>\n",
              "      \n",
              "  <style>\n",
              "    .colab-df-container {\n",
              "      display:flex;\n",
              "      flex-wrap:wrap;\n",
              "      gap: 12px;\n",
              "    }\n",
              "\n",
              "    .colab-df-convert {\n",
              "      background-color: #E8F0FE;\n",
              "      border: none;\n",
              "      border-radius: 50%;\n",
              "      cursor: pointer;\n",
              "      display: none;\n",
              "      fill: #1967D2;\n",
              "      height: 32px;\n",
              "      padding: 0 0 0 0;\n",
              "      width: 32px;\n",
              "    }\n",
              "\n",
              "    .colab-df-convert:hover {\n",
              "      background-color: #E2EBFA;\n",
              "      box-shadow: 0px 1px 2px rgba(60, 64, 67, 0.3), 0px 1px 3px 1px rgba(60, 64, 67, 0.15);\n",
              "      fill: #174EA6;\n",
              "    }\n",
              "\n",
              "    [theme=dark] .colab-df-convert {\n",
              "      background-color: #3B4455;\n",
              "      fill: #D2E3FC;\n",
              "    }\n",
              "\n",
              "    [theme=dark] .colab-df-convert:hover {\n",
              "      background-color: #434B5C;\n",
              "      box-shadow: 0px 1px 3px 1px rgba(0, 0, 0, 0.15);\n",
              "      filter: drop-shadow(0px 1px 2px rgba(0, 0, 0, 0.3));\n",
              "      fill: #FFFFFF;\n",
              "    }\n",
              "  </style>\n",
              "\n",
              "      <script>\n",
              "        const buttonEl =\n",
              "          document.querySelector('#df-39d6dd9a-f113-4669-9b9d-5ad2d21fbd5e button.colab-df-convert');\n",
              "        buttonEl.style.display =\n",
              "          google.colab.kernel.accessAllowed ? 'block' : 'none';\n",
              "\n",
              "        async function convertToInteractive(key) {\n",
              "          const element = document.querySelector('#df-39d6dd9a-f113-4669-9b9d-5ad2d21fbd5e');\n",
              "          const dataTable =\n",
              "            await google.colab.kernel.invokeFunction('convertToInteractive',\n",
              "                                                     [key], {});\n",
              "          if (!dataTable) return;\n",
              "\n",
              "          const docLinkHtml = 'Like what you see? Visit the ' +\n",
              "            '<a target=\"_blank\" href=https://colab.research.google.com/notebooks/data_table.ipynb>data table notebook</a>'\n",
              "            + ' to learn more about interactive tables.';\n",
              "          element.innerHTML = '';\n",
              "          dataTable['output_type'] = 'display_data';\n",
              "          await google.colab.output.renderOutput(dataTable, element);\n",
              "          const docLink = document.createElement('div');\n",
              "          docLink.innerHTML = docLinkHtml;\n",
              "          element.appendChild(docLink);\n",
              "        }\n",
              "      </script>\n",
              "    </div>\n",
              "  </div>\n",
              "  "
            ]
          },
          "metadata": {},
          "execution_count": 311
        }
      ]
    },
    {
      "cell_type": "markdown",
      "source": [
        "#### Scale Continuous Variables\n",
        "[Back to Top](#scrollTo=3jq6wLfnS5_o)\n",
        "\n",
        "The continuous variables need to be scaled. This is done using a standard scaler from SkLearn."
      ],
      "metadata": {
        "id": "s2IgHSVxm9k_"
      }
    },
    {
      "cell_type": "code",
      "source": [
        "continuous = ['Age', 'Fare', 'Parch', 'Pclass', 'SibSp', 'Family_Size']\n",
        "\n",
        "scaler = StandardScaler()\n",
        "\n",
        "for var in continuous:\n",
        "    df[var] = df[var].astype('float64')\n",
        "    df[var] = scaler.fit_transform(df[var].values.reshape(-1, 1))"
      ],
      "metadata": {
        "id": "T_DKVHQBm9k_"
      },
      "execution_count": 312,
      "outputs": []
    },
    {
      "cell_type": "code",
      "source": [
        "display_all(df.describe(include='all').T)"
      ],
      "metadata": {
        "colab": {
          "base_uri": "https://localhost:8080/",
          "height": 959
        },
        "outputId": "80da829d-a380-4aa6-e8e5-f15c5d60577a",
        "id": "67jIbgSjm9lA"
      },
      "execution_count": 313,
      "outputs": [
        {
          "output_type": "display_data",
          "data": {
            "text/plain": [
              "                   count          mean       std       min       25%  \\\n",
              "Age               1309.0  7.192278e-17  1.000382 -2.233408 -0.574635   \n",
              "Family_Size       1309.0  1.357033e-17  1.000382 -0.558346 -0.558346   \n",
              "Fare              1309.0 -1.072056e-16  1.000382 -0.643344 -0.490691   \n",
              "Parch             1309.0 -2.714067e-18  1.000382 -0.445000 -0.445000   \n",
              "Pclass            1309.0 -2.008410e-16  1.000382 -1.546098 -0.352091   \n",
              "Sex               1309.0  6.440031e-01  0.478997  0.000000  0.000000   \n",
              "SibSp             1309.0  4.071100e-17  1.000382 -0.479087 -0.479087   \n",
              "Survived           891.0  3.838384e-01  0.486592  0.000000  0.000000   \n",
              "Embarked_C        1309.0  2.070283e-01  0.405331  0.000000  0.000000   \n",
              "Embarked_Q        1309.0  9.396486e-02  0.291891  0.000000  0.000000   \n",
              "Embarked_S        1309.0  6.990069e-01  0.458865  0.000000  0.000000   \n",
              "Title_Dr          1309.0  6.111536e-03  0.077967  0.000000  0.000000   \n",
              "Title_Master      1309.0  4.660046e-02  0.210862  0.000000  0.000000   \n",
              "Title_Miss        1309.0  2.016807e-01  0.401408  0.000000  0.000000   \n",
              "Title_Mr          1309.0  5.859435e-01  0.492747  0.000000  0.000000   \n",
              "Title_Mrs         1309.0  1.535523e-01  0.360657  0.000000  0.000000   \n",
              "Title_Rev         1309.0  6.111536e-03  0.077967  0.000000  0.000000   \n",
              "Country_Bulgaria  1309.0  2.444614e-02  0.154489  0.000000  0.000000   \n",
              "Country_Canada    1309.0  6.264324e-02  0.242413  0.000000  0.000000   \n",
              "Country_Croatia   1309.0  1.833461e-02  0.134210  0.000000  0.000000   \n",
              "Country_England   1309.0  1.810542e-01  0.385210  0.000000  0.000000   \n",
              "Country_Finland   1309.0  3.666921e-02  0.188020  0.000000  0.000000   \n",
              "Country_France    1309.0  3.284950e-02  0.178311  0.000000  0.000000   \n",
              "Country_Ireland   1309.0  8.326967e-02  0.276395  0.000000  0.000000   \n",
              "Country_Norway    1309.0  1.986249e-02  0.139581  0.000000  0.000000   \n",
              "Country_Sweden    1309.0  8.097785e-02  0.272905  0.000000  0.000000   \n",
              "Country_UK        1309.0  8.861727e-02  0.284299  0.000000  0.000000   \n",
              "Country_US        1309.0  2.414057e-01  0.428099  0.000000  0.000000   \n",
              "Country_other     1309.0  1.298701e-01  0.336289  0.000000  0.000000   \n",
              "\n",
              "                       50%       75%       max  \n",
              "Age               0.033252  0.451175  3.832549  \n",
              "Family_Size      -0.558346  0.073352  5.758637  \n",
              "Fare             -0.363894 -0.038690  9.261749  \n",
              "Parch            -0.445000 -0.445000  9.956864  \n",
              "Pclass            0.841916  0.841916  0.841916  \n",
              "Sex               1.000000  1.000000  1.000000  \n",
              "SibSp            -0.479087  0.481288  7.203909  \n",
              "Survived          0.000000  1.000000  1.000000  \n",
              "Embarked_C        0.000000  0.000000  1.000000  \n",
              "Embarked_Q        0.000000  0.000000  1.000000  \n",
              "Embarked_S        1.000000  1.000000  1.000000  \n",
              "Title_Dr          0.000000  0.000000  1.000000  \n",
              "Title_Master      0.000000  0.000000  1.000000  \n",
              "Title_Miss        0.000000  0.000000  1.000000  \n",
              "Title_Mr          1.000000  1.000000  1.000000  \n",
              "Title_Mrs         0.000000  0.000000  1.000000  \n",
              "Title_Rev         0.000000  0.000000  1.000000  \n",
              "Country_Bulgaria  0.000000  0.000000  1.000000  \n",
              "Country_Canada    0.000000  0.000000  1.000000  \n",
              "Country_Croatia   0.000000  0.000000  1.000000  \n",
              "Country_England   0.000000  0.000000  1.000000  \n",
              "Country_Finland   0.000000  0.000000  1.000000  \n",
              "Country_France    0.000000  0.000000  1.000000  \n",
              "Country_Ireland   0.000000  0.000000  1.000000  \n",
              "Country_Norway    0.000000  0.000000  1.000000  \n",
              "Country_Sweden    0.000000  0.000000  1.000000  \n",
              "Country_UK        0.000000  0.000000  1.000000  \n",
              "Country_US        0.000000  0.000000  1.000000  \n",
              "Country_other     0.000000  0.000000  1.000000  "
            ],
            "text/html": [
              "\n",
              "  <div id=\"df-d0bf244f-b35b-4262-9b35-8c6216e4d484\">\n",
              "    <div class=\"colab-df-container\">\n",
              "      <div>\n",
              "<style scoped>\n",
              "    .dataframe tbody tr th:only-of-type {\n",
              "        vertical-align: middle;\n",
              "    }\n",
              "\n",
              "    .dataframe tbody tr th {\n",
              "        vertical-align: top;\n",
              "    }\n",
              "\n",
              "    .dataframe thead th {\n",
              "        text-align: right;\n",
              "    }\n",
              "</style>\n",
              "<table border=\"1\" class=\"dataframe\">\n",
              "  <thead>\n",
              "    <tr style=\"text-align: right;\">\n",
              "      <th></th>\n",
              "      <th>count</th>\n",
              "      <th>mean</th>\n",
              "      <th>std</th>\n",
              "      <th>min</th>\n",
              "      <th>25%</th>\n",
              "      <th>50%</th>\n",
              "      <th>75%</th>\n",
              "      <th>max</th>\n",
              "    </tr>\n",
              "  </thead>\n",
              "  <tbody>\n",
              "    <tr>\n",
              "      <th>Age</th>\n",
              "      <td>1309.0</td>\n",
              "      <td>7.192278e-17</td>\n",
              "      <td>1.000382</td>\n",
              "      <td>-2.233408</td>\n",
              "      <td>-0.574635</td>\n",
              "      <td>0.033252</td>\n",
              "      <td>0.451175</td>\n",
              "      <td>3.832549</td>\n",
              "    </tr>\n",
              "    <tr>\n",
              "      <th>Family_Size</th>\n",
              "      <td>1309.0</td>\n",
              "      <td>1.357033e-17</td>\n",
              "      <td>1.000382</td>\n",
              "      <td>-0.558346</td>\n",
              "      <td>-0.558346</td>\n",
              "      <td>-0.558346</td>\n",
              "      <td>0.073352</td>\n",
              "      <td>5.758637</td>\n",
              "    </tr>\n",
              "    <tr>\n",
              "      <th>Fare</th>\n",
              "      <td>1309.0</td>\n",
              "      <td>-1.072056e-16</td>\n",
              "      <td>1.000382</td>\n",
              "      <td>-0.643344</td>\n",
              "      <td>-0.490691</td>\n",
              "      <td>-0.363894</td>\n",
              "      <td>-0.038690</td>\n",
              "      <td>9.261749</td>\n",
              "    </tr>\n",
              "    <tr>\n",
              "      <th>Parch</th>\n",
              "      <td>1309.0</td>\n",
              "      <td>-2.714067e-18</td>\n",
              "      <td>1.000382</td>\n",
              "      <td>-0.445000</td>\n",
              "      <td>-0.445000</td>\n",
              "      <td>-0.445000</td>\n",
              "      <td>-0.445000</td>\n",
              "      <td>9.956864</td>\n",
              "    </tr>\n",
              "    <tr>\n",
              "      <th>Pclass</th>\n",
              "      <td>1309.0</td>\n",
              "      <td>-2.008410e-16</td>\n",
              "      <td>1.000382</td>\n",
              "      <td>-1.546098</td>\n",
              "      <td>-0.352091</td>\n",
              "      <td>0.841916</td>\n",
              "      <td>0.841916</td>\n",
              "      <td>0.841916</td>\n",
              "    </tr>\n",
              "    <tr>\n",
              "      <th>Sex</th>\n",
              "      <td>1309.0</td>\n",
              "      <td>6.440031e-01</td>\n",
              "      <td>0.478997</td>\n",
              "      <td>0.000000</td>\n",
              "      <td>0.000000</td>\n",
              "      <td>1.000000</td>\n",
              "      <td>1.000000</td>\n",
              "      <td>1.000000</td>\n",
              "    </tr>\n",
              "    <tr>\n",
              "      <th>SibSp</th>\n",
              "      <td>1309.0</td>\n",
              "      <td>4.071100e-17</td>\n",
              "      <td>1.000382</td>\n",
              "      <td>-0.479087</td>\n",
              "      <td>-0.479087</td>\n",
              "      <td>-0.479087</td>\n",
              "      <td>0.481288</td>\n",
              "      <td>7.203909</td>\n",
              "    </tr>\n",
              "    <tr>\n",
              "      <th>Survived</th>\n",
              "      <td>891.0</td>\n",
              "      <td>3.838384e-01</td>\n",
              "      <td>0.486592</td>\n",
              "      <td>0.000000</td>\n",
              "      <td>0.000000</td>\n",
              "      <td>0.000000</td>\n",
              "      <td>1.000000</td>\n",
              "      <td>1.000000</td>\n",
              "    </tr>\n",
              "    <tr>\n",
              "      <th>Embarked_C</th>\n",
              "      <td>1309.0</td>\n",
              "      <td>2.070283e-01</td>\n",
              "      <td>0.405331</td>\n",
              "      <td>0.000000</td>\n",
              "      <td>0.000000</td>\n",
              "      <td>0.000000</td>\n",
              "      <td>0.000000</td>\n",
              "      <td>1.000000</td>\n",
              "    </tr>\n",
              "    <tr>\n",
              "      <th>Embarked_Q</th>\n",
              "      <td>1309.0</td>\n",
              "      <td>9.396486e-02</td>\n",
              "      <td>0.291891</td>\n",
              "      <td>0.000000</td>\n",
              "      <td>0.000000</td>\n",
              "      <td>0.000000</td>\n",
              "      <td>0.000000</td>\n",
              "      <td>1.000000</td>\n",
              "    </tr>\n",
              "    <tr>\n",
              "      <th>Embarked_S</th>\n",
              "      <td>1309.0</td>\n",
              "      <td>6.990069e-01</td>\n",
              "      <td>0.458865</td>\n",
              "      <td>0.000000</td>\n",
              "      <td>0.000000</td>\n",
              "      <td>1.000000</td>\n",
              "      <td>1.000000</td>\n",
              "      <td>1.000000</td>\n",
              "    </tr>\n",
              "    <tr>\n",
              "      <th>Title_Dr</th>\n",
              "      <td>1309.0</td>\n",
              "      <td>6.111536e-03</td>\n",
              "      <td>0.077967</td>\n",
              "      <td>0.000000</td>\n",
              "      <td>0.000000</td>\n",
              "      <td>0.000000</td>\n",
              "      <td>0.000000</td>\n",
              "      <td>1.000000</td>\n",
              "    </tr>\n",
              "    <tr>\n",
              "      <th>Title_Master</th>\n",
              "      <td>1309.0</td>\n",
              "      <td>4.660046e-02</td>\n",
              "      <td>0.210862</td>\n",
              "      <td>0.000000</td>\n",
              "      <td>0.000000</td>\n",
              "      <td>0.000000</td>\n",
              "      <td>0.000000</td>\n",
              "      <td>1.000000</td>\n",
              "    </tr>\n",
              "    <tr>\n",
              "      <th>Title_Miss</th>\n",
              "      <td>1309.0</td>\n",
              "      <td>2.016807e-01</td>\n",
              "      <td>0.401408</td>\n",
              "      <td>0.000000</td>\n",
              "      <td>0.000000</td>\n",
              "      <td>0.000000</td>\n",
              "      <td>0.000000</td>\n",
              "      <td>1.000000</td>\n",
              "    </tr>\n",
              "    <tr>\n",
              "      <th>Title_Mr</th>\n",
              "      <td>1309.0</td>\n",
              "      <td>5.859435e-01</td>\n",
              "      <td>0.492747</td>\n",
              "      <td>0.000000</td>\n",
              "      <td>0.000000</td>\n",
              "      <td>1.000000</td>\n",
              "      <td>1.000000</td>\n",
              "      <td>1.000000</td>\n",
              "    </tr>\n",
              "    <tr>\n",
              "      <th>Title_Mrs</th>\n",
              "      <td>1309.0</td>\n",
              "      <td>1.535523e-01</td>\n",
              "      <td>0.360657</td>\n",
              "      <td>0.000000</td>\n",
              "      <td>0.000000</td>\n",
              "      <td>0.000000</td>\n",
              "      <td>0.000000</td>\n",
              "      <td>1.000000</td>\n",
              "    </tr>\n",
              "    <tr>\n",
              "      <th>Title_Rev</th>\n",
              "      <td>1309.0</td>\n",
              "      <td>6.111536e-03</td>\n",
              "      <td>0.077967</td>\n",
              "      <td>0.000000</td>\n",
              "      <td>0.000000</td>\n",
              "      <td>0.000000</td>\n",
              "      <td>0.000000</td>\n",
              "      <td>1.000000</td>\n",
              "    </tr>\n",
              "    <tr>\n",
              "      <th>Country_Bulgaria</th>\n",
              "      <td>1309.0</td>\n",
              "      <td>2.444614e-02</td>\n",
              "      <td>0.154489</td>\n",
              "      <td>0.000000</td>\n",
              "      <td>0.000000</td>\n",
              "      <td>0.000000</td>\n",
              "      <td>0.000000</td>\n",
              "      <td>1.000000</td>\n",
              "    </tr>\n",
              "    <tr>\n",
              "      <th>Country_Canada</th>\n",
              "      <td>1309.0</td>\n",
              "      <td>6.264324e-02</td>\n",
              "      <td>0.242413</td>\n",
              "      <td>0.000000</td>\n",
              "      <td>0.000000</td>\n",
              "      <td>0.000000</td>\n",
              "      <td>0.000000</td>\n",
              "      <td>1.000000</td>\n",
              "    </tr>\n",
              "    <tr>\n",
              "      <th>Country_Croatia</th>\n",
              "      <td>1309.0</td>\n",
              "      <td>1.833461e-02</td>\n",
              "      <td>0.134210</td>\n",
              "      <td>0.000000</td>\n",
              "      <td>0.000000</td>\n",
              "      <td>0.000000</td>\n",
              "      <td>0.000000</td>\n",
              "      <td>1.000000</td>\n",
              "    </tr>\n",
              "    <tr>\n",
              "      <th>Country_England</th>\n",
              "      <td>1309.0</td>\n",
              "      <td>1.810542e-01</td>\n",
              "      <td>0.385210</td>\n",
              "      <td>0.000000</td>\n",
              "      <td>0.000000</td>\n",
              "      <td>0.000000</td>\n",
              "      <td>0.000000</td>\n",
              "      <td>1.000000</td>\n",
              "    </tr>\n",
              "    <tr>\n",
              "      <th>Country_Finland</th>\n",
              "      <td>1309.0</td>\n",
              "      <td>3.666921e-02</td>\n",
              "      <td>0.188020</td>\n",
              "      <td>0.000000</td>\n",
              "      <td>0.000000</td>\n",
              "      <td>0.000000</td>\n",
              "      <td>0.000000</td>\n",
              "      <td>1.000000</td>\n",
              "    </tr>\n",
              "    <tr>\n",
              "      <th>Country_France</th>\n",
              "      <td>1309.0</td>\n",
              "      <td>3.284950e-02</td>\n",
              "      <td>0.178311</td>\n",
              "      <td>0.000000</td>\n",
              "      <td>0.000000</td>\n",
              "      <td>0.000000</td>\n",
              "      <td>0.000000</td>\n",
              "      <td>1.000000</td>\n",
              "    </tr>\n",
              "    <tr>\n",
              "      <th>Country_Ireland</th>\n",
              "      <td>1309.0</td>\n",
              "      <td>8.326967e-02</td>\n",
              "      <td>0.276395</td>\n",
              "      <td>0.000000</td>\n",
              "      <td>0.000000</td>\n",
              "      <td>0.000000</td>\n",
              "      <td>0.000000</td>\n",
              "      <td>1.000000</td>\n",
              "    </tr>\n",
              "    <tr>\n",
              "      <th>Country_Norway</th>\n",
              "      <td>1309.0</td>\n",
              "      <td>1.986249e-02</td>\n",
              "      <td>0.139581</td>\n",
              "      <td>0.000000</td>\n",
              "      <td>0.000000</td>\n",
              "      <td>0.000000</td>\n",
              "      <td>0.000000</td>\n",
              "      <td>1.000000</td>\n",
              "    </tr>\n",
              "    <tr>\n",
              "      <th>Country_Sweden</th>\n",
              "      <td>1309.0</td>\n",
              "      <td>8.097785e-02</td>\n",
              "      <td>0.272905</td>\n",
              "      <td>0.000000</td>\n",
              "      <td>0.000000</td>\n",
              "      <td>0.000000</td>\n",
              "      <td>0.000000</td>\n",
              "      <td>1.000000</td>\n",
              "    </tr>\n",
              "    <tr>\n",
              "      <th>Country_UK</th>\n",
              "      <td>1309.0</td>\n",
              "      <td>8.861727e-02</td>\n",
              "      <td>0.284299</td>\n",
              "      <td>0.000000</td>\n",
              "      <td>0.000000</td>\n",
              "      <td>0.000000</td>\n",
              "      <td>0.000000</td>\n",
              "      <td>1.000000</td>\n",
              "    </tr>\n",
              "    <tr>\n",
              "      <th>Country_US</th>\n",
              "      <td>1309.0</td>\n",
              "      <td>2.414057e-01</td>\n",
              "      <td>0.428099</td>\n",
              "      <td>0.000000</td>\n",
              "      <td>0.000000</td>\n",
              "      <td>0.000000</td>\n",
              "      <td>0.000000</td>\n",
              "      <td>1.000000</td>\n",
              "    </tr>\n",
              "    <tr>\n",
              "      <th>Country_other</th>\n",
              "      <td>1309.0</td>\n",
              "      <td>1.298701e-01</td>\n",
              "      <td>0.336289</td>\n",
              "      <td>0.000000</td>\n",
              "      <td>0.000000</td>\n",
              "      <td>0.000000</td>\n",
              "      <td>0.000000</td>\n",
              "      <td>1.000000</td>\n",
              "    </tr>\n",
              "  </tbody>\n",
              "</table>\n",
              "</div>\n",
              "      <button class=\"colab-df-convert\" onclick=\"convertToInteractive('df-d0bf244f-b35b-4262-9b35-8c6216e4d484')\"\n",
              "              title=\"Convert this dataframe to an interactive table.\"\n",
              "              style=\"display:none;\">\n",
              "        \n",
              "  <svg xmlns=\"http://www.w3.org/2000/svg\" height=\"24px\"viewBox=\"0 0 24 24\"\n",
              "       width=\"24px\">\n",
              "    <path d=\"M0 0h24v24H0V0z\" fill=\"none\"/>\n",
              "    <path d=\"M18.56 5.44l.94 2.06.94-2.06 2.06-.94-2.06-.94-.94-2.06-.94 2.06-2.06.94zm-11 1L8.5 8.5l.94-2.06 2.06-.94-2.06-.94L8.5 2.5l-.94 2.06-2.06.94zm10 10l.94 2.06.94-2.06 2.06-.94-2.06-.94-.94-2.06-.94 2.06-2.06.94z\"/><path d=\"M17.41 7.96l-1.37-1.37c-.4-.4-.92-.59-1.43-.59-.52 0-1.04.2-1.43.59L10.3 9.45l-7.72 7.72c-.78.78-.78 2.05 0 2.83L4 21.41c.39.39.9.59 1.41.59.51 0 1.02-.2 1.41-.59l7.78-7.78 2.81-2.81c.8-.78.8-2.07 0-2.86zM5.41 20L4 18.59l7.72-7.72 1.47 1.35L5.41 20z\"/>\n",
              "  </svg>\n",
              "      </button>\n",
              "      \n",
              "  <style>\n",
              "    .colab-df-container {\n",
              "      display:flex;\n",
              "      flex-wrap:wrap;\n",
              "      gap: 12px;\n",
              "    }\n",
              "\n",
              "    .colab-df-convert {\n",
              "      background-color: #E8F0FE;\n",
              "      border: none;\n",
              "      border-radius: 50%;\n",
              "      cursor: pointer;\n",
              "      display: none;\n",
              "      fill: #1967D2;\n",
              "      height: 32px;\n",
              "      padding: 0 0 0 0;\n",
              "      width: 32px;\n",
              "    }\n",
              "\n",
              "    .colab-df-convert:hover {\n",
              "      background-color: #E2EBFA;\n",
              "      box-shadow: 0px 1px 2px rgba(60, 64, 67, 0.3), 0px 1px 3px 1px rgba(60, 64, 67, 0.15);\n",
              "      fill: #174EA6;\n",
              "    }\n",
              "\n",
              "    [theme=dark] .colab-df-convert {\n",
              "      background-color: #3B4455;\n",
              "      fill: #D2E3FC;\n",
              "    }\n",
              "\n",
              "    [theme=dark] .colab-df-convert:hover {\n",
              "      background-color: #434B5C;\n",
              "      box-shadow: 0px 1px 3px 1px rgba(0, 0, 0, 0.15);\n",
              "      filter: drop-shadow(0px 1px 2px rgba(0, 0, 0, 0.3));\n",
              "      fill: #FFFFFF;\n",
              "    }\n",
              "  </style>\n",
              "\n",
              "      <script>\n",
              "        const buttonEl =\n",
              "          document.querySelector('#df-d0bf244f-b35b-4262-9b35-8c6216e4d484 button.colab-df-convert');\n",
              "        buttonEl.style.display =\n",
              "          google.colab.kernel.accessAllowed ? 'block' : 'none';\n",
              "\n",
              "        async function convertToInteractive(key) {\n",
              "          const element = document.querySelector('#df-d0bf244f-b35b-4262-9b35-8c6216e4d484');\n",
              "          const dataTable =\n",
              "            await google.colab.kernel.invokeFunction('convertToInteractive',\n",
              "                                                     [key], {});\n",
              "          if (!dataTable) return;\n",
              "\n",
              "          const docLinkHtml = 'Like what you see? Visit the ' +\n",
              "            '<a target=\"_blank\" href=https://colab.research.google.com/notebooks/data_table.ipynb>data table notebook</a>'\n",
              "            + ' to learn more about interactive tables.';\n",
              "          element.innerHTML = '';\n",
              "          dataTable['output_type'] = 'display_data';\n",
              "          await google.colab.output.renderOutput(dataTable, element);\n",
              "          const docLink = document.createElement('div');\n",
              "          docLink.innerHTML = docLinkHtml;\n",
              "          element.appendChild(docLink);\n",
              "        }\n",
              "      </script>\n",
              "    </div>\n",
              "  </div>\n",
              "  "
            ]
          },
          "metadata": {}
        }
      ]
    },
    {
      "cell_type": "markdown",
      "source": [
        "#### Train Test Split"
      ],
      "metadata": {
        "id": "AkiSN4JCm9lA"
      }
    },
    {
      "cell_type": "markdown",
      "source": [
        "Now, all that is left is to feed our data that has been cleaned, encoded and scaled to our neural network.\n",
        "\n",
        "But first, we need to separate *data_df* back into *train* and *unlabeled* sets."
      ],
      "metadata": {
        "id": "JpAHy6g7m9lA"
      }
    },
    {
      "cell_type": "code",
      "source": [
        "train = df[pd.notnull(df['Survived'])]\n",
        "X_unlabeled = df[pd.isnull(df['Survived'])].drop(['Survived'], axis=1)"
      ],
      "metadata": {
        "id": "0f0EOADBm9lA"
      },
      "execution_count": 314,
      "outputs": []
    },
    {
      "cell_type": "markdown",
      "source": [
        "Also for the later experiments the training set gets split into train and test set randomly. This allows us to test the predictions on an *unseen* holdout set of the data."
      ],
      "metadata": {
        "id": "7oaYRLrCm9lA"
      }
    },
    {
      "cell_type": "code",
      "source": [
        "X_train, X_test, y_train, y_test = train_test_split(\n",
        "    train.drop(['Survived'], axis=1),\n",
        "    train['Survived'],\n",
        "    test_size=0.2, random_state=42)"
      ],
      "metadata": {
        "id": "QginJj1Lm9lA"
      },
      "execution_count": 315,
      "outputs": []
    },
    {
      "cell_type": "markdown",
      "source": [
        "## Modelling"
      ],
      "metadata": {
        "id": "2ypEfewpudbt"
      }
    },
    {
      "cell_type": "markdown",
      "source": [
        "Train the model"
      ],
      "metadata": {
        "id": "W9PRESShux4C"
      }
    },
    {
      "cell_type": "code",
      "source": [
        "model = create_model()\n",
        "print(model.summary())"
      ],
      "metadata": {
        "colab": {
          "base_uri": "https://localhost:8080/"
        },
        "id": "owMhdMH9_IBE",
        "outputId": "c72f02b9-1def-4158-cab7-e290c48fc513"
      },
      "execution_count": 316,
      "outputs": [
        {
          "output_type": "stream",
          "name": "stdout",
          "text": [
            "Model: \"sequential_218\"\n",
            "_________________________________________________________________\n",
            " Layer (type)                Output Shape              Param #   \n",
            "=================================================================\n",
            " dense_478 (Dense)           (None, 8)                 232       \n",
            "                                                                 \n",
            " dropout_218 (Dropout)       (None, 8)                 0         \n",
            "                                                                 \n",
            " dense_479 (Dense)           (None, 1)                 9         \n",
            "                                                                 \n",
            "=================================================================\n",
            "Total params: 241\n",
            "Trainable params: 241\n",
            "Non-trainable params: 0\n",
            "_________________________________________________________________\n",
            "None\n"
          ]
        }
      ]
    },
    {
      "cell_type": "code",
      "source": [
        "# train model on full train set, with 80/20 CV split\n",
        "# because the model does the random validation split automatically the whole labeled data set can be input\n",
        "# training = model.fit(train.drop(['Survived'], axis=1), train['Survived'], epochs=100, batch_size=32, validation_split=0.2, verbose=0)\n",
        "training = model.fit(X_train, y_train, epochs=100, batch_size=32, validation_split=0.2, verbose=0)\n",
        "\n",
        "val_acc = np.mean(training.history['val_accuracy'])\n",
        "print(\"\\n%s: %.2f%%\" % ('val_acc', val_acc*100))"
      ],
      "metadata": {
        "colab": {
          "base_uri": "https://localhost:8080/"
        },
        "outputId": "2daab178-0c91-4a56-a83e-2f383e993099",
        "id": "kkYmdxbUuv42"
      },
      "execution_count": 317,
      "outputs": [
        {
          "output_type": "stream",
          "name": "stdout",
          "text": [
            "\n",
            "val_acc: 79.49%\n"
          ]
        }
      ]
    },
    {
      "cell_type": "markdown",
      "source": [
        "Assess the results"
      ],
      "metadata": {
        "id": "gPrjtpZpuz2U"
      }
    },
    {
      "cell_type": "code",
      "source": [
        "# summarize history for accuracy\n",
        "plt.plot(training.history['accuracy'])\n",
        "plt.plot(training.history['val_accuracy'])\n",
        "plt.title('model accuracy')\n",
        "plt.ylabel('accuracy')\n",
        "plt.xlabel('epoch')\n",
        "plt.legend(['train', 'validation'], loc='upper left')\n",
        "plt.show()"
      ],
      "metadata": {
        "colab": {
          "base_uri": "https://localhost:8080/",
          "height": 627
        },
        "outputId": "03c6fe56-ae37-4c12-e56d-a95dc8f8b15b",
        "id": "pMpiSY4Duv42"
      },
      "execution_count": 318,
      "outputs": [
        {
          "output_type": "display_data",
          "data": {
            "text/plain": [
              "<Figure size 1080x720 with 1 Axes>"
            ],
            "image/png": "[encoded data removed]"
          },
          "metadata": {}
        }
      ]
    },
    {
      "cell_type": "markdown",
      "source": [
        "### Grid search\n",
        "[Back to Top](#scrollTo=3jq6wLfnS5_o)\n",
        "\n"
      ],
      "metadata": {
        "id": "Ds4yZb4GV7JI"
      }
    },
    {
      "cell_type": "markdown",
      "source": [
        "#### batch size and epochs\n",
        "We can see from the graph above that we might be training our network for too long. Let's use **grid search** to find out what the optimal values for `batch_size` and `epochs` are."
      ],
      "metadata": {
        "id": "uq-6HCeqV7JI"
      }
    },
    {
      "cell_type": "code",
      "source": [
        "# create model\n",
        "model = KerasClassifier(build_fn=create_model, verbose=0)\n",
        "\n",
        "# define the grid search parameters\n",
        "batch_size = [16, 32, 64]\n",
        "epochs = [50, 100]\n",
        "param_grid = dict(batch_size=batch_size, epochs=epochs)\n",
        "\n",
        "# search the grid\n",
        "grid = GridSearchCV(estimator=model, \n",
        "                    param_grid=param_grid,\n",
        "                    cv=3,\n",
        "                    verbose=2)  # include n_jobs=-1 if you are using CPU\n",
        "\n",
        "grid_result = grid.fit(X_train, y_train)"
      ],
      "metadata": {
        "colab": {
          "base_uri": "https://localhost:8080/"
        },
        "outputId": "d216ab98-9308-41fd-9352-768116aff17e",
        "id": "xSujMwmdV7JI"
      },
      "execution_count": 319,
      "outputs": [
        {
          "output_type": "stream",
          "name": "stderr",
          "text": [
            "<ipython-input-319-3f1475744285>:2: DeprecationWarning: KerasClassifier is deprecated, use Sci-Keras (https://github.com/adriangb/scikeras) instead. See https://www.adriangb.com/scikeras/stable/migration.html for help migrating.\n",
            "  model = KerasClassifier(build_fn=create_model, verbose=0)\n"
          ]
        },
        {
          "output_type": "stream",
          "name": "stdout",
          "text": [
            "Fitting 3 folds for each of 6 candidates, totalling 18 fits\n",
            "[CV] END ...........................batch_size=16, epochs=50; total time=   4.0s\n",
            "[CV] END ...........................batch_size=16, epochs=50; total time=   2.7s\n",
            "[CV] END ...........................batch_size=16, epochs=50; total time=   3.3s\n",
            "[CV] END ..........................batch_size=16, epochs=100; total time=   5.8s\n",
            "[CV] END ..........................batch_size=16, epochs=100; total time=   4.8s\n",
            "[CV] END ..........................batch_size=16, epochs=100; total time=   5.8s\n",
            "[CV] END ...........................batch_size=32, epochs=50; total time=   2.0s\n",
            "[CV] END ...........................batch_size=32, epochs=50; total time=   1.8s\n",
            "[CV] END ...........................batch_size=32, epochs=50; total time=   1.7s\n",
            "[CV] END ..........................batch_size=32, epochs=100; total time=   3.2s\n",
            "[CV] END ..........................batch_size=32, epochs=100; total time=   2.8s\n",
            "[CV] END ..........................batch_size=32, epochs=100; total time=   3.2s\n",
            "[CV] END ...........................batch_size=64, epochs=50; total time=   1.3s\n",
            "[CV] END ...........................batch_size=64, epochs=50; total time=   1.3s\n",
            "[CV] END ...........................batch_size=64, epochs=50; total time=   1.3s\n",
            "[CV] END ..........................batch_size=64, epochs=100; total time=   2.4s\n",
            "[CV] END ..........................batch_size=64, epochs=100; total time=   2.0s\n",
            "[CV] END ..........................batch_size=64, epochs=100; total time=   1.9s\n"
          ]
        }
      ]
    },
    {
      "cell_type": "code",
      "source": [
        "# summarize results\n",
        "print(\"Best: %f using %s\" % (grid_result.best_score_, grid_result.best_params_))\n",
        "means = grid_result.cv_results_['mean_test_score']\n",
        "stds = grid_result.cv_results_['std_test_score']\n",
        "params = grid_result.cv_results_['params']\n",
        "for mean, stdev, param in zip(means, stds, params):\n",
        "    print(\"%f (%f) with: %r\" % (mean, stdev, param))"
      ],
      "metadata": {
        "colab": {
          "base_uri": "https://localhost:8080/"
        },
        "outputId": "92630d13-1647-441d-ad24-9916ea1ad846",
        "id": "SSkTtA9OV7JI"
      },
      "execution_count": 320,
      "outputs": [
        {
          "output_type": "stream",
          "name": "stdout",
          "text": [
            "Best: 0.817425 using {'batch_size': 16, 'epochs': 100}\n",
            "0.814612 (0.005788) with: {'batch_size': 16, 'epochs': 50}\n",
            "0.817425 (0.012904) with: {'batch_size': 16, 'epochs': 100}\n",
            "0.816036 (0.013552) with: {'batch_size': 32, 'epochs': 50}\n",
            "0.814612 (0.008999) with: {'batch_size': 32, 'epochs': 100}\n",
            "0.800594 (0.018581) with: {'batch_size': 64, 'epochs': 50}\n",
            "0.816018 (0.003602) with: {'batch_size': 64, 'epochs': 100}\n"
          ]
        }
      ]
    },
    {
      "cell_type": "markdown",
      "source": [
        "#### Optimization Algorithm"
      ],
      "metadata": {
        "id": "wei6j8W3V7JJ"
      }
    },
    {
      "cell_type": "code",
      "source": [
        "# create model\n",
        "model = KerasClassifier(build_fn=create_model, epochs=50, batch_size=32, verbose=0)\n",
        "\n",
        "# define the grid search parameters\n",
        "optimizer = ['SGD', 'RMSprop', 'Adagrad', 'Adadelta', 'Adam', 'Nadam']\n",
        "param_grid = dict(opt=optimizer)\n",
        "\n",
        "# search the grid\n",
        "grid = GridSearchCV(estimator=model, param_grid=param_grid, verbose=2)\n",
        "grid_result = grid.fit(X_train, y_train)"
      ],
      "metadata": {
        "colab": {
          "base_uri": "https://localhost:8080/"
        },
        "id": "nM_vaqKVV7JJ",
        "outputId": "ff78d9e5-7c5e-4c70-cd32-70d45f017093"
      },
      "execution_count": 321,
      "outputs": [
        {
          "output_type": "stream",
          "name": "stdout",
          "text": [
            "Fitting 5 folds for each of 6 candidates, totalling 30 fits\n"
          ]
        },
        {
          "output_type": "stream",
          "name": "stderr",
          "text": [
            "<ipython-input-321-9b82b8083fd3>:2: DeprecationWarning: KerasClassifier is deprecated, use Sci-Keras (https://github.com/adriangb/scikeras) instead. See https://www.adriangb.com/scikeras/stable/migration.html for help migrating.\n",
            "  model = KerasClassifier(build_fn=create_model, epochs=50, batch_size=32, verbose=0)\n"
          ]
        },
        {
          "output_type": "stream",
          "name": "stdout",
          "text": [
            "[CV] END ............................................opt=SGD; total time=   1.8s\n",
            "[CV] END ............................................opt=SGD; total time=   1.9s\n",
            "[CV] END ............................................opt=SGD; total time=   1.9s\n",
            "[CV] END ............................................opt=SGD; total time=   1.8s\n",
            "[CV] END ............................................opt=SGD; total time=   1.9s\n",
            "[CV] END ........................................opt=RMSprop; total time=   3.3s\n",
            "[CV] END ........................................opt=RMSprop; total time=   2.1s\n",
            "[CV] END ........................................opt=RMSprop; total time=   2.0s\n",
            "[CV] END ........................................opt=RMSprop; total time=   2.1s\n",
            "[CV] END ........................................opt=RMSprop; total time=   2.0s\n",
            "[CV] END ........................................opt=Adagrad; total time=   1.9s\n",
            "[CV] END ........................................opt=Adagrad; total time=   2.3s\n",
            "[CV] END ........................................opt=Adagrad; total time=   1.8s\n",
            "[CV] END ........................................opt=Adagrad; total time=   1.9s\n",
            "[CV] END ........................................opt=Adagrad; total time=   1.9s\n",
            "[CV] END .......................................opt=Adadelta; total time=   3.6s\n",
            "[CV] END .......................................opt=Adadelta; total time=   3.6s\n",
            "[CV] END .......................................opt=Adadelta; total time=   1.9s\n",
            "[CV] END .......................................opt=Adadelta; total time=   1.9s\n",
            "[CV] END .......................................opt=Adadelta; total time=   1.9s\n",
            "[CV] END ...........................................opt=Adam; total time=   2.0s\n",
            "[CV] END ...........................................opt=Adam; total time=   1.9s\n",
            "[CV] END ...........................................opt=Adam; total time=   1.9s\n",
            "[CV] END ...........................................opt=Adam; total time=   1.9s\n",
            "[CV] END ...........................................opt=Adam; total time=   2.0s\n",
            "[CV] END ..........................................opt=Nadam; total time=   2.6s\n",
            "[CV] END ..........................................opt=Nadam; total time=   3.5s\n",
            "[CV] END ..........................................opt=Nadam; total time=   2.3s\n",
            "[CV] END ..........................................opt=Nadam; total time=   3.5s\n",
            "[CV] END ..........................................opt=Nadam; total time=   3.5s\n"
          ]
        }
      ]
    },
    {
      "cell_type": "code",
      "source": [
        "# summarize results\n",
        "print(\"Best: %f using %s\" % (grid_result.best_score_, grid_result.best_params_))\n",
        "means = grid_result.cv_results_['mean_test_score']\n",
        "stds = grid_result.cv_results_['std_test_score']\n",
        "params = grid_result.cv_results_['params']\n",
        "for mean, stdev, param in zip(means, stds, params):\n",
        "    print(\"%f (%f) with: %r\" % (mean, stdev, param))"
      ],
      "metadata": {
        "colab": {
          "base_uri": "https://localhost:8080/"
        },
        "outputId": "e00278af-4fca-4a6b-af83-d6d11fe8f308",
        "id": "8wjfd13CV7JJ"
      },
      "execution_count": 322,
      "outputs": [
        {
          "output_type": "stream",
          "name": "stdout",
          "text": [
            "Best: 0.817463 using {'opt': 'Adam'}\n",
            "0.800621 (0.027157) with: {'opt': 'SGD'}\n",
            "0.817453 (0.026419) with: {'opt': 'RMSprop'}\n",
            "0.366611 (0.033406) with: {'opt': 'Adagrad'}\n",
            "0.289373 (0.023394) with: {'opt': 'Adadelta'}\n",
            "0.817463 (0.033903) with: {'opt': 'Adam'}\n",
            "0.817463 (0.033903) with: {'opt': 'Nadam'}\n"
          ]
        }
      ]
    },
    {
      "cell_type": "markdown",
      "source": [
        "#### Hidden neurons"
      ],
      "metadata": {
        "id": "CvNWZtraV7JJ"
      }
    },
    {
      "cell_type": "code",
      "source": [
        "seed(42)\n",
        "set_seed(42)\n",
        "\n",
        "# create model\n",
        "model = KerasClassifier(build_fn=create_model, \n",
        "                        epochs=50, batch_size=32, verbose=0)\n",
        "\n",
        "# define the grid search parameters\n",
        "layers = [[8],[10],[10,5],[12,6],[12,8,4]]\n",
        "param_grid = dict(lyrs=layers)\n",
        "\n",
        "# search the grid\n",
        "grid = GridSearchCV(estimator=model, param_grid=param_grid, verbose=2)\n",
        "grid_result = grid.fit(X_train, y_train)"
      ],
      "metadata": {
        "colab": {
          "base_uri": "https://localhost:8080/"
        },
        "id": "jXUhU8XaV7JJ",
        "outputId": "a646212b-4e60-4ce5-ce28-eb62839b83f2"
      },
      "execution_count": 323,
      "outputs": [
        {
          "output_type": "stream",
          "name": "stdout",
          "text": [
            "Fitting 5 folds for each of 5 candidates, totalling 25 fits\n"
          ]
        },
        {
          "output_type": "stream",
          "name": "stderr",
          "text": [
            "<ipython-input-323-870744a6114d>:5: DeprecationWarning: KerasClassifier is deprecated, use Sci-Keras (https://github.com/adriangb/scikeras) instead. See https://www.adriangb.com/scikeras/stable/migration.html for help migrating.\n",
            "  model = KerasClassifier(build_fn=create_model,\n"
          ]
        },
        {
          "output_type": "stream",
          "name": "stdout",
          "text": [
            "[CV] END ...........................................lyrs=[8]; total time=   2.0s\n",
            "[CV] END ...........................................lyrs=[8]; total time=   1.9s\n",
            "[CV] END ...........................................lyrs=[8]; total time=   1.9s\n",
            "[CV] END ...........................................lyrs=[8]; total time=   1.9s\n",
            "[CV] END ...........................................lyrs=[8]; total time=   2.0s\n",
            "[CV] END ..........................................lyrs=[10]; total time=   1.9s\n",
            "[CV] END ..........................................lyrs=[10]; total time=   1.9s\n",
            "[CV] END ..........................................lyrs=[10]; total time=   1.9s\n",
            "[CV] END ..........................................lyrs=[10]; total time=   2.3s\n",
            "[CV] END ..........................................lyrs=[10]; total time=   1.9s\n",
            "[CV] END .......................................lyrs=[10, 5]; total time=   2.0s\n",
            "[CV] END .......................................lyrs=[10, 5]; total time=   2.0s\n",
            "[CV] END .......................................lyrs=[10, 5]; total time=   2.0s\n",
            "[CV] END .......................................lyrs=[10, 5]; total time=   2.0s\n",
            "[CV] END .......................................lyrs=[10, 5]; total time=   2.0s\n",
            "[CV] END .......................................lyrs=[12, 6]; total time=   2.0s\n",
            "[CV] END .......................................lyrs=[12, 6]; total time=   2.0s\n",
            "[CV] END .......................................lyrs=[12, 6]; total time=   2.0s\n",
            "[CV] END .......................................lyrs=[12, 6]; total time=   2.0s\n",
            "[CV] END .......................................lyrs=[12, 6]; total time=   2.0s\n",
            "[CV] END ....................................lyrs=[12, 8, 4]; total time=   2.0s\n",
            "[CV] END ....................................lyrs=[12, 8, 4]; total time=   3.3s\n",
            "[CV] END ....................................lyrs=[12, 8, 4]; total time=   2.5s\n",
            "[CV] END ....................................lyrs=[12, 8, 4]; total time=   2.0s\n",
            "[CV] END ....................................lyrs=[12, 8, 4]; total time=   2.1s\n"
          ]
        }
      ]
    },
    {
      "cell_type": "code",
      "source": [
        "# summarize results\n",
        "print(\"Best: %f using %s\" % (grid_result.best_score_, grid_result.best_params_))\n",
        "means = grid_result.cv_results_['mean_test_score']\n",
        "stds = grid_result.cv_results_['std_test_score']\n",
        "params = grid_result.cv_results_['params']\n",
        "for mean, stdev, param in zip(means, stds, params):\n",
        "    print(\"%f (%f) with: %r\" % (mean, stdev, param))"
      ],
      "metadata": {
        "colab": {
          "base_uri": "https://localhost:8080/"
        },
        "id": "j3bOhJuCV7JJ",
        "outputId": "544e2bcb-6e0c-4b5b-d3be-9aeff4d23ab8"
      },
      "execution_count": 324,
      "outputs": [
        {
          "output_type": "stream",
          "name": "stdout",
          "text": [
            "Best: 0.823077 using {'lyrs': [10]}\n",
            "0.817463 (0.033903) with: {'lyrs': [8]}\n",
            "0.823077 (0.021130) with: {'lyrs': [10]}\n",
            "0.816035 (0.016600) with: {'lyrs': [10, 5]}\n",
            "0.814636 (0.018332) with: {'lyrs': [12, 6]}\n",
            "0.816045 (0.020730) with: {'lyrs': [12, 8, 4]}\n"
          ]
        }
      ]
    },
    {
      "cell_type": "markdown",
      "source": [
        "#### Dropout"
      ],
      "metadata": {
        "id": "aNepCWG_V7JJ"
      }
    },
    {
      "cell_type": "code",
      "source": [
        "# create model\n",
        "model = KerasClassifier(build_fn=create_model, \n",
        "                        epochs=50, batch_size=32, verbose=0)\n",
        "\n",
        "# define the grid search parameters\n",
        "drops = [0.0, 0.01, 0.05, 0.1, 0.2, 0.5]\n",
        "param_grid = dict(dr=drops)\n",
        "grid = GridSearchCV(estimator=model, param_grid=param_grid, verbose=2)\n",
        "grid_result = grid.fit(X_train, y_train)"
      ],
      "metadata": {
        "colab": {
          "base_uri": "https://localhost:8080/"
        },
        "id": "wSLvqh4mV7JJ",
        "outputId": "2c475b53-c971-4ba1-ad6a-543e5dab4777"
      },
      "execution_count": 325,
      "outputs": [
        {
          "output_type": "stream",
          "name": "stdout",
          "text": [
            "Fitting 5 folds for each of 6 candidates, totalling 30 fits\n"
          ]
        },
        {
          "output_type": "stream",
          "name": "stderr",
          "text": [
            "<ipython-input-325-77855fcf2344>:2: DeprecationWarning: KerasClassifier is deprecated, use Sci-Keras (https://github.com/adriangb/scikeras) instead. See https://www.adriangb.com/scikeras/stable/migration.html for help migrating.\n",
            "  model = KerasClassifier(build_fn=create_model,\n"
          ]
        },
        {
          "output_type": "stream",
          "name": "stdout",
          "text": [
            "[CV] END .............................................dr=0.0; total time=   1.9s\n",
            "[CV] END .............................................dr=0.0; total time=   1.9s\n",
            "[CV] END .............................................dr=0.0; total time=   1.9s\n",
            "[CV] END .............................................dr=0.0; total time=   1.9s\n",
            "[CV] END .............................................dr=0.0; total time=   2.0s\n",
            "[CV] END ............................................dr=0.01; total time=   2.0s\n",
            "[CV] END ............................................dr=0.01; total time=   2.0s\n",
            "[CV] END ............................................dr=0.01; total time=   2.0s\n",
            "[CV] END ............................................dr=0.01; total time=   2.0s\n",
            "[CV] END ............................................dr=0.01; total time=   2.0s\n",
            "[CV] END ............................................dr=0.05; total time=   2.4s\n",
            "[CV] END ............................................dr=0.05; total time=   1.9s\n",
            "[CV] END ............................................dr=0.05; total time=   1.9s\n",
            "[CV] END ............................................dr=0.05; total time=   2.0s\n",
            "[CV] END ............................................dr=0.05; total time=   2.0s\n",
            "[CV] END .............................................dr=0.1; total time=   2.0s\n",
            "[CV] END .............................................dr=0.1; total time=   2.0s\n",
            "[CV] END .............................................dr=0.1; total time=   1.9s\n",
            "[CV] END .............................................dr=0.1; total time=   2.0s\n",
            "[CV] END .............................................dr=0.1; total time=   2.0s\n",
            "[CV] END .............................................dr=0.2; total time=   2.0s\n",
            "[CV] END .............................................dr=0.2; total time=   2.0s\n",
            "[CV] END .............................................dr=0.2; total time=   2.0s\n",
            "[CV] END .............................................dr=0.2; total time=   1.9s\n",
            "[CV] END .............................................dr=0.2; total time=   2.4s\n",
            "[CV] END .............................................dr=0.5; total time=   2.0s\n",
            "[CV] END .............................................dr=0.5; total time=   2.0s\n",
            "[CV] END .............................................dr=0.5; total time=   1.9s\n",
            "[CV] END .............................................dr=0.5; total time=   2.0s\n",
            "[CV] END .............................................dr=0.5; total time=   2.0s\n"
          ]
        }
      ]
    },
    {
      "cell_type": "code",
      "source": [
        "# summarize results\n",
        "print(\"Best: %f using %s\" % (grid_result.best_score_, grid_result.best_params_))\n",
        "means = grid_result.cv_results_['mean_test_score']\n",
        "stds = grid_result.cv_results_['std_test_score']\n",
        "params = grid_result.cv_results_['params']\n",
        "for mean, stdev, param in zip(means, stds, params):\n",
        "    print(\"%f (%f) with: %r\" % (mean, stdev, param))"
      ],
      "metadata": {
        "colab": {
          "base_uri": "https://localhost:8080/"
        },
        "outputId": "82b6bd2c-1278-42a5-b4df-69b307bbbafb",
        "id": "Q_YELtw4V7JJ"
      },
      "execution_count": 326,
      "outputs": [
        {
          "output_type": "stream",
          "name": "stdout",
          "text": [
            "Best: 0.817463 using {'dr': 0.0}\n",
            "0.817463 (0.033903) with: {'dr': 0.0}\n",
            "0.817463 (0.033903) with: {'dr': 0.01}\n",
            "0.816054 (0.033455) with: {'dr': 0.05}\n",
            "0.817453 (0.033660) with: {'dr': 0.1}\n",
            "0.814666 (0.037333) with: {'dr': 0.2}\n",
            "0.814675 (0.033656) with: {'dr': 0.5}\n"
          ]
        }
      ]
    },
    {
      "cell_type": "code",
      "source": [
        "# create final model\n",
        "model = create_model(lyrs=[8], dr=0.2)\n",
        "\n",
        "print(model.summary())"
      ],
      "metadata": {
        "colab": {
          "base_uri": "https://localhost:8080/"
        },
        "outputId": "e5401ca7-59c8-4186-90c8-d5ce7db111a7",
        "id": "hb__zOjHV7JJ"
      },
      "execution_count": 327,
      "outputs": [
        {
          "output_type": "stream",
          "name": "stdout",
          "text": [
            "Model: \"sequential_326\"\n",
            "_________________________________________________________________\n",
            " Layer (type)                Output Shape              Param #   \n",
            "=================================================================\n",
            " dense_714 (Dense)           (None, 8)                 232       \n",
            "                                                                 \n",
            " dropout_326 (Dropout)       (None, 8)                 0         \n",
            "                                                                 \n",
            " dense_715 (Dense)           (None, 1)                 9         \n",
            "                                                                 \n",
            "=================================================================\n",
            "Total params: 241\n",
            "Trainable params: 241\n",
            "Non-trainable params: 0\n",
            "_________________________________________________________________\n",
            "None\n"
          ]
        }
      ]
    },
    {
      "cell_type": "code",
      "source": [
        "# train model on full train set, with 80/20 CV split\n",
        "training = model.fit(X_train, y_train, epochs=50, batch_size=32, \n",
        "                     validation_split=0.2, verbose=0)\n",
        "\n",
        "# evaluate the model\n",
        "scores = model.evaluate(X_train, y_train)\n",
        "print(\"\\n%s: %.2f%%\" % (model.metrics_names[1], scores[1]*100))"
      ],
      "metadata": {
        "colab": {
          "base_uri": "https://localhost:8080/"
        },
        "outputId": "b9882fe8-f3b3-43bc-d8d9-1d1236b41648",
        "id": "m7geFIIZV7JJ"
      },
      "execution_count": 328,
      "outputs": [
        {
          "output_type": "stream",
          "name": "stdout",
          "text": [
            "23/23 [==============================] - 0s 2ms/step - loss: 0.4034 - accuracy: 0.8315\n",
            "\n",
            "accuracy: 83.15%\n"
          ]
        }
      ]
    },
    {
      "cell_type": "code",
      "source": [
        "# summarize history for accuracy\n",
        "plt.plot(training.history['accuracy'])\n",
        "plt.plot(training.history['val_accuracy'])\n",
        "plt.title('model accuracy')\n",
        "plt.ylabel('accuracy')\n",
        "plt.xlabel('epoch')\n",
        "plt.legend(['train', 'validation'], loc='upper left')\n",
        "plt.show()"
      ],
      "metadata": {
        "colab": {
          "base_uri": "https://localhost:8080/",
          "height": 627
        },
        "outputId": "38e693d0-c7d2-465a-a76e-6e8260d1a875",
        "id": "bQEmvr4fV7JJ"
      },
      "execution_count": 329,
      "outputs": [
        {
          "output_type": "display_data",
          "data": {
            "text/plain": [
              "<Figure size 1080x720 with 1 Axes>"
            ],
            "image/png": "[encoded data removed]"
          },
          "metadata": {}
        }
      ]
    },
    {
      "cell_type": "markdown",
      "source": [
        "### Make Predictions on Test Set\n",
        "[Back to Top](#scrollTo=3jq6wLfnS5_o)\n",
        "\n",
        "Finally, we can attempt to predict which passengers in the test set survived."
      ],
      "metadata": {
        "id": "zod6r-krV7JK"
      }
    },
    {
      "cell_type": "code",
      "source": [
        "# calculate predictions\n",
        "unlabeled['Survived'] = model.predict(X_unlabeled)\n",
        "unlabeled['Survived'] = unlabeled['Survived'].apply(lambda x: round(x,0)).astype('int')\n",
        "solution = unlabeled[['PassengerId', 'Survived']]"
      ],
      "metadata": {
        "colab": {
          "base_uri": "https://localhost:8080/"
        },
        "outputId": "9555b9b8-5330-403c-af92-e8569f8ab106",
        "id": "aJ7fNb_NV7JK"
      },
      "execution_count": 330,
      "outputs": [
        {
          "output_type": "stream",
          "name": "stdout",
          "text": [
            "14/14 [==============================] - 0s 1ms/step\n"
          ]
        }
      ]
    },
    {
      "cell_type": "code",
      "source": [
        "solution.head(10)"
      ],
      "metadata": {
        "colab": {
          "base_uri": "https://localhost:8080/",
          "height": 363
        },
        "outputId": "d99d6a42-5f45-4b9a-a55a-9c94a3d54606",
        "id": "nz-eTN1PV7JK"
      },
      "execution_count": 331,
      "outputs": [
        {
          "output_type": "execute_result",
          "data": {
            "text/plain": [
              "   PassengerId  Survived\n",
              "0          892         0\n",
              "1          893         0\n",
              "2          894         0\n",
              "3          895         1\n",
              "4          896         0\n",
              "5          897         0\n",
              "6          898         0\n",
              "7          899         1\n",
              "8          900         0\n",
              "9          901         0"
            ],
            "text/html": [
              "\n",
              "  <div id=\"df-688e4007-ecb4-4ba8-9a93-7356c05a51e1\">\n",
              "    <div class=\"colab-df-container\">\n",
              "      <div>\n",
              "<style scoped>\n",
              "    .dataframe tbody tr th:only-of-type {\n",
              "        vertical-align: middle;\n",
              "    }\n",
              "\n",
              "    .dataframe tbody tr th {\n",
              "        vertical-align: top;\n",
              "    }\n",
              "\n",
              "    .dataframe thead th {\n",
              "        text-align: right;\n",
              "    }\n",
              "</style>\n",
              "<table border=\"1\" class=\"dataframe\">\n",
              "  <thead>\n",
              "    <tr style=\"text-align: right;\">\n",
              "      <th></th>\n",
              "      <th>PassengerId</th>\n",
              "      <th>Survived</th>\n",
              "    </tr>\n",
              "  </thead>\n",
              "  <tbody>\n",
              "    <tr>\n",
              "      <th>0</th>\n",
              "      <td>892</td>\n",
              "      <td>0</td>\n",
              "    </tr>\n",
              "    <tr>\n",
              "      <th>1</th>\n",
              "      <td>893</td>\n",
              "      <td>0</td>\n",
              "    </tr>\n",
              "    <tr>\n",
              "      <th>2</th>\n",
              "      <td>894</td>\n",
              "      <td>0</td>\n",
              "    </tr>\n",
              "    <tr>\n",
              "      <th>3</th>\n",
              "      <td>895</td>\n",
              "      <td>1</td>\n",
              "    </tr>\n",
              "    <tr>\n",
              "      <th>4</th>\n",
              "      <td>896</td>\n",
              "      <td>0</td>\n",
              "    </tr>\n",
              "    <tr>\n",
              "      <th>5</th>\n",
              "      <td>897</td>\n",
              "      <td>0</td>\n",
              "    </tr>\n",
              "    <tr>\n",
              "      <th>6</th>\n",
              "      <td>898</td>\n",
              "      <td>0</td>\n",
              "    </tr>\n",
              "    <tr>\n",
              "      <th>7</th>\n",
              "      <td>899</td>\n",
              "      <td>1</td>\n",
              "    </tr>\n",
              "    <tr>\n",
              "      <th>8</th>\n",
              "      <td>900</td>\n",
              "      <td>0</td>\n",
              "    </tr>\n",
              "    <tr>\n",
              "      <th>9</th>\n",
              "      <td>901</td>\n",
              "      <td>0</td>\n",
              "    </tr>\n",
              "  </tbody>\n",
              "</table>\n",
              "</div>\n",
              "      <button class=\"colab-df-convert\" onclick=\"convertToInteractive('df-688e4007-ecb4-4ba8-9a93-7356c05a51e1')\"\n",
              "              title=\"Convert this dataframe to an interactive table.\"\n",
              "              style=\"display:none;\">\n",
              "        \n",
              "  <svg xmlns=\"http://www.w3.org/2000/svg\" height=\"24px\"viewBox=\"0 0 24 24\"\n",
              "       width=\"24px\">\n",
              "    <path d=\"M0 0h24v24H0V0z\" fill=\"none\"/>\n",
              "    <path d=\"M18.56 5.44l.94 2.06.94-2.06 2.06-.94-2.06-.94-.94-2.06-.94 2.06-2.06.94zm-11 1L8.5 8.5l.94-2.06 2.06-.94-2.06-.94L8.5 2.5l-.94 2.06-2.06.94zm10 10l.94 2.06.94-2.06 2.06-.94-2.06-.94-.94-2.06-.94 2.06-2.06.94z\"/><path d=\"M17.41 7.96l-1.37-1.37c-.4-.4-.92-.59-1.43-.59-.52 0-1.04.2-1.43.59L10.3 9.45l-7.72 7.72c-.78.78-.78 2.05 0 2.83L4 21.41c.39.39.9.59 1.41.59.51 0 1.02-.2 1.41-.59l7.78-7.78 2.81-2.81c.8-.78.8-2.07 0-2.86zM5.41 20L4 18.59l7.72-7.72 1.47 1.35L5.41 20z\"/>\n",
              "  </svg>\n",
              "      </button>\n",
              "      \n",
              "  <style>\n",
              "    .colab-df-container {\n",
              "      display:flex;\n",
              "      flex-wrap:wrap;\n",
              "      gap: 12px;\n",
              "    }\n",
              "\n",
              "    .colab-df-convert {\n",
              "      background-color: #E8F0FE;\n",
              "      border: none;\n",
              "      border-radius: 50%;\n",
              "      cursor: pointer;\n",
              "      display: none;\n",
              "      fill: #1967D2;\n",
              "      height: 32px;\n",
              "      padding: 0 0 0 0;\n",
              "      width: 32px;\n",
              "    }\n",
              "\n",
              "    .colab-df-convert:hover {\n",
              "      background-color: #E2EBFA;\n",
              "      box-shadow: 0px 1px 2px rgba(60, 64, 67, 0.3), 0px 1px 3px 1px rgba(60, 64, 67, 0.15);\n",
              "      fill: #174EA6;\n",
              "    }\n",
              "\n",
              "    [theme=dark] .colab-df-convert {\n",
              "      background-color: #3B4455;\n",
              "      fill: #D2E3FC;\n",
              "    }\n",
              "\n",
              "    [theme=dark] .colab-df-convert:hover {\n",
              "      background-color: #434B5C;\n",
              "      box-shadow: 0px 1px 3px 1px rgba(0, 0, 0, 0.15);\n",
              "      filter: drop-shadow(0px 1px 2px rgba(0, 0, 0, 0.3));\n",
              "      fill: #FFFFFF;\n",
              "    }\n",
              "  </style>\n",
              "\n",
              "      <script>\n",
              "        const buttonEl =\n",
              "          document.querySelector('#df-688e4007-ecb4-4ba8-9a93-7356c05a51e1 button.colab-df-convert');\n",
              "        buttonEl.style.display =\n",
              "          google.colab.kernel.accessAllowed ? 'block' : 'none';\n",
              "\n",
              "        async function convertToInteractive(key) {\n",
              "          const element = document.querySelector('#df-688e4007-ecb4-4ba8-9a93-7356c05a51e1');\n",
              "          const dataTable =\n",
              "            await google.colab.kernel.invokeFunction('convertToInteractive',\n",
              "                                                     [key], {});\n",
              "          if (!dataTable) return;\n",
              "\n",
              "          const docLinkHtml = 'Like what you see? Visit the ' +\n",
              "            '<a target=\"_blank\" href=https://colab.research.google.com/notebooks/data_table.ipynb>data table notebook</a>'\n",
              "            + ' to learn more about interactive tables.';\n",
              "          element.innerHTML = '';\n",
              "          dataTable['output_type'] = 'display_data';\n",
              "          await google.colab.output.renderOutput(dataTable, element);\n",
              "          const docLink = document.createElement('div');\n",
              "          docLink.innerHTML = docLinkHtml;\n",
              "          element.appendChild(docLink);\n",
              "        }\n",
              "      </script>\n",
              "    </div>\n",
              "  </div>\n",
              "  "
            ]
          },
          "metadata": {},
          "execution_count": 331
        }
      ]
    },
    {
      "cell_type": "markdown",
      "source": [
        "### Output Final Predictions\n",
        "\n",
        "[Back to Top](#scrollTo=3jq6wLfnS5_o)\n"
      ],
      "metadata": {
        "id": "POgt9WPTV7JK"
      }
    },
    {
      "cell_type": "code",
      "source": [
        "solution.to_csv(\"../output/Neural_Network_Solution_with_Hometown.csv\", index=False)"
      ],
      "metadata": {
        "id": "-lT-wwwNV7JK"
      },
      "execution_count": 332,
      "outputs": []
    }
  ]
}