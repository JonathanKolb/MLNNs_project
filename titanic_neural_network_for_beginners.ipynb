{
  "metadata": {
    "kernelspec": {
      "display_name": "Python 3",
      "language": "python",
      "name": "python3"
    },
    "language_info": {
      "name": "python",
      "version": "3.6.6",
      "mimetype": "text/x-python",
      "codemirror_mode": {
        "name": "ipython",
        "version": 3
      },
      "pygments_lexer": "ipython3",
      "nbconvert_exporter": "python",
      "file_extension": ".py"
    },
    "colab": {
      "provenance": [],
      "include_colab_link": true
    }
  },
  "nbformat_minor": 0,
  "nbformat": 4,
  "cells": [
    {
      "cell_type": "markdown",
      "metadata": {
        "id": "view-in-github",
        "colab_type": "text"
      },
      "source": [
        "<a href=\"https://colab.research.google.com/github/JonathanKolb/MLNNs_project/blob/fluffy-unicorns/titanic_neural_network_for_beginners.ipynb\" target=\"_parent\"><img src=\"https://colab.research.google.com/assets/colab-badge.svg\" alt=\"Open In Colab\"/></a>"
      ]
    },
    {
      "cell_type": "markdown",
      "source": [
        "# Titanic challenge part 3\n",
        "In this notebook, we will be covering all of the steps required to train, tune and assess a neural network.\n",
        "\n",
        "**[Part 1](https://www.kaggle.com/jamesleslie/titanic-eda-wrangling-imputation)** of this series dealt with the pre-processing and manipulation of the data. This notebook will make use of the datasets that were created in the first part.\n",
        "\n",
        "We will do each of the following:\n",
        "- train and test a neural network model\n",
        "- use grid search to optimize the hyperparameters\n",
        "- submit predictions for the test set\n",
        "\n",
        "**[Part 2](https://www.kaggle.com/jamesleslie/titanic-random-forest-grid-search)** covered the use of a random forest for tackling this challenge. Now let's see if we can beat that model with a neural network!\n",
        "> NOTE: make sure to use a GPU for this notebook, as it will be significantly faster to train"
      ],
      "metadata": {
        "_uuid": "82271100e26c1319f3587faf62b98b6097c9d538",
        "id": "U_XAkesYEkUA"
      }
    },
    {
      "cell_type": "markdown",
      "source": [
        "# Table of Contents:\n",
        "\n",
        "- **1. [Load packages and data](#loading)**\n",
        "- **2. [Pre-processing](#Pre-processing)**\n",
        "  - **2.1. [Variable Encoding](#encoding)**\n",
        "  - **2.2. [Variable Scaling](#scaling)**\n",
        "- **3. [Neural Network](#Neural Network)**"
      ],
      "metadata": {
        "_uuid": "cc4b58927770beab136969e526dbbd69a9cc21c8",
        "_cell_guid": "969e5a36-8f64-4129-ba03-7fd19b314ca9",
        "id": "bEzLzBj9EkUB"
      }
    },
    {
      "cell_type": "markdown",
      "source": [
        "<a id=\"loading\"></a>\n",
        "# 1. Load packages and data"
      ],
      "metadata": {
        "_uuid": "de8369a5716eb80519979ef773ecbb135f66e4b9",
        "_cell_guid": "ec3a4ceb-2397-45b3-aafe-a8ffde879888",
        "id": "Hm3iMtu6EkUB"
      }
    },
    {
      "cell_type": "code",
      "source": [
        "import numpy as np\n",
        "import pandas as pd\n",
        "import seaborn as sns\n",
        "import matplotlib.pyplot as plt\n",
        "from matplotlib.pyplot import rcParams\n",
        "%matplotlib inline\n",
        "rcParams['figure.figsize'] = 10,8\n",
        "sns.set(style='whitegrid', palette='muted',\n",
        "        rc={'figure.figsize': (15,10)})\n",
        "import os\n",
        "from sklearn.preprocessing import StandardScaler\n",
        "from sklearn.model_selection import train_test_split\n",
        "from sklearn.model_selection import GridSearchCV\n",
        "from keras.wrappers.scikit_learn import KerasClassifier\n",
        "from keras.models import Sequential\n",
        "from keras.layers import Dense, Activation, Dropout\n",
        "\n",
        "from numpy.random import seed\n",
        "from tensorflow import random\n",
        "\n",
        "# Input data files are available in the \"../input/\" directory.\n",
        "# For example, running this (by clicking run or pressing Shift+Enter) will list the files in the input directory\n",
        "# print(os.listdir(\"../input\"))"
      ],
      "metadata": {
        "_kg_hide-output": true,
        "_cell_guid": "79c7e3d0-c299-4dcb-8224-4455121ee9b0",
        "_uuid": "d629ff2d2480ee46fbb7e2d37f6b5fab8052498a",
        "execution": {
          "iopub.status.busy": "2022-12-28T00:04:33.171794Z",
          "iopub.execute_input": "2022-12-28T00:04:33.172258Z",
          "iopub.status.idle": "2022-12-28T00:04:34.540638Z",
          "shell.execute_reply.started": "2022-12-28T00:04:33.172175Z",
          "shell.execute_reply": "2022-12-28T00:04:34.539594Z"
        },
        "trusted": true,
        "id": "PnJf1aMfEkUB"
      },
      "execution_count": 1,
      "outputs": []
    },
    {
      "cell_type": "code",
      "source": [
        "print(os.listdir(\"input/titanic-cleaned-data\"))"
      ],
      "metadata": {
        "_uuid": "e4a7f976fc617dd1563cdcf55e6159bacaba1186",
        "execution": {
          "iopub.status.busy": "2022-12-28T00:04:34.542868Z",
          "iopub.execute_input": "2022-12-28T00:04:34.543248Z",
          "iopub.status.idle": "2022-12-28T00:04:34.553010Z",
          "shell.execute_reply.started": "2022-12-28T00:04:34.543175Z",
          "shell.execute_reply": "2022-12-28T00:04:34.552024Z"
        },
        "trusted": true,
        "colab": {
          "base_uri": "https://localhost:8080/"
        },
        "id": "_rjYCvLrEkUC",
        "outputId": "2189807c-9fc7-4317-bddf-23ecc8bd6a9a"
      },
      "execution_count": 2,
      "outputs": [
        {
          "output_type": "stream",
          "name": "stdout",
          "text": [
            "['test_clean.csv', 'train_clean.csv']\n"
          ]
        }
      ]
    },
    {
      "cell_type": "code",
      "source": [
        "# Load data as Pandas dataframe\n",
        "train = pd.read_csv('input/titanic-cleaned-data/train_clean.csv', )\n",
        "test = pd.read_csv('input/titanic-cleaned-data/test_clean.csv')\n",
        "df = pd.concat([train, test], axis=0, sort=True)"
      ],
      "metadata": {
        "_kg_hide-output": true,
        "_cell_guid": "79c7e3d0-c299-4dcb-8224-4455121ee9b0",
        "_uuid": "d629ff2d2480ee46fbb7e2d37f6b5fab8052498a",
        "execution": {
          "iopub.status.busy": "2022-12-28T00:04:34.556294Z",
          "iopub.execute_input": "2022-12-28T00:04:34.559951Z",
          "iopub.status.idle": "2022-12-28T00:04:34.619580Z",
          "shell.execute_reply.started": "2022-12-28T00:04:34.559866Z",
          "shell.execute_reply": "2022-12-28T00:04:34.617999Z"
        },
        "trusted": true,
        "id": "XNlwZNOlEkUC"
      },
      "execution_count": 3,
      "outputs": []
    },
    {
      "cell_type": "code",
      "source": [
        "df.head()"
      ],
      "metadata": {
        "_uuid": "bafdb419c8b7f571dbbb9c0b63fd3c52c66c3c1b",
        "execution": {
          "iopub.status.busy": "2022-12-28T00:04:34.625580Z",
          "iopub.execute_input": "2022-12-28T00:04:34.626058Z",
          "iopub.status.idle": "2022-12-28T00:04:34.678365Z",
          "shell.execute_reply.started": "2022-12-28T00:04:34.625981Z",
          "shell.execute_reply": "2022-12-28T00:04:34.677348Z"
        },
        "trusted": true,
        "colab": {
          "base_uri": "https://localhost:8080/",
          "height": 302
        },
        "id": "9Mr3StI-EkUD",
        "outputId": "30ff7619-9a78-42af-c358-28676c2b7087"
      },
      "execution_count": 4,
      "outputs": [
        {
          "output_type": "execute_result",
          "data": {
            "text/plain": [
              "    Age Cabin Embarked  Family_Size     Fare  \\\n",
              "0  22.0   NaN        S            1   7.2500   \n",
              "1  38.0   C85        C            1  71.2833   \n",
              "2  26.0   NaN        S            0   7.9250   \n",
              "3  35.0  C123        S            1  53.1000   \n",
              "4  35.0   NaN        S            0   8.0500   \n",
              "\n",
              "                                                Name  Parch  PassengerId  \\\n",
              "0                            Braund, Mr. Owen Harris      0            1   \n",
              "1  Cumings, Mrs. John Bradley (Florence Briggs Th...      0            2   \n",
              "2                             Heikkinen, Miss. Laina      0            3   \n",
              "3       Futrelle, Mrs. Jacques Heath (Lily May Peel)      0            4   \n",
              "4                           Allen, Mr. William Henry      0            5   \n",
              "\n",
              "   Pclass     Sex  SibSp  Survived            Ticket Title  \n",
              "0       3    male      1       0.0         A/5 21171    Mr  \n",
              "1       1  female      1       1.0          PC 17599   Mrs  \n",
              "2       3  female      0       1.0  STON/O2. 3101282  Miss  \n",
              "3       1  female      1       1.0            113803   Mrs  \n",
              "4       3    male      0       0.0            373450    Mr  "
            ],
            "text/html": [
              "\n",
              "  <div id=\"df-932ab698-9c65-427d-be91-69a69b947db6\">\n",
              "    <div class=\"colab-df-container\">\n",
              "      <div>\n",
              "<style scoped>\n",
              "    .dataframe tbody tr th:only-of-type {\n",
              "        vertical-align: middle;\n",
              "    }\n",
              "\n",
              "    .dataframe tbody tr th {\n",
              "        vertical-align: top;\n",
              "    }\n",
              "\n",
              "    .dataframe thead th {\n",
              "        text-align: right;\n",
              "    }\n",
              "</style>\n",
              "<table border=\"1\" class=\"dataframe\">\n",
              "  <thead>\n",
              "    <tr style=\"text-align: right;\">\n",
              "      <th></th>\n",
              "      <th>Age</th>\n",
              "      <th>Cabin</th>\n",
              "      <th>Embarked</th>\n",
              "      <th>Family_Size</th>\n",
              "      <th>Fare</th>\n",
              "      <th>Name</th>\n",
              "      <th>Parch</th>\n",
              "      <th>PassengerId</th>\n",
              "      <th>Pclass</th>\n",
              "      <th>Sex</th>\n",
              "      <th>SibSp</th>\n",
              "      <th>Survived</th>\n",
              "      <th>Ticket</th>\n",
              "      <th>Title</th>\n",
              "    </tr>\n",
              "  </thead>\n",
              "  <tbody>\n",
              "    <tr>\n",
              "      <th>0</th>\n",
              "      <td>22.0</td>\n",
              "      <td>NaN</td>\n",
              "      <td>S</td>\n",
              "      <td>1</td>\n",
              "      <td>7.2500</td>\n",
              "      <td>Braund, Mr. Owen Harris</td>\n",
              "      <td>0</td>\n",
              "      <td>1</td>\n",
              "      <td>3</td>\n",
              "      <td>male</td>\n",
              "      <td>1</td>\n",
              "      <td>0.0</td>\n",
              "      <td>A/5 21171</td>\n",
              "      <td>Mr</td>\n",
              "    </tr>\n",
              "    <tr>\n",
              "      <th>1</th>\n",
              "      <td>38.0</td>\n",
              "      <td>C85</td>\n",
              "      <td>C</td>\n",
              "      <td>1</td>\n",
              "      <td>71.2833</td>\n",
              "      <td>Cumings, Mrs. John Bradley (Florence Briggs Th...</td>\n",
              "      <td>0</td>\n",
              "      <td>2</td>\n",
              "      <td>1</td>\n",
              "      <td>female</td>\n",
              "      <td>1</td>\n",
              "      <td>1.0</td>\n",
              "      <td>PC 17599</td>\n",
              "      <td>Mrs</td>\n",
              "    </tr>\n",
              "    <tr>\n",
              "      <th>2</th>\n",
              "      <td>26.0</td>\n",
              "      <td>NaN</td>\n",
              "      <td>S</td>\n",
              "      <td>0</td>\n",
              "      <td>7.9250</td>\n",
              "      <td>Heikkinen, Miss. Laina</td>\n",
              "      <td>0</td>\n",
              "      <td>3</td>\n",
              "      <td>3</td>\n",
              "      <td>female</td>\n",
              "      <td>0</td>\n",
              "      <td>1.0</td>\n",
              "      <td>STON/O2. 3101282</td>\n",
              "      <td>Miss</td>\n",
              "    </tr>\n",
              "    <tr>\n",
              "      <th>3</th>\n",
              "      <td>35.0</td>\n",
              "      <td>C123</td>\n",
              "      <td>S</td>\n",
              "      <td>1</td>\n",
              "      <td>53.1000</td>\n",
              "      <td>Futrelle, Mrs. Jacques Heath (Lily May Peel)</td>\n",
              "      <td>0</td>\n",
              "      <td>4</td>\n",
              "      <td>1</td>\n",
              "      <td>female</td>\n",
              "      <td>1</td>\n",
              "      <td>1.0</td>\n",
              "      <td>113803</td>\n",
              "      <td>Mrs</td>\n",
              "    </tr>\n",
              "    <tr>\n",
              "      <th>4</th>\n",
              "      <td>35.0</td>\n",
              "      <td>NaN</td>\n",
              "      <td>S</td>\n",
              "      <td>0</td>\n",
              "      <td>8.0500</td>\n",
              "      <td>Allen, Mr. William Henry</td>\n",
              "      <td>0</td>\n",
              "      <td>5</td>\n",
              "      <td>3</td>\n",
              "      <td>male</td>\n",
              "      <td>0</td>\n",
              "      <td>0.0</td>\n",
              "      <td>373450</td>\n",
              "      <td>Mr</td>\n",
              "    </tr>\n",
              "  </tbody>\n",
              "</table>\n",
              "</div>\n",
              "      <button class=\"colab-df-convert\" onclick=\"convertToInteractive('df-932ab698-9c65-427d-be91-69a69b947db6')\"\n",
              "              title=\"Convert this dataframe to an interactive table.\"\n",
              "              style=\"display:none;\">\n",
              "        \n",
              "  <svg xmlns=\"http://www.w3.org/2000/svg\" height=\"24px\"viewBox=\"0 0 24 24\"\n",
              "       width=\"24px\">\n",
              "    <path d=\"M0 0h24v24H0V0z\" fill=\"none\"/>\n",
              "    <path d=\"M18.56 5.44l.94 2.06.94-2.06 2.06-.94-2.06-.94-.94-2.06-.94 2.06-2.06.94zm-11 1L8.5 8.5l.94-2.06 2.06-.94-2.06-.94L8.5 2.5l-.94 2.06-2.06.94zm10 10l.94 2.06.94-2.06 2.06-.94-2.06-.94-.94-2.06-.94 2.06-2.06.94z\"/><path d=\"M17.41 7.96l-1.37-1.37c-.4-.4-.92-.59-1.43-.59-.52 0-1.04.2-1.43.59L10.3 9.45l-7.72 7.72c-.78.78-.78 2.05 0 2.83L4 21.41c.39.39.9.59 1.41.59.51 0 1.02-.2 1.41-.59l7.78-7.78 2.81-2.81c.8-.78.8-2.07 0-2.86zM5.41 20L4 18.59l7.72-7.72 1.47 1.35L5.41 20z\"/>\n",
              "  </svg>\n",
              "      </button>\n",
              "      \n",
              "  <style>\n",
              "    .colab-df-container {\n",
              "      display:flex;\n",
              "      flex-wrap:wrap;\n",
              "      gap: 12px;\n",
              "    }\n",
              "\n",
              "    .colab-df-convert {\n",
              "      background-color: #E8F0FE;\n",
              "      border: none;\n",
              "      border-radius: 50%;\n",
              "      cursor: pointer;\n",
              "      display: none;\n",
              "      fill: #1967D2;\n",
              "      height: 32px;\n",
              "      padding: 0 0 0 0;\n",
              "      width: 32px;\n",
              "    }\n",
              "\n",
              "    .colab-df-convert:hover {\n",
              "      background-color: #E2EBFA;\n",
              "      box-shadow: 0px 1px 2px rgba(60, 64, 67, 0.3), 0px 1px 3px 1px rgba(60, 64, 67, 0.15);\n",
              "      fill: #174EA6;\n",
              "    }\n",
              "\n",
              "    [theme=dark] .colab-df-convert {\n",
              "      background-color: #3B4455;\n",
              "      fill: #D2E3FC;\n",
              "    }\n",
              "\n",
              "    [theme=dark] .colab-df-convert:hover {\n",
              "      background-color: #434B5C;\n",
              "      box-shadow: 0px 1px 3px 1px rgba(0, 0, 0, 0.15);\n",
              "      filter: drop-shadow(0px 1px 2px rgba(0, 0, 0, 0.3));\n",
              "      fill: #FFFFFF;\n",
              "    }\n",
              "  </style>\n",
              "\n",
              "      <script>\n",
              "        const buttonEl =\n",
              "          document.querySelector('#df-932ab698-9c65-427d-be91-69a69b947db6 button.colab-df-convert');\n",
              "        buttonEl.style.display =\n",
              "          google.colab.kernel.accessAllowed ? 'block' : 'none';\n",
              "\n",
              "        async function convertToInteractive(key) {\n",
              "          const element = document.querySelector('#df-932ab698-9c65-427d-be91-69a69b947db6');\n",
              "          const dataTable =\n",
              "            await google.colab.kernel.invokeFunction('convertToInteractive',\n",
              "                                                     [key], {});\n",
              "          if (!dataTable) return;\n",
              "\n",
              "          const docLinkHtml = 'Like what you see? Visit the ' +\n",
              "            '<a target=\"_blank\" href=https://colab.research.google.com/notebooks/data_table.ipynb>data table notebook</a>'\n",
              "            + ' to learn more about interactive tables.';\n",
              "          element.innerHTML = '';\n",
              "          dataTable['output_type'] = 'display_data';\n",
              "          await google.colab.output.renderOutput(dataTable, element);\n",
              "          const docLink = document.createElement('div');\n",
              "          docLink.innerHTML = docLinkHtml;\n",
              "          element.appendChild(docLink);\n",
              "        }\n",
              "      </script>\n",
              "    </div>\n",
              "  </div>\n",
              "  "
            ]
          },
          "metadata": {},
          "execution_count": 4
        }
      ]
    },
    {
      "cell_type": "code",
      "source": [
        "def display_all(df):\n",
        "    with pd.option_context(\"display.max_rows\", 1000, \"display.max_columns\", 1000): \n",
        "        display(df)\n",
        "\n",
        "        \n",
        "display_all(df.describe(include='all').T)"
      ],
      "metadata": {
        "_uuid": "d8f24917231bd2484e4c2a4896f4fbbdcc3e89ab",
        "execution": {
          "iopub.status.busy": "2022-12-28T00:04:34.679448Z",
          "iopub.execute_input": "2022-12-28T00:04:34.679708Z",
          "iopub.status.idle": "2022-12-28T00:04:34.754235Z",
          "shell.execute_reply.started": "2022-12-28T00:04:34.679663Z",
          "shell.execute_reply": "2022-12-28T00:04:34.753192Z"
        },
        "trusted": true,
        "colab": {
          "base_uri": "https://localhost:8080/",
          "height": 488
        },
        "id": "TDv0kF2LEkUD",
        "outputId": "e5a1b1ee-ca29-43a6-8ea5-4e33e954a601"
      },
      "execution_count": 5,
      "outputs": [
        {
          "output_type": "display_data",
          "data": {
            "text/plain": [
              "              count unique                   top freq       mean         std  \\\n",
              "Age          1309.0    NaN                   NaN  NaN  29.562391    13.16536   \n",
              "Cabin           295    186           C23 C25 C27    6        NaN         NaN   \n",
              "Embarked       1309      3                     S  915        NaN         NaN   \n",
              "Family_Size  1309.0    NaN                   NaN  NaN   0.883881    1.583639   \n",
              "Fare         1309.0    NaN                   NaN  NaN  33.276193   51.743584   \n",
              "Name           1309   1307  Connolly, Miss. Kate    2        NaN         NaN   \n",
              "Parch        1309.0    NaN                   NaN  NaN   0.385027     0.86556   \n",
              "PassengerId  1309.0    NaN                   NaN  NaN      655.0  378.020061   \n",
              "Pclass       1309.0    NaN                   NaN  NaN   2.294882    0.837836   \n",
              "Sex            1309      2                  male  843        NaN         NaN   \n",
              "SibSp        1309.0    NaN                   NaN  NaN   0.498854    1.041658   \n",
              "Survived      891.0    NaN                   NaN  NaN   0.383838    0.486592   \n",
              "Ticket         1309    929              CA. 2343   11        NaN         NaN   \n",
              "Title          1309      6                    Mr  767        NaN         NaN   \n",
              "\n",
              "              min     25%      50%     75%       max  \n",
              "Age          0.17    22.0     30.0    35.5      80.0  \n",
              "Cabin         NaN     NaN      NaN     NaN       NaN  \n",
              "Embarked      NaN     NaN      NaN     NaN       NaN  \n",
              "Family_Size   0.0     0.0      0.0     1.0      10.0  \n",
              "Fare          0.0  7.8958  14.4542  31.275  512.3292  \n",
              "Name          NaN     NaN      NaN     NaN       NaN  \n",
              "Parch         0.0     0.0      0.0     0.0       9.0  \n",
              "PassengerId   1.0   328.0    655.0   982.0    1309.0  \n",
              "Pclass        1.0     2.0      3.0     3.0       3.0  \n",
              "Sex           NaN     NaN      NaN     NaN       NaN  \n",
              "SibSp         0.0     0.0      0.0     1.0       8.0  \n",
              "Survived      0.0     0.0      0.0     1.0       1.0  \n",
              "Ticket        NaN     NaN      NaN     NaN       NaN  \n",
              "Title         NaN     NaN      NaN     NaN       NaN  "
            ],
            "text/html": [
              "\n",
              "  <div id=\"df-874826b5-f687-4bab-8f81-f049c591ed90\">\n",
              "    <div class=\"colab-df-container\">\n",
              "      <div>\n",
              "<style scoped>\n",
              "    .dataframe tbody tr th:only-of-type {\n",
              "        vertical-align: middle;\n",
              "    }\n",
              "\n",
              "    .dataframe tbody tr th {\n",
              "        vertical-align: top;\n",
              "    }\n",
              "\n",
              "    .dataframe thead th {\n",
              "        text-align: right;\n",
              "    }\n",
              "</style>\n",
              "<table border=\"1\" class=\"dataframe\">\n",
              "  <thead>\n",
              "    <tr style=\"text-align: right;\">\n",
              "      <th></th>\n",
              "      <th>count</th>\n",
              "      <th>unique</th>\n",
              "      <th>top</th>\n",
              "      <th>freq</th>\n",
              "      <th>mean</th>\n",
              "      <th>std</th>\n",
              "      <th>min</th>\n",
              "      <th>25%</th>\n",
              "      <th>50%</th>\n",
              "      <th>75%</th>\n",
              "      <th>max</th>\n",
              "    </tr>\n",
              "  </thead>\n",
              "  <tbody>\n",
              "    <tr>\n",
              "      <th>Age</th>\n",
              "      <td>1309.0</td>\n",
              "      <td>NaN</td>\n",
              "      <td>NaN</td>\n",
              "      <td>NaN</td>\n",
              "      <td>29.562391</td>\n",
              "      <td>13.16536</td>\n",
              "      <td>0.17</td>\n",
              "      <td>22.0</td>\n",
              "      <td>30.0</td>\n",
              "      <td>35.5</td>\n",
              "      <td>80.0</td>\n",
              "    </tr>\n",
              "    <tr>\n",
              "      <th>Cabin</th>\n",
              "      <td>295</td>\n",
              "      <td>186</td>\n",
              "      <td>C23 C25 C27</td>\n",
              "      <td>6</td>\n",
              "      <td>NaN</td>\n",
              "      <td>NaN</td>\n",
              "      <td>NaN</td>\n",
              "      <td>NaN</td>\n",
              "      <td>NaN</td>\n",
              "      <td>NaN</td>\n",
              "      <td>NaN</td>\n",
              "    </tr>\n",
              "    <tr>\n",
              "      <th>Embarked</th>\n",
              "      <td>1309</td>\n",
              "      <td>3</td>\n",
              "      <td>S</td>\n",
              "      <td>915</td>\n",
              "      <td>NaN</td>\n",
              "      <td>NaN</td>\n",
              "      <td>NaN</td>\n",
              "      <td>NaN</td>\n",
              "      <td>NaN</td>\n",
              "      <td>NaN</td>\n",
              "      <td>NaN</td>\n",
              "    </tr>\n",
              "    <tr>\n",
              "      <th>Family_Size</th>\n",
              "      <td>1309.0</td>\n",
              "      <td>NaN</td>\n",
              "      <td>NaN</td>\n",
              "      <td>NaN</td>\n",
              "      <td>0.883881</td>\n",
              "      <td>1.583639</td>\n",
              "      <td>0.0</td>\n",
              "      <td>0.0</td>\n",
              "      <td>0.0</td>\n",
              "      <td>1.0</td>\n",
              "      <td>10.0</td>\n",
              "    </tr>\n",
              "    <tr>\n",
              "      <th>Fare</th>\n",
              "      <td>1309.0</td>\n",
              "      <td>NaN</td>\n",
              "      <td>NaN</td>\n",
              "      <td>NaN</td>\n",
              "      <td>33.276193</td>\n",
              "      <td>51.743584</td>\n",
              "      <td>0.0</td>\n",
              "      <td>7.8958</td>\n",
              "      <td>14.4542</td>\n",
              "      <td>31.275</td>\n",
              "      <td>512.3292</td>\n",
              "    </tr>\n",
              "    <tr>\n",
              "      <th>Name</th>\n",
              "      <td>1309</td>\n",
              "      <td>1307</td>\n",
              "      <td>Connolly, Miss. Kate</td>\n",
              "      <td>2</td>\n",
              "      <td>NaN</td>\n",
              "      <td>NaN</td>\n",
              "      <td>NaN</td>\n",
              "      <td>NaN</td>\n",
              "      <td>NaN</td>\n",
              "      <td>NaN</td>\n",
              "      <td>NaN</td>\n",
              "    </tr>\n",
              "    <tr>\n",
              "      <th>Parch</th>\n",
              "      <td>1309.0</td>\n",
              "      <td>NaN</td>\n",
              "      <td>NaN</td>\n",
              "      <td>NaN</td>\n",
              "      <td>0.385027</td>\n",
              "      <td>0.86556</td>\n",
              "      <td>0.0</td>\n",
              "      <td>0.0</td>\n",
              "      <td>0.0</td>\n",
              "      <td>0.0</td>\n",
              "      <td>9.0</td>\n",
              "    </tr>\n",
              "    <tr>\n",
              "      <th>PassengerId</th>\n",
              "      <td>1309.0</td>\n",
              "      <td>NaN</td>\n",
              "      <td>NaN</td>\n",
              "      <td>NaN</td>\n",
              "      <td>655.0</td>\n",
              "      <td>378.020061</td>\n",
              "      <td>1.0</td>\n",
              "      <td>328.0</td>\n",
              "      <td>655.0</td>\n",
              "      <td>982.0</td>\n",
              "      <td>1309.0</td>\n",
              "    </tr>\n",
              "    <tr>\n",
              "      <th>Pclass</th>\n",
              "      <td>1309.0</td>\n",
              "      <td>NaN</td>\n",
              "      <td>NaN</td>\n",
              "      <td>NaN</td>\n",
              "      <td>2.294882</td>\n",
              "      <td>0.837836</td>\n",
              "      <td>1.0</td>\n",
              "      <td>2.0</td>\n",
              "      <td>3.0</td>\n",
              "      <td>3.0</td>\n",
              "      <td>3.0</td>\n",
              "    </tr>\n",
              "    <tr>\n",
              "      <th>Sex</th>\n",
              "      <td>1309</td>\n",
              "      <td>2</td>\n",
              "      <td>male</td>\n",
              "      <td>843</td>\n",
              "      <td>NaN</td>\n",
              "      <td>NaN</td>\n",
              "      <td>NaN</td>\n",
              "      <td>NaN</td>\n",
              "      <td>NaN</td>\n",
              "      <td>NaN</td>\n",
              "      <td>NaN</td>\n",
              "    </tr>\n",
              "    <tr>\n",
              "      <th>SibSp</th>\n",
              "      <td>1309.0</td>\n",
              "      <td>NaN</td>\n",
              "      <td>NaN</td>\n",
              "      <td>NaN</td>\n",
              "      <td>0.498854</td>\n",
              "      <td>1.041658</td>\n",
              "      <td>0.0</td>\n",
              "      <td>0.0</td>\n",
              "      <td>0.0</td>\n",
              "      <td>1.0</td>\n",
              "      <td>8.0</td>\n",
              "    </tr>\n",
              "    <tr>\n",
              "      <th>Survived</th>\n",
              "      <td>891.0</td>\n",
              "      <td>NaN</td>\n",
              "      <td>NaN</td>\n",
              "      <td>NaN</td>\n",
              "      <td>0.383838</td>\n",
              "      <td>0.486592</td>\n",
              "      <td>0.0</td>\n",
              "      <td>0.0</td>\n",
              "      <td>0.0</td>\n",
              "      <td>1.0</td>\n",
              "      <td>1.0</td>\n",
              "    </tr>\n",
              "    <tr>\n",
              "      <th>Ticket</th>\n",
              "      <td>1309</td>\n",
              "      <td>929</td>\n",
              "      <td>CA. 2343</td>\n",
              "      <td>11</td>\n",
              "      <td>NaN</td>\n",
              "      <td>NaN</td>\n",
              "      <td>NaN</td>\n",
              "      <td>NaN</td>\n",
              "      <td>NaN</td>\n",
              "      <td>NaN</td>\n",
              "      <td>NaN</td>\n",
              "    </tr>\n",
              "    <tr>\n",
              "      <th>Title</th>\n",
              "      <td>1309</td>\n",
              "      <td>6</td>\n",
              "      <td>Mr</td>\n",
              "      <td>767</td>\n",
              "      <td>NaN</td>\n",
              "      <td>NaN</td>\n",
              "      <td>NaN</td>\n",
              "      <td>NaN</td>\n",
              "      <td>NaN</td>\n",
              "      <td>NaN</td>\n",
              "      <td>NaN</td>\n",
              "    </tr>\n",
              "  </tbody>\n",
              "</table>\n",
              "</div>\n",
              "      <button class=\"colab-df-convert\" onclick=\"convertToInteractive('df-874826b5-f687-4bab-8f81-f049c591ed90')\"\n",
              "              title=\"Convert this dataframe to an interactive table.\"\n",
              "              style=\"display:none;\">\n",
              "        \n",
              "  <svg xmlns=\"http://www.w3.org/2000/svg\" height=\"24px\"viewBox=\"0 0 24 24\"\n",
              "       width=\"24px\">\n",
              "    <path d=\"M0 0h24v24H0V0z\" fill=\"none\"/>\n",
              "    <path d=\"M18.56 5.44l.94 2.06.94-2.06 2.06-.94-2.06-.94-.94-2.06-.94 2.06-2.06.94zm-11 1L8.5 8.5l.94-2.06 2.06-.94-2.06-.94L8.5 2.5l-.94 2.06-2.06.94zm10 10l.94 2.06.94-2.06 2.06-.94-2.06-.94-.94-2.06-.94 2.06-2.06.94z\"/><path d=\"M17.41 7.96l-1.37-1.37c-.4-.4-.92-.59-1.43-.59-.52 0-1.04.2-1.43.59L10.3 9.45l-7.72 7.72c-.78.78-.78 2.05 0 2.83L4 21.41c.39.39.9.59 1.41.59.51 0 1.02-.2 1.41-.59l7.78-7.78 2.81-2.81c.8-.78.8-2.07 0-2.86zM5.41 20L4 18.59l7.72-7.72 1.47 1.35L5.41 20z\"/>\n",
              "  </svg>\n",
              "      </button>\n",
              "      \n",
              "  <style>\n",
              "    .colab-df-container {\n",
              "      display:flex;\n",
              "      flex-wrap:wrap;\n",
              "      gap: 12px;\n",
              "    }\n",
              "\n",
              "    .colab-df-convert {\n",
              "      background-color: #E8F0FE;\n",
              "      border: none;\n",
              "      border-radius: 50%;\n",
              "      cursor: pointer;\n",
              "      display: none;\n",
              "      fill: #1967D2;\n",
              "      height: 32px;\n",
              "      padding: 0 0 0 0;\n",
              "      width: 32px;\n",
              "    }\n",
              "\n",
              "    .colab-df-convert:hover {\n",
              "      background-color: #E2EBFA;\n",
              "      box-shadow: 0px 1px 2px rgba(60, 64, 67, 0.3), 0px 1px 3px 1px rgba(60, 64, 67, 0.15);\n",
              "      fill: #174EA6;\n",
              "    }\n",
              "\n",
              "    [theme=dark] .colab-df-convert {\n",
              "      background-color: #3B4455;\n",
              "      fill: #D2E3FC;\n",
              "    }\n",
              "\n",
              "    [theme=dark] .colab-df-convert:hover {\n",
              "      background-color: #434B5C;\n",
              "      box-shadow: 0px 1px 3px 1px rgba(0, 0, 0, 0.15);\n",
              "      filter: drop-shadow(0px 1px 2px rgba(0, 0, 0, 0.3));\n",
              "      fill: #FFFFFF;\n",
              "    }\n",
              "  </style>\n",
              "\n",
              "      <script>\n",
              "        const buttonEl =\n",
              "          document.querySelector('#df-874826b5-f687-4bab-8f81-f049c591ed90 button.colab-df-convert');\n",
              "        buttonEl.style.display =\n",
              "          google.colab.kernel.accessAllowed ? 'block' : 'none';\n",
              "\n",
              "        async function convertToInteractive(key) {\n",
              "          const element = document.querySelector('#df-874826b5-f687-4bab-8f81-f049c591ed90');\n",
              "          const dataTable =\n",
              "            await google.colab.kernel.invokeFunction('convertToInteractive',\n",
              "                                                     [key], {});\n",
              "          if (!dataTable) return;\n",
              "\n",
              "          const docLinkHtml = 'Like what you see? Visit the ' +\n",
              "            '<a target=\"_blank\" href=https://colab.research.google.com/notebooks/data_table.ipynb>data table notebook</a>'\n",
              "            + ' to learn more about interactive tables.';\n",
              "          element.innerHTML = '';\n",
              "          dataTable['output_type'] = 'display_data';\n",
              "          await google.colab.output.renderOutput(dataTable, element);\n",
              "          const docLink = document.createElement('div');\n",
              "          docLink.innerHTML = docLinkHtml;\n",
              "          element.appendChild(docLink);\n",
              "        }\n",
              "      </script>\n",
              "    </div>\n",
              "  </div>\n",
              "  "
            ]
          },
          "metadata": {}
        }
      ]
    },
    {
      "cell_type": "markdown",
      "source": [
        "<a id=\"pre-processing\"></a>\n",
        "# 2. Pre-processing\n",
        "<a id=\"encoding\"></a>\n",
        "## 2.1. Encode Categorical Variables\n",
        "We need to convert all categorical variables into numeric format. The categorical variables we will be keeping are `Embarked`, `Sex` and `Title`.   \n",
        "\n",
        "The `Sex` variable can be encoded into single 1-or-0 column, but the other variables will need to be [one-hot encoded](https://hackernoon.com/what-is-one-hot-encoding-why-and-when-do-you-have-to-use-it-e3c6186d008f). Regular label encoding assigns some category labels higher numerical values. This implies some sort of scale (Embarked = 1 is not **more** than Embarked = 0 - it's just _different_). One Hot Encoding avoids this problem.   \n",
        "\n",
        "We will assume that there is some ordinality in the `Pclass` variable, so we will leave that as a single column."
      ],
      "metadata": {
        "_uuid": "732fc7427f32d790561d03b4a6d870d2a7c67013",
        "_cell_guid": "b1fc54e6-9655-4a05-b147-e2dfe206c7d0",
        "id": "ZbL2aX7VEkUD"
      }
    },
    {
      "cell_type": "code",
      "source": [
        "sns.countplot(x='Pclass', data=df, palette='hls', hue='Survived')\n",
        "plt.xticks(rotation=45)\n",
        "plt.show()"
      ],
      "metadata": {
        "_uuid": "7d6d38029e57b2b7eecd8978b4f3b9ab2bbf79d9",
        "execution": {
          "iopub.status.busy": "2022-12-28T00:04:34.755216Z",
          "iopub.execute_input": "2022-12-28T00:04:34.755573Z",
          "iopub.status.idle": "2022-12-28T00:04:35.059803Z",
          "shell.execute_reply.started": "2022-12-28T00:04:34.755533Z",
          "shell.execute_reply": "2022-12-28T00:04:35.058528Z"
        },
        "trusted": true,
        "colab": {
          "base_uri": "https://localhost:8080/",
          "height": 613
        },
        "id": "3yqwXalTEkUD",
        "outputId": "794c7be0-f7b5-4f44-9f86-90e4987c9820"
      },
      "execution_count": 6,
      "outputs": [
        {
          "output_type": "display_data",
          "data": {
            "text/plain": [
              "<Figure size 1080x720 with 1 Axes>"
            ],
            "image/png": "[encoded data removed]"
          },
          "metadata": {}
        }
      ]
    },
    {
      "cell_type": "code",
      "source": [
        "sns.countplot(x='Sex', data=df, palette='hls', hue='Survived')\n",
        "plt.xticks(rotation=45)\n",
        "plt.show()"
      ],
      "metadata": {
        "_uuid": "3b5e6978df59b98a614297659371823a4a5dbbcc",
        "execution": {
          "iopub.status.busy": "2022-12-28T00:04:35.061660Z",
          "iopub.execute_input": "2022-12-28T00:04:35.062346Z",
          "iopub.status.idle": "2022-12-28T00:04:35.315439Z",
          "shell.execute_reply.started": "2022-12-28T00:04:35.062269Z",
          "shell.execute_reply": "2022-12-28T00:04:35.314126Z"
        },
        "trusted": true,
        "colab": {
          "base_uri": "https://localhost:8080/",
          "height": 635
        },
        "id": "gS5K6X3iEkUD",
        "outputId": "7ac5f15d-b111-4358-fc2e-9ebd9a4a0425"
      },
      "execution_count": 7,
      "outputs": [
        {
          "output_type": "display_data",
          "data": {
            "text/plain": [
              "<Figure size 1080x720 with 1 Axes>"
            ],
            "image/png": "[encoded data removed]"
          },
          "metadata": {}
        }
      ]
    },
    {
      "cell_type": "code",
      "source": [
        "sns.countplot(x='Embarked', data=df, palette='hls', hue='Survived')\n",
        "plt.xticks(rotation=45)\n",
        "plt.show()"
      ],
      "metadata": {
        "_uuid": "74e4e4d6a937c94fda45dcd135c8f2936707c8d6",
        "execution": {
          "iopub.status.busy": "2022-12-28T00:04:35.317892Z",
          "iopub.execute_input": "2022-12-28T00:04:35.318900Z",
          "iopub.status.idle": "2022-12-28T00:04:35.613798Z",
          "shell.execute_reply.started": "2022-12-28T00:04:35.318806Z",
          "shell.execute_reply": "2022-12-28T00:04:35.611967Z"
        },
        "trusted": true,
        "colab": {
          "base_uri": "https://localhost:8080/",
          "height": 614
        },
        "id": "PHa5jsbREkUE",
        "outputId": "c8007a3f-cab1-4600-ecdf-f526f4f4fd6a"
      },
      "execution_count": 8,
      "outputs": [
        {
          "output_type": "display_data",
          "data": {
            "text/plain": [
              "<Figure size 1080x720 with 1 Axes>"
            ],
            "image/png": "[encoded data removed]"
          },
          "metadata": {}
        }
      ]
    },
    {
      "cell_type": "code",
      "source": [
        "# convert to cateogry dtype\n",
        "df['Sex'] = df['Sex'].astype('category')\n",
        "# convert to category codes\n",
        "df['Sex'] = df['Sex'].cat.codes"
      ],
      "metadata": {
        "_uuid": "e4350c9dbdfedb4a92d266b30daa3e0e35f3f322",
        "execution": {
          "iopub.status.busy": "2022-12-28T00:04:35.619243Z",
          "iopub.execute_input": "2022-12-28T00:04:35.620313Z",
          "iopub.status.idle": "2022-12-28T00:04:35.632357Z",
          "shell.execute_reply.started": "2022-12-28T00:04:35.619892Z",
          "shell.execute_reply": "2022-12-28T00:04:35.631338Z"
        },
        "trusted": true,
        "id": "KZ5O1iKcEkUE"
      },
      "execution_count": 9,
      "outputs": []
    },
    {
      "cell_type": "code",
      "source": [
        "# subset all categorical variables which need to be encoded\n",
        "categorical = ['Embarked', 'Title']\n",
        "\n",
        "for var in categorical:\n",
        "    df = pd.concat([df, \n",
        "                    pd.get_dummies(df[var], prefix=var)], axis=1)\n",
        "    del df[var]"
      ],
      "metadata": {
        "_uuid": "911939a11430319dbda5a2c533c6b8c077a46766",
        "_cell_guid": "ddf8a643-1c1d-4036-818c-0d230a05310d",
        "execution": {
          "iopub.status.busy": "2022-12-28T00:04:35.634081Z",
          "iopub.execute_input": "2022-12-28T00:04:35.634550Z",
          "iopub.status.idle": "2022-12-28T00:04:35.653803Z",
          "shell.execute_reply.started": "2022-12-28T00:04:35.634506Z",
          "shell.execute_reply": "2022-12-28T00:04:35.653036Z"
        },
        "trusted": true,
        "id": "YX55mBcNEkUE"
      },
      "execution_count": 10,
      "outputs": []
    },
    {
      "cell_type": "code",
      "source": [
        "# drop the variables we won't be using\n",
        "df.drop(['Cabin', 'Name', 'Ticket', 'PassengerId'], axis=1, inplace=True)"
      ],
      "metadata": {
        "_uuid": "ecfe8fb0453e91f3a8cf80c45ed8ad4a406e0e0c",
        "execution": {
          "iopub.status.busy": "2022-12-28T00:04:35.657887Z",
          "iopub.execute_input": "2022-12-28T00:04:35.658273Z",
          "iopub.status.idle": "2022-12-28T00:04:35.666373Z",
          "shell.execute_reply.started": "2022-12-28T00:04:35.658211Z",
          "shell.execute_reply": "2022-12-28T00:04:35.664948Z"
        },
        "trusted": true,
        "id": "qq452vKREkUE"
      },
      "execution_count": 11,
      "outputs": []
    },
    {
      "cell_type": "code",
      "source": [
        "df.head()"
      ],
      "metadata": {
        "_uuid": "416083bad67fefd62cfee27da0f60bdb57a9540b",
        "execution": {
          "iopub.status.busy": "2022-12-28T00:04:35.669024Z",
          "iopub.execute_input": "2022-12-28T00:04:35.669404Z",
          "iopub.status.idle": "2022-12-28T00:04:35.710296Z",
          "shell.execute_reply.started": "2022-12-28T00:04:35.669336Z",
          "shell.execute_reply": "2022-12-28T00:04:35.709489Z"
        },
        "trusted": true,
        "colab": {
          "base_uri": "https://localhost:8080/",
          "height": 270
        },
        "id": "WkQaREpFEkUE",
        "outputId": "51b1b88a-8576-43ad-e8f2-acf6a1d0a224"
      },
      "execution_count": 12,
      "outputs": [
        {
          "output_type": "execute_result",
          "data": {
            "text/plain": [
              "    Age  Family_Size     Fare  Parch  Pclass  Sex  SibSp  Survived  \\\n",
              "0  22.0            1   7.2500      0       3    1      1       0.0   \n",
              "1  38.0            1  71.2833      0       1    0      1       1.0   \n",
              "2  26.0            0   7.9250      0       3    0      0       1.0   \n",
              "3  35.0            1  53.1000      0       1    0      1       1.0   \n",
              "4  35.0            0   8.0500      0       3    1      0       0.0   \n",
              "\n",
              "   Embarked_C  Embarked_Q  Embarked_S  Title_Dr  Title_Master  Title_Miss  \\\n",
              "0           0           0           1         0             0           0   \n",
              "1           1           0           0         0             0           0   \n",
              "2           0           0           1         0             0           1   \n",
              "3           0           0           1         0             0           0   \n",
              "4           0           0           1         0             0           0   \n",
              "\n",
              "   Title_Mr  Title_Mrs  Title_Rev  \n",
              "0         1          0          0  \n",
              "1         0          1          0  \n",
              "2         0          0          0  \n",
              "3         0          1          0  \n",
              "4         1          0          0  "
            ],
            "text/html": [
              "\n",
              "  <div id=\"df-56633368-d396-45ba-b6de-7e35f38e341e\">\n",
              "    <div class=\"colab-df-container\">\n",
              "      <div>\n",
              "<style scoped>\n",
              "    .dataframe tbody tr th:only-of-type {\n",
              "        vertical-align: middle;\n",
              "    }\n",
              "\n",
              "    .dataframe tbody tr th {\n",
              "        vertical-align: top;\n",
              "    }\n",
              "\n",
              "    .dataframe thead th {\n",
              "        text-align: right;\n",
              "    }\n",
              "</style>\n",
              "<table border=\"1\" class=\"dataframe\">\n",
              "  <thead>\n",
              "    <tr style=\"text-align: right;\">\n",
              "      <th></th>\n",
              "      <th>Age</th>\n",
              "      <th>Family_Size</th>\n",
              "      <th>Fare</th>\n",
              "      <th>Parch</th>\n",
              "      <th>Pclass</th>\n",
              "      <th>Sex</th>\n",
              "      <th>SibSp</th>\n",
              "      <th>Survived</th>\n",
              "      <th>Embarked_C</th>\n",
              "      <th>Embarked_Q</th>\n",
              "      <th>Embarked_S</th>\n",
              "      <th>Title_Dr</th>\n",
              "      <th>Title_Master</th>\n",
              "      <th>Title_Miss</th>\n",
              "      <th>Title_Mr</th>\n",
              "      <th>Title_Mrs</th>\n",
              "      <th>Title_Rev</th>\n",
              "    </tr>\n",
              "  </thead>\n",
              "  <tbody>\n",
              "    <tr>\n",
              "      <th>0</th>\n",
              "      <td>22.0</td>\n",
              "      <td>1</td>\n",
              "      <td>7.2500</td>\n",
              "      <td>0</td>\n",
              "      <td>3</td>\n",
              "      <td>1</td>\n",
              "      <td>1</td>\n",
              "      <td>0.0</td>\n",
              "      <td>0</td>\n",
              "      <td>0</td>\n",
              "      <td>1</td>\n",
              "      <td>0</td>\n",
              "      <td>0</td>\n",
              "      <td>0</td>\n",
              "      <td>1</td>\n",
              "      <td>0</td>\n",
              "      <td>0</td>\n",
              "    </tr>\n",
              "    <tr>\n",
              "      <th>1</th>\n",
              "      <td>38.0</td>\n",
              "      <td>1</td>\n",
              "      <td>71.2833</td>\n",
              "      <td>0</td>\n",
              "      <td>1</td>\n",
              "      <td>0</td>\n",
              "      <td>1</td>\n",
              "      <td>1.0</td>\n",
              "      <td>1</td>\n",
              "      <td>0</td>\n",
              "      <td>0</td>\n",
              "      <td>0</td>\n",
              "      <td>0</td>\n",
              "      <td>0</td>\n",
              "      <td>0</td>\n",
              "      <td>1</td>\n",
              "      <td>0</td>\n",
              "    </tr>\n",
              "    <tr>\n",
              "      <th>2</th>\n",
              "      <td>26.0</td>\n",
              "      <td>0</td>\n",
              "      <td>7.9250</td>\n",
              "      <td>0</td>\n",
              "      <td>3</td>\n",
              "      <td>0</td>\n",
              "      <td>0</td>\n",
              "      <td>1.0</td>\n",
              "      <td>0</td>\n",
              "      <td>0</td>\n",
              "      <td>1</td>\n",
              "      <td>0</td>\n",
              "      <td>0</td>\n",
              "      <td>1</td>\n",
              "      <td>0</td>\n",
              "      <td>0</td>\n",
              "      <td>0</td>\n",
              "    </tr>\n",
              "    <tr>\n",
              "      <th>3</th>\n",
              "      <td>35.0</td>\n",
              "      <td>1</td>\n",
              "      <td>53.1000</td>\n",
              "      <td>0</td>\n",
              "      <td>1</td>\n",
              "      <td>0</td>\n",
              "      <td>1</td>\n",
              "      <td>1.0</td>\n",
              "      <td>0</td>\n",
              "      <td>0</td>\n",
              "      <td>1</td>\n",
              "      <td>0</td>\n",
              "      <td>0</td>\n",
              "      <td>0</td>\n",
              "      <td>0</td>\n",
              "      <td>1</td>\n",
              "      <td>0</td>\n",
              "    </tr>\n",
              "    <tr>\n",
              "      <th>4</th>\n",
              "      <td>35.0</td>\n",
              "      <td>0</td>\n",
              "      <td>8.0500</td>\n",
              "      <td>0</td>\n",
              "      <td>3</td>\n",
              "      <td>1</td>\n",
              "      <td>0</td>\n",
              "      <td>0.0</td>\n",
              "      <td>0</td>\n",
              "      <td>0</td>\n",
              "      <td>1</td>\n",
              "      <td>0</td>\n",
              "      <td>0</td>\n",
              "      <td>0</td>\n",
              "      <td>1</td>\n",
              "      <td>0</td>\n",
              "      <td>0</td>\n",
              "    </tr>\n",
              "  </tbody>\n",
              "</table>\n",
              "</div>\n",
              "      <button class=\"colab-df-convert\" onclick=\"convertToInteractive('df-56633368-d396-45ba-b6de-7e35f38e341e')\"\n",
              "              title=\"Convert this dataframe to an interactive table.\"\n",
              "              style=\"display:none;\">\n",
              "        \n",
              "  <svg xmlns=\"http://www.w3.org/2000/svg\" height=\"24px\"viewBox=\"0 0 24 24\"\n",
              "       width=\"24px\">\n",
              "    <path d=\"M0 0h24v24H0V0z\" fill=\"none\"/>\n",
              "    <path d=\"M18.56 5.44l.94 2.06.94-2.06 2.06-.94-2.06-.94-.94-2.06-.94 2.06-2.06.94zm-11 1L8.5 8.5l.94-2.06 2.06-.94-2.06-.94L8.5 2.5l-.94 2.06-2.06.94zm10 10l.94 2.06.94-2.06 2.06-.94-2.06-.94-.94-2.06-.94 2.06-2.06.94z\"/><path d=\"M17.41 7.96l-1.37-1.37c-.4-.4-.92-.59-1.43-.59-.52 0-1.04.2-1.43.59L10.3 9.45l-7.72 7.72c-.78.78-.78 2.05 0 2.83L4 21.41c.39.39.9.59 1.41.59.51 0 1.02-.2 1.41-.59l7.78-7.78 2.81-2.81c.8-.78.8-2.07 0-2.86zM5.41 20L4 18.59l7.72-7.72 1.47 1.35L5.41 20z\"/>\n",
              "  </svg>\n",
              "      </button>\n",
              "      \n",
              "  <style>\n",
              "    .colab-df-container {\n",
              "      display:flex;\n",
              "      flex-wrap:wrap;\n",
              "      gap: 12px;\n",
              "    }\n",
              "\n",
              "    .colab-df-convert {\n",
              "      background-color: #E8F0FE;\n",
              "      border: none;\n",
              "      border-radius: 50%;\n",
              "      cursor: pointer;\n",
              "      display: none;\n",
              "      fill: #1967D2;\n",
              "      height: 32px;\n",
              "      padding: 0 0 0 0;\n",
              "      width: 32px;\n",
              "    }\n",
              "\n",
              "    .colab-df-convert:hover {\n",
              "      background-color: #E2EBFA;\n",
              "      box-shadow: 0px 1px 2px rgba(60, 64, 67, 0.3), 0px 1px 3px 1px rgba(60, 64, 67, 0.15);\n",
              "      fill: #174EA6;\n",
              "    }\n",
              "\n",
              "    [theme=dark] .colab-df-convert {\n",
              "      background-color: #3B4455;\n",
              "      fill: #D2E3FC;\n",
              "    }\n",
              "\n",
              "    [theme=dark] .colab-df-convert:hover {\n",
              "      background-color: #434B5C;\n",
              "      box-shadow: 0px 1px 3px 1px rgba(0, 0, 0, 0.15);\n",
              "      filter: drop-shadow(0px 1px 2px rgba(0, 0, 0, 0.3));\n",
              "      fill: #FFFFFF;\n",
              "    }\n",
              "  </style>\n",
              "\n",
              "      <script>\n",
              "        const buttonEl =\n",
              "          document.querySelector('#df-56633368-d396-45ba-b6de-7e35f38e341e button.colab-df-convert');\n",
              "        buttonEl.style.display =\n",
              "          google.colab.kernel.accessAllowed ? 'block' : 'none';\n",
              "\n",
              "        async function convertToInteractive(key) {\n",
              "          const element = document.querySelector('#df-56633368-d396-45ba-b6de-7e35f38e341e');\n",
              "          const dataTable =\n",
              "            await google.colab.kernel.invokeFunction('convertToInteractive',\n",
              "                                                     [key], {});\n",
              "          if (!dataTable) return;\n",
              "\n",
              "          const docLinkHtml = 'Like what you see? Visit the ' +\n",
              "            '<a target=\"_blank\" href=https://colab.research.google.com/notebooks/data_table.ipynb>data table notebook</a>'\n",
              "            + ' to learn more about interactive tables.';\n",
              "          element.innerHTML = '';\n",
              "          dataTable['output_type'] = 'display_data';\n",
              "          await google.colab.output.renderOutput(dataTable, element);\n",
              "          const docLink = document.createElement('div');\n",
              "          docLink.innerHTML = docLinkHtml;\n",
              "          element.appendChild(docLink);\n",
              "        }\n",
              "      </script>\n",
              "    </div>\n",
              "  </div>\n",
              "  "
            ]
          },
          "metadata": {},
          "execution_count": 12
        }
      ]
    },
    {
      "cell_type": "markdown",
      "source": [
        "## 2.2. Scale Continuous Variables\n",
        "The continuous variables need to be scaled. This is done using a standard scaler from SkLearn."
      ],
      "metadata": {
        "_uuid": "49cdd41345edc32fc7b4441efa558fc39fd5a1f2",
        "_cell_guid": "93184d3e-b8d2-4ff9-8ca1-1bcc0330b26b",
        "id": "Yg59aYA_EkUF"
      }
    },
    {
      "cell_type": "code",
      "source": [
        "continuous = ['Age', 'Fare', 'Parch', 'Pclass', 'SibSp', 'Family_Size']\n",
        "\n",
        "scaler = StandardScaler()\n",
        "\n",
        "for var in continuous:\n",
        "    df[var] = df[var].astype('float64')\n",
        "    df[var] = scaler.fit_transform(df[var].values.reshape(-1, 1))"
      ],
      "metadata": {
        "_uuid": "2a32ec90f5150897398f01bd760b6ecbc959e451",
        "execution": {
          "iopub.status.busy": "2022-12-28T00:04:35.711601Z",
          "iopub.execute_input": "2022-12-28T00:04:35.712330Z",
          "iopub.status.idle": "2022-12-28T00:04:35.731296Z",
          "shell.execute_reply.started": "2022-12-28T00:04:35.711910Z",
          "shell.execute_reply": "2022-12-28T00:04:35.730296Z"
        },
        "trusted": true,
        "id": "y1X14_dNEkUF"
      },
      "execution_count": 13,
      "outputs": []
    },
    {
      "cell_type": "code",
      "source": [
        "display_all(df.describe(include='all').T)"
      ],
      "metadata": {
        "_uuid": "48b3f476bfd1b6b307560d0f7a81122fd7b4f2bd",
        "execution": {
          "iopub.status.busy": "2022-12-28T00:04:35.732371Z",
          "iopub.execute_input": "2022-12-28T00:04:35.732720Z",
          "iopub.status.idle": "2022-12-28T00:04:35.803056Z",
          "shell.execute_reply.started": "2022-12-28T00:04:35.732662Z",
          "shell.execute_reply": "2022-12-28T00:04:35.802419Z"
        },
        "trusted": true,
        "colab": {
          "base_uri": "https://localhost:8080/",
          "height": 582
        },
        "id": "3jtoirwZEkUF",
        "outputId": "ea3855d2-70f1-49ab-b99f-7046667b77ee"
      },
      "execution_count": 14,
      "outputs": [
        {
          "output_type": "display_data",
          "data": {
            "text/plain": [
              "               count          mean       std       min       25%       50%  \\\n",
              "Age           1309.0  7.327981e-17  1.000382 -2.233408 -0.574635  0.033252   \n",
              "Family_Size   1309.0  1.628440e-17  1.000382 -0.558346 -0.558346 -0.558346   \n",
              "Fare          1309.0  2.171254e-17  1.000382 -0.643344 -0.490691 -0.363894   \n",
              "Parch         1309.0  1.730218e-17  1.000382 -0.445000 -0.445000 -0.445000   \n",
              "Pclass        1309.0 -2.062691e-16  1.000382 -1.546098 -0.352091  0.841916   \n",
              "Sex           1309.0  6.440031e-01  0.478997  0.000000  0.000000  1.000000   \n",
              "SibSp         1309.0 -1.628440e-17  1.000382 -0.479087 -0.479087 -0.479087   \n",
              "Survived       891.0  3.838384e-01  0.486592  0.000000  0.000000  0.000000   \n",
              "Embarked_C    1309.0  2.070283e-01  0.405331  0.000000  0.000000  0.000000   \n",
              "Embarked_Q    1309.0  9.396486e-02  0.291891  0.000000  0.000000  0.000000   \n",
              "Embarked_S    1309.0  6.990069e-01  0.458865  0.000000  0.000000  1.000000   \n",
              "Title_Dr      1309.0  6.111536e-03  0.077967  0.000000  0.000000  0.000000   \n",
              "Title_Master  1309.0  4.660046e-02  0.210862  0.000000  0.000000  0.000000   \n",
              "Title_Miss    1309.0  2.016807e-01  0.401408  0.000000  0.000000  0.000000   \n",
              "Title_Mr      1309.0  5.859435e-01  0.492747  0.000000  0.000000  1.000000   \n",
              "Title_Mrs     1309.0  1.535523e-01  0.360657  0.000000  0.000000  0.000000   \n",
              "Title_Rev     1309.0  6.111536e-03  0.077967  0.000000  0.000000  0.000000   \n",
              "\n",
              "                   75%       max  \n",
              "Age           0.451175  3.832549  \n",
              "Family_Size   0.073352  5.758637  \n",
              "Fare         -0.038690  9.261749  \n",
              "Parch        -0.445000  9.956864  \n",
              "Pclass        0.841916  0.841916  \n",
              "Sex           1.000000  1.000000  \n",
              "SibSp         0.481288  7.203909  \n",
              "Survived      1.000000  1.000000  \n",
              "Embarked_C    0.000000  1.000000  \n",
              "Embarked_Q    0.000000  1.000000  \n",
              "Embarked_S    1.000000  1.000000  \n",
              "Title_Dr      0.000000  1.000000  \n",
              "Title_Master  0.000000  1.000000  \n",
              "Title_Miss    0.000000  1.000000  \n",
              "Title_Mr      1.000000  1.000000  \n",
              "Title_Mrs     0.000000  1.000000  \n",
              "Title_Rev     0.000000  1.000000  "
            ],
            "text/html": [
              "\n",
              "  <div id=\"df-2e84b0ae-55ec-401f-bee5-0848ec7b8dd4\">\n",
              "    <div class=\"colab-df-container\">\n",
              "      <div>\n",
              "<style scoped>\n",
              "    .dataframe tbody tr th:only-of-type {\n",
              "        vertical-align: middle;\n",
              "    }\n",
              "\n",
              "    .dataframe tbody tr th {\n",
              "        vertical-align: top;\n",
              "    }\n",
              "\n",
              "    .dataframe thead th {\n",
              "        text-align: right;\n",
              "    }\n",
              "</style>\n",
              "<table border=\"1\" class=\"dataframe\">\n",
              "  <thead>\n",
              "    <tr style=\"text-align: right;\">\n",
              "      <th></th>\n",
              "      <th>count</th>\n",
              "      <th>mean</th>\n",
              "      <th>std</th>\n",
              "      <th>min</th>\n",
              "      <th>25%</th>\n",
              "      <th>50%</th>\n",
              "      <th>75%</th>\n",
              "      <th>max</th>\n",
              "    </tr>\n",
              "  </thead>\n",
              "  <tbody>\n",
              "    <tr>\n",
              "      <th>Age</th>\n",
              "      <td>1309.0</td>\n",
              "      <td>7.327981e-17</td>\n",
              "      <td>1.000382</td>\n",
              "      <td>-2.233408</td>\n",
              "      <td>-0.574635</td>\n",
              "      <td>0.033252</td>\n",
              "      <td>0.451175</td>\n",
              "      <td>3.832549</td>\n",
              "    </tr>\n",
              "    <tr>\n",
              "      <th>Family_Size</th>\n",
              "      <td>1309.0</td>\n",
              "      <td>1.628440e-17</td>\n",
              "      <td>1.000382</td>\n",
              "      <td>-0.558346</td>\n",
              "      <td>-0.558346</td>\n",
              "      <td>-0.558346</td>\n",
              "      <td>0.073352</td>\n",
              "      <td>5.758637</td>\n",
              "    </tr>\n",
              "    <tr>\n",
              "      <th>Fare</th>\n",
              "      <td>1309.0</td>\n",
              "      <td>2.171254e-17</td>\n",
              "      <td>1.000382</td>\n",
              "      <td>-0.643344</td>\n",
              "      <td>-0.490691</td>\n",
              "      <td>-0.363894</td>\n",
              "      <td>-0.038690</td>\n",
              "      <td>9.261749</td>\n",
              "    </tr>\n",
              "    <tr>\n",
              "      <th>Parch</th>\n",
              "      <td>1309.0</td>\n",
              "      <td>1.730218e-17</td>\n",
              "      <td>1.000382</td>\n",
              "      <td>-0.445000</td>\n",
              "      <td>-0.445000</td>\n",
              "      <td>-0.445000</td>\n",
              "      <td>-0.445000</td>\n",
              "      <td>9.956864</td>\n",
              "    </tr>\n",
              "    <tr>\n",
              "      <th>Pclass</th>\n",
              "      <td>1309.0</td>\n",
              "      <td>-2.062691e-16</td>\n",
              "      <td>1.000382</td>\n",
              "      <td>-1.546098</td>\n",
              "      <td>-0.352091</td>\n",
              "      <td>0.841916</td>\n",
              "      <td>0.841916</td>\n",
              "      <td>0.841916</td>\n",
              "    </tr>\n",
              "    <tr>\n",
              "      <th>Sex</th>\n",
              "      <td>1309.0</td>\n",
              "      <td>6.440031e-01</td>\n",
              "      <td>0.478997</td>\n",
              "      <td>0.000000</td>\n",
              "      <td>0.000000</td>\n",
              "      <td>1.000000</td>\n",
              "      <td>1.000000</td>\n",
              "      <td>1.000000</td>\n",
              "    </tr>\n",
              "    <tr>\n",
              "      <th>SibSp</th>\n",
              "      <td>1309.0</td>\n",
              "      <td>-1.628440e-17</td>\n",
              "      <td>1.000382</td>\n",
              "      <td>-0.479087</td>\n",
              "      <td>-0.479087</td>\n",
              "      <td>-0.479087</td>\n",
              "      <td>0.481288</td>\n",
              "      <td>7.203909</td>\n",
              "    </tr>\n",
              "    <tr>\n",
              "      <th>Survived</th>\n",
              "      <td>891.0</td>\n",
              "      <td>3.838384e-01</td>\n",
              "      <td>0.486592</td>\n",
              "      <td>0.000000</td>\n",
              "      <td>0.000000</td>\n",
              "      <td>0.000000</td>\n",
              "      <td>1.000000</td>\n",
              "      <td>1.000000</td>\n",
              "    </tr>\n",
              "    <tr>\n",
              "      <th>Embarked_C</th>\n",
              "      <td>1309.0</td>\n",
              "      <td>2.070283e-01</td>\n",
              "      <td>0.405331</td>\n",
              "      <td>0.000000</td>\n",
              "      <td>0.000000</td>\n",
              "      <td>0.000000</td>\n",
              "      <td>0.000000</td>\n",
              "      <td>1.000000</td>\n",
              "    </tr>\n",
              "    <tr>\n",
              "      <th>Embarked_Q</th>\n",
              "      <td>1309.0</td>\n",
              "      <td>9.396486e-02</td>\n",
              "      <td>0.291891</td>\n",
              "      <td>0.000000</td>\n",
              "      <td>0.000000</td>\n",
              "      <td>0.000000</td>\n",
              "      <td>0.000000</td>\n",
              "      <td>1.000000</td>\n",
              "    </tr>\n",
              "    <tr>\n",
              "      <th>Embarked_S</th>\n",
              "      <td>1309.0</td>\n",
              "      <td>6.990069e-01</td>\n",
              "      <td>0.458865</td>\n",
              "      <td>0.000000</td>\n",
              "      <td>0.000000</td>\n",
              "      <td>1.000000</td>\n",
              "      <td>1.000000</td>\n",
              "      <td>1.000000</td>\n",
              "    </tr>\n",
              "    <tr>\n",
              "      <th>Title_Dr</th>\n",
              "      <td>1309.0</td>\n",
              "      <td>6.111536e-03</td>\n",
              "      <td>0.077967</td>\n",
              "      <td>0.000000</td>\n",
              "      <td>0.000000</td>\n",
              "      <td>0.000000</td>\n",
              "      <td>0.000000</td>\n",
              "      <td>1.000000</td>\n",
              "    </tr>\n",
              "    <tr>\n",
              "      <th>Title_Master</th>\n",
              "      <td>1309.0</td>\n",
              "      <td>4.660046e-02</td>\n",
              "      <td>0.210862</td>\n",
              "      <td>0.000000</td>\n",
              "      <td>0.000000</td>\n",
              "      <td>0.000000</td>\n",
              "      <td>0.000000</td>\n",
              "      <td>1.000000</td>\n",
              "    </tr>\n",
              "    <tr>\n",
              "      <th>Title_Miss</th>\n",
              "      <td>1309.0</td>\n",
              "      <td>2.016807e-01</td>\n",
              "      <td>0.401408</td>\n",
              "      <td>0.000000</td>\n",
              "      <td>0.000000</td>\n",
              "      <td>0.000000</td>\n",
              "      <td>0.000000</td>\n",
              "      <td>1.000000</td>\n",
              "    </tr>\n",
              "    <tr>\n",
              "      <th>Title_Mr</th>\n",
              "      <td>1309.0</td>\n",
              "      <td>5.859435e-01</td>\n",
              "      <td>0.492747</td>\n",
              "      <td>0.000000</td>\n",
              "      <td>0.000000</td>\n",
              "      <td>1.000000</td>\n",
              "      <td>1.000000</td>\n",
              "      <td>1.000000</td>\n",
              "    </tr>\n",
              "    <tr>\n",
              "      <th>Title_Mrs</th>\n",
              "      <td>1309.0</td>\n",
              "      <td>1.535523e-01</td>\n",
              "      <td>0.360657</td>\n",
              "      <td>0.000000</td>\n",
              "      <td>0.000000</td>\n",
              "      <td>0.000000</td>\n",
              "      <td>0.000000</td>\n",
              "      <td>1.000000</td>\n",
              "    </tr>\n",
              "    <tr>\n",
              "      <th>Title_Rev</th>\n",
              "      <td>1309.0</td>\n",
              "      <td>6.111536e-03</td>\n",
              "      <td>0.077967</td>\n",
              "      <td>0.000000</td>\n",
              "      <td>0.000000</td>\n",
              "      <td>0.000000</td>\n",
              "      <td>0.000000</td>\n",
              "      <td>1.000000</td>\n",
              "    </tr>\n",
              "  </tbody>\n",
              "</table>\n",
              "</div>\n",
              "      <button class=\"colab-df-convert\" onclick=\"convertToInteractive('df-2e84b0ae-55ec-401f-bee5-0848ec7b8dd4')\"\n",
              "              title=\"Convert this dataframe to an interactive table.\"\n",
              "              style=\"display:none;\">\n",
              "        \n",
              "  <svg xmlns=\"http://www.w3.org/2000/svg\" height=\"24px\"viewBox=\"0 0 24 24\"\n",
              "       width=\"24px\">\n",
              "    <path d=\"M0 0h24v24H0V0z\" fill=\"none\"/>\n",
              "    <path d=\"M18.56 5.44l.94 2.06.94-2.06 2.06-.94-2.06-.94-.94-2.06-.94 2.06-2.06.94zm-11 1L8.5 8.5l.94-2.06 2.06-.94-2.06-.94L8.5 2.5l-.94 2.06-2.06.94zm10 10l.94 2.06.94-2.06 2.06-.94-2.06-.94-.94-2.06-.94 2.06-2.06.94z\"/><path d=\"M17.41 7.96l-1.37-1.37c-.4-.4-.92-.59-1.43-.59-.52 0-1.04.2-1.43.59L10.3 9.45l-7.72 7.72c-.78.78-.78 2.05 0 2.83L4 21.41c.39.39.9.59 1.41.59.51 0 1.02-.2 1.41-.59l7.78-7.78 2.81-2.81c.8-.78.8-2.07 0-2.86zM5.41 20L4 18.59l7.72-7.72 1.47 1.35L5.41 20z\"/>\n",
              "  </svg>\n",
              "      </button>\n",
              "      \n",
              "  <style>\n",
              "    .colab-df-container {\n",
              "      display:flex;\n",
              "      flex-wrap:wrap;\n",
              "      gap: 12px;\n",
              "    }\n",
              "\n",
              "    .colab-df-convert {\n",
              "      background-color: #E8F0FE;\n",
              "      border: none;\n",
              "      border-radius: 50%;\n",
              "      cursor: pointer;\n",
              "      display: none;\n",
              "      fill: #1967D2;\n",
              "      height: 32px;\n",
              "      padding: 0 0 0 0;\n",
              "      width: 32px;\n",
              "    }\n",
              "\n",
              "    .colab-df-convert:hover {\n",
              "      background-color: #E2EBFA;\n",
              "      box-shadow: 0px 1px 2px rgba(60, 64, 67, 0.3), 0px 1px 3px 1px rgba(60, 64, 67, 0.15);\n",
              "      fill: #174EA6;\n",
              "    }\n",
              "\n",
              "    [theme=dark] .colab-df-convert {\n",
              "      background-color: #3B4455;\n",
              "      fill: #D2E3FC;\n",
              "    }\n",
              "\n",
              "    [theme=dark] .colab-df-convert:hover {\n",
              "      background-color: #434B5C;\n",
              "      box-shadow: 0px 1px 3px 1px rgba(0, 0, 0, 0.15);\n",
              "      filter: drop-shadow(0px 1px 2px rgba(0, 0, 0, 0.3));\n",
              "      fill: #FFFFFF;\n",
              "    }\n",
              "  </style>\n",
              "\n",
              "      <script>\n",
              "        const buttonEl =\n",
              "          document.querySelector('#df-2e84b0ae-55ec-401f-bee5-0848ec7b8dd4 button.colab-df-convert');\n",
              "        buttonEl.style.display =\n",
              "          google.colab.kernel.accessAllowed ? 'block' : 'none';\n",
              "\n",
              "        async function convertToInteractive(key) {\n",
              "          const element = document.querySelector('#df-2e84b0ae-55ec-401f-bee5-0848ec7b8dd4');\n",
              "          const dataTable =\n",
              "            await google.colab.kernel.invokeFunction('convertToInteractive',\n",
              "                                                     [key], {});\n",
              "          if (!dataTable) return;\n",
              "\n",
              "          const docLinkHtml = 'Like what you see? Visit the ' +\n",
              "            '<a target=\"_blank\" href=https://colab.research.google.com/notebooks/data_table.ipynb>data table notebook</a>'\n",
              "            + ' to learn more about interactive tables.';\n",
              "          element.innerHTML = '';\n",
              "          dataTable['output_type'] = 'display_data';\n",
              "          await google.colab.output.renderOutput(dataTable, element);\n",
              "          const docLink = document.createElement('div');\n",
              "          docLink.innerHTML = docLinkHtml;\n",
              "          element.appendChild(docLink);\n",
              "        }\n",
              "      </script>\n",
              "    </div>\n",
              "  </div>\n",
              "  "
            ]
          },
          "metadata": {}
        }
      ]
    },
    {
      "cell_type": "markdown",
      "source": [
        "<a id=\"neural-network\"></a>\n",
        "# 3. Neural Network\n",
        "Now, all that is left is to feed our data that has been cleaned, encoded and scaled to our neural network.\n",
        "\n",
        "But first, we need to separate *data_df* back into *train* and *test* sets."
      ],
      "metadata": {
        "_uuid": "bbead52ea8dd6e9cba5da969375c7829a34b87d4",
        "_cell_guid": "bc50ae8f-a1d7-48b6-9771-e50b4e8e169b",
        "id": "cbqutmqEEkUF"
      }
    },
    {
      "cell_type": "code",
      "source": [
        "X_train = df[pd.notnull(df['Survived'])].drop(['Survived'], axis=1)\n",
        "y_train = df[pd.notnull(df['Survived'])]['Survived']\n",
        "X_test = df[pd.isnull(df['Survived'])].drop(['Survived'], axis=1)"
      ],
      "metadata": {
        "_uuid": "c3fffdde68114df12c2a1871d8501cae18a2e2ce",
        "execution": {
          "iopub.status.busy": "2022-12-28T00:04:35.803968Z",
          "iopub.execute_input": "2022-12-28T00:04:35.804308Z",
          "iopub.status.idle": "2022-12-28T00:04:35.818018Z",
          "shell.execute_reply.started": "2022-12-28T00:04:35.804261Z",
          "shell.execute_reply": "2022-12-28T00:04:35.816695Z"
        },
        "trusted": true,
        "id": "iqdWLY4NEkUF"
      },
      "execution_count": 15,
      "outputs": []
    },
    {
      "cell_type": "markdown",
      "source": [
        "## 3.1. Cross-validation\n",
        "Keras allows us to make use of cross-validation for training our model. So we will use this to train and assess our first model."
      ],
      "metadata": {
        "_uuid": "bbead52ea8dd6e9cba5da969375c7829a34b87d4",
        "_cell_guid": "bc50ae8f-a1d7-48b6-9771-e50b4e8e169b",
        "id": "QudGry1yEkUF"
      }
    },
    {
      "cell_type": "markdown",
      "source": [
        "### Create neural network model\n",
        "For this task, I have kept the model architecture pretty simple. We have one input layer with 17 nodes which feeds into a hidden layer with 8 nodes and an output layer which is used to predict a passenger's survival.   \n",
        "\n",
        "The output layer has a sigmoid activation function, which is used to 'squash' all our outputs to be between 0 and 1.   \n",
        "\n",
        "We are going to create a function which allows to parameterise the choice of hyperparameters in the neural network. This might seem a little overly complicated now, but it will come in super handy when we move onto tuning our parameters later."
      ],
      "metadata": {
        "_uuid": "75f56351057f33dcee93e207c4b3c461fcb65fae",
        "_cell_guid": "edcc8edb-a50b-4ec3-9958-06c081fbcd68",
        "id": "M050R1UkEkUG"
      }
    },
    {
      "cell_type": "code",
      "source": [
        "def create_model(lyrs=[8], act='linear', opt='Adam', dr=0.0):\n",
        "    \n",
        "    # set random seed for reproducibility\n",
        "    seed(42)\n",
        "    random.set_seed(42)\n",
        "    \n",
        "    model = Sequential()\n",
        "    \n",
        "    # create first hidden layer\n",
        "    model.add(Dense(lyrs[0], input_dim=X_train.shape[1], activation=act))\n",
        "    \n",
        "    # create additional hidden layers\n",
        "    for i in range(1,len(lyrs)):\n",
        "        model.add(Dense(lyrs[i], activation=act))\n",
        "    \n",
        "    # add dropout, default is none\n",
        "    model.add(Dropout(dr))\n",
        "    \n",
        "    # create output layer\n",
        "    model.add(Dense(1, activation='sigmoid'))  # output layer\n",
        "    \n",
        "    model.compile(loss='binary_crossentropy', optimizer=opt, metrics=['accuracy'])\n",
        "    \n",
        "    return model"
      ],
      "metadata": {
        "_uuid": "7b320adc3b344552853708b033e677a4b2cca3f7",
        "execution": {
          "iopub.status.busy": "2022-12-28T00:04:35.819873Z",
          "iopub.execute_input": "2022-12-28T00:04:35.820619Z",
          "iopub.status.idle": "2022-12-28T00:04:35.861488Z",
          "shell.execute_reply.started": "2022-12-28T00:04:35.820538Z",
          "shell.execute_reply": "2022-12-28T00:04:35.859980Z"
        },
        "trusted": true,
        "id": "pjOK35N_EkUG"
      },
      "execution_count": 16,
      "outputs": []
    },
    {
      "cell_type": "code",
      "source": [
        "model = create_model()\n",
        "print(model.summary())"
      ],
      "metadata": {
        "_uuid": "7f044d493a62e15bfb1e06a7f792ab53a3df7a0a",
        "execution": {
          "iopub.status.busy": "2022-12-28T00:04:35.864168Z",
          "iopub.execute_input": "2022-12-28T00:04:35.864741Z",
          "iopub.status.idle": "2022-12-28T00:04:36.032587Z",
          "shell.execute_reply.started": "2022-12-28T00:04:35.864507Z",
          "shell.execute_reply": "2022-12-28T00:04:36.031707Z"
        },
        "trusted": true,
        "colab": {
          "base_uri": "https://localhost:8080/"
        },
        "id": "vSuT_VydEkUG",
        "outputId": "8d6d2704-da5e-49e0-9347-2ebfc7df46b0"
      },
      "execution_count": 17,
      "outputs": [
        {
          "output_type": "stream",
          "name": "stdout",
          "text": [
            "Model: \"sequential\"\n",
            "_________________________________________________________________\n",
            " Layer (type)                Output Shape              Param #   \n",
            "=================================================================\n",
            " dense (Dense)               (None, 8)                 136       \n",
            "                                                                 \n",
            " dropout (Dropout)           (None, 8)                 0         \n",
            "                                                                 \n",
            " dense_1 (Dense)             (None, 1)                 9         \n",
            "                                                                 \n",
            "=================================================================\n",
            "Total params: 145\n",
            "Trainable params: 145\n",
            "Non-trainable params: 0\n",
            "_________________________________________________________________\n",
            "None\n"
          ]
        }
      ]
    },
    {
      "cell_type": "markdown",
      "source": [
        "### Train model\n",
        "At this stage, we have our model. We have chosen a few hyperparameters such as the number of hidden layers, the number of neurons and the activation function.\n",
        "\n",
        "The next step is to train the model on our training set. This step also requires us to choose a few more hyperparameters such as the loss function, the optimization algorithm, the number of epochs and the batch size."
      ],
      "metadata": {
        "_uuid": "1d96485d799ad3e3850dfc5656680dec1b62ae95",
        "_cell_guid": "34a52736-364d-4f77-87c1-b432a8cc6834",
        "id": "T2-cMScTEkUG"
      }
    },
    {
      "cell_type": "code",
      "source": [
        "# train model on full train set, with 80/20 CV split\n",
        "training = model.fit(X_train, y_train, epochs=100, batch_size=32, validation_split=0.2, verbose=0)\n",
        "val_acc = np.mean(training.history['val_accuracy'])\n",
        "print(\"\\n%s: %.2f%%\" % ('val_acc', val_acc*100))"
      ],
      "metadata": {
        "_uuid": "8b7b5329d5fb74520ea54ce7ebb6f77bcc1f698c",
        "execution": {
          "iopub.status.busy": "2022-12-28T00:04:36.033744Z",
          "iopub.execute_input": "2022-12-28T00:04:36.034064Z",
          "iopub.status.idle": "2022-12-28T00:04:39.496531Z",
          "shell.execute_reply.started": "2022-12-28T00:04:36.034007Z",
          "shell.execute_reply": "2022-12-28T00:04:39.495403Z"
        },
        "trusted": true,
        "colab": {
          "base_uri": "https://localhost:8080/"
        },
        "id": "f2q6LYe9EkUG",
        "outputId": "ecc431e3-66d9-4f42-eea5-ff828b753f36"
      },
      "execution_count": 18,
      "outputs": [
        {
          "output_type": "stream",
          "name": "stdout",
          "text": [
            "\n",
            "val_acc: 83.80%\n"
          ]
        }
      ]
    },
    {
      "cell_type": "markdown",
      "source": [
        "### Assess results"
      ],
      "metadata": {
        "_uuid": "e32fca56ce00a0b1ad97cd65a8a9151fcc89470d",
        "id": "QourjvAREkUG"
      }
    },
    {
      "cell_type": "code",
      "source": [
        "# summarize history for accuracy\n",
        "plt.plot(training.history['accuracy'])\n",
        "plt.plot(training.history['val_accuracy'])\n",
        "plt.title('model accuracy')\n",
        "plt.ylabel('accuracy')\n",
        "plt.xlabel('epoch')\n",
        "plt.legend(['train', 'validation'], loc='upper left')\n",
        "plt.show()"
      ],
      "metadata": {
        "_uuid": "649c26f2052b5c40e387eaaf985cd894ba0d98b4",
        "execution": {
          "iopub.status.busy": "2022-12-28T00:04:39.497796Z",
          "iopub.execute_input": "2022-12-28T00:04:39.498149Z",
          "iopub.status.idle": "2022-12-28T00:04:39.676952Z",
          "shell.execute_reply.started": "2022-12-28T00:04:39.498089Z",
          "shell.execute_reply": "2022-12-28T00:04:39.675899Z"
        },
        "trusted": true,
        "colab": {
          "base_uri": "https://localhost:8080/",
          "height": 627
        },
        "id": "7Jyy7ST6EkUG",
        "outputId": "fa453d27-80bb-4288-a100-6aacdeabef9e"
      },
      "execution_count": 19,
      "outputs": [
        {
          "output_type": "display_data",
          "data": {
            "text/plain": [
              "<Figure size 1080x720 with 1 Axes>"
            ],
            "image/png": "[encoded data removed]"
          },
          "metadata": {}
        }
      ]
    },
    {
      "cell_type": "markdown",
      "source": [
        "## 3.2. Grid search\n",
        "### 3.2.1. batch size and epochs\n",
        "We can see from the graph above that we might be training our network for too long. Let's use **grid search** to find out what the optimal values for `batch_size` and `epochs` are."
      ],
      "metadata": {
        "_uuid": "eabfa8a3dbb1dd061e642e8263bcf98feae6e65e",
        "id": "CEOrcPj2EkUH"
      }
    },
    {
      "cell_type": "code",
      "source": [
        "# create model\n",
        "model = KerasClassifier(build_fn=create_model, verbose=0)\n",
        "\n",
        "# define the grid search parameters\n",
        "batch_size = [16, 32, 64]\n",
        "epochs = [50, 100]\n",
        "param_grid = dict(batch_size=batch_size, epochs=epochs)\n",
        "\n",
        "# search the grid\n",
        "grid = GridSearchCV(estimator=model, \n",
        "                    param_grid=param_grid,\n",
        "                    cv=3,\n",
        "                    verbose=2)  # include n_jobs=-1 if you are using CPU\n",
        "\n",
        "grid_result = grid.fit(X_train, y_train)"
      ],
      "metadata": {
        "_uuid": "aee8c8a76611d4e075179b2191b4da5324c472bd",
        "execution": {
          "iopub.status.busy": "2022-12-28T00:04:39.680176Z",
          "iopub.execute_input": "2022-12-28T00:04:39.680491Z",
          "iopub.status.idle": "2022-12-28T00:05:39.248050Z",
          "shell.execute_reply.started": "2022-12-28T00:04:39.680433Z",
          "shell.execute_reply": "2022-12-28T00:05:39.247016Z"
        },
        "trusted": true,
        "colab": {
          "base_uri": "https://localhost:8080/"
        },
        "id": "8kxWxWYyEkUH",
        "outputId": "e49138b1-dc1a-4dc5-d16c-e66146c1d723"
      },
      "execution_count": 20,
      "outputs": [
        {
          "output_type": "stream",
          "name": "stderr",
          "text": [
            "<ipython-input-20-3f1475744285>:2: DeprecationWarning: KerasClassifier is deprecated, use Sci-Keras (https://github.com/adriangb/scikeras) instead. See https://www.adriangb.com/scikeras/stable/migration.html for help migrating.\n",
            "  model = KerasClassifier(build_fn=create_model, verbose=0)\n"
          ]
        },
        {
          "output_type": "stream",
          "name": "stdout",
          "text": [
            "Fitting 3 folds for each of 6 candidates, totalling 18 fits\n",
            "[CV] END ...........................batch_size=16, epochs=50; total time=   5.9s\n",
            "[CV] END ...........................batch_size=16, epochs=50; total time=   4.9s\n",
            "[CV] END ...........................batch_size=16, epochs=50; total time=   6.6s\n",
            "[CV] END ..........................batch_size=16, epochs=100; total time=   5.9s\n",
            "[CV] END ..........................batch_size=16, epochs=100; total time=   6.0s\n",
            "[CV] END ..........................batch_size=16, epochs=100; total time=  11.2s\n",
            "[CV] END ...........................batch_size=32, epochs=50; total time=   3.3s\n",
            "[CV] END ...........................batch_size=32, epochs=50; total time=   2.0s\n",
            "[CV] END ...........................batch_size=32, epochs=50; total time=   3.3s\n",
            "[CV] END ..........................batch_size=32, epochs=100; total time=   3.4s\n",
            "[CV] END ..........................batch_size=32, epochs=100; total time=   3.4s\n",
            "[CV] END ..........................batch_size=32, epochs=100; total time=   5.8s\n",
            "[CV] END ...........................batch_size=64, epochs=50; total time=   2.0s\n",
            "[CV] END ...........................batch_size=64, epochs=50; total time=   1.5s\n",
            "[CV] END ...........................batch_size=64, epochs=50; total time=   1.4s\n",
            "[CV] END ..........................batch_size=64, epochs=100; total time=   2.2s\n",
            "[CV] END ..........................batch_size=64, epochs=100; total time=   3.3s\n",
            "[CV] END ..........................batch_size=64, epochs=100; total time=   2.2s\n"
          ]
        }
      ]
    },
    {
      "cell_type": "code",
      "source": [
        "# summarize results\n",
        "print(\"Best: %f using %s\" % (grid_result.best_score_, grid_result.best_params_))\n",
        "means = grid_result.cv_results_['mean_test_score']\n",
        "stds = grid_result.cv_results_['std_test_score']\n",
        "params = grid_result.cv_results_['params']\n",
        "for mean, stdev, param in zip(means, stds, params):\n",
        "    print(\"%f (%f) with: %r\" % (mean, stdev, param))"
      ],
      "metadata": {
        "_uuid": "aee8c8a76611d4e075179b2191b4da5324c472bd",
        "scrolled": true,
        "execution": {
          "iopub.status.busy": "2022-12-28T00:05:39.249078Z",
          "iopub.execute_input": "2022-12-28T00:05:39.249355Z",
          "iopub.status.idle": "2022-12-28T00:05:39.258530Z",
          "shell.execute_reply.started": "2022-12-28T00:05:39.249307Z",
          "shell.execute_reply": "2022-12-28T00:05:39.256874Z"
        },
        "trusted": true,
        "colab": {
          "base_uri": "https://localhost:8080/"
        },
        "id": "EX_m_qJ-EkUH",
        "outputId": "f0ca91e6-29e6-4349-80a3-7dea92db598c"
      },
      "execution_count": 21,
      "outputs": [
        {
          "output_type": "stream",
          "name": "stdout",
          "text": [
            "Best: 0.822671 using {'batch_size': 64, 'epochs': 100}\n",
            "0.820426 (0.012992) with: {'batch_size': 16, 'epochs': 50}\n",
            "0.811448 (0.018027) with: {'batch_size': 16, 'epochs': 100}\n",
            "0.817059 (0.009655) with: {'batch_size': 32, 'epochs': 50}\n",
            "0.815937 (0.016109) with: {'batch_size': 32, 'epochs': 100}\n",
            "0.810325 (0.011446) with: {'batch_size': 64, 'epochs': 50}\n",
            "0.822671 (0.014108) with: {'batch_size': 64, 'epochs': 100}\n"
          ]
        }
      ]
    },
    {
      "cell_type": "markdown",
      "source": [
        "### 3.2.2. Optimization Algorithm"
      ],
      "metadata": {
        "_uuid": "186635a5b21616833ab080a6d311d20345845acc",
        "id": "hj_SOd2rEkUH"
      }
    },
    {
      "cell_type": "code",
      "source": [
        "# create model\n",
        "model = KerasClassifier(build_fn=create_model, epochs=50, batch_size=32, verbose=0)\n",
        "\n",
        "# define the grid search parameters\n",
        "optimizer = ['SGD', 'RMSprop', 'Adagrad', 'Adadelta', 'Adam', 'Nadam']\n",
        "param_grid = dict(opt=optimizer)\n",
        "\n",
        "# search the grid\n",
        "grid = GridSearchCV(estimator=model, param_grid=param_grid, verbose=2)\n",
        "grid_result = grid.fit(X_train, y_train)"
      ],
      "metadata": {
        "_uuid": "d6cafd5c7f3ccb0a2b1fa95b8f77ebd5c8ad664e",
        "execution": {
          "iopub.status.busy": "2022-12-28T00:05:39.259770Z",
          "iopub.execute_input": "2022-12-28T00:05:39.260044Z",
          "iopub.status.idle": "2022-12-28T00:06:40.696671Z",
          "shell.execute_reply.started": "2022-12-28T00:05:39.259999Z",
          "shell.execute_reply": "2022-12-28T00:06:40.695535Z"
        },
        "trusted": true,
        "colab": {
          "base_uri": "https://localhost:8080/"
        },
        "id": "kaWhsBsgEkUH",
        "outputId": "395639cc-bc53-4073-e356-2fd05242c6e7"
      },
      "execution_count": 22,
      "outputs": [
        {
          "output_type": "stream",
          "name": "stdout",
          "text": [
            "Fitting 5 folds for each of 6 candidates, totalling 30 fits\n"
          ]
        },
        {
          "output_type": "stream",
          "name": "stderr",
          "text": [
            "<ipython-input-22-9b82b8083fd3>:2: DeprecationWarning: KerasClassifier is deprecated, use Sci-Keras (https://github.com/adriangb/scikeras) instead. See https://www.adriangb.com/scikeras/stable/migration.html for help migrating.\n",
            "  model = KerasClassifier(build_fn=create_model, epochs=50, batch_size=32, verbose=0)\n"
          ]
        },
        {
          "output_type": "stream",
          "name": "stdout",
          "text": [
            "[CV] END ............................................opt=SGD; total time=   2.5s\n",
            "[CV] END ............................................opt=SGD; total time=   2.2s\n",
            "[CV] END ............................................opt=SGD; total time=   3.2s\n",
            "[CV] END ............................................opt=SGD; total time=   3.2s\n",
            "[CV] END ............................................opt=SGD; total time=   3.2s\n",
            "[CV] END ........................................opt=RMSprop; total time=   3.3s\n",
            "[CV] END ........................................opt=RMSprop; total time=   3.4s\n",
            "[CV] END ........................................opt=RMSprop; total time=   2.4s\n",
            "[CV] END ........................................opt=RMSprop; total time=   2.5s\n",
            "[CV] END ........................................opt=RMSprop; total time=   3.4s\n",
            "[CV] END ........................................opt=Adagrad; total time=   3.2s\n",
            "[CV] END ........................................opt=Adagrad; total time=   2.2s\n",
            "[CV] END ........................................opt=Adagrad; total time=   3.2s\n",
            "[CV] END ........................................opt=Adagrad; total time=   3.5s\n",
            "[CV] END ........................................opt=Adagrad; total time=   2.2s\n",
            "[CV] END .......................................opt=Adadelta; total time=   3.3s\n",
            "[CV] END .......................................opt=Adadelta; total time=   2.3s\n",
            "[CV] END .......................................opt=Adadelta; total time=   3.3s\n",
            "[CV] END .......................................opt=Adadelta; total time=   2.2s\n",
            "[CV] END .......................................opt=Adadelta; total time=   3.2s\n",
            "[CV] END ...........................................opt=Adam; total time=   2.3s\n",
            "[CV] END ...........................................opt=Adam; total time=   2.3s\n",
            "[CV] END ...........................................opt=Adam; total time=   3.3s\n",
            "[CV] END ...........................................opt=Adam; total time=   3.3s\n",
            "[CV] END ...........................................opt=Adam; total time=   2.3s\n",
            "[CV] END ..........................................opt=Nadam; total time=   2.7s\n",
            "[CV] END ..........................................opt=Nadam; total time=   3.6s\n",
            "[CV] END ..........................................opt=Nadam; total time=   3.2s\n",
            "[CV] END ..........................................opt=Nadam; total time=   2.6s\n",
            "[CV] END ..........................................opt=Nadam; total time=   3.6s\n"
          ]
        }
      ]
    },
    {
      "cell_type": "code",
      "source": [
        "# summarize results\n",
        "print(\"Best: %f using %s\" % (grid_result.best_score_, grid_result.best_params_))\n",
        "means = grid_result.cv_results_['mean_test_score']\n",
        "stds = grid_result.cv_results_['std_test_score']\n",
        "params = grid_result.cv_results_['params']\n",
        "for mean, stdev, param in zip(means, stds, params):\n",
        "    print(\"%f (%f) with: %r\" % (mean, stdev, param))"
      ],
      "metadata": {
        "_uuid": "78ab745d56a5422ddfffa5ee525738f191ef4f28",
        "execution": {
          "iopub.status.busy": "2022-12-28T00:06:40.697916Z",
          "iopub.execute_input": "2022-12-28T00:06:40.698211Z",
          "iopub.status.idle": "2022-12-28T00:06:40.706179Z",
          "shell.execute_reply.started": "2022-12-28T00:06:40.698163Z",
          "shell.execute_reply": "2022-12-28T00:06:40.705313Z"
        },
        "trusted": true,
        "colab": {
          "base_uri": "https://localhost:8080/"
        },
        "id": "gfnBjFYkEkUH",
        "outputId": "df11c701-71e5-4ebc-a010-2cde23afe97d"
      },
      "execution_count": 23,
      "outputs": [
        {
          "output_type": "stream",
          "name": "stdout",
          "text": [
            "Best: 0.828272 using {'opt': 'RMSprop'}\n",
            "0.800226 (0.028764) with: {'opt': 'SGD'}\n",
            "0.828272 (0.031152) with: {'opt': 'RMSprop'}\n",
            "0.255935 (0.025881) with: {'opt': 'Adagrad'}\n",
            "0.250317 (0.025582) with: {'opt': 'Adadelta'}\n",
            "0.828272 (0.031152) with: {'opt': 'Adam'}\n",
            "0.827148 (0.032312) with: {'opt': 'Nadam'}\n"
          ]
        }
      ]
    },
    {
      "cell_type": "markdown",
      "source": [
        "### 3.2.3. Hidden neurons"
      ],
      "metadata": {
        "_uuid": "abe56e7632bdd2d6ee8da250ae0b3333481a989e",
        "id": "6np9ycYiEkUH"
      }
    },
    {
      "cell_type": "code",
      "source": [
        "seed(42)\n",
        "random.set_seed(42)\n",
        "\n",
        "# create model\n",
        "model = KerasClassifier(build_fn=create_model, \n",
        "                        epochs=50, batch_size=32, verbose=0)\n",
        "\n",
        "# define the grid search parameters\n",
        "layers = [[8],[10],[10,5],[12,6],[12,8,4]]\n",
        "param_grid = dict(lyrs=layers)\n",
        "\n",
        "# search the grid\n",
        "grid = GridSearchCV(estimator=model, param_grid=param_grid, verbose=2)\n",
        "grid_result = grid.fit(X_train, y_train)"
      ],
      "metadata": {
        "scrolled": true,
        "_uuid": "0c0261b56338bbf5ec508fdee4628e243098c2c9",
        "execution": {
          "iopub.status.busy": "2022-12-28T00:06:40.707581Z",
          "iopub.execute_input": "2022-12-28T00:06:40.708145Z",
          "iopub.status.idle": "2022-12-28T00:07:54.536082Z",
          "shell.execute_reply.started": "2022-12-28T00:06:40.708093Z",
          "shell.execute_reply": "2022-12-28T00:07:54.535270Z"
        },
        "trusted": true,
        "colab": {
          "base_uri": "https://localhost:8080/"
        },
        "id": "iZuYGUlqEkUH",
        "outputId": "a23ae1b3-0f3b-433b-d4eb-33867537643f"
      },
      "execution_count": 24,
      "outputs": [
        {
          "output_type": "stream",
          "name": "stdout",
          "text": [
            "Fitting 5 folds for each of 5 candidates, totalling 25 fits\n"
          ]
        },
        {
          "output_type": "stream",
          "name": "stderr",
          "text": [
            "<ipython-input-24-480694332a73>:5: DeprecationWarning: KerasClassifier is deprecated, use Sci-Keras (https://github.com/adriangb/scikeras) instead. See https://www.adriangb.com/scikeras/stable/migration.html for help migrating.\n",
            "  model = KerasClassifier(build_fn=create_model,\n"
          ]
        },
        {
          "output_type": "stream",
          "name": "stdout",
          "text": [
            "[CV] END ...........................................lyrs=[8]; total time=   3.6s\n",
            "[CV] END ...........................................lyrs=[8]; total time=   6.6s\n",
            "[CV] END ...........................................lyrs=[8]; total time=   5.1s\n",
            "[CV] END ...........................................lyrs=[8]; total time=   4.7s\n",
            "[CV] END ...........................................lyrs=[8]; total time=   3.3s\n",
            "[CV] END ..........................................lyrs=[10]; total time=   3.3s\n",
            "[CV] END ..........................................lyrs=[10]; total time=   3.3s\n",
            "[CV] END ..........................................lyrs=[10]; total time=   3.2s\n",
            "[CV] END ..........................................lyrs=[10]; total time=   3.3s\n",
            "[CV] END ..........................................lyrs=[10]; total time=   2.7s\n",
            "[CV] END .......................................lyrs=[10, 5]; total time=   3.3s\n",
            "[CV] END .......................................lyrs=[10, 5]; total time=   3.4s\n",
            "[CV] END .......................................lyrs=[10, 5]; total time=   2.4s\n",
            "[CV] END .......................................lyrs=[10, 5]; total time=   3.3s\n",
            "[CV] END .......................................lyrs=[10, 5]; total time=   3.3s\n",
            "[CV] END .......................................lyrs=[12, 6]; total time=   3.5s\n",
            "[CV] END .......................................lyrs=[12, 6]; total time=   6.5s\n",
            "[CV] END .......................................lyrs=[12, 6]; total time=   3.3s\n",
            "[CV] END .......................................lyrs=[12, 6]; total time=   3.4s\n",
            "[CV] END .......................................lyrs=[12, 6]; total time=   3.4s\n",
            "[CV] END ....................................lyrs=[12, 8, 4]; total time=   2.5s\n",
            "[CV] END ....................................lyrs=[12, 8, 4]; total time=   3.8s\n",
            "[CV] END ....................................lyrs=[12, 8, 4]; total time=   2.5s\n",
            "[CV] END ....................................lyrs=[12, 8, 4]; total time=   2.5s\n",
            "[CV] END ....................................lyrs=[12, 8, 4]; total time=   3.4s\n"
          ]
        }
      ]
    },
    {
      "cell_type": "code",
      "source": [
        "# summarize results\n",
        "print(\"Best: %f using %s\" % (grid_result.best_score_, grid_result.best_params_))\n",
        "means = grid_result.cv_results_['mean_test_score']\n",
        "stds = grid_result.cv_results_['std_test_score']\n",
        "params = grid_result.cv_results_['params']\n",
        "for mean, stdev, param in zip(means, stds, params):\n",
        "    print(\"%f (%f) with: %r\" % (mean, stdev, param))"
      ],
      "metadata": {
        "_uuid": "78ab745d56a5422ddfffa5ee525738f191ef4f28",
        "execution": {
          "iopub.status.busy": "2022-12-28T00:07:54.537056Z",
          "iopub.execute_input": "2022-12-28T00:07:54.537298Z",
          "iopub.status.idle": "2022-12-28T00:07:54.544269Z",
          "shell.execute_reply.started": "2022-12-28T00:07:54.537254Z",
          "shell.execute_reply": "2022-12-28T00:07:54.543229Z"
        },
        "trusted": true,
        "colab": {
          "base_uri": "https://localhost:8080/"
        },
        "id": "qj0irhCsEkUI",
        "outputId": "9d11dc76-beee-4fbb-b2b8-ad10825b575e"
      },
      "execution_count": 25,
      "outputs": [
        {
          "output_type": "stream",
          "name": "stdout",
          "text": [
            "Best: 0.828272 using {'lyrs': [8]}\n",
            "0.828272 (0.031152) with: {'lyrs': [8]}\n",
            "0.824920 (0.033945) with: {'lyrs': [10]}\n",
            "0.826037 (0.033897) with: {'lyrs': [10, 5]}\n",
            "0.826037 (0.033897) with: {'lyrs': [12, 6]}\n",
            "0.826037 (0.032953) with: {'lyrs': [12, 8, 4]}\n"
          ]
        }
      ]
    },
    {
      "cell_type": "markdown",
      "source": [
        "### 3.2.4. Dropout"
      ],
      "metadata": {
        "_uuid": "7b629c59eebd4242e919c935c550fe4240317e9a",
        "id": "G91JdmWSEkUI"
      }
    },
    {
      "cell_type": "code",
      "source": [
        "# create model\n",
        "model = KerasClassifier(build_fn=create_model, \n",
        "                        epochs=50, batch_size=32, verbose=0)\n",
        "\n",
        "# define the grid search parameters\n",
        "drops = [0.0, 0.01, 0.05, 0.1, 0.2, 0.5]\n",
        "param_grid = dict(dr=drops)\n",
        "grid = GridSearchCV(estimator=model, param_grid=param_grid, verbose=2)\n",
        "grid_result = grid.fit(X_train, y_train)"
      ],
      "metadata": {
        "scrolled": true,
        "_uuid": "0c0261b56338bbf5ec508fdee4628e243098c2c9",
        "execution": {
          "iopub.status.busy": "2022-12-28T00:07:54.545250Z",
          "iopub.execute_input": "2022-12-28T00:07:54.545525Z",
          "iopub.status.idle": "2022-12-28T00:09:47.931580Z",
          "shell.execute_reply.started": "2022-12-28T00:07:54.545457Z",
          "shell.execute_reply": "2022-12-28T00:09:47.930715Z"
        },
        "trusted": true,
        "colab": {
          "base_uri": "https://localhost:8080/"
        },
        "id": "3_vMXnfPEkUI",
        "outputId": "71803caf-09a6-4f5d-92d6-70c973beaf2e"
      },
      "execution_count": 26,
      "outputs": [
        {
          "output_type": "stream",
          "name": "stdout",
          "text": [
            "Fitting 5 folds for each of 6 candidates, totalling 30 fits\n"
          ]
        },
        {
          "output_type": "stream",
          "name": "stderr",
          "text": [
            "<ipython-input-26-77855fcf2344>:2: DeprecationWarning: KerasClassifier is deprecated, use Sci-Keras (https://github.com/adriangb/scikeras) instead. See https://www.adriangb.com/scikeras/stable/migration.html for help migrating.\n",
            "  model = KerasClassifier(build_fn=create_model,\n"
          ]
        },
        {
          "output_type": "stream",
          "name": "stdout",
          "text": [
            "[CV] END .............................................dr=0.0; total time=   3.7s\n",
            "[CV] END .............................................dr=0.0; total time=   3.4s\n",
            "[CV] END .............................................dr=0.0; total time=   2.3s\n",
            "[CV] END .............................................dr=0.0; total time=   2.3s\n",
            "[CV] END .............................................dr=0.0; total time=   2.3s\n",
            "[CV] END ............................................dr=0.01; total time=   2.4s\n",
            "[CV] END ............................................dr=0.01; total time=   2.4s\n",
            "[CV] END ............................................dr=0.01; total time=   2.3s\n",
            "[CV] END ............................................dr=0.01; total time=   3.8s\n",
            "[CV] END ............................................dr=0.01; total time=   3.3s\n",
            "[CV] END ............................................dr=0.05; total time=   3.3s\n",
            "[CV] END ............................................dr=0.05; total time=   2.4s\n",
            "[CV] END ............................................dr=0.05; total time=   3.3s\n",
            "[CV] END ............................................dr=0.05; total time=   3.3s\n",
            "[CV] END ............................................dr=0.05; total time=   3.3s\n",
            "[CV] END .............................................dr=0.1; total time=   3.4s\n",
            "[CV] END .............................................dr=0.1; total time=   3.3s\n",
            "[CV] END .............................................dr=0.1; total time=   2.3s\n",
            "[CV] END .............................................dr=0.1; total time=   3.2s\n",
            "[CV] END .............................................dr=0.1; total time=   3.3s\n",
            "[CV] END .............................................dr=0.2; total time=   3.3s\n",
            "[CV] END .............................................dr=0.2; total time=   2.3s\n",
            "[CV] END .............................................dr=0.2; total time=   3.7s\n",
            "[CV] END .............................................dr=0.2; total time=   3.3s\n",
            "[CV] END .............................................dr=0.2; total time=   2.3s\n",
            "[CV] END .............................................dr=0.5; total time=   3.3s\n",
            "[CV] END .............................................dr=0.5; total time=   3.3s\n",
            "[CV] END .............................................dr=0.5; total time=   3.3s\n",
            "[CV] END .............................................dr=0.5; total time=   3.3s\n",
            "[CV] END .............................................dr=0.5; total time=   2.3s\n"
          ]
        }
      ]
    },
    {
      "cell_type": "code",
      "source": [
        "# summarize results\n",
        "print(\"Best: %f using %s\" % (grid_result.best_score_, grid_result.best_params_))\n",
        "means = grid_result.cv_results_['mean_test_score']\n",
        "stds = grid_result.cv_results_['std_test_score']\n",
        "params = grid_result.cv_results_['params']\n",
        "for mean, stdev, param in zip(means, stds, params):\n",
        "    print(\"%f (%f) with: %r\" % (mean, stdev, param))"
      ],
      "metadata": {
        "_uuid": "8001b384e19fc963a3936b10b5be571af1c06b2e",
        "execution": {
          "iopub.status.busy": "2022-12-28T00:09:47.932736Z",
          "iopub.execute_input": "2022-12-28T00:09:47.933011Z",
          "iopub.status.idle": "2022-12-28T00:09:47.939864Z",
          "shell.execute_reply.started": "2022-12-28T00:09:47.932957Z",
          "shell.execute_reply": "2022-12-28T00:09:47.938831Z"
        },
        "trusted": true,
        "colab": {
          "base_uri": "https://localhost:8080/"
        },
        "id": "6M_2hZTQEkUI",
        "outputId": "12f87b39-42d1-42b2-a989-c6b478492497"
      },
      "execution_count": 27,
      "outputs": [
        {
          "output_type": "stream",
          "name": "stdout",
          "text": [
            "Best: 0.829396 using {'dr': 0.01}\n",
            "0.828272 (0.031152) with: {'dr': 0.0}\n",
            "0.829396 (0.030115) with: {'dr': 0.01}\n",
            "0.827155 (0.030883) with: {'dr': 0.05}\n",
            "0.823790 (0.026750) with: {'dr': 0.1}\n",
            "0.820426 (0.027754) with: {'dr': 0.2}\n",
            "0.817061 (0.025755) with: {'dr': 0.5}\n"
          ]
        }
      ]
    },
    {
      "cell_type": "code",
      "source": [
        "# create final model\n",
        "model = create_model(lyrs=[8], dr=0.2)\n",
        "\n",
        "print(model.summary())"
      ],
      "metadata": {
        "_uuid": "9383e7b646491d4333ff1ccb27c785b794dbc323",
        "execution": {
          "iopub.status.busy": "2022-12-28T00:09:47.940813Z",
          "iopub.execute_input": "2022-12-28T00:09:47.941154Z",
          "iopub.status.idle": "2022-12-28T00:09:48.049573Z",
          "shell.execute_reply.started": "2022-12-28T00:09:47.941097Z",
          "shell.execute_reply": "2022-12-28T00:09:48.048688Z"
        },
        "trusted": true,
        "colab": {
          "base_uri": "https://localhost:8080/"
        },
        "id": "DAJnLGjlEkUI",
        "outputId": "7c7ad66b-7cb1-4d40-d867-d812789fab21"
      },
      "execution_count": 28,
      "outputs": [
        {
          "output_type": "stream",
          "name": "stdout",
          "text": [
            "Model: \"sequential_108\"\n",
            "_________________________________________________________________\n",
            " Layer (type)                Output Shape              Param #   \n",
            "=================================================================\n",
            " dense_236 (Dense)           (None, 8)                 136       \n",
            "                                                                 \n",
            " dropout_108 (Dropout)       (None, 8)                 0         \n",
            "                                                                 \n",
            " dense_237 (Dense)           (None, 1)                 9         \n",
            "                                                                 \n",
            "=================================================================\n",
            "Total params: 145\n",
            "Trainable params: 145\n",
            "Non-trainable params: 0\n",
            "_________________________________________________________________\n",
            "None\n"
          ]
        }
      ]
    },
    {
      "cell_type": "code",
      "source": [
        "# train model on full train set, with 80/20 CV split\n",
        "training = model.fit(X_train, y_train, epochs=50, batch_size=32, \n",
        "                     validation_split=0.2, verbose=0)\n",
        "\n",
        "# evaluate the model\n",
        "scores = model.evaluate(X_train, y_train)\n",
        "print(\"\\n%s: %.2f%%\" % (model.metrics_names[1], scores[1]*100))"
      ],
      "metadata": {
        "_uuid": "b26ec6f0d56e5c48a46f16bdf230ae0483a2d21f",
        "execution": {
          "iopub.status.busy": "2022-12-28T00:09:48.051012Z",
          "iopub.execute_input": "2022-12-28T00:09:48.051315Z",
          "iopub.status.idle": "2022-12-28T00:09:54.853142Z",
          "shell.execute_reply.started": "2022-12-28T00:09:48.051257Z",
          "shell.execute_reply": "2022-12-28T00:09:54.852093Z"
        },
        "trusted": true,
        "colab": {
          "base_uri": "https://localhost:8080/"
        },
        "id": "m4gqxqoYEkUI",
        "outputId": "6f21aca7-2414-46e7-edf9-f257ee76083e"
      },
      "execution_count": 29,
      "outputs": [
        {
          "output_type": "stream",
          "name": "stdout",
          "text": [
            "28/28 [==============================] - 0s 1ms/step - loss: 0.4121 - accuracy: 0.8238\n",
            "\n",
            "accuracy: 82.38%\n"
          ]
        }
      ]
    },
    {
      "cell_type": "code",
      "source": [
        "# summarize history for accuracy\n",
        "plt.plot(training.history['accuracy'])\n",
        "plt.plot(training.history['val_accuracy'])\n",
        "plt.title('model accuracy')\n",
        "plt.ylabel('accuracy')\n",
        "plt.xlabel('epoch')\n",
        "plt.legend(['train', 'validation'], loc='upper left')\n",
        "plt.show()"
      ],
      "metadata": {
        "_uuid": "4515e41b912a66d382a23708137d1e7086dfdd66",
        "execution": {
          "iopub.status.busy": "2022-12-28T00:09:54.854239Z",
          "iopub.execute_input": "2022-12-28T00:09:54.854485Z",
          "iopub.status.idle": "2022-12-28T00:09:55.020384Z",
          "shell.execute_reply.started": "2022-12-28T00:09:54.854443Z",
          "shell.execute_reply": "2022-12-28T00:09:55.019301Z"
        },
        "trusted": true,
        "colab": {
          "base_uri": "https://localhost:8080/",
          "height": 627
        },
        "id": "_k4unSBeEkUI",
        "outputId": "cf9b7c0c-0c01-412f-e9b5-2fc5729b0a03"
      },
      "execution_count": 30,
      "outputs": [
        {
          "output_type": "display_data",
          "data": {
            "text/plain": [
              "<Figure size 1080x720 with 1 Axes>"
            ],
            "image/png": "[encoded data removed]"
          },
          "metadata": {}
        }
      ]
    },
    {
      "cell_type": "markdown",
      "source": [
        "## 3.3. Make Predictions on Test Set\n",
        "Finally, we can attempt to predict which passengers in the test set survived."
      ],
      "metadata": {
        "_uuid": "ae291559b10db2f627a87f62a553d15da43ada31",
        "_cell_guid": "5ccf334a-8a72-45e5-b565-cc516639e087",
        "id": "B0uaOEscEkUI"
      }
    },
    {
      "cell_type": "code",
      "source": [
        "# calculate predictions\n",
        "test['Survived'] = model.predict(X_test)\n",
        "test['Survived'] = test['Survived'].apply(lambda x: round(x,0)).astype('int')\n",
        "solution = test[['PassengerId', 'Survived']]"
      ],
      "metadata": {
        "_uuid": "b40dfc26258b3a73d956db1d697c85caf9ad97bb",
        "_cell_guid": "48508e7a-cc0f-4c8d-a102-57451d0371de",
        "execution": {
          "iopub.status.busy": "2022-12-28T00:09:55.021514Z",
          "iopub.execute_input": "2022-12-28T00:09:55.021817Z",
          "iopub.status.idle": "2022-12-28T00:09:56.165656Z",
          "shell.execute_reply.started": "2022-12-28T00:09:55.021762Z",
          "shell.execute_reply": "2022-12-28T00:09:56.164626Z"
        },
        "trusted": true,
        "colab": {
          "base_uri": "https://localhost:8080/"
        },
        "id": "4uphoFPdEkUI",
        "outputId": "758e69f9-ae2e-440c-ce3e-3c84dfd998c9"
      },
      "execution_count": 31,
      "outputs": [
        {
          "output_type": "stream",
          "name": "stdout",
          "text": [
            "14/14 [==============================] - 0s 2ms/step\n"
          ]
        }
      ]
    },
    {
      "cell_type": "code",
      "source": [
        "solution.head(10)"
      ],
      "metadata": {
        "_uuid": "c745a7f0663c1ef0cecef30bd7a38daff6420354",
        "execution": {
          "iopub.status.busy": "2022-12-28T00:09:56.166830Z",
          "iopub.execute_input": "2022-12-28T00:09:56.167156Z",
          "iopub.status.idle": "2022-12-28T00:09:56.182281Z",
          "shell.execute_reply.started": "2022-12-28T00:09:56.167097Z",
          "shell.execute_reply": "2022-12-28T00:09:56.180862Z"
        },
        "trusted": true,
        "colab": {
          "base_uri": "https://localhost:8080/",
          "height": 363
        },
        "id": "Zp0DSYXzEkUJ",
        "outputId": "cccf3199-e4f0-45e2-b587-be168e4ca898"
      },
      "execution_count": 32,
      "outputs": [
        {
          "output_type": "execute_result",
          "data": {
            "text/plain": [
              "   PassengerId  Survived\n",
              "0          892         0\n",
              "1          893         1\n",
              "2          894         0\n",
              "3          895         0\n",
              "4          896         1\n",
              "5          897         0\n",
              "6          898         1\n",
              "7          899         0\n",
              "8          900         1\n",
              "9          901         0"
            ],
            "text/html": [
              "\n",
              "  <div id=\"df-cb1b16b7-445b-44a3-83b7-523718a8df04\">\n",
              "    <div class=\"colab-df-container\">\n",
              "      <div>\n",
              "<style scoped>\n",
              "    .dataframe tbody tr th:only-of-type {\n",
              "        vertical-align: middle;\n",
              "    }\n",
              "\n",
              "    .dataframe tbody tr th {\n",
              "        vertical-align: top;\n",
              "    }\n",
              "\n",
              "    .dataframe thead th {\n",
              "        text-align: right;\n",
              "    }\n",
              "</style>\n",
              "<table border=\"1\" class=\"dataframe\">\n",
              "  <thead>\n",
              "    <tr style=\"text-align: right;\">\n",
              "      <th></th>\n",
              "      <th>PassengerId</th>\n",
              "      <th>Survived</th>\n",
              "    </tr>\n",
              "  </thead>\n",
              "  <tbody>\n",
              "    <tr>\n",
              "      <th>0</th>\n",
              "      <td>892</td>\n",
              "      <td>0</td>\n",
              "    </tr>\n",
              "    <tr>\n",
              "      <th>1</th>\n",
              "      <td>893</td>\n",
              "      <td>1</td>\n",
              "    </tr>\n",
              "    <tr>\n",
              "      <th>2</th>\n",
              "      <td>894</td>\n",
              "      <td>0</td>\n",
              "    </tr>\n",
              "    <tr>\n",
              "      <th>3</th>\n",
              "      <td>895</td>\n",
              "      <td>0</td>\n",
              "    </tr>\n",
              "    <tr>\n",
              "      <th>4</th>\n",
              "      <td>896</td>\n",
              "      <td>1</td>\n",
              "    </tr>\n",
              "    <tr>\n",
              "      <th>5</th>\n",
              "      <td>897</td>\n",
              "      <td>0</td>\n",
              "    </tr>\n",
              "    <tr>\n",
              "      <th>6</th>\n",
              "      <td>898</td>\n",
              "      <td>1</td>\n",
              "    </tr>\n",
              "    <tr>\n",
              "      <th>7</th>\n",
              "      <td>899</td>\n",
              "      <td>0</td>\n",
              "    </tr>\n",
              "    <tr>\n",
              "      <th>8</th>\n",
              "      <td>900</td>\n",
              "      <td>1</td>\n",
              "    </tr>\n",
              "    <tr>\n",
              "      <th>9</th>\n",
              "      <td>901</td>\n",
              "      <td>0</td>\n",
              "    </tr>\n",
              "  </tbody>\n",
              "</table>\n",
              "</div>\n",
              "      <button class=\"colab-df-convert\" onclick=\"convertToInteractive('df-cb1b16b7-445b-44a3-83b7-523718a8df04')\"\n",
              "              title=\"Convert this dataframe to an interactive table.\"\n",
              "              style=\"display:none;\">\n",
              "        \n",
              "  <svg xmlns=\"http://www.w3.org/2000/svg\" height=\"24px\"viewBox=\"0 0 24 24\"\n",
              "       width=\"24px\">\n",
              "    <path d=\"M0 0h24v24H0V0z\" fill=\"none\"/>\n",
              "    <path d=\"M18.56 5.44l.94 2.06.94-2.06 2.06-.94-2.06-.94-.94-2.06-.94 2.06-2.06.94zm-11 1L8.5 8.5l.94-2.06 2.06-.94-2.06-.94L8.5 2.5l-.94 2.06-2.06.94zm10 10l.94 2.06.94-2.06 2.06-.94-2.06-.94-.94-2.06-.94 2.06-2.06.94z\"/><path d=\"M17.41 7.96l-1.37-1.37c-.4-.4-.92-.59-1.43-.59-.52 0-1.04.2-1.43.59L10.3 9.45l-7.72 7.72c-.78.78-.78 2.05 0 2.83L4 21.41c.39.39.9.59 1.41.59.51 0 1.02-.2 1.41-.59l7.78-7.78 2.81-2.81c.8-.78.8-2.07 0-2.86zM5.41 20L4 18.59l7.72-7.72 1.47 1.35L5.41 20z\"/>\n",
              "  </svg>\n",
              "      </button>\n",
              "      \n",
              "  <style>\n",
              "    .colab-df-container {\n",
              "      display:flex;\n",
              "      flex-wrap:wrap;\n",
              "      gap: 12px;\n",
              "    }\n",
              "\n",
              "    .colab-df-convert {\n",
              "      background-color: #E8F0FE;\n",
              "      border: none;\n",
              "      border-radius: 50%;\n",
              "      cursor: pointer;\n",
              "      display: none;\n",
              "      fill: #1967D2;\n",
              "      height: 32px;\n",
              "      padding: 0 0 0 0;\n",
              "      width: 32px;\n",
              "    }\n",
              "\n",
              "    .colab-df-convert:hover {\n",
              "      background-color: #E2EBFA;\n",
              "      box-shadow: 0px 1px 2px rgba(60, 64, 67, 0.3), 0px 1px 3px 1px rgba(60, 64, 67, 0.15);\n",
              "      fill: #174EA6;\n",
              "    }\n",
              "\n",
              "    [theme=dark] .colab-df-convert {\n",
              "      background-color: #3B4455;\n",
              "      fill: #D2E3FC;\n",
              "    }\n",
              "\n",
              "    [theme=dark] .colab-df-convert:hover {\n",
              "      background-color: #434B5C;\n",
              "      box-shadow: 0px 1px 3px 1px rgba(0, 0, 0, 0.15);\n",
              "      filter: drop-shadow(0px 1px 2px rgba(0, 0, 0, 0.3));\n",
              "      fill: #FFFFFF;\n",
              "    }\n",
              "  </style>\n",
              "\n",
              "      <script>\n",
              "        const buttonEl =\n",
              "          document.querySelector('#df-cb1b16b7-445b-44a3-83b7-523718a8df04 button.colab-df-convert');\n",
              "        buttonEl.style.display =\n",
              "          google.colab.kernel.accessAllowed ? 'block' : 'none';\n",
              "\n",
              "        async function convertToInteractive(key) {\n",
              "          const element = document.querySelector('#df-cb1b16b7-445b-44a3-83b7-523718a8df04');\n",
              "          const dataTable =\n",
              "            await google.colab.kernel.invokeFunction('convertToInteractive',\n",
              "                                                     [key], {});\n",
              "          if (!dataTable) return;\n",
              "\n",
              "          const docLinkHtml = 'Like what you see? Visit the ' +\n",
              "            '<a target=\"_blank\" href=https://colab.research.google.com/notebooks/data_table.ipynb>data table notebook</a>'\n",
              "            + ' to learn more about interactive tables.';\n",
              "          element.innerHTML = '';\n",
              "          dataTable['output_type'] = 'display_data';\n",
              "          await google.colab.output.renderOutput(dataTable, element);\n",
              "          const docLink = document.createElement('div');\n",
              "          docLink.innerHTML = docLinkHtml;\n",
              "          element.appendChild(docLink);\n",
              "        }\n",
              "      </script>\n",
              "    </div>\n",
              "  </div>\n",
              "  "
            ]
          },
          "metadata": {},
          "execution_count": 32
        }
      ]
    },
    {
      "cell_type": "markdown",
      "source": [
        "## 3.4. Output Final Predictions"
      ],
      "metadata": {
        "_uuid": "0a9b9f4189c03b253c9140c4a93c9f453508a6ba",
        "_cell_guid": "0f646038-2eb3-4a77-94f5-a3abc6c3be1f",
        "id": "1t3X6zYsEkUJ"
      }
    },
    {
      "cell_type": "code",
      "source": [
        "solution.to_csv(\"Neural_Network_Solution.csv\", index=False)"
      ],
      "metadata": {
        "_uuid": "7dc52ff626a2620c8607c25d85bd8952f049690b",
        "_cell_guid": "04e4be98-5955-43ab-a355-be65580a1162",
        "execution": {
          "iopub.status.busy": "2022-12-28T00:09:56.183720Z",
          "iopub.execute_input": "2022-12-28T00:09:56.184088Z",
          "iopub.status.idle": "2022-12-28T00:09:56.420389Z",
          "shell.execute_reply.started": "2022-12-28T00:09:56.184025Z",
          "shell.execute_reply": "2022-12-28T00:09:56.419668Z"
        },
        "trusted": true,
        "id": "ZW7DmXExEkUJ"
      },
      "execution_count": 33,
      "outputs": []
    },
    {
      "cell_type": "code",
      "source": [],
      "metadata": {
        "id": "Hc6urhXPEkUJ"
      },
      "execution_count": 33,
      "outputs": []
    }
  ]
}